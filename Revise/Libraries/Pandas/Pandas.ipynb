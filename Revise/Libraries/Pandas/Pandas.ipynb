{
 "cells": [
  {
   "cell_type": "code",
   "execution_count": 1,
   "id": "770418e0",
   "metadata": {},
   "outputs": [],
   "source": [
    "import pandas as  pd"
   ]
  },
  {
   "cell_type": "code",
   "execution_count": 4,
   "id": "3e763832",
   "metadata": {},
   "outputs": [
    {
     "data": {
      "text/plain": [
       "0    67\n",
       "1    82\n",
       "2    91\n",
       "3    52\n",
       "Name: My marks, dtype: int64"
      ]
     },
     "execution_count": 4,
     "metadata": {},
     "output_type": "execute_result"
    }
   ],
   "source": [
    "marks = [67,82,91,52]\n",
    "pd.Series(marks, name =\"My marks\")"
   ]
  },
  {
   "cell_type": "code",
   "execution_count": 15,
   "id": "5f8ab240",
   "metadata": {},
   "outputs": [
    {
     "data": {
      "text/plain": [
       "maths       67\n",
       "english     57\n",
       "science     89\n",
       "hindi      100\n",
       "dtype: int64"
      ]
     },
     "execution_count": 15,
     "metadata": {},
     "output_type": "execute_result"
    }
   ],
   "source": [
    "#custom index\n",
    "marks = [67,57,89,100]\n",
    "subject = ['maths', 'english', 'science', 'hindi']\n",
    "overall = pd.Series(marks, index = subject)\n",
    "overall"
   ]
  },
  {
   "cell_type": "code",
   "execution_count": 12,
   "id": "b572fc1b",
   "metadata": {},
   "outputs": [
    {
     "data": {
      "text/plain": [
       "False"
      ]
     },
     "execution_count": 12,
     "metadata": {},
     "output_type": "execute_result"
    }
   ],
   "source": [
    "import pandas as pd\n",
    "\n",
    "number = [1, 2, 1, 4, 5, 6, 7]\n",
    "pd.Series(number).is_unique\n"
   ]
  },
  {
   "cell_type": "code",
   "execution_count": 17,
   "id": "823f27b8",
   "metadata": {},
   "outputs": [
    {
     "data": {
      "text/plain": [
       "Index(['maths', 'english', 'science', 'hindi'], dtype='object')"
      ]
     },
     "execution_count": 17,
     "metadata": {},
     "output_type": "execute_result"
    }
   ],
   "source": [
    "overall.index"
   ]
  },
  {
   "cell_type": "markdown",
   "id": "12e6c0f9",
   "metadata": {},
   "source": [
    "### Series using read_csv"
   ]
  },
  {
   "cell_type": "markdown",
   "id": "b77ba734",
   "metadata": {},
   "source": [
    "subs = pd.read_csv('Bollywood.csv', index_col='', squeeze = True )"
   ]
  },
  {
   "cell_type": "code",
   "execution_count": null,
   "id": "59c6871b",
   "metadata": {},
   "outputs": [],
   "source": []
  },
  {
   "cell_type": "code",
   "execution_count": null,
   "id": "53b5df95",
   "metadata": {},
   "outputs": [],
   "source": []
  },
  {
   "cell_type": "code",
   "execution_count": null,
   "id": "e5f231ee",
   "metadata": {},
   "outputs": [],
   "source": []
  },
  {
   "cell_type": "code",
   "execution_count": null,
   "id": "7c213e51",
   "metadata": {},
   "outputs": [],
   "source": []
  },
  {
   "cell_type": "code",
   "execution_count": null,
   "id": "33c6387a",
   "metadata": {},
   "outputs": [],
   "source": []
  },
  {
   "cell_type": "code",
   "execution_count": null,
   "id": "ed6558ee",
   "metadata": {},
   "outputs": [],
   "source": []
  }
 ],
 "metadata": {
  "kernelspec": {
   "display_name": "Python 3",
   "language": "python",
   "name": "python3"
  },
  "language_info": {
   "codemirror_mode": {
    "name": "ipython",
    "version": 3
   },
   "file_extension": ".py",
   "mimetype": "text/x-python",
   "name": "python",
   "nbconvert_exporter": "python",
   "pygments_lexer": "ipython3",
   "version": "3.12.0"
  }
 },
 "nbformat": 4,
 "nbformat_minor": 5
}
