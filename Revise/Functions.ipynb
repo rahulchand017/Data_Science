{
 "cells": [
  {
   "cell_type": "markdown",
   "metadata": {},
   "source": [
    "### Functions helps for the readability of code and reusability of code."
   ]
  },
  {
   "cell_type": "code",
   "execution_count": 6,
   "metadata": {},
   "outputs": [
    {
     "name": "stdout",
     "output_type": "stream",
     "text": [
      "('rahul', 21)\n"
     ]
    }
   ],
   "source": [
    "def details():\n",
    "    name = 'rahul'\n",
    "    age = 21\n",
    "    return name, age\n",
    "info = details()\n",
    "print(info)"
   ]
  },
  {
   "cell_type": "code",
   "execution_count": 5,
   "metadata": {},
   "outputs": [
    {
     "name": "stdout",
     "output_type": "stream",
     "text": [
      "The number is even\n"
     ]
    }
   ],
   "source": [
    "def number(num):\n",
    "    if num %2==0:\n",
    "        print('The number is even')\n",
    "    else:\n",
    "        print('number not even')\n",
    "values = number(int(input(\"Enter the number of  your choice: \")))\n"
   ]
  },
  {
   "cell_type": "code",
   "execution_count": 3,
   "metadata": {},
   "outputs": [
    {
     "name": "stdout",
     "output_type": "stream",
     "text": [
      "number is odd\n",
      "The number 2 is even\n",
      "number is odd\n",
      "The number 4 is even\n",
      "number is odd\n",
      "The number 6 is even\n",
      "number is odd\n",
      "The number 8 is even\n",
      "number is odd\n",
      "The number 10 is even\n",
      "number is odd\n",
      "The number 12 is even\n",
      "number is odd\n",
      "The number 14 is even\n",
      "number is odd\n",
      "The number 16 is even\n",
      "number is odd\n",
      "The number 18 is even\n",
      "number is odd\n",
      "The number 20 is even\n"
     ]
    }
   ],
   "source": [
    "# OR\n",
    "def is_even(num):\n",
    "    if num %2==0:\n",
    "        print(f\"The number {num} is even\")\n",
    "    else:\n",
    "        print('number is odd')\n",
    "for i in range(1,21):\n",
    "    is_even(i)"
   ]
  },
  {
   "cell_type": "code",
   "execution_count": null,
   "metadata": {},
   "outputs": [
    {
     "name": "stdout",
     "output_type": "stream",
     "text": [
      "1 is not prime\n",
      "2 is prime\n",
      "3 is prime\n",
      "4 is not prime\n",
      "5 is prime\n",
      "6 is not prime\n",
      "7 is prime\n",
      "8 is not prime\n",
      "9 is not prime\n",
      "10 is not prime\n",
      "11 is prime\n",
      "12 is not prime\n",
      "13 is prime\n",
      "14 is not prime\n",
      "15 is not prime\n",
      "16 is not prime\n",
      "17 is prime\n",
      "18 is not prime\n",
      "19 is prime\n",
      "20 is not prime\n"
     ]
    }
   ],
   "source": [
    "def is_prime(num):\n",
    "    if num <= 1:\n",
    "        print(f\"{num} is not prime\")\n",
    "        return\n",
    "    for i in range(2, int(num ** 0.5) + 1):  \n",
    "        if num % i == 0:\n",
    "            print(f\"{num} is not prime\")\n",
    "            return\n",
    "    print(f\"{num} is prime\")\n",
    "\n",
    "for i in range(1, 21):\n",
    "    is_prime(i)\n"
   ]
  },
  {
   "cell_type": "code",
   "execution_count": 6,
   "metadata": {},
   "outputs": [
    {
     "name": "stdout",
     "output_type": "stream",
     "text": [
      "13 is prime\n"
     ]
    }
   ],
   "source": [
    "def is_prime(num):\n",
    "    if num<=2:\n",
    "        print('number is not prime')\n",
    "        return\n",
    "    i =2\n",
    "    while i*i <= num:\n",
    "        if num %i ==0:\n",
    "            print(f\"{num} is not prime\")\n",
    "            return\n",
    "        i += 1\n",
    "\n",
    "    print(f\"{num} is prime\")\n",
    "\n",
    "values = int(input(\"Enter the no of your choice\"))\n",
    "is_prime(values)"
   ]
  },
  {
   "cell_type": "markdown",
   "metadata": {},
   "source": [
    "#### Parameters\n",
    "- Creating a functions will make a parameter\n",
    "- values provided while calling the function will be called as arguments.\n",
    "\n",
    "\n",
    "#### Arguments\n",
    "- Default Argument\n",
    "- Keyword argument\n",
    "- Positional argument"
   ]
  },
  {
   "cell_type": "code",
   "execution_count": 16,
   "metadata": {},
   "outputs": [
    {
     "name": "stdout",
     "output_type": "stream",
     "text": [
      "15\n"
     ]
    }
   ],
   "source": [
    "def add(a, b):  # 'a' and 'b' are parameters\n",
    "    return a + b\n",
    "\n",
    "result = add(5, 10)  # 5 and 10 are arguments\n",
    "print(result)  # Output: 15\n"
   ]
  },
  {
   "cell_type": "code",
   "execution_count": 10,
   "metadata": {},
   "outputs": [
    {
     "name": "stdout",
     "output_type": "stream",
     "text": [
      "2\n"
     ]
    }
   ],
   "source": [
    "def product(a=1, b=2):\n",
    "    return a*b\n",
    "print(product())\n",
    "    "
   ]
  },
  {
   "cell_type": "code",
   "execution_count": 13,
   "metadata": {},
   "outputs": [
    {
     "data": {
      "text/plain": [
       "10"
      ]
     },
     "execution_count": 13,
     "metadata": {},
     "output_type": "execute_result"
    }
   ],
   "source": [
    "# positional argument\n",
    "product(2,3)\n",
    "\n",
    "# keyword arguments\n",
    "product(b=2, a=5)"
   ]
  },
  {
   "cell_type": "markdown",
   "metadata": {},
   "source": [
    "*args\n",
    "- helps to make multiple arguments "
   ]
  },
  {
   "cell_type": "code",
   "execution_count": 14,
   "metadata": {},
   "outputs": [
    {
     "name": "stdout",
     "output_type": "stream",
     "text": [
      "The sum is: 100\n"
     ]
    }
   ],
   "source": [
    "def sum(*args):\n",
    "    total = 0\n",
    "    for num in args:\n",
    "        total += num\n",
    "    return total\n",
    "\n",
    "result = sum(10, 20, 30, 40)\n",
    "print(\"The sum is:\", result)\n",
    "    "
   ]
  },
  {
   "cell_type": "code",
   "execution_count": 15,
   "metadata": {},
   "outputs": [
    {
     "name": "stdout",
     "output_type": "stream",
     "text": [
      "name=Rahul\n",
      "age=21\n",
      "branch=CSE\n"
     ]
    }
   ],
   "source": [
    "def student_details(**kwargs):\n",
    "    for key, value in kwargs.items():\n",
    "        print(f\"{key}={value}\")\n",
    "student_details(name = 'Rahul', age = 21, branch = 'CSE')\n",
    "        \n",
    "    \n"
   ]
  },
  {
   "cell_type": "markdown",
   "metadata": {},
   "source": [
    "#### Variable scope\n",
    "- local vs global"
   ]
  },
  {
   "cell_type": "code",
   "execution_count": null,
   "metadata": {},
   "outputs": [],
   "source": []
  },
  {
   "cell_type": "code",
   "execution_count": null,
   "metadata": {},
   "outputs": [],
   "source": []
  },
  {
   "cell_type": "code",
   "execution_count": null,
   "metadata": {},
   "outputs": [],
   "source": []
  },
  {
   "cell_type": "code",
   "execution_count": null,
   "metadata": {},
   "outputs": [],
   "source": []
  },
  {
   "cell_type": "code",
   "execution_count": null,
   "metadata": {},
   "outputs": [],
   "source": []
  }
 ],
 "metadata": {
  "kernelspec": {
   "display_name": "Python 3",
   "language": "python",
   "name": "python3"
  },
  "language_info": {
   "codemirror_mode": {
    "name": "ipython",
    "version": 3
   },
   "file_extension": ".py",
   "mimetype": "text/x-python",
   "name": "python",
   "nbconvert_exporter": "python",
   "pygments_lexer": "ipython3",
   "version": "3.12.0"
  }
 },
 "nbformat": 4,
 "nbformat_minor": 2
}
