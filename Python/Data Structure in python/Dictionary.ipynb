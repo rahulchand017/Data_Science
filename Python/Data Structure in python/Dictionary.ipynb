{
 "cells": [
  {
   "cell_type": "markdown",
   "metadata": {},
   "source": [
    "#### In Dictionary data are in the form of key value pairs\n",
    "- they are the unordered collection of data value in form of key value pairs.\n",
    "- denoted by {key: value}\n",
    "- every pair is comma separated\n",
    "\n",
    "##### Functionality \n",
    "- The dictionary don't have duplicate keys\n",
    "- It can have duplicate values\n",
    "- Accessing the value with a key"
   ]
  },
  {
   "cell_type": "code",
   "execution_count": 22,
   "metadata": {},
   "outputs": [
    {
     "name": "stdout",
     "output_type": "stream",
     "text": [
      "{1: 'Rahul', 2: 'Rohit', 3: 'Ankur', 4: 'Sakshi'}\n"
     ]
    }
   ],
   "source": [
    "dct = {1:'Rahul', 2:'Rohit', 3:'Ankur', 4: 'Sakshi'}\n",
    "print(dct)"
   ]
  },
  {
   "cell_type": "code",
   "execution_count": 23,
   "metadata": {},
   "outputs": [
    {
     "name": "stdout",
     "output_type": "stream",
     "text": [
      "{1: 'Rahul', 2: 'Rohit', 3: 'Arther', 4: 'Sakshi'}\n"
     ]
    }
   ],
   "source": [
    "#Change in key 3 because same key\n",
    "dct = {1:'Rahul', 2:'Rohit', 3:'Ankur', 4: 'Sakshi', 3: 'Arther'}\n",
    "print(dct)"
   ]
  },
  {
   "cell_type": "code",
   "execution_count": 24,
   "metadata": {},
   "outputs": [
    {
     "name": "stdout",
     "output_type": "stream",
     "text": [
      "Rahul\n",
      "Rahul\n"
     ]
    }
   ],
   "source": [
    "print(dct[1])\n",
    "print(dct.get(1))"
   ]
  },
  {
   "cell_type": "code",
   "execution_count": 25,
   "metadata": {},
   "outputs": [
    {
     "ename": "KeyError",
     "evalue": "'Rahul'",
     "output_type": "error",
     "traceback": [
      "\u001b[1;31m---------------------------------------------------------------------------\u001b[0m",
      "\u001b[1;31mKeyError\u001b[0m                                  Traceback (most recent call last)",
      "Cell \u001b[1;32mIn[25], line 2\u001b[0m\n\u001b[0;32m      1\u001b[0m \u001b[38;5;66;03m#Error because Rahul is value not a key\u001b[39;00m\n\u001b[1;32m----> 2\u001b[0m \u001b[38;5;28mprint\u001b[39m(dct[\u001b[38;5;124m'\u001b[39m\u001b[38;5;124mRahul\u001b[39m\u001b[38;5;124m'\u001b[39m])\n",
      "\u001b[1;31mKeyError\u001b[0m: 'Rahul'"
     ]
    }
   ],
   "source": [
    "#Error because Rahul is value not a key\n",
    "print(dct['Rahul'])"
   ]
  },
  {
   "cell_type": "code",
   "execution_count": 8,
   "metadata": {},
   "outputs": [
    {
     "name": "stdout",
     "output_type": "stream",
     "text": [
      "{1: 'Rahul', 2: 'Rohit', 3: 'Arther', 4: 'Sakshi', 5: 'Riya'}\n"
     ]
    }
   ],
   "source": [
    "#Adding and updating the key value pair\n",
    "dct[5] = 'Riya'\n",
    "print(dct)"
   ]
  },
  {
   "cell_type": "code",
   "execution_count": 10,
   "metadata": {},
   "outputs": [],
   "source": [
    "#Deleting the dictionary\n",
    "del dct[5]"
   ]
  },
  {
   "cell_type": "code",
   "execution_count": 11,
   "metadata": {},
   "outputs": [
    {
     "name": "stdout",
     "output_type": "stream",
     "text": [
      "{}\n"
     ]
    }
   ],
   "source": [
    "#Cleaning the dictionary\n",
    "dct.clear()\n",
    "print(dct)"
   ]
  },
  {
   "cell_type": "code",
   "execution_count": 12,
   "metadata": {},
   "outputs": [
    {
     "name": "stdout",
     "output_type": "stream",
     "text": [
      "{1: 'Rahul', 2: 'Rohit', 3: 'Arther', 4: 'Sakshi'}\n",
      "dict_keys([1, 2, 3, 4])\n",
      "dict_values(['Rahul', 'Rohit', 'Arther', 'Sakshi'])\n"
     ]
    }
   ],
   "source": [
    "#Iterating through the Dictionary \n",
    "dct = {1:'Rahul', 2:'Rohit', 3:'Ankur', 4: 'Sakshi', 3: 'Arther'}\n",
    "print (dct)\n",
    "print (dct.keys())\n",
    "print (dct.values())"
   ]
  },
  {
   "cell_type": "code",
   "execution_count": 21,
   "metadata": {},
   "outputs": [
    {
     "name": "stdout",
     "output_type": "stream",
     "text": [
      "1 Rahul\n",
      "2 Rohit\n",
      "3 Arther\n",
      "4 Sakshi\n",
      "------------------------------------------------------------------------------------------\n",
      "dict_items([(1, 'Rahul'), (2, 'Rohit'), (3, 'Arther'), (4, 'Sakshi')])\n",
      "------------------------------------------------------------------------------------------\n",
      "1 Rahul\n",
      "2 Rohit\n",
      "3 Arther\n",
      "4 Sakshi\n"
     ]
    }
   ],
   "source": [
    "#Accessing the elements in the dictionary\n",
    "dct = {1:'Rahul', 2:'Rohit', 3:'Ankur', 4: 'Sakshi', 3: 'Arther'}\n",
    "for i in dct.keys():\n",
    "    print(i, dct[i])\n",
    "print('-'*90)\n",
    "\n",
    "\n",
    "#OR\n",
    "print(dct.items())\n",
    "print('-'*90)\n",
    "\n",
    "for k,v in dct.items():\n",
    "    print(k,v)"
   ]
  },
  {
   "cell_type": "code",
   "execution_count": 22,
   "metadata": {},
   "outputs": [
    {
     "name": "stdout",
     "output_type": "stream",
     "text": [
      "{1: 'Rahul', 2: 'Rohit', 3: 'Arther', 4: 'Sakshi'}\n",
      "True\n",
      "False\n"
     ]
    }
   ],
   "source": [
    "#Check if key is present \n",
    "print(dct)\n",
    "print(1 in dct)\n",
    "print(10 in dct)"
   ]
  },
  {
   "cell_type": "code",
   "execution_count": 23,
   "metadata": {},
   "outputs": [
    {
     "name": "stdout",
     "output_type": "stream",
     "text": [
      "{1: 'a', 2: 'b', 3: 'c', 4: 'd'}\n",
      "{1: 'a', 2: 'b', 3: 'c', 4: 'd'}\n"
     ]
    }
   ],
   "source": [
    "#Updating the dictionary\n",
    "dct_1 = {1:'A', 2:'B', 3:'C', 4:'D'}\n",
    "\n",
    "dct_2= {1:'a', 2:'b', 3:'c', 4:'d'}\n",
    "\n",
    "dct_1.update(dct_2)\n",
    "print(dct_1)\n",
    "print(dct_2)"
   ]
  },
  {
   "cell_type": "markdown",
   "metadata": {},
   "source": [
    "##### Multidimensional Dictionary\n",
    "- dictionary can have list, dictionary, int, float, boolean, string inside the value."
   ]
  },
  {
   "cell_type": "code",
   "execution_count": 1,
   "metadata": {},
   "outputs": [
    {
     "name": "stdout",
     "output_type": "stream",
     "text": [
      "{1: {'name': 'Rahul', 'phone': '6394475130'}}\n"
     ]
    }
   ],
   "source": [
    "dct = {1:{'name': 'Rahul', 'phone':'6394475130'}}\n",
    "print(dct)"
   ]
  },
  {
   "cell_type": "code",
   "execution_count": 13,
   "metadata": {},
   "outputs": [
    {
     "name": "stdout",
     "output_type": "stream",
     "text": [
      "{1: {'name': 'Rahul', 'phone': '6394475130'}, 2: {'name': 'Rohit', 'phone': '7432149984'}}\n",
      "2\n"
     ]
    }
   ],
   "source": [
    "dct = {1:{'name': 'Rahul', 'phone':'6394475130'},\n",
    "       2:{'name': 'Rohit', 'phone':'7432149984'}}\n",
    "print(dct)\n",
    "print(len(dct[2]))"
   ]
  },
  {
   "cell_type": "code",
   "execution_count": 14,
   "metadata": {},
   "outputs": [
    {
     "name": "stdout",
     "output_type": "stream",
     "text": [
      "{1: {'name': 'Rahul', 'phone': '6394475130'}, 2: {'name': 'Rohit', 'phone': '7432149984'}}\n",
      "{'name': 'Rahul', 'phone': '6394475130'}\n",
      "Rohit\n"
     ]
    }
   ],
   "source": [
    "#Accessing the elements\n",
    "print(dct)\n",
    "print(dct[1])\n",
    "print(dct[2]['name'])"
   ]
  },
  {
   "cell_type": "code",
   "execution_count": 17,
   "metadata": {},
   "outputs": [
    {
     "name": "stdout",
     "output_type": "stream",
     "text": [
      "{1: {'name': 'Rahul', 'phone': '6394475130'}, 2: {'name': 'Avneet', 'phone': '7432149984'}, 3: {'name': 'Bhupendra jogi', 'phone': '7696696996'}}\n",
      "------------------------------------------------------------------------------------------\n",
      "{1: {'name': 'Rahul', 'phone': '6394475130'}, 2: {'name': 'Avneet', 'phone': '7432149984'}, 3: {'name': 'Bhupendra jogi', 'phone': '7696696996'}}\n",
      "------------------------------------------------------------------------------------------\n",
      "{1: {'name': 'Rahul', 'phone': '6394475130'}, 2: {'name': 'Avneet', 'phone': '7432149984'}}\n"
     ]
    }
   ],
   "source": [
    "#Adding, updating and deleting elements\n",
    "dct[3] = {'name':'Bhupendra jogi', 'phone': '7696696996'}\n",
    "print(dct)\n",
    "\n",
    "print('-'*90)\n",
    "\n",
    "dct[2]['name'] = 'Avneet'\n",
    "print(dct)\n",
    "print('-'*90)\n",
    "\n",
    "del dct[3]\n",
    "print(dct)"
   ]
  },
  {
   "cell_type": "code",
   "execution_count": 20,
   "metadata": {},
   "outputs": [
    {
     "name": "stdout",
     "output_type": "stream",
     "text": [
      "1 Rahul 6394475130\n",
      "2 Avneet 7432149984\n"
     ]
    }
   ],
   "source": [
    "#Going through the data\n",
    "for i in dct.keys():\n",
    "    print(i, dct[i]['name'], dct[i]['phone'])"
   ]
  },
  {
   "cell_type": "code",
   "execution_count": 21,
   "metadata": {},
   "outputs": [
    {
     "name": "stdout",
     "output_type": "stream",
     "text": [
      "True\n"
     ]
    }
   ],
   "source": [
    "print(1 in dct)"
   ]
  },
  {
   "cell_type": "code",
   "execution_count": 23,
   "metadata": {},
   "outputs": [
    {
     "name": "stdout",
     "output_type": "stream",
     "text": [
      "{1: {'name': 'Rahul', 'phone': '6394475130', 'marks': {'hin': 45, 'mth': 42, 'sci': 68}}, 2: {'name': 'Rohit', 'phone': '7432149984', 'marks': {'hin': 24, 'mth': 92, 'sci': 88}}, 3: {'name': 'Riya', 'phone': '7210788884', 'marks': {'hin': 61, 'mth': 64, 'sci': 9}}}\n"
     ]
    }
   ],
   "source": [
    "#Going a level deeper with marks\n",
    "data = {1:{'name': 'Rahul', 'phone':'6394475130', 'marks': {'hin': 45, 'mth':42,'sci':68}},\n",
    "       2:{'name': 'Rohit', 'phone':'7432149984', 'marks': {'hin': 24, 'mth':92,'sci':88}},\n",
    "       3:{'name': 'Riya', 'phone':'7210788884', 'marks': {'hin': 61, 'mth':64,'sci':9}}}\n",
    "print(data)"
   ]
  },
  {
   "cell_type": "code",
   "execution_count": 25,
   "metadata": {},
   "outputs": [
    {
     "name": "stdout",
     "output_type": "stream",
     "text": [
      "1 Rahul 68\n",
      "2 Rohit 88\n",
      "3 Riya 9\n"
     ]
    }
   ],
   "source": [
    "for i in data.keys():\n",
    "    print(i, dct[i]['name'], dct[i]['marks']['sci'])"
   ]
  },
  {
   "cell_type": "markdown",
   "metadata": {},
   "source": [
    "##### Dictionary Compression"
   ]
  },
  {
   "cell_type": "code",
   "execution_count": 1,
   "metadata": {},
   "outputs": [
    {
     "name": "stdout",
     "output_type": "stream",
     "text": [
      "{1: 1, 2: 4, 3: 9, 4: 16, 5: 25}\n"
     ]
    }
   ],
   "source": [
    "dct = {i:i**2 for i in range(1,6)}\n",
    "print(dct)"
   ]
  },
  {
   "cell_type": "code",
   "execution_count": 2,
   "metadata": {},
   "outputs": [
    {
     "name": "stdout",
     "output_type": "stream",
     "text": [
      "{1: 1, 2: 8, 3: 27, 4: 64, 5: 125}\n"
     ]
    }
   ],
   "source": [
    "dct = {i:i**3 for i in range(1,6)}\n",
    "print(dct)"
   ]
  },
  {
   "cell_type": "code",
   "execution_count": 3,
   "metadata": {},
   "outputs": [
    {
     "name": "stdout",
     "output_type": "stream",
     "text": [
      "{2: 4, 4: 16, 6: 36, 8: 64, 10: 100}\n"
     ]
    }
   ],
   "source": [
    "# Dictionary with condition\n",
    "dct = {i:i**2 for i in range(1,11) if i%2==0}\n",
    "print(dct)"
   ]
  },
  {
   "cell_type": "code",
   "execution_count": 4,
   "metadata": {},
   "outputs": [
    {
     "name": "stdout",
     "output_type": "stream",
     "text": [
      "['Banana', 'Apple', 'Orange']\n",
      "{'Banana': 6, 'Apple': 5, 'Orange': 6}\n"
     ]
    }
   ],
   "source": [
    "# Dictionary from list\n",
    "lst = ['Banana', 'Apple', 'Orange']\n",
    "dct = {item: len(item) for item in lst}\n",
    "print(lst)\n",
    "print(dct)"
   ]
  },
  {
   "cell_type": "code",
   "execution_count": 5,
   "metadata": {},
   "outputs": [
    {
     "name": "stdout",
     "output_type": "stream",
     "text": [
      "{6: 'Orange', 5: 'Apple'}\n"
     ]
    }
   ],
   "source": [
    "dct = {len(item) : item  for item in lst}\n",
    "print(dct)\n"
   ]
  },
  {
   "cell_type": "code",
   "execution_count": 7,
   "metadata": {},
   "outputs": [
    {
     "name": "stdout",
     "output_type": "stream",
     "text": [
      "{'num_1': 1, 'num_2': 2, 'num_3': 3, 'num_4': 4, 'num_5': 5, 'num_6': 6, 'num_7': 7, 'num_8': 8, 'num_9': 9, 'num_10': 10, 'num_11': 11, 'num_12': 12, 'num_13': 13, 'num_14': 14, 'num_15': 15, 'num_16': 16, 'num_17': 17, 'num_18': 18, 'num_19': 19, 'num_20': 20, 'num_21': 21, 'num_22': 22, 'num_23': 23, 'num_24': 24, 'num_25': 25, 'num_26': 26, 'num_27': 27, 'num_28': 28, 'num_29': 29, 'num_30': 30, 'num_31': 31, 'num_32': 32, 'num_33': 33, 'num_34': 34, 'num_35': 35, 'num_36': 36, 'num_37': 37, 'num_38': 38, 'num_39': 39, 'num_40': 40, 'num_41': 41, 'num_42': 42, 'num_43': 43, 'num_44': 44, 'num_45': 45, 'num_46': 46, 'num_47': 47, 'num_48': 48, 'num_49': 49, 'num_50': 50, 'num_51': 51, 'num_52': 52, 'num_53': 53, 'num_54': 54, 'num_55': 55, 'num_56': 56, 'num_57': 57, 'num_58': 58, 'num_59': 59, 'num_60': 60, 'num_61': 61, 'num_62': 62, 'num_63': 63, 'num_64': 64, 'num_65': 65, 'num_66': 66, 'num_67': 67, 'num_68': 68, 'num_69': 69, 'num_70': 70, 'num_71': 71, 'num_72': 72, 'num_73': 73, 'num_74': 74, 'num_75': 75, 'num_76': 76, 'num_77': 77, 'num_78': 78, 'num_79': 79, 'num_80': 80, 'num_81': 81, 'num_82': 82, 'num_83': 83, 'num_84': 84, 'num_85': 85, 'num_86': 86, 'num_87': 87, 'num_88': 88, 'num_89': 89, 'num_90': 90, 'num_91': 91, 'num_92': 92, 'num_93': 93, 'num_94': 94, 'num_95': 95, 'num_96': 96, 'num_97': 97, 'num_98': 98, 'num_99': 99, 'num_100': 100}\n"
     ]
    }
   ],
   "source": [
    "#Special keys with string \n",
    "dct = {'num_' + str(i):i for i in range(1,101)}\n",
    "print(dct)"
   ]
  },
  {
   "cell_type": "code",
   "execution_count": 9,
   "metadata": {},
   "outputs": [
    {
     "name": "stdout",
     "output_type": "stream",
     "text": [
      "{'num_3': 3, 'num_6': 6, 'num_9': 9}\n"
     ]
    }
   ],
   "source": [
    "#Shortlisting based on values\n",
    "dct = {'num_' + str(i):i for i in range(1,11)}\n",
    "dct = {k:v for k,v in dct.items() if v%3==0}\n",
    "print(dct)"
   ]
  },
  {
   "cell_type": "code",
   "execution_count": 20,
   "metadata": {},
   "outputs": [
    {
     "name": "stdout",
     "output_type": "stream",
     "text": [
      "{(0, 0): 1, (0, 1): 2, (0, 2): 3, (1, 0): 4, (1, 1): 5, (1, 2): 6, (2, 0): 7, (2, 1): 8, (2, 2): 9}\n"
     ]
    }
   ],
   "source": [
    "#Matrix dictionary comprehension \n",
    "matrix = [[1, 2, 3], [4, 5, 6], [7, 8, 9]]\n",
    "final_dct = {(i, j): matrix[i][j] for i in range(3) for j in range(3)}\n",
    "print(final_dct)\n",
    "\n",
    "    "
   ]
  },
  {
   "cell_type": "code",
   "execution_count": 21,
   "metadata": {},
   "outputs": [
    {
     "name": "stdout",
     "output_type": "stream",
     "text": [
      "{1: (0, 0), 2: (0, 1), 3: (0, 2), 4: (1, 0), 5: (1, 1), 6: (1, 2), 7: (2, 0), 8: (2, 1), 9: (2, 2)}\n"
     ]
    }
   ],
   "source": [
    "matrix = [[1, 2, 3], [4, 5, 6], [7, 8, 9]]\n",
    "final_dct = {matrix[i][j]: (i, j) for i in range(3) for j in range(3)}\n",
    "print(final_dct)"
   ]
  },
  {
   "cell_type": "code",
   "execution_count": null,
   "metadata": {},
   "outputs": [],
   "source": []
  }
 ],
 "metadata": {
  "kernelspec": {
   "display_name": "Python 3",
   "language": "python",
   "name": "python3"
  },
  "language_info": {
   "codemirror_mode": {
    "name": "ipython",
    "version": 3
   },
   "file_extension": ".py",
   "mimetype": "text/x-python",
   "name": "python",
   "nbconvert_exporter": "python",
   "pygments_lexer": "ipython3",
   "version": "3.11.3"
  }
 },
 "nbformat": 4,
 "nbformat_minor": 2
}
