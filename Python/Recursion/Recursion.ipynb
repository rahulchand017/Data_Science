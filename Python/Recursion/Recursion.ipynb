{
 "cells": [
  {
   "cell_type": "code",
   "execution_count": 2,
   "metadata": {},
   "outputs": [
    {
     "data": {
      "text/plain": [
       "12"
      ]
     },
     "execution_count": 2,
     "metadata": {},
     "output_type": "execute_result"
    }
   ],
   "source": [
    "def multiply(a,b):\n",
    "    result = 0\n",
    "    for i in range(b):\n",
    "        result = result +a\n",
    "    return result\n",
    "multiply(3,4)"
   ]
  },
  {
   "cell_type": "code",
   "execution_count": 3,
   "metadata": {},
   "outputs": [
    {
     "name": "stdout",
     "output_type": "stream",
     "text": [
      "30\n"
     ]
    }
   ],
   "source": [
    "def multiple(a,b):\n",
    "    if b == 1:\n",
    "        return a \n",
    "    else:\n",
    "        return a + multiple(a,b-1)\n",
    "print(multiple(5,6))"
   ]
  },
  {
   "cell_type": "code",
   "execution_count": 8,
   "metadata": {},
   "outputs": [
    {
     "data": {
      "text/plain": [
       "120"
      ]
     },
     "execution_count": 8,
     "metadata": {},
     "output_type": "execute_result"
    }
   ],
   "source": [
    "def fact(num):\n",
    "    if num == 1: \n",
    "        return num\n",
    "    else:\n",
    "        return num * fact(num-1)\n",
    "fact(5)"
   ]
  },
  {
   "cell_type": "code",
   "execution_count": 10,
   "metadata": {},
   "outputs": [
    {
     "name": "stdout",
     "output_type": "stream",
     "text": [
      "String is palindrome\n"
     ]
    }
   ],
   "source": [
    "def palindrome(s):\n",
    "    if len(s) <= 1:\n",
    "        return \"String is palindrome\"\n",
    "    elif s[0] == s[-1]:\n",
    "        return palindrome(s[1:-1])\n",
    "    else:\n",
    "        return \"String is not palindrome\"\n",
    "\n",
    "string = input(\"Enter the string of your choice: \")\n",
    "result = palindrome(string)\n",
    "print(result)\n"
   ]
  },
  {
   "cell_type": "markdown",
   "metadata": {},
   "source": [
    "### The rabbit problem"
   ]
  },
  {
   "cell_type": "code",
   "execution_count": 11,
   "metadata": {},
   "outputs": [
    {
     "name": "stdout",
     "output_type": "stream",
     "text": [
      "233\n"
     ]
    }
   ],
   "source": [
    "#rabbit problem\n",
    "'''If 2 newborn rabbits are put in a pen, how many rabbits will be in the pen after 1 year'''\n",
    "'''ASSUME\n",
    "- always produce one male and one female offspring\n",
    "- can reproduce once every year\n",
    "- can reproduce once they are one month old\n",
    "- never die'''\n",
    "# We will use fibonacci here\n",
    "def fib(month):\n",
    "    if month == 0 or month == 1:\n",
    "        return 1\n",
    "    else:\n",
    "        return fib(month - 1)+ fib(month - 2)\n",
    "print(fib(12))"
   ]
  },
  {
   "cell_type": "code",
   "execution_count": 3,
   "metadata": {},
   "outputs": [
    {
     "name": "stdout",
     "output_type": "stream",
     "text": [
      "225591516161936330872512695036072072046011324913758190588638866418474627738686883405015987052796968498626\n",
      "0.0008234977722167969\n"
     ]
    }
   ],
   "source": [
    "#solving using DP\n",
    "import time\n",
    "def memo(m,d):\n",
    "    if m in d:\n",
    "        return d[m]\n",
    "    else:\n",
    "        d[m] = memo(m-1,d)+ memo(m-2,d)\n",
    "        return d[m]\n",
    "d = {0:1,1:1}\n",
    "start = time.time()\n",
    "print(memo(500,d))\n",
    "print(time.time() - start)\n"
   ]
  },
  {
   "cell_type": "markdown",
   "metadata": {},
   "source": [
    "## Power Set Problem"
   ]
  },
  {
   "cell_type": "code",
   "execution_count": null,
   "metadata": {},
   "outputs": [],
   "source": [
    "def power_set_recursive(input_set):\n",
    "    # Base case: if the set is empty, return a set with only the empty set\n",
    "    if not input_set:\n",
    "        return [[]]\n",
    "    \n",
    "    # Recursive case: exclude the first element, and include the first element\n",
    "    first_element = input_set[0]\n",
    "    rest_of_set = input_set[1:]\n",
    "    \n",
    "    # Get the power set of the rest of the set\n",
    "    subsets_without_first = power_set_recursive(rest_of_set)\n",
    "    \n",
    "    # Include the first element in each subset of the power set\n",
    "    subsets_with_first = [subset + [first_element] for subset in subsets_without_first]\n",
    "    \n",
    "    # Combine the subsets with and without the first element\n",
    "    return subsets_without_first + subsets_with_first\n",
    "\n",
    "# Example usage:\n",
    "input_set = [1, 2, 3]\n",
    "result = power_set_recursive(input_set)\n",
    "\n",
    "# Print the power set\n",
    "for subset in result:\n",
    "    print(subset)\n"
   ]
  }
 ],
 "metadata": {
  "kernelspec": {
   "display_name": "Python 3",
   "language": "python",
   "name": "python3"
  },
  "language_info": {
   "codemirror_mode": {
    "name": "ipython",
    "version": 3
   },
   "file_extension": ".py",
   "mimetype": "text/x-python",
   "name": "python",
   "nbconvert_exporter": "python",
   "pygments_lexer": "ipython3",
   "version": "3.12.0"
  }
 },
 "nbformat": 4,
 "nbformat_minor": 2
}
