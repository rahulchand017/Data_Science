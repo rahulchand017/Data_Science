{
 "cells": [
  {
   "cell_type": "markdown",
   "metadata": {},
   "source": [
    "## Making a small \"The Finals\" game"
   ]
  },
  {
   "cell_type": "code",
   "execution_count": 1,
   "metadata": {},
   "outputs": [
    {
     "name": "stdout",
     "output_type": "stream",
     "text": [
      "Oh ji twada swagat hai\n",
      "Nexus\n",
      "Medium\n",
      "Agent ki ability Demat hai, and build hai Medium\n",
      "Bhai ki health 250\n"
     ]
    }
   ],
   "source": [
    "class Agent:\n",
    "    def __init__(self, ag_name, ag_build, ag_ability, ag_health):\n",
    "        print(\"Oh ji twada swagat hai\")\n",
    "        self.ag_name = ag_name\n",
    "        self.ag_build = ag_build\n",
    "        self.ag_ability = ag_ability\n",
    "        self.ag_health = ag_health\n",
    "\n",
    "    def update_build_and_ability(self):\n",
    "        if self.ag_health >= 350:\n",
    "            self.ag_build = \"Heavy\"\n",
    "            self.ag_ability = \"Smash\"\n",
    "        elif self.ag_health >= 250:\n",
    "            self.ag_build = \"Medium\"\n",
    "            self.ag_ability = \"Demat\"\n",
    "        elif self.ag_health >= 150:\n",
    "            self.ag_build = \"Light\"\n",
    "            self.ag_ability = \"Rope\"\n",
    "        else:\n",
    "            print(\"Agent's health is too low to know build or ability\")\n",
    "\n",
    "    def game_ability(self):\n",
    "        self.update_build_and_ability()\n",
    "        print(f\"Agent ki ability {self.ag_ability} hai, and build hai {self.ag_build}\")\n",
    "    \n",
    "    def heal(self):\n",
    "        if self.ag_health >= 350:\n",
    "            self.ag_build = \"Heavy\"\n",
    "            self.ag_ability = \"Smash\"\n",
    "            print(\"Agent is fully healed, build is 'Heavy' and ability is 'Smash'\")\n",
    "        elif self.ag_health >= 250:\n",
    "            self.ag_build = \"Medium\"\n",
    "            self.ag_ability = \"Demat\"\n",
    "            print(\"Agent is in good health, build is 'Medium' and ability is 'Demat'\")\n",
    "        elif self.ag_health >= 150:\n",
    "            self.ag_build = \"Light\"\n",
    "            self.ag_ability = \"Rope\"\n",
    "            print(\"Agent needs some healing, build is 'Light' and ability is 'Rope'\")\n",
    "        else:\n",
    "            print(\"Agent is in bad shape, heal needed\")\n",
    "\n",
    "    def bund(self):\n",
    "        # Assign abilities based on actions\n",
    "        self.ag_ability = \"Smash\"\n",
    "        print(\"Rush kr de mere bhai maar unhe\") \n",
    "\n",
    "        self.ag_ability = \"Demat\"\n",
    "        print(\"Demat de de MC\")\n",
    "\n",
    "        self.ag_ability = \"Rope\"\n",
    "        print(\"Rope ko apni gand mai dalega kya use kr BSDK\")\n",
    "\n",
    "    def shotted(self):\n",
    "        self.ag_health -= 100\n",
    "        self.update_build_and_ability()\n",
    "        print(f\"Agent is {self.ag_build} with health {self.ag_health}\")\n",
    "        if self.ag_health <= 0:\n",
    "            print(\"Agent is dead\")\n",
    "        elif self.ag_health <= 100:\n",
    "            print(\"Agent is low on HP, heal her\")\n",
    "        else:\n",
    "            print(\"Agent is still alive\")\n",
    "\n",
    "    def info(self):\n",
    "        self.update_build_and_ability()\n",
    "        print(f\"ag_name: {self.ag_name}\")\n",
    "        print(f\"ag_ability: {self.ag_ability}\")\n",
    "        print(f\"ag_health: {self.ag_health}\")\n",
    "        print(f\"ag_build: {self.ag_build}\")\n",
    "\n",
    "p1 = Agent(\"Nexus\", \"Medium\", \"Demat\", 250)\n",
    "\n",
    "print(p1.ag_name) \n",
    "print(p1.ag_build)  \n",
    "p1.game_ability()  \n",
    "print(\"Bhai ki health\", p1.ag_health)\n"
   ]
  },
  {
   "cell_type": "code",
   "execution_count": null,
   "metadata": {},
   "outputs": [],
   "source": []
  },
  {
   "cell_type": "code",
   "execution_count": null,
   "metadata": {},
   "outputs": [],
   "source": []
  },
  {
   "cell_type": "code",
   "execution_count": null,
   "metadata": {},
   "outputs": [],
   "source": []
  },
  {
   "cell_type": "code",
   "execution_count": null,
   "metadata": {},
   "outputs": [],
   "source": []
  },
  {
   "cell_type": "code",
   "execution_count": null,
   "metadata": {},
   "outputs": [],
   "source": []
  },
  {
   "cell_type": "code",
   "execution_count": null,
   "metadata": {},
   "outputs": [],
   "source": []
  },
  {
   "cell_type": "code",
   "execution_count": null,
   "metadata": {},
   "outputs": [],
   "source": []
  },
  {
   "cell_type": "code",
   "execution_count": null,
   "metadata": {},
   "outputs": [],
   "source": []
  },
  {
   "cell_type": "code",
   "execution_count": null,
   "metadata": {},
   "outputs": [],
   "source": []
  },
  {
   "cell_type": "code",
   "execution_count": null,
   "metadata": {},
   "outputs": [],
   "source": []
  },
  {
   "cell_type": "code",
   "execution_count": null,
   "metadata": {},
   "outputs": [],
   "source": []
  }
 ],
 "metadata": {
  "kernelspec": {
   "display_name": "Python 3",
   "language": "python",
   "name": "python3"
  },
  "language_info": {
   "codemirror_mode": {
    "name": "ipython",
    "version": 3
   },
   "file_extension": ".py",
   "mimetype": "text/x-python",
   "name": "python",
   "nbconvert_exporter": "python",
   "pygments_lexer": "ipython3",
   "version": "3.11.3"
  }
 },
 "nbformat": 4,
 "nbformat_minor": 2
}
