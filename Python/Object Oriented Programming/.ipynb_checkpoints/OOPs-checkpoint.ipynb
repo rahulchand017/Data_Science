{
 "cells": [
  {
   "cell_type": "code",
   "execution_count": 2,
   "metadata": {},
   "outputs": [
    {
     "name": "stdout",
     "output_type": "stream",
     "text": [
      "Hello\n",
      "Rahul\n",
      "21\n"
     ]
    }
   ],
   "source": [
    "class person:\n",
    "    name = \"Rahul\"\n",
    "    age = 21\n",
    "    print(\"Hello\")\n",
    "p1 = person()\n",
    "#p1 is the object having the whole structure of the class person\n",
    "print(p1.name)\n",
    "print(p1.age)"
   ]
  },
  {
   "cell_type": "code",
   "execution_count": 3,
   "metadata": {},
   "outputs": [
    {
     "name": "stdout",
     "output_type": "stream",
     "text": [
      "Ankur\n",
      "31\n"
     ]
    }
   ],
   "source": [
    "p1.name = \"Ankur\"\n",
    "p1.age = 31\n",
    "print(p1.name)\n",
    "print(p1.age)"
   ]
  },
  {
   "cell_type": "markdown",
   "metadata": {},
   "source": [
    "The function we are defining inside the class are called method\n"
   ]
  },
  {
   "cell_type": "code",
   "execution_count": 22,
   "metadata": {},
   "outputs": [
    {
     "name": "stdout",
     "output_type": "stream",
     "text": [
      "Hello\n",
      "Rahul\n",
      "Hello\n",
      "None\n"
     ]
    }
   ],
   "source": [
    "class mathematics:\n",
    "    name = \"Rahul\"\n",
    "    def greet(self):\n",
    "        print(\"Hello\")\n",
    "        \n",
    "math = mathematics()\n",
    "math.greet()\n",
    "print(math.name)\n",
    "print(math.greet())\n"
   ]
  },
  {
   "cell_type": "code",
   "execution_count": 9,
   "metadata": {},
   "outputs": [
    {
     "name": "stdout",
     "output_type": "stream",
     "text": [
      "Hello\n",
      "Hi\n"
     ]
    }
   ],
   "source": [
    "class mathematics:\n",
    "    name = \"Rahul\"\n",
    "    def greet(self):\n",
    "        print(\"Hello\")\n",
    "        return \"Hi\"\n",
    "    \n",
    "    \n",
    "math = mathematics()\n",
    "print(math.greet())"
   ]
  },
  {
   "cell_type": "code",
   "execution_count": 11,
   "metadata": {},
   "outputs": [
    {
     "name": "stdout",
     "output_type": "stream",
     "text": [
      "120\n",
      "60\n",
      "[2, 6, 16, 25]\n"
     ]
    }
   ],
   "source": [
    "class mathematics:\n",
    "    name = \"Rahul\"\n",
    "    def greet(self):\n",
    "        print(\"Hello\")\n",
    "        return \"Hi\"\n",
    "    \n",
    "    def factorial(self,n):\n",
    "        s = 1\n",
    "        for i in range(1, n+1):\n",
    "            s*=i\n",
    "        return s\n",
    "    \n",
    "    def lst_multiplication(self,lst):\n",
    "        s = 1\n",
    "        for i in lst:\n",
    "            s *= i\n",
    "        return s\n",
    "\n",
    "    def lst_dot(self, lst_1, lst_2):\n",
    "        return [lst_1[i]* lst_2[i] for i in range(len(lst_1))]\n",
    "\n",
    "\n",
    "    \n",
    "    \n",
    "math = mathematics()\n",
    "\n",
    "print(math.factorial(5))\n",
    "print(math.lst_multiplication([3,4,5]))\n",
    "print(math.lst_dot([1,2,4,5],[2,3,4,5]))\n"
   ]
  },
  {
   "cell_type": "code",
   "execution_count": 12,
   "metadata": {},
   "outputs": [
    {
     "name": "stdout",
     "output_type": "stream",
     "text": [
      "Bhaag milkha bhaag\n",
      "None\n"
     ]
    }
   ],
   "source": [
    "class person:\n",
    "    def run(self):\n",
    "        print(\"Bhaag milkha bhaag\")\n",
    "p1 = person()\n",
    "print(p1.run())"
   ]
  },
  {
   "cell_type": "code",
   "execution_count": 22,
   "metadata": {},
   "outputs": [
    {
     "name": "stdout",
     "output_type": "stream",
     "text": [
      "Rang de basanti\n",
      "Rang de basanti\n",
      "Rang de basanti\n",
      "Rang de basanti\n",
      "None\n"
     ]
    }
   ],
   "source": [
    "class person:\n",
    "\n",
    "    def __init__(self):\n",
    "        print(\"Rang de basanti\")\n",
    "    def run(self):\n",
    "        print(\"Bhaag milkha bhaag\")\n",
    "p1 = person()\n",
    "p2 = person()\n",
    "p3 = person()\n",
    "print(p3.__init__())\n",
    "#__init__ helps to return the statement without the help of print statement"
   ]
  },
  {
   "cell_type": "code",
   "execution_count": 33,
   "metadata": {},
   "outputs": [
    {
     "name": "stdout",
     "output_type": "stream",
     "text": [
      "Rahul\n",
      "21\n",
      "Rohit\n",
      "21\n",
      "None\n"
     ]
    }
   ],
   "source": [
    "class person:\n",
    "\n",
    "    def __init__(self, name, age):\n",
    "        print(name)\n",
    "        print(age)\n",
    "    def run(self):\n",
    "        print(\"Bhaag milkha bhaag\")\n",
    "p1 = person(\"Rahul\", 21)\n",
    "print(p1.__init__(\"Rohit\", 21))"
   ]
  },
  {
   "cell_type": "code",
   "execution_count": 36,
   "metadata": {},
   "outputs": [
    {
     "name": "stdout",
     "output_type": "stream",
     "text": [
      "Rahul\n",
      "21\n",
      "Rohit\n",
      "21\n",
      "Riya\n",
      "20\n"
     ]
    }
   ],
   "source": [
    "class person:\n",
    "\n",
    "    def __init__(self, name, age):\n",
    "        self.name = name\n",
    "        self.age = age\n",
    "#So that it can be revoked in different methods\n",
    "        print(name)\n",
    "        print(age)\n",
    "    def run(self):\n",
    "        print(self.name)\n",
    "        print(\"Bhaag milkha bhaag\")\n",
    "p1 = person(\"Rahul\", 21)\n",
    "p2 = person(\"Rohit\", 21)\n",
    "p3 = person(\"Riya\", 20)\n"
   ]
  },
  {
   "cell_type": "code",
   "execution_count": null,
   "metadata": {},
   "outputs": [],
   "source": []
  }
 ],
 "metadata": {
  "kernelspec": {
   "display_name": "Python 3 (ipykernel)",
   "language": "python",
   "name": "python3"
  },
  "language_info": {
   "codemirror_mode": {
    "name": "ipython",
    "version": 3
   },
   "file_extension": ".py",
   "mimetype": "text/x-python",
   "name": "python",
   "nbconvert_exporter": "python",
   "pygments_lexer": "ipython3",
   "version": "3.11.3"
  }
 },
 "nbformat": 4,
 "nbformat_minor": 2
}
