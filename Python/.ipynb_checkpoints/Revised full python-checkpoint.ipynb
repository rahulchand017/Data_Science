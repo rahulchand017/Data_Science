{
 "cells": [
  {
   "cell_type": "markdown",
   "id": "cf8f1d17",
   "metadata": {},
   "source": [
    "## Operators in python"
   ]
  },
  {
   "cell_type": "code",
   "execution_count": 16,
   "id": "8849b713",
   "metadata": {},
   "outputs": [
    {
     "name": "stdout",
     "output_type": "stream",
     "text": [
      "5\n",
      "3\n",
      "12\n",
      "3.0\n",
      "1\n",
      "1\n",
      "25\n",
      "25\n",
      "24.44\n",
      "3.46\n",
      "3.46\n"
     ]
    }
   ],
   "source": [
    "#arethamaticoperators\n",
    "print(2+3)\n",
    "print(5-2)\n",
    "print(4*3)\n",
    "print(9/3)\n",
    "print(4//3) #gives quotient\n",
    "print(4%3) #gives remainder\n",
    "print(5**2) #power\n",
    "print(pow(5,2))\n",
    "print(abs(-24.44)) #conversion\n",
    "print(round(3.45646,2))\n",
    "print(f\"{3.4574:.2f}\")"
   ]
  },
  {
   "cell_type": "code",
   "execution_count": 17,
   "id": "8b76fc04",
   "metadata": {},
   "outputs": [
    {
     "name": "stdout",
     "output_type": "stream",
     "text": [
      "True\n",
      "False\n",
      "False\n",
      "\n"
     ]
    }
   ],
   "source": [
    "#Comaprison operator\n",
    "print(3>2)\n",
    "print(3<2)\n",
    "print(4==5)\n",
    "print()"
   ]
  },
  {
   "cell_type": "code",
   "execution_count": 24,
   "id": "94b6db37",
   "metadata": {},
   "outputs": [
    {
     "name": "stdout",
     "output_type": "stream",
     "text": [
      "True\n",
      "True\n",
      "False\n"
     ]
    }
   ],
   "source": [
    "#Logical operator (and, or, not)\n",
    "print((5>4) and (7>6))\n",
    "print((5>4) or (6>7))\n",
    "print(not(5>4))\n"
   ]
  },
  {
   "cell_type": "code",
   "execution_count": 34,
   "id": "2be3b9d4",
   "metadata": {},
   "outputs": [
    {
     "name": "stdout",
     "output_type": "stream",
     "text": [
      "1\n",
      "7\n",
      "-6\n",
      "5\n",
      "1\n",
      "10\n",
      "2\n"
     ]
    }
   ],
   "source": [
    "#Bitwise operator\n",
    "print(5 & 3)\n",
    "print(5 | 3) #bitwise or\n",
    "print(~5) #bitwise NOT inverse it\n",
    "print(~-6)\n",
    "print(5 ^ 4) #bitwise XOR operator\n",
    "print(5<<1)\n",
    "print(5>>1) #right shift"
   ]
  },
  {
   "cell_type": "code",
   "execution_count": 43,
   "id": "8323630e",
   "metadata": {},
   "outputs": [
    {
     "name": "stdout",
     "output_type": "stream",
     "text": [
      "selected\n",
      "21\n"
     ]
    }
   ],
   "source": [
    "#ternary operator special operation\n",
    "age = 21\n",
    "job = \"selected\" if age <25 else \"rejected\"\n",
    "print(f\"{job}\")\n",
    "print(age)"
   ]
  },
  {
   "cell_type": "code",
   "execution_count": 37,
   "id": "dcc4148b",
   "metadata": {},
   "outputs": [],
   "source": [
    "x = 5\n",
    "result = \"Positive\" if x > 0 else \"Negative\"\n"
   ]
  },
  {
   "cell_type": "markdown",
   "id": "16168286",
   "metadata": {},
   "source": [
    "### String"
   ]
  },
  {
   "cell_type": "code",
   "execution_count": 76,
   "id": "97cc4002",
   "metadata": {},
   "outputs": [
    {
     "name": "stdout",
     "output_type": "stream",
     "text": [
      "Rahul ChandRahul ChandRahul ChandRahul ChandRahul Chand\n",
      "Rahul Chand age: 21 \n",
      "Rahul Chand\n",
      "R\n",
      "a\n",
      "h\n",
      "u\n",
      "l\n",
      " \n",
      "C\n",
      "h\n",
      "a\n",
      "n\n",
      "d\n",
      "Rahul\n",
      "Rahul Cha\n",
      "dnahC luhaR\n",
      "2\n",
      "RAhul ChAnd\n",
      "Rahul Chand*********\n",
      "****Rahul Chand*****\n",
      "--------------------\n",
      "My name is Rahul and I am 21 years old.\n",
      "a-b-c\n"
     ]
    }
   ],
   "source": [
    "name = \"Rahul Chand\"\n",
    "print(name * 5)\n",
    "print(name + \" age: 21 \") #concatination \n",
    "print(name. strip())\n",
    "for i in name:\n",
    "    print(i)\n",
    "print(name[0:5]) #iterating the string\n",
    "print(name[:9])\n",
    "print(name[::-1]) #reverse a string\n",
    "name[-11:-1]\n",
    "print(name.count('a')) #counting the values in string\n",
    "print(name.replace('a','A')) #replacement in string\n",
    "print(name.ljust(20,\"*\"))\n",
    "print(name.center(20,'*'))\n",
    "\n",
    "print(\"-\"*20)\n",
    "\n",
    "name = \"Rahul\"\n",
    "age = 21\n",
    "print(f\"My name is {name} and I am {age} years old.\")\n",
    "\n",
    "print(\"-\".join([\"a\", \"b\", \"c\"]))  # Output: \"a-b-c\"\n"
   ]
  },
  {
   "cell_type": "markdown",
   "id": "a105a61f",
   "metadata": {},
   "source": [
    "## Condition statement"
   ]
  },
  {
   "cell_type": "markdown",
   "id": "a380ec33",
   "metadata": {},
   "source": [
    "### If statement"
   ]
  },
  {
   "cell_type": "code",
   "execution_count": 77,
   "id": "941ce7cf",
   "metadata": {},
   "outputs": [
    {
     "name": "stdout",
     "output_type": "stream",
     "text": [
      "Enter the number: 20\n",
      "The number is divisible by 5\n",
      "the number is also divisible by 4\n"
     ]
    }
   ],
   "source": [
    "#Nested if statement\n",
    "x = int(input(\"Enter the number: \"))\n",
    "if (x%5 == 0):\n",
    "    print(\"The number is divisible by 5\")\n",
    "    if (x%4 == 0):\n",
    "        print(\"the number is also divisible by 4\")\n",
    "    else:\n",
    "        print(\"number not divisible by 4, but it is by 5\")\n",
    "else:\n",
    "    print(\"Number not divisible by 5\")\n",
    "    "
   ]
  },
  {
   "cell_type": "code",
   "execution_count": 78,
   "id": "ccaa7255",
   "metadata": {},
   "outputs": [
    {
     "name": "stdout",
     "output_type": "stream",
     "text": [
      "15\n",
      "it is divisible by 5 and 3\n"
     ]
    }
   ],
   "source": [
    "x = int(input())\n",
    "if(x%5==0)and (x%3==0):\n",
    "        print(\"it is divisible by 5 and 3\")\n",
    "else:\n",
    "    print(\"not divisible by 5 and 3\")"
   ]
  },
  {
   "cell_type": "code",
   "execution_count": 80,
   "id": "48342961",
   "metadata": {},
   "outputs": [
    {
     "name": "stdout",
     "output_type": "stream",
     "text": [
      "name is long\n",
      "hello\n"
     ]
    }
   ],
   "source": [
    "name = \"Rahul chand\"\n",
    "if len(name) > 7:\n",
    "    print(\"name is long\")\n",
    "    if 'a' in name:  # Check if 'a' exists in the string\n",
    "        print(\"hello\")\n",
    "    else:\n",
    "        print(\"na ji na\")\n",
    "else:\n",
    "    print(\"or kidda pajji\")\n"
   ]
  },
  {
   "cell_type": "markdown",
   "id": "53aa9093",
   "metadata": {},
   "source": [
    "### For statement"
   ]
  },
  {
   "cell_type": "code",
   "execution_count": 1,
   "id": "17b9723c",
   "metadata": {},
   "outputs": [
    {
     "name": "stdout",
     "output_type": "stream",
     "text": [
      "name\n",
      "data\n",
      "identity card\n"
     ]
    }
   ],
   "source": [
    "l = [\"name\", \"data\", \"identity card\"]\n",
    "for i in l:\n",
    "    print(i)"
   ]
  },
  {
   "cell_type": "code",
   "execution_count": 4,
   "id": "d13f826b",
   "metadata": {},
   "outputs": [
    {
     "name": "stdout",
     "output_type": "stream",
     "text": [
      "0 0\n",
      "0 1\n",
      "0 2\n",
      "1 0\n",
      "1 1\n",
      "1 2\n"
     ]
    }
   ],
   "source": [
    "#Nested for loop\n",
    "for i in range(2):\n",
    "    for j in range(3):\n",
    "        print(i,j)"
   ]
  },
  {
   "cell_type": "code",
   "execution_count": 11,
   "id": "8af13e7f",
   "metadata": {},
   "outputs": [
    {
     "name": "stdout",
     "output_type": "stream",
     "text": [
      "1 4\n",
      "2 3\n",
      "3 2\n"
     ]
    }
   ],
   "source": [
    "#how many pairs are there whose sum is 5\n",
    "for i in range(4):\n",
    "    for j in range(5):\n",
    "        z = i +j\n",
    "        if z==5:\n",
    "            print(i,j)"
   ]
  },
  {
   "cell_type": "code",
   "execution_count": null,
   "id": "802576c6",
   "metadata": {},
   "outputs": [],
   "source": [
    "#how many pairs are there whose sum is 5\n",
    "for i in range(4):\n",
    "    for j in range(5):\n",
    "         if(i+j==5):\n",
    "                print(i,j)"
   ]
  },
  {
   "cell_type": "code",
   "execution_count": 12,
   "id": "d8673c45",
   "metadata": {},
   "outputs": [
    {
     "name": "stdout",
     "output_type": "stream",
     "text": [
      "2 6\n",
      "3 5\n",
      "4 4\n",
      "5 3\n",
      "6 2\n",
      "5\n",
      "13.89\n"
     ]
    }
   ],
   "source": [
    "#Probability of getting 8 as the sum of two numbers\n",
    "number = 0\n",
    "for i in range(1,7):\n",
    "    for j in range(1,7):\n",
    "        if(i+j ==8 ):\n",
    "            number = number + 1\n",
    "            print(i,j)\n",
    "print(number)\n",
    "print(round((number/36)*100,2))\n",
    "#here 36 is the total combinations"
   ]
  },
  {
   "cell_type": "code",
   "execution_count": 17,
   "id": "4664f3bc",
   "metadata": {},
   "outputs": [
    {
     "name": "stdout",
     "output_type": "stream",
     "text": [
      "Enter a number: 153\n",
      "153 is an Armstrong number.\n"
     ]
    }
   ],
   "source": [
    "#finding armstrong numnber without using the def function\n",
    "number = input(\"Enter a number: \")  # Take input as a string to iterate over digits\n",
    "ginti = len(number)  # Find the number of digits\n",
    "explanation = sum(int(i) ** ginti for i in number)  \n",
    "\n",
    "if explanation == int(number):\n",
    "    print(f\"{number} is an Armstrong number.\")\n",
    "else:\n",
    "    print(f\"{number} is not an Armstrong number.\")\n"
   ]
  },
  {
   "cell_type": "code",
   "execution_count": 18,
   "id": "9505ddad",
   "metadata": {},
   "outputs": [
    {
     "name": "stdout",
     "output_type": "stream",
     "text": [
      "Enter a number: 153\n",
      "153 is an Armstrong number.\n"
     ]
    }
   ],
   "source": [
    "    def is_armstrong_number(number):\n",
    "        num_str = str(number)\n",
    "        num_digits = len(num_str)\n",
    "        sum_of_digits = sum(int(digit) ** num_digits for digit in num_str)\n",
    "        return sum_of_digits == number\n",
    "\n",
    "    # User input\n",
    "    num = int(input(\"Enter a number: \"))\n",
    "\n",
    "    # Check and display the result\n",
    "    if is_armstrong_number(num):\n",
    "        print(f\"{num} is an Armstrong number.\")\n",
    "    else:\n",
    "        print(f\"{num} is not an Armstrong number.\")"
   ]
  },
  {
   "cell_type": "code",
   "execution_count": 19,
   "id": "c81b23c7",
   "metadata": {},
   "outputs": [
    {
     "name": "stdout",
     "output_type": "stream",
     "text": [
      "2\n",
      "4\n",
      "6\n",
      "8\n",
      "10\n",
      "12\n",
      "14\n",
      "16\n",
      "18\n",
      "20\n"
     ]
    }
   ],
   "source": [
    "#creating a table\n",
    "n =2\n",
    "for i in range(n,n*11,n):\n",
    "    print(i)"
   ]
  },
  {
   "cell_type": "markdown",
   "id": "a9d91968",
   "metadata": {},
   "source": [
    "### While loop"
   ]
  },
  {
   "cell_type": "code",
   "execution_count": 20,
   "id": "0c6004ea",
   "metadata": {},
   "outputs": [
    {
     "name": "stdout",
     "output_type": "stream",
     "text": [
      "(1, 1) (1, 2) (2, 1) (2, 2) (3, 1) (3, 2) "
     ]
    }
   ],
   "source": [
    "outer_counter = 1\n",
    "while outer_counter <= 3:\n",
    "    inner_counter = 1\n",
    "    while inner_counter <= 2:\n",
    "        print(f\"({outer_counter}, {inner_counter})\", end=' ')\n",
    "        inner_counter += 1\n",
    "    outer_counter += 1"
   ]
  },
  {
   "cell_type": "markdown",
   "id": "14c988b0",
   "metadata": {},
   "source": [
    "## Data Structure in python "
   ]
  },
  {
   "cell_type": "markdown",
   "id": "1006c856",
   "metadata": {},
   "source": [
    "### List"
   ]
  },
  {
   "cell_type": "code",
   "execution_count": 1,
   "id": "430cfc71",
   "metadata": {},
   "outputs": [
    {
     "name": "stdout",
     "output_type": "stream",
     "text": [
      "Rohit\n",
      "['Rohit', ' Vivek']\n"
     ]
    }
   ],
   "source": [
    "my_list = ['Rahul','Rohit', ' Vivek']\n",
    "#indexing\n",
    "print(my_list[1])\n",
    "print(my_list[1:3])#Slicing in list\n"
   ]
  },
  {
   "cell_type": "code",
   "execution_count": 3,
   "id": "8faa91d7",
   "metadata": {},
   "outputs": [
    {
     "data": {
      "text/plain": [
       "['Rahul', 'Rohit', ' Vivek', 'Ram', 'Ram']"
      ]
     },
     "execution_count": 3,
     "metadata": {},
     "output_type": "execute_result"
    }
   ],
   "source": [
    "#adding element\n",
    "my_list.append('Ram')\n",
    "my_list\n",
    "#Add a single element to the end of the list"
   ]
  },
  {
   "cell_type": "code",
   "execution_count": 4,
   "id": "1131fc27",
   "metadata": {},
   "outputs": [
    {
     "data": {
      "text/plain": [
       "['Rahul',\n",
       " 'Rohit',\n",
       " ' Vivek',\n",
       " 'Ram',\n",
       " 'Ram',\n",
       " 'raju ka style',\n",
       " 'babu bhaiya ka style']"
      ]
     },
     "execution_count": 4,
     "metadata": {},
     "output_type": "execute_result"
    }
   ],
   "source": [
    "my_list.extend(['raju ka style','babu bhaiya ka style'])\n",
    "my_list"
   ]
  },
  {
   "cell_type": "code",
   "execution_count": 19,
   "id": "bce66cd1",
   "metadata": {},
   "outputs": [
    {
     "name": "stdout",
     "output_type": "stream",
     "text": [
      "['one', ['aee', 'kaam'], 'two', 'three']\n"
     ]
    }
   ],
   "source": [
    "my_list = ['one', 'two', 'three']\n",
    "my_list.insert(1, ['aee', 'kaam'])\n",
    "print(my_list)\n",
    "#insert the element to the specific index"
   ]
  },
  {
   "cell_type": "code",
   "execution_count": 20,
   "id": "7d9da62e",
   "metadata": {},
   "outputs": [
    {
     "data": {
      "text/plain": [
       "['one', 'two', 'three']"
      ]
     },
     "execution_count": 20,
     "metadata": {},
     "output_type": "execute_result"
    }
   ],
   "source": [
    "#Removing element\n",
    "my_list.remove(['aee','kaam'])\n",
    "my_list\n",
    "#Remove the first occurrence of a specific value"
   ]
  },
  {
   "cell_type": "code",
   "execution_count": 21,
   "id": "890d2c6e",
   "metadata": {},
   "outputs": [
    {
     "data": {
      "text/plain": [
       "'one'"
      ]
     },
     "execution_count": 21,
     "metadata": {},
     "output_type": "execute_result"
    }
   ],
   "source": [
    "my_list.pop(0)\n",
    "# Remove and return an element by index (default is the last element)."
   ]
  },
  {
   "cell_type": "code",
   "execution_count": 22,
   "id": "5b0574ec",
   "metadata": {},
   "outputs": [
    {
     "data": {
      "text/plain": [
       "[]"
      ]
     },
     "execution_count": 22,
     "metadata": {},
     "output_type": "execute_result"
    }
   ],
   "source": [
    "my_list.clear()\n",
    "my_list\n",
    "# Remove all elements from the list"
   ]
  },
  {
   "cell_type": "code",
   "execution_count": 26,
   "id": "23cb25da",
   "metadata": {},
   "outputs": [
    {
     "name": "stdout",
     "output_type": "stream",
     "text": [
      "[25, 20, 40, 60]\n"
     ]
    }
   ],
   "source": [
    "#Modifying element\n",
    "my_list = [10,20,40,60]\n",
    "my_list[0] = 25\n",
    "print(my_list)  "
   ]
  },
  {
   "cell_type": "code",
   "execution_count": 27,
   "id": "057d3f42",
   "metadata": {},
   "outputs": [
    {
     "data": {
      "text/plain": [
       "[20, 25, 40, 60]"
      ]
     },
     "execution_count": 27,
     "metadata": {},
     "output_type": "execute_result"
    }
   ],
   "source": [
    "my_list.sort() #Sort the list in ascending order\n",
    "my_list"
   ]
  },
  {
   "cell_type": "code",
   "execution_count": 28,
   "id": "2b3f16f8",
   "metadata": {},
   "outputs": [
    {
     "data": {
      "text/plain": [
       "[60, 40, 25, 20]"
      ]
     },
     "execution_count": 28,
     "metadata": {},
     "output_type": "execute_result"
    }
   ],
   "source": [
    "my_list.sort(reverse = True)\n",
    "my_list"
   ]
  },
  {
   "cell_type": "code",
   "execution_count": 30,
   "id": "41732519",
   "metadata": {},
   "outputs": [
    {
     "data": {
      "text/plain": [
       "[60, 40, 20, 10]"
      ]
     },
     "execution_count": 30,
     "metadata": {},
     "output_type": "execute_result"
    }
   ],
   "source": [
    "my_list = [10,20,40,60]\n",
    "my_list.reverse()\n",
    "my_list"
   ]
  },
  {
   "cell_type": "raw",
   "id": "ac7b3145",
   "metadata": {},
   "source": [
    "Advantages\n",
    "Dynamic Size: Unlike arrays in other languages, lists can grow or shrink dynamically.\n",
    "Versatility: Can store heterogeneous data.\n",
    "Rich Methods: Extensive built-in methods make list manipulation straightforward.\n",
    "Limitations\n",
    "Performance: Accessing elements is fast (O(1)), but operations like inserting/deleting in the middle of a large list can be slow (O(n))."
   ]
  },
  {
   "cell_type": "markdown",
   "id": "37baa15c",
   "metadata": {},
   "source": [
    "## Tuple\n",
    "- A tuple is an immutable, ordered collection of items. Like lists, tuples can store items of different data types, but once created, their contents cannot be modified."
   ]
  },
  {
   "cell_type": "code",
   "execution_count": 34,
   "id": "ce6117b1",
   "metadata": {},
   "outputs": [
    {
     "name": "stdout",
     "output_type": "stream",
     "text": [
      "(20, 30)\n"
     ]
    }
   ],
   "source": [
    "my_tpl = (10,20,30,40)\n",
    "print(my_tpl[1:3])\n"
   ]
  },
  {
   "cell_type": "code",
   "execution_count": 37,
   "id": "f40181a7",
   "metadata": {},
   "outputs": [
    {
     "name": "stdout",
     "output_type": "stream",
     "text": [
      "(10, 20, 30, 40, 50, 60)\n",
      "--------------------------------------------------\n",
      "(10, 20, 30, 40, 10, 20, 30, 40, 10, 20, 30, 40)\n"
     ]
    }
   ],
   "source": [
    "#Concatinating\n",
    "tpl_1 = (10,20,30)\n",
    "tpl_2 = (40,50,60)\n",
    "opt = tpl_1 + tpl_2\n",
    "print(opt)\n",
    "\n",
    "print('-'*50)\n",
    "\n",
    "#Repeat a tuple\n",
    "print(my_tpl *3)"
   ]
  },
  {
   "cell_type": "code",
   "execution_count": 39,
   "id": "982c31e6",
   "metadata": {},
   "outputs": [
    {
     "name": "stdout",
     "output_type": "stream",
     "text": [
      "4\n"
     ]
    }
   ],
   "source": [
    "print(len(my_tpl))"
   ]
  },
  {
   "cell_type": "markdown",
   "id": "1e6ba4d4",
   "metadata": {},
   "source": [
    "### Sets"
   ]
  },
  {
   "cell_type": "code",
   "execution_count": 40,
   "id": "26c63176",
   "metadata": {},
   "outputs": [],
   "source": [
    "# Creating an empty set (use set() instead of {})\n",
    "empty_set = set()"
   ]
  },
  {
   "cell_type": "code",
   "execution_count": 51,
   "id": "5e3ad108",
   "metadata": {},
   "outputs": [
    {
     "data": {
      "text/plain": [
       "{'aj mai upper aashman niche', 'or veere sab vadiya', 'swagat ni kroga hamara'}"
      ]
     },
     "execution_count": 51,
     "metadata": {},
     "output_type": "execute_result"
    }
   ],
   "source": [
    "my_set = {'swagat ni kroga hamara','or veere sab vadiya','aj mai upper aashman niche'}\n",
    "my_set"
   ]
  },
  {
   "cell_type": "code",
   "execution_count": 52,
   "id": "c716b1b8",
   "metadata": {},
   "outputs": [
    {
     "data": {
      "text/plain": [
       "{4,\n",
       " 'aj mai upper aashman niche',\n",
       " 'or veere sab vadiya',\n",
       " 'swagat ni kroga hamara'}"
      ]
     },
     "execution_count": 52,
     "metadata": {},
     "output_type": "execute_result"
    }
   ],
   "source": [
    "#Adding element\n",
    "my_set.add(4)\n",
    "my_set\n",
    "# Adds a single element to the set."
   ]
  },
  {
   "cell_type": "code",
   "execution_count": 53,
   "id": "b9fa0496",
   "metadata": {},
   "outputs": [
    {
     "name": "stdout",
     "output_type": "stream",
     "text": [
      "\n",
      " {'swagat ni kroga hamara', 4, 5, 6, 7, 'aj mai upper aashman niche', 'or veere sab vadiya'}\n"
     ]
    }
   ],
   "source": [
    "# Adds multiple elements from an iterable to the set.\n",
    "my_set.update([5,6,7])\n",
    "print('\\n', my_set)"
   ]
  },
  {
   "cell_type": "code",
   "execution_count": 54,
   "id": "dd6a3937",
   "metadata": {},
   "outputs": [
    {
     "data": {
      "text/plain": [
       "{4,\n",
       " 5,\n",
       " 7,\n",
       " 'aj mai upper aashman niche',\n",
       " 'or veere sab vadiya',\n",
       " 'swagat ni kroga hamara'}"
      ]
     },
     "execution_count": 54,
     "metadata": {},
     "output_type": "execute_result"
    }
   ],
   "source": [
    "#Removing element\n",
    "my_set.remove(6)\n",
    "my_set"
   ]
  },
  {
   "cell_type": "code",
   "execution_count": 55,
   "id": "b8697d5c",
   "metadata": {},
   "outputs": [
    {
     "data": {
      "text/plain": [
       "{4, 5, 7, 'aj mai upper aashman niche', 'or veere sab vadiya'}"
      ]
     },
     "execution_count": 55,
     "metadata": {},
     "output_type": "execute_result"
    }
   ],
   "source": [
    "my_set.pop()\n",
    "my_set"
   ]
  },
  {
   "cell_type": "code",
   "execution_count": 57,
   "id": "05672836",
   "metadata": {},
   "outputs": [
    {
     "data": {
      "text/plain": [
       "{4, 5, 'aj mai upper aashman niche', 'or veere sab vadiya'}"
      ]
     },
     "execution_count": 57,
     "metadata": {},
     "output_type": "execute_result"
    }
   ],
   "source": [
    "# discard(): Removes a specific element without raising an error if the element is not found.\n",
    "my_set.discard(7)\n",
    "my_set"
   ]
  },
  {
   "cell_type": "code",
   "execution_count": 58,
   "id": "52dc7921",
   "metadata": {},
   "outputs": [
    {
     "data": {
      "text/plain": [
       "set()"
      ]
     },
     "execution_count": 58,
     "metadata": {},
     "output_type": "execute_result"
    }
   ],
   "source": [
    "#Clear all element\n",
    "my_set.clear()\n",
    "my_set"
   ]
  },
  {
   "cell_type": "raw",
   "id": "4035f402",
   "metadata": {},
   "source": [
    "Union sign |\n",
    "Intersection sign &\n",
    "difference -\n",
    "symmetric difference ^\n",
    "subset, superset issubset(), issuperset({1,2"
   ]
  },
  {
   "cell_type": "markdown",
   "id": "53362909",
   "metadata": {},
   "source": [
    "### Dictionary"
   ]
  },
  {
   "cell_type": "code",
   "execution_count": 61,
   "id": "292e772d",
   "metadata": {},
   "outputs": [
    {
     "data": {
      "text/plain": [
       "{'reg.no': '12211893', 'pass no': 'India0123', 'cont no': '63953353**'}"
      ]
     },
     "execution_count": 61,
     "metadata": {},
     "output_type": "execute_result"
    }
   ],
   "source": [
    "my_dict = {\n",
    "    'reg.no':'12211893',\n",
    "    'pass no': 'India0123',\n",
    "    'cont no': '63953353**',\n",
    "}\n",
    "\n",
    "#Empty dictionary\n",
    "e_dict = {}\n",
    "my_dict"
   ]
  },
  {
   "cell_type": "raw",
   "id": "964e252e",
   "metadata": {},
   "source": [
    "remove element using\n",
    "pop\n",
    "popitem()\n",
    "del:- remove a key value pair\n",
    "clear()"
   ]
  },
  {
   "cell_type": "markdown",
   "id": "9e21dc29",
   "metadata": {},
   "source": [
    "## Functions in Python"
   ]
  },
  {
   "cell_type": "code",
   "execution_count": 4,
   "id": "5d6c7ab8",
   "metadata": {},
   "outputs": [
    {
     "name": "stdout",
     "output_type": "stream",
     "text": [
      "hello\n"
     ]
    }
   ],
   "source": [
    "def great():\n",
    "    print(\"hello\")\n",
    "great()\n"
   ]
  },
  {
   "cell_type": "code",
   "execution_count": 6,
   "id": "c29e0b94",
   "metadata": {},
   "outputs": [
    {
     "name": "stdout",
     "output_type": "stream",
     "text": [
      "hello rahul\n"
     ]
    }
   ],
   "source": [
    "def great(name):\n",
    "    print(name)\n",
    "name = 'hello rahul'\n",
    "great(name)"
   ]
  },
  {
   "cell_type": "code",
   "execution_count": 17,
   "id": "64e848d8",
   "metadata": {},
   "outputs": [
    {
     "name": "stdout",
     "output_type": "stream",
     "text": [
      "Enter a no: 10\n",
      "10\n"
     ]
    }
   ],
   "source": [
    "var = 10\n",
    "def number():\n",
    "    value= var\n",
    "    print(value)\n",
    "n = int(input(\"Enter a no: \"))\n",
    "number()"
   ]
  },
  {
   "cell_type": "markdown",
   "id": "79c242f4",
   "metadata": {},
   "source": [
    "Parameter = Inside the function\n",
    "Arguments = Value given while calling functions\n",
    "Parameter = Brightness in TV\n",
    "Argumnet = Level of brightness\n",
    "\n",
    "#### % Types of arguments in python\n",
    "- Default argument:- \n",
    "- positional argument\n",
    "- Keyword argument\n",
    "- Arbitary argument"
   ]
  },
  {
   "cell_type": "code",
   "execution_count": 22,
   "id": "310c222c",
   "metadata": {},
   "outputs": [
    {
     "data": {
      "text/plain": [
       "8"
      ]
     },
     "execution_count": 22,
     "metadata": {},
     "output_type": "execute_result"
    }
   ],
   "source": [
    "def power(a,b):\n",
    "    return a**b\n",
    "power(2,3)\n"
   ]
  },
  {
   "cell_type": "code",
   "execution_count": 23,
   "id": "def85d99",
   "metadata": {},
   "outputs": [
    {
     "ename": "TypeError",
     "evalue": "power() missing 1 required positional argument: 'b'",
     "output_type": "error",
     "traceback": [
      "\u001b[1;31m---------------------------------------------------------------------------\u001b[0m",
      "\u001b[1;31mTypeError\u001b[0m                                 Traceback (most recent call last)",
      "Cell \u001b[1;32mIn[23], line 1\u001b[0m\n\u001b[1;32m----> 1\u001b[0m power(\u001b[38;5;241m2\u001b[39m)\n",
      "\u001b[1;31mTypeError\u001b[0m: power() missing 1 required positional argument: 'b'"
     ]
    }
   ],
   "source": [
    "power(2)"
   ]
  },
  {
   "cell_type": "code",
   "execution_count": 24,
   "id": "b64463bd",
   "metadata": {},
   "outputs": [
    {
     "data": {
      "text/plain": [
       "2"
      ]
     },
     "execution_count": 24,
     "metadata": {},
     "output_type": "execute_result"
    }
   ],
   "source": [
    "#default argument\n",
    "def power(a=1,b=1):\n",
    "    return a**b\n",
    "power(2)"
   ]
  },
  {
   "cell_type": "markdown",
   "id": "098586b5",
   "metadata": {},
   "source": [
    "#### positional argument, way we provide the argument"
   ]
  },
  {
   "cell_type": "code",
   "execution_count": 26,
   "id": "8eed844f",
   "metadata": {},
   "outputs": [
    {
     "data": {
      "text/plain": [
       "9"
      ]
     },
     "execution_count": 26,
     "metadata": {},
     "output_type": "execute_result"
    }
   ],
   "source": [
    "#keyword argument\n",
    "def power(a=1,b=1):\n",
    "    return a**b\n",
    "power(b=2, a=3)\n",
    "#keyword argument > positional argument"
   ]
  },
  {
   "cell_type": "code",
   "execution_count": 32,
   "id": "530a0a86",
   "metadata": {},
   "outputs": [
    {
     "name": "stdout",
     "output_type": "stream",
     "text": [
      "(1, 2)\n",
      "2\n"
     ]
    }
   ],
   "source": [
    "def flexi(*number):\n",
    "    product = 1\n",
    "    print(number)\n",
    "    for i in number:\n",
    "        product = product * i\n",
    "    print(product)\n",
    "flexi(1,2)"
   ]
  },
  {
   "cell_type": "code",
   "execution_count": 30,
   "id": "f1db71c8",
   "metadata": {},
   "outputs": [
    {
     "name": "stdout",
     "output_type": "stream",
     "text": [
      "Numbers: (1, 2, 3, 4)\n",
      "Product: 24\n"
     ]
    }
   ],
   "source": [
    "def flexi(*number):\n",
    "    product = 1\n",
    "    print(\"Numbers:\", number)  # Print the tuple of numbers passed\n",
    "    for i in number:\n",
    "        product = product * i  # Multiply each number with the product\n",
    "    print(\"Product:\", product)\n",
    "\n",
    "# Example usage\n",
    "flexi(1, 2, 3, 4)  # Output: Numbers: (1, 2, 3, 4) and Product: 24\n"
   ]
  },
  {
   "cell_type": "markdown",
   "id": "083d4fab",
   "metadata": {},
   "source": [
    "### Global and local variable"
   ]
  },
  {
   "cell_type": "code",
   "execution_count": 35,
   "id": "d3ffe856",
   "metadata": {},
   "outputs": [
    {
     "name": "stdout",
     "output_type": "stream",
     "text": [
      "inside function a\n",
      "None\n",
      "inside function b\n",
      "7\n"
     ]
    }
   ],
   "source": [
    "def func_a():\n",
    "    print(\"inside function a\")\n",
    "def func_b(y):\n",
    "    print('inside function b')\n",
    "    return y\n",
    "print(func_a())\n",
    "print(5+func_b(2))"
   ]
  },
  {
   "cell_type": "code",
   "execution_count": 36,
   "id": "42512b67",
   "metadata": {},
   "outputs": [
    {
     "name": "stdout",
     "output_type": "stream",
     "text": [
      "2\n",
      "5\n"
     ]
    }
   ],
   "source": [
    "def f(y):\n",
    "    x = 1\n",
    "    x +=1\n",
    "    print(x)\n",
    "x = 5\n",
    "f(x)\n",
    "print(x)"
   ]
  },
  {
   "cell_type": "code",
   "execution_count": 39,
   "id": "e213527f",
   "metadata": {},
   "outputs": [
    {
     "name": "stdout",
     "output_type": "stream",
     "text": [
      "5\n",
      "6\n",
      "5\n"
     ]
    }
   ],
   "source": [
    "def g(y):\n",
    "    print(x)\n",
    "    print(x+1)\n",
    "x = 5\n",
    "g(x)\n",
    "print(x)"
   ]
  },
  {
   "cell_type": "code",
   "execution_count": 41,
   "id": "38d3f7dd",
   "metadata": {},
   "outputs": [
    {
     "ename": "UnboundLocalError",
     "evalue": "cannot access local variable 'x' where it is not associated with a value",
     "output_type": "error",
     "traceback": [
      "\u001b[1;31m---------------------------------------------------------------------------\u001b[0m",
      "\u001b[1;31mUnboundLocalError\u001b[0m                         Traceback (most recent call last)",
      "Cell \u001b[1;32mIn[41], line 5\u001b[0m\n\u001b[0;32m      3\u001b[0m     \u001b[38;5;28mprint\u001b[39m(x)\n\u001b[0;32m      4\u001b[0m x \u001b[38;5;241m=\u001b[39m \u001b[38;5;241m5\u001b[39m\n\u001b[1;32m----> 5\u001b[0m h(x)\n\u001b[0;32m      6\u001b[0m \u001b[38;5;28mprint\u001b[39m(x)\n",
      "Cell \u001b[1;32mIn[41], line 2\u001b[0m, in \u001b[0;36mh\u001b[1;34m(y)\u001b[0m\n\u001b[0;32m      1\u001b[0m \u001b[38;5;28;01mdef\u001b[39;00m \u001b[38;5;21mh\u001b[39m(y):\n\u001b[1;32m----> 2\u001b[0m     x\u001b[38;5;241m+\u001b[39m\u001b[38;5;241m=\u001b[39m\u001b[38;5;241m1\u001b[39m\n\u001b[0;32m      3\u001b[0m     \u001b[38;5;28mprint\u001b[39m(x)\n",
      "\u001b[1;31mUnboundLocalError\u001b[0m: cannot access local variable 'x' where it is not associated with a value"
     ]
    }
   ],
   "source": [
    "def h(y):\n",
    "    x+=1\n",
    "x = 5\n",
    "h(x)\n",
    "print(x)\n",
    "#Cannot do changes in global variable inside the local variable, we can only use global canot change them"
   ]
  },
  {
   "cell_type": "code",
   "execution_count": 42,
   "id": "c1da532a",
   "metadata": {},
   "outputs": [
    {
     "name": "stdout",
     "output_type": "stream",
     "text": [
      "6\n"
     ]
    }
   ],
   "source": [
    "#use 'global' to do the changes in global variable\n",
    "def h(y):\n",
    "    global x\n",
    "    x+=1\n",
    "x = 5\n",
    "h(x)\n",
    "print(x)\n"
   ]
  },
  {
   "cell_type": "code",
   "execution_count": 46,
   "id": "b6c80889",
   "metadata": {},
   "outputs": [
    {
     "name": "stdout",
     "output_type": "stream",
     "text": [
      "6\n"
     ]
    }
   ],
   "source": [
    "def g(x):\n",
    "    def h():\n",
    "        x ='aba'\n",
    "    x+=1\n",
    "    print(x)\n",
    "    h()\n",
    "    return x\n",
    "        \n",
    "        \n",
    "        \n",
    "x =5\n",
    "z = g(x)"
   ]
  },
  {
   "cell_type": "code",
   "execution_count": 47,
   "id": "cbd71c32",
   "metadata": {},
   "outputs": [
    {
     "name": "stdout",
     "output_type": "stream",
     "text": [
      "6\n",
      "aba\n",
      "6\n"
     ]
    }
   ],
   "source": [
    "def g(x):\n",
    "    def h():\n",
    "        x ='aba'\n",
    "        print(x)\n",
    "    x+=1\n",
    "    print(x)\n",
    "    h()\n",
    "    print(x)\n",
    "        \n",
    "        \n",
    "        \n",
    "x =5\n",
    "z = g(x)"
   ]
  },
  {
   "cell_type": "code",
   "execution_count": 49,
   "id": "3fe74507",
   "metadata": {},
   "outputs": [
    {
     "name": "stdout",
     "output_type": "stream",
     "text": [
      "value hagi z de\n",
      "value hagi a de\n",
      "None\n"
     ]
    }
   ],
   "source": [
    "def func_a():\n",
    "    print(\"value hagi a de\")\n",
    "    \n",
    "def func_b(z):\n",
    "    print(\"value hagi z de\")\n",
    "    return z()\n",
    "    \n",
    "    \n",
    "print(func_b(func_a))\n",
    "#pehle def func_a\n",
    "#2 def func_b\n",
    "# return to b but z is assigned to a"
   ]
  },
  {
   "cell_type": "code",
   "execution_count": 54,
   "id": "074fe264",
   "metadata": {},
   "outputs": [
    {
     "name": "stdout",
     "output_type": "stream",
     "text": [
      "7\n"
     ]
    }
   ],
   "source": [
    "def f():\n",
    "    def g(a,b):\n",
    "        return a+b\n",
    "    return g\n",
    "        \n",
    "        \n",
    "val = f()(3,4)\n",
    "print(val)"
   ]
  },
  {
   "cell_type": "markdown",
   "id": "73695c1d",
   "metadata": {},
   "source": [
    "## Recursion"
   ]
  },
  {
   "cell_type": "code",
   "execution_count": 59,
   "id": "f4d9ad2a",
   "metadata": {},
   "outputs": [
    {
     "name": "stdout",
     "output_type": "stream",
     "text": [
      "12\n"
     ]
    },
    {
     "data": {
      "text/plain": [
       "'def multiply(a,b):\\n    result = 0\\n    for i in range(1,b):\\n        result+=a\\n    print(result)\\nmultiply(3,4)'"
      ]
     },
     "execution_count": 59,
     "metadata": {},
     "output_type": "execute_result"
    }
   ],
   "source": [
    "def multiply(a,b):\n",
    "    result = 0\n",
    "    for i in range(b):\n",
    "        result+=a\n",
    "    print(result)\n",
    "multiply(3,4)\n",
    "#loop goes from 0-4 means 4 times\n",
    "\n",
    "\n",
    "'''def multiply(a,b):\n",
    "    result = 0\n",
    "    for i in range(1,b):\n",
    "        result+=a\n",
    "    print(result)\n",
    "multiply(3,4)'''\n",
    "#loop will now go bron 1-4 only, means 3 times only"
   ]
  },
  {
   "cell_type": "code",
   "execution_count": 60,
   "id": "000debfd",
   "metadata": {},
   "outputs": [
    {
     "name": "stdout",
     "output_type": "stream",
     "text": [
      "12\n"
     ]
    }
   ],
   "source": [
    "#using recursion here\n",
    "def mul(a,b):\n",
    "    if (b==1):\n",
    "        return a\n",
    "    else:\n",
    "        return a+mul(a,b-1)\n",
    "print(mul(3,4))"
   ]
  },
  {
   "cell_type": "code",
   "execution_count": 67,
   "id": "08838180",
   "metadata": {},
   "outputs": [
    {
     "name": "stdout",
     "output_type": "stream",
     "text": [
      "120\n"
     ]
    }
   ],
   "source": [
    "def fact(number):\n",
    "    if(number==1):\n",
    "        return 1\n",
    "    else:\n",
    "       return number * fact(number-1)\n",
    "print(fact(5))"
   ]
  },
  {
   "cell_type": "code",
   "execution_count": 69,
   "id": "e4185c42",
   "metadata": {},
   "outputs": [
    {
     "name": "stdout",
     "output_type": "stream",
     "text": [
      "Enter a string: abcba\n",
      "'abcba' is a palindrome!\n"
     ]
    }
   ],
   "source": [
    "'''Palindrome problem'''\n",
    "def is_palindrome(str):\n",
    "    str = \"\".join(char.lower() for char in str if char.isalnum() )\n",
    "    \n",
    "    if len(str)<=1:\n",
    "        return 1\n",
    "    if str[0]==str[-1]:\n",
    "        return is_palindrome(str[1:-1])\n",
    "    else:\n",
    "        return False\n",
    "\n",
    "user_input = input(\"Enter a string: \")\n",
    "\n",
    "# Check and display the result\n",
    "if is_palindrome(user_input):\n",
    "    print(f\"'{user_input}' is a palindrome!\")\n",
    "else:\n",
    "    print(f\"'{user_input}' is not a palindrome.\")"
   ]
  },
  {
   "cell_type": "code",
   "execution_count": 76,
   "id": "eb315ccc",
   "metadata": {},
   "outputs": [
    {
     "name": "stdout",
     "output_type": "stream",
     "text": [
      " it is a palindrome\n"
     ]
    }
   ],
   "source": [
    "'''Palindrome problem '''\n",
    "def is_palin(str):\n",
    "    if len(str)==1:\n",
    "        print(\" it is a palindrome\")\n",
    "    else:\n",
    "        if(str[0]==str[-1]):\n",
    "            is_palin(str[1:-1])\n",
    "        else:\n",
    "            print(\"not a palin\")\n",
    "is_palin(\"abdba\")\n",
    "is_palin('abba')\n",
    "    "
   ]
  },
  {
   "cell_type": "code",
   "execution_count": 79,
   "id": "7ab95f1b",
   "metadata": {},
   "outputs": [
    {
     "name": "stdout",
     "output_type": "stream",
     "text": [
      "233\n"
     ]
    }
   ],
   "source": [
    "#rabbit problem\n",
    "'''If 2 newborn rabbits are put in a pen, how many rabbits will be in the pen after 1 year'''\n",
    "'''ASSUME\n",
    "- always produce one male and one female offspring\n",
    "- can reproduce once every year\n",
    "- can reproduce once they are one month old\n",
    "- never die'''\n",
    "# We will use fibonacci here\n",
    "def fib(month):\n",
    "    if month == 0 or month == 1:\n",
    "        return 1\n",
    "    else:\n",
    "        return fib(month - 1)+ fib(month - 2)\n",
    "print(fib(12))"
   ]
  },
  {
   "cell_type": "code",
   "execution_count": 4,
   "id": "11debf5a",
   "metadata": {},
   "outputs": [
    {
     "name": "stdout",
     "output_type": "stream",
     "text": [
      "225591516161936330872512695036072072046011324913758190588638866418474627738686883405015987052796968498626\n",
      "0.0009980201721191406\n"
     ]
    }
   ],
   "source": [
    "#solving using DP\n",
    "import time\n",
    "def memo(m,d):\n",
    "    if m in d:\n",
    "        return d[m]\n",
    "    else:\n",
    "        d[m] = memo(m-1,d)+ memo(m-2,d)\n",
    "        return d[m]\n",
    "d = {0:1,1:1}\n",
    "start = time.time()\n",
    "print(memo(500,d))\n",
    "print(time.time() - start)"
   ]
  },
  {
   "cell_type": "markdown",
   "id": "c833652c",
   "metadata": {},
   "source": [
    "#### Power set problem"
   ]
  },
  {
   "cell_type": "code",
   "execution_count": 5,
   "id": "2e1d2a2d",
   "metadata": {},
   "outputs": [
    {
     "name": "stdout",
     "output_type": "stream",
     "text": [
      "[]\n",
      "[3]\n",
      "[2]\n",
      "[3, 2]\n",
      "[1]\n",
      "[3, 1]\n",
      "[2, 1]\n",
      "[3, 2, 1]\n"
     ]
    }
   ],
   "source": [
    "def power_set_recursive(input_set):\n",
    "    # Base case: if the set is empty, return a set with only the empty set\n",
    "    if not input_set:\n",
    "        return [[]]\n",
    "    \n",
    "    # Recursive case: exclude the first element, and include the first element\n",
    "    first_element = input_set[0]\n",
    "    rest_of_set = input_set[1:]\n",
    "    \n",
    "    # Get the power set of the rest of the set\n",
    "    subsets_without_first = power_set_recursive(rest_of_set)\n",
    "    \n",
    "    # Include the first element in each subset of the power set\n",
    "    subsets_with_first = [subset + [first_element] for subset in subsets_without_first]\n",
    "    \n",
    "    # Combine the subsets with and without the first element\n",
    "    return subsets_without_first + subsets_with_first\n",
    "\n",
    "# Example usage:\n",
    "input_set = [1, 2, 3]\n",
    "result = power_set_recursive(input_set)\n",
    "\n",
    "# Print the power set\n",
    "for subset in result:\n",
    "    print(subset)\n"
   ]
  },
  {
   "cell_type": "code",
   "execution_count": 6,
   "id": "c1071eaf",
   "metadata": {},
   "outputs": [
    {
     "name": "stdout",
     "output_type": "stream",
     "text": [
      "()\n",
      "(1,)\n",
      "(2,)\n",
      "(3,)\n",
      "(1, 2)\n",
      "(1, 3)\n",
      "(2, 3)\n",
      "(1, 2, 3)\n"
     ]
    }
   ],
   "source": [
    "from itertools import chain, combinations\n",
    "\n",
    "def power_set(input_set):\n",
    "    return list(chain.from_iterable(combinations(input_set, r) for r in range(len(input_set)+1)))\n",
    "\n",
    "# Example usage:\n",
    "input_set = [1, 2, 3]\n",
    "result = power_set(input_set)\n",
    "\n",
    "# Print the power set\n",
    "for subset in result:\n",
    "    print(subset)\n"
   ]
  },
  {
   "cell_type": "markdown",
   "id": "7b7c9088",
   "metadata": {},
   "source": [
    "### lambda functions\n",
    "- Anonymous function\n",
    "- Lambda return the whole function\n",
    "- not used for code re-usability\n",
    "- lambda function has no name"
   ]
  },
  {
   "cell_type": "code",
   "execution_count": 9,
   "id": "37bcc860",
   "metadata": {},
   "outputs": [
    {
     "data": {
      "text/plain": [
       "81"
      ]
     },
     "execution_count": 9,
     "metadata": {},
     "output_type": "execute_result"
    }
   ],
   "source": [
    "#lambda input : expression\n",
    "x = lambda x : x**2\n",
    "x(9)"
   ]
  },
  {
   "cell_type": "code",
   "execution_count": 10,
   "id": "81f6a6e0",
   "metadata": {},
   "outputs": [
    {
     "data": {
      "text/plain": [
       "9"
      ]
     },
     "execution_count": 10,
     "metadata": {},
     "output_type": "execute_result"
    }
   ],
   "source": [
    "a = lambda x,y : x+y\n",
    "a(4,5)"
   ]
  },
  {
   "cell_type": "code",
   "execution_count": 12,
   "id": "acac51a7",
   "metadata": {},
   "outputs": [
    {
     "data": {
      "text/plain": [
       "True"
      ]
     },
     "execution_count": 12,
     "metadata": {},
     "output_type": "execute_result"
    }
   ],
   "source": [
    "# Why use lambda\n",
    "'''Along with higher order functions'''\n",
    "b = lambda x:x[0] == 'a'\n",
    "b('apple')"
   ]
  },
  {
   "cell_type": "code",
   "execution_count": 18,
   "id": "70b908a2",
   "metadata": {},
   "outputs": [
    {
     "name": "stdout",
     "output_type": "stream",
     "text": [
      "242\n",
      "783\n",
      "192\n"
     ]
    }
   ],
   "source": [
    "#HOF higher order function\n",
    "def return_sum(fun, L):\n",
    "    result = 0\n",
    "    for i in L:\n",
    "        if fun(i):\n",
    "            result +=i\n",
    "    return result\n",
    "\n",
    "L = [10,13,25,15,26,78,99,128,631]\n",
    "x = lambda x: x%2==0\n",
    "y = lambda y: y%2!=0\n",
    "z = lambda z: z%3==0\n",
    "\n",
    "print(return_sum(x,L))\n",
    "print(return_sum(y,L))\n",
    "print(return_sum(z,L))"
   ]
  },
  {
   "cell_type": "markdown",
   "id": "f59f0cf6",
   "metadata": {},
   "source": [
    "### Map"
   ]
  },
  {
   "cell_type": "code",
   "execution_count": 22,
   "id": "6cb4d3c7",
   "metadata": {},
   "outputs": [
    {
     "data": {
      "text/plain": [
       "[24, 28, 132, 86, 182]"
      ]
     },
     "execution_count": 22,
     "metadata": {},
     "output_type": "execute_result"
    }
   ],
   "source": [
    "L = [12,14,66,43,91]\n",
    "map(lambda x : x*2 , L)\n",
    "# x represents each individual element of the list during each iteration.\n",
    "list(map(lambda x:x*2,L))"
   ]
  },
  {
   "cell_type": "code",
   "execution_count": 28,
   "id": "4c7b010f",
   "metadata": {},
   "outputs": [
    {
     "data": {
      "text/plain": [
       "['Jacob Martin', 'Angela Stevens', 'Ricky Smart']"
      ]
     },
     "execution_count": 28,
     "metadata": {},
     "output_type": "execute_result"
    }
   ],
   "source": [
    "students = [\n",
    "{\n",
    "\"name\": \"Jacob Martin\",\n",
    "\"father name\": \"Ros Martin\",\n",
    "\"Address\": \"123 Hill Street\",\n",
    "}, {\n",
    "\"name\": \"Angela Stevens\",\n",
    "\"father name\" : \"Robert Stevens\",\n",
    "\"Address\": \"3 Upper Street London\",\n",
    "}, {\n",
    "\"name\": \"Ricky Smart\",\n",
    "\"father name\" : \"William Smart\",\n",
    "\"Address\": \"Unknown\",\n",
    "}\n",
    "]\n",
    "list(map(lambda student : student['name'], students))"
   ]
  },
  {
   "cell_type": "markdown",
   "id": "c8d29816",
   "metadata": {},
   "source": [
    "### Zip"
   ]
  },
  {
   "cell_type": "code",
   "execution_count": 21,
   "id": "dd0bfd62",
   "metadata": {},
   "outputs": [
    {
     "name": "stdout",
     "output_type": "stream",
     "text": [
      "[(10, 'haan ji'), (23, 'suno ji'), (55, 'chak le'), (93, 'fateh singh')]\n"
     ]
    }
   ],
   "source": [
    "lst_1 = [10,23,55,93]\n",
    "lst_2 = ['haan ji', 'suno ji', 'chak le', 'fateh singh']\n",
    "print(list(zip(lst_1,lst_2)))"
   ]
  },
  {
   "cell_type": "markdown",
   "id": "e13a75d0",
   "metadata": {},
   "source": [
    "### Filter\n",
    "- condition is applied and works accordingly"
   ]
  },
  {
   "cell_type": "code",
   "execution_count": 29,
   "id": "455ff586",
   "metadata": {},
   "outputs": [
    {
     "data": {
      "text/plain": [
       "[12, 14, 43]"
      ]
     },
     "execution_count": 29,
     "metadata": {},
     "output_type": "execute_result"
    }
   ],
   "source": [
    "L = [12,14,66,43,91]\n",
    "list(filter(lambda x: x<50, L))"
   ]
  },
  {
   "cell_type": "code",
   "execution_count": 31,
   "id": "2ff41a65",
   "metadata": {},
   "outputs": [
    {
     "data": {
      "text/plain": [
       "['Apple']"
      ]
     },
     "execution_count": 31,
     "metadata": {},
     "output_type": "execute_result"
    }
   ],
   "source": [
    "fruits = ['Apple', 'Guava', 'Mango', 'Banana']\n",
    "list(filter(lambda fruit : 'e' in fruit, fruits))"
   ]
  },
  {
   "cell_type": "markdown",
   "id": "a94e518a",
   "metadata": {},
   "source": [
    "### Reduce tools using functools"
   ]
  },
  {
   "cell_type": "code",
   "execution_count": 33,
   "id": "d0214518",
   "metadata": {},
   "outputs": [
    {
     "data": {
      "text/plain": [
       "226"
      ]
     },
     "execution_count": 33,
     "metadata": {},
     "output_type": "execute_result"
    }
   ],
   "source": [
    "import functools\n",
    "L = [12,14,66,43,91]\n",
    "functools.reduce(lambda x,y: x+y, L)\n",
    "# it reduces the list size by taking two values at first, them taking third value with combination of 2"
   ]
  },
  {
   "cell_type": "code",
   "execution_count": 35,
   "id": "dd6f6c83",
   "metadata": {},
   "outputs": [
    {
     "data": {
      "text/plain": [
       "58"
      ]
     },
     "execution_count": 35,
     "metadata": {},
     "output_type": "execute_result"
    }
   ],
   "source": [
    "L = [12,34, 56,11,21,58]\n",
    "functools.reduce(lambda x,y: x if x>y else y , L)"
   ]
  },
  {
   "cell_type": "markdown",
   "id": "7e18b610",
   "metadata": {},
   "source": [
    "# OOP's in Python"
   ]
  },
  {
   "cell_type": "code",
   "execution_count": 1,
   "id": "d365157b",
   "metadata": {},
   "outputs": [],
   "source": [
    "#Class is an blueprint of how the function will behave.\n",
    "#object is the instance of a class\n",
    "'''Functions vs Method\n",
    "Methods are the special function which are called inside rthe class ex:- L.append(1) append function is discribed under list class'''\n",
    "class Atm:\n",
    "    def __init__(self):\n",
    "        self.pin = \"\"\n",
    "        self.balance = 0\n",
    "        \n",
    "        self.menu()\n",
    "    def menu(self):\n",
    "        user_input = input('''Or sodiyo kidda?\n",
    "                     1. Enter 1 to create pin\n",
    "                     2. Enter 2 to deposit\n",
    "                     3. Enter 3 to withdraw\n",
    "                     4. Enter 4 to check balance\n",
    "                     5. Enter 5 to exit\n",
    "                     'Enter the number of your choice: ''')\n",
    "        if user_input =='1':\n",
    "            self.create_pin()\n",
    "        elif user_input == '2':\n",
    "            self.deposit()\n",
    "        elif user_input == '3':\n",
    "            self.withdraw()\n",
    "        elif user_input == '4':\n",
    "            self.check_balance()\n",
    "        else:\n",
    "            print('Nikal Bsdi')\n",
    "    def create_pin(self):\n",
    "        self.pin = input(\"Enter your pin: \")\n",
    "        print(\"Pin set successfully\")\n",
    "        \n",
    "    def deposit(self):\n",
    "        temp = input(\"Enter your pin\")\n",
    "        if temp == self.pin:\n",
    "            amount = int(input(\"Enter the amount: \"))\n",
    "            self.balance = self.balance + amount\n",
    "            print(\"deposit successfully\")\n",
    "        else:\n",
    "            print(\"nikal bsdk\")\n",
    "    \n",
    "    def withdraw(self):\n",
    "        self.withdraw = \"Enter the amount to withdarw\"\n",
    "        temp = input(\"enter the pin\")\n",
    "        if (temp == self.pin):\n",
    "            amount = int(input(\"Enter the amount of withdrawl\"))\n",
    "            if amount < self.balance:\n",
    "                self.balance = self.balance - amount\n",
    "                print(\"Nigal gye paise garib\")\n",
    "            else:\n",
    "                print(\"awakat ke jade ke paise ni milte\")\n",
    "        else:\n",
    "            print(\"galat pin ha MC\")\n",
    "        \n",
    "    def check_balance(self):\n",
    "        temp = input(\"Enter the pin\")\n",
    "        if temp == self.pin:\n",
    "            print(\"Account balance is: \", self.balance)\n",
    "        else:\n",
    "            print(\"galat pin ha MC\")\n"
   ]
  },
  {
   "cell_type": "code",
   "execution_count": 2,
   "id": "e6b2b608",
   "metadata": {},
   "outputs": [
    {
     "name": "stdout",
     "output_type": "stream",
     "text": [
      "Or sodiyo kidda?\n",
      "                     1. Enter 1 to create pin\n",
      "                     2. Enter 2 to deposit\n",
      "                     3. Enter 3 to withdraw\n",
      "                     4. Enter 4 to check balance\n",
      "                     5. Enter 5 to exit\n",
      "                     'Enter the number of your choice: 1\n",
      "Enter your pin: 123\n",
      "Pin set successfully\n"
     ]
    }
   ],
   "source": [
    "sbi = Atm()"
   ]
  },
  {
   "cell_type": "code",
   "execution_count": 3,
   "id": "5d31d246",
   "metadata": {},
   "outputs": [
    {
     "name": "stdout",
     "output_type": "stream",
     "text": [
      "Enter your pin123\n",
      "Enter the amount: 696969\n",
      "deposit successfully\n"
     ]
    }
   ],
   "source": [
    "sbi.deposit()"
   ]
  },
  {
   "cell_type": "code",
   "execution_count": 4,
   "id": "b5228a41",
   "metadata": {},
   "outputs": [
    {
     "name": "stdout",
     "output_type": "stream",
     "text": [
      "enter the pin123\n",
      "Enter the amount of withdrawl1000\n",
      "Nigal gye paise garib\n"
     ]
    }
   ],
   "source": [
    "sbi.withdraw()"
   ]
  },
  {
   "cell_type": "code",
   "execution_count": 5,
   "id": "b2718658",
   "metadata": {},
   "outputs": [
    {
     "name": "stdout",
     "output_type": "stream",
     "text": [
      "Enter the pin123\n",
      "Account balance is:  695969\n"
     ]
    }
   ],
   "source": [
    "sbi.check_balance()"
   ]
  },
  {
   "cell_type": "markdown",
   "id": "26fbdb0d",
   "metadata": {},
   "source": [
    "- Magic methods are already defined in the python, you cannot make them."
   ]
  },
  {
   "cell_type": "markdown",
   "id": "1a1c5b5a",
   "metadata": {},
   "source": [
    "### Creating our own data types"
   ]
  },
  {
   "cell_type": "code",
   "execution_count": 7,
   "id": "01d7d180",
   "metadata": {},
   "outputs": [
    {
     "name": "stdout",
     "output_type": "stream",
     "text": [
      "<class '__main__.Fraction'>\n",
      "4/5\n"
     ]
    }
   ],
   "source": [
    "class Fraction:\n",
    "    def __init__(self, n, d):\n",
    "        self.num = n\n",
    "        self.den = d\n",
    "\n",
    "    def __str__(self):\n",
    "        return f\"{self.num}/{self.den}\"  \n",
    "\n",
    "x = Fraction(4, 5)\n",
    "print(type(x))\n",
    "print(x)       \n"
   ]
  },
  {
   "cell_type": "markdown",
   "id": "e4217c6c",
   "metadata": {},
   "source": [
    "### Pass by reference"
   ]
  },
  {
   "cell_type": "code",
   "execution_count": 4,
   "id": "f92a781d",
   "metadata": {},
   "outputs": [
    {
     "name": "stdout",
     "output_type": "stream",
     "text": [
      "Rahul\n"
     ]
    }
   ],
   "source": [
    "class Customer():\n",
    "    def __init__(self,name):\n",
    "        self.name = name\n",
    "cust = Customer('Rahul')\n",
    "print(cust.name)"
   ]
  },
  {
   "cell_type": "code",
   "execution_count": 14,
   "id": "ed0ff8ab",
   "metadata": {},
   "outputs": [
    {
     "name": "stdout",
     "output_type": "stream",
     "text": [
      "Hello Anshu maam\n",
      "Rahul\n"
     ]
    }
   ],
   "source": [
    "class Customer():\n",
    "    def __init__(self,name, gender):\n",
    "        self.name = name\n",
    "        self.gender = gender\n",
    "def greet(customer):\n",
    "    if customer.gender == 'Male':\n",
    "        print(\"Hello\", customer.name, \"sir\")\n",
    "    else:\n",
    "        print(\"Hello\", customer.name, 'maam')\n",
    "    cust2 = Customer('Rahul', 'Male')\n",
    "    return cust2\n",
    "cust = Customer('Anshu', 'Female')\n",
    "\n",
    "new_cust = greet(cust)\n",
    "print(new_cust.name)\n",
    "#print(new_cust.name, new_cust.gender)   '''For getting both name and gender of other customer'''"
   ]
  },
  {
   "cell_type": "code",
   "execution_count": 27,
   "id": "550ee6c7",
   "metadata": {},
   "outputs": [
    {
     "name": "stdout",
     "output_type": "stream",
     "text": [
      "Rahul 21\n",
      "Rohit 20\n",
      "Ajju 19\n"
     ]
    }
   ],
   "source": [
    "class bandu():\n",
    "    def __init__(self,name,age):\n",
    "        self.name = name\n",
    "        self.age = age\n",
    "B1 = bandu(\"Rahul\", 21)\n",
    "B2 = bandu(\"Rohit\", 20)\n",
    "B3 = bandu(\"Ajju\",19 )\n",
    "\n",
    "\n",
    "L = [B1, B2, B3]\n",
    "for i in L:\n",
    "    print(i.name, i.age)"
   ]
  },
  {
   "cell_type": "code",
   "execution_count": 26,
   "id": "59e3ef59",
   "metadata": {},
   "outputs": [
    {
     "name": "stdout",
     "output_type": "stream",
     "text": [
      "Hello i am Rahul my age is 21\n",
      "Hello i am Rohit my age is 20\n",
      "Hello i am Ajju my age is 19\n"
     ]
    }
   ],
   "source": [
    "class bandu():\n",
    "    def __init__(self,name,age):\n",
    "        self.name = name\n",
    "        self.age = age\n",
    "    \n",
    "    def greet(self):\n",
    "        print(\"Hello i am\", self.name, \"my age is\", self.age)\n",
    "B1 = bandu(\"Rahul\", 21)\n",
    "B2 = bandu(\"Rohit\", 20)\n",
    "B3 = bandu(\"Ajju\",19 )\n",
    "\n",
    "\n",
    "L = [B1, B2, B3]\n",
    "for i in L:\n",
    "    i.greet()"
   ]
  },
  {
   "cell_type": "code",
   "execution_count": 33,
   "id": "2608b35c",
   "metadata": {},
   "outputs": [
    {
     "name": "stdout",
     "output_type": "stream",
     "text": [
      "ATM instance created with ID: 2437717521232\n",
      "Welcome to the ATM!\n",
      "1. Create PIN\n",
      "2. Deposit Money\n",
      "3. Withdraw Money\n",
      "4. Check Balance\n",
      "5. Exit\n",
      "Enter the number of your choice: 1\n",
      "Set your PIN: 123\n",
      "PIN set successfully!\n"
     ]
    }
   ],
   "source": [
    "class Atm:\n",
    "    # Static/Class variable\n",
    "    counter = 1\n",
    "\n",
    "    def __init__(self):\n",
    "        # Instance variables\n",
    "        self.pin = None\n",
    "        self.balance = 0\n",
    "        self.sno = Atm.counter\n",
    "        Atm.counter += 1\n",
    "        print(\"ATM instance created with ID:\", id(self))\n",
    "        self.menu()\n",
    "\n",
    "    def menu(self):\n",
    "        user_input = input('''Welcome to the ATM!\n",
    "1. Create PIN\n",
    "2. Deposit Money\n",
    "3. Withdraw Money\n",
    "4. Check Balance\n",
    "5. Exit\n",
    "Enter the number of your choice: ''')\n",
    "        if user_input == '1':\n",
    "            self.create_pin()\n",
    "        elif user_input == '2':\n",
    "            self.deposit()\n",
    "        elif user_input == '3':\n",
    "            self.withdraw()\n",
    "        elif user_input == '4':\n",
    "            self.check_balance()\n",
    "        elif user_input == '5':\n",
    "            print(\"Goodbye!\")\n",
    "        else:\n",
    "            print(\"Invalid choice, please try again.\")\n",
    "            self.menu()\n",
    "\n",
    "    def create_pin(self):\n",
    "        self.pin = input(\"Set your PIN: \")\n",
    "        print(\"PIN set successfully!\")\n",
    "\n",
    "    def deposit(self):\n",
    "        if self.pin is None:\n",
    "            print(\"Please set a PIN first.\")\n",
    "            return\n",
    "        temp = input(\"Enter your PIN: \")\n",
    "        if temp == self.pin:\n",
    "            amount = int(input(\"Enter the amount to deposit: \"))\n",
    "            self.balance += amount\n",
    "            print(\"Deposit successful!\")\n",
    "        else:\n",
    "            print(\"Incorrect PIN. Transaction canceled.\")\n",
    "\n",
    "    def withdraw(self):\n",
    "        if self.pin is None:\n",
    "            print(\"Please set a PIN first.\")\n",
    "            return\n",
    "        temp = input(\"Enter your PIN: \")\n",
    "        if temp == self.pin:\n",
    "            amount = int(input(\"Enter the amount to withdraw: \"))\n",
    "            if amount <= self.balance:\n",
    "                self.balance -= amount\n",
    "                print(\"Withdrawal successful!\")\n",
    "            else:\n",
    "                print(\"Insufficient balance.\")\n",
    "        else:\n",
    "            print(\"Incorrect PIN. Transaction canceled.\")\n",
    "\n",
    "    def check_balance(self):\n",
    "        if self.pin is None:\n",
    "            print(\"Please set a PIN first.\")\n",
    "            return\n",
    "        temp = input(\"Enter your PIN: \")\n",
    "        if temp == self.pin:\n",
    "            print(\"Account balance is:\", self.balance)\n",
    "        else:\n",
    "            print(\"Incorrect PIN. Transaction canceled.\")\n",
    "\n",
    "# Example usage:\n",
    "atm = Atm()\n"
   ]
  },
  {
   "cell_type": "code",
   "execution_count": 35,
   "id": "317a6269",
   "metadata": {},
   "outputs": [
    {
     "data": {
      "text/plain": [
       "3"
      ]
     },
     "execution_count": 35,
     "metadata": {},
     "output_type": "execute_result"
    }
   ],
   "source": [
    "Atm.counter"
   ]
  },
  {
   "cell_type": "code",
   "execution_count": 45,
   "id": "a3cd8202",
   "metadata": {},
   "outputs": [
    {
     "name": "stdout",
     "output_type": "stream",
     "text": [
      "Uttarakhand\n"
     ]
    }
   ],
   "source": [
    "class Bande():\n",
    "    def __init__(self,name,gender,address):\n",
    "        self.name = name\n",
    "        self.gender = gender\n",
    "        self.address = address\n",
    "        \n",
    "class Address:\n",
    "    def __init__(self, city, pincode, state):\n",
    "        self.state = state\n",
    "        self.pincode = pincode\n",
    "        self.city = city\n",
    "        \n",
    "add = Address('Khatima',262308,'Uttarakhand')\n",
    "band = Bande(\"Rahul\", \"Male\",add)\n",
    "\n",
    "print(band.address.state)"
   ]
  },
  {
   "cell_type": "code",
   "execution_count": 46,
   "id": "ab99604e",
   "metadata": {},
   "outputs": [
    {
     "name": "stdout",
     "output_type": "stream",
     "text": [
      "enroll\n",
      "login\n",
      "register\n",
      "review\n"
     ]
    }
   ],
   "source": [
    "class User():\n",
    "    def login(self):\n",
    "        print(\"login\")\n",
    "    def register(self):\n",
    "        print('register')\n",
    "\n",
    "#User is inside paranthesis that tells that Student is a child class of User\n",
    "class Student(User):\n",
    "    def enroll(self):\n",
    "        print(\"enroll\")\n",
    "    def review(self):\n",
    "        print('review')\n",
    "\n",
    "#Now student can access all the object of User\n",
    "stu1= Student()\n",
    "stu1.enroll()\n",
    "stu1.login()\n",
    "stu1.register()\n",
    "stu1.review()"
   ]
  },
  {
   "cell_type": "code",
   "execution_count": 48,
   "id": "806654ca",
   "metadata": {},
   "outputs": [
    {
     "name": "stdout",
     "output_type": "stream",
     "text": [
      "Inside phone constructor\n"
     ]
    }
   ],
   "source": [
    "#inheritig the constructor\n",
    "class Phone():\n",
    "    def __init__(self,price,brand, camera):\n",
    "        print(\"Inside phone constructor\")\n",
    "        self.price = price\n",
    "        self.brand = brand\n",
    "        self.camera = camera\n",
    "    def buy(self):\n",
    "        print(\"kharid liya\")\n",
    "    \n",
    "    def return_phone(self):\n",
    "        print(\"chutiya mobile tha wapus kr diya\")\n",
    "        \n",
    "class Feature_phone():\n",
    "    pass\n",
    "\n",
    "class Smart_phone(Phone):\n",
    "    pass\n",
    "\n",
    "s = Smart_phone(20000,'Apple', 48)"
   ]
  },
  {
   "cell_type": "code",
   "execution_count": 49,
   "id": "a80b73ce",
   "metadata": {},
   "outputs": [
    {
     "name": "stdout",
     "output_type": "stream",
     "text": [
      "Apple\n"
     ]
    }
   ],
   "source": [
    "print(s.brand)"
   ]
  },
  {
   "cell_type": "code",
   "execution_count": 50,
   "id": "087d80ae",
   "metadata": {},
   "outputs": [
    {
     "name": "stdout",
     "output_type": "stream",
     "text": [
      "Inside phone constructor\n"
     ]
    },
    {
     "ename": "AttributeError",
     "evalue": "'Smart_phone' object has no attribute '__brand'",
     "output_type": "error",
     "traceback": [
      "\u001b[1;31m---------------------------------------------------------------------------\u001b[0m",
      "\u001b[1;31mAttributeError\u001b[0m                            Traceback (most recent call last)",
      "Cell \u001b[1;32mIn[50], line 15\u001b[0m\n\u001b[0;32m     12\u001b[0m     \u001b[38;5;28;01mpass\u001b[39;00m\n\u001b[0;32m     14\u001b[0m s \u001b[38;5;241m=\u001b[39m Smart_phone(\u001b[38;5;241m20000\u001b[39m,\u001b[38;5;124m'\u001b[39m\u001b[38;5;124mApple\u001b[39m\u001b[38;5;124m'\u001b[39m, \u001b[38;5;241m48\u001b[39m)\n\u001b[1;32m---> 15\u001b[0m \u001b[38;5;28mprint\u001b[39m(s\u001b[38;5;241m.\u001b[39m__brand)\n",
      "\u001b[1;31mAttributeError\u001b[0m: 'Smart_phone' object has no attribute '__brand'"
     ]
    }
   ],
   "source": [
    "#accessing private member\n",
    "#inheritig the constructor\n",
    "class Phone():\n",
    "    def __init__(self,price,brand, camera):\n",
    "        print(\"Inside phone constructor\")\n",
    "        self.price = price\n",
    "        self.__brand = brand\n",
    "        self.camera = camera\n",
    "\n",
    "\n",
    "class Smart_phone(Phone):\n",
    "    pass\n",
    "\n",
    "s = Smart_phone(20000,'Apple', 48)\n",
    "print(s.__brand)\n",
    "#cannot access hidden members of the parent class"
   ]
  },
  {
   "cell_type": "code",
   "execution_count": 51,
   "id": "4a5cf904",
   "metadata": {},
   "outputs": [
    {
     "name": "stdout",
     "output_type": "stream",
     "text": [
      "Inside phone constructor\n",
      "Buying a smartphone\n"
     ]
    }
   ],
   "source": [
    "class Phone:\n",
    "    def __init__(self, price, brand, camera):\n",
    "        print(\"Inside phone constructor\")\n",
    "        self._price = price\n",
    "        self.brand = brand\n",
    "        self.camera = camera\n",
    "\n",
    "    def buy(self):\n",
    "        print(\"Buying a phone\")\n",
    "\n",
    "\n",
    "class SmartPhone(Phone):\n",
    "    def buy(self):\n",
    "        print(\"Buying a smartphone\")\n",
    "\n",
    "\n",
    "# Create an instance of SmartPhone\n",
    "s = SmartPhone(20000, \"Apple\", 13)\n",
    "s.buy()\n",
    "#method overriding --> Polymorphism"
   ]
  },
  {
   "cell_type": "code",
   "execution_count": 1,
   "id": "262a6c20",
   "metadata": {},
   "outputs": [
    {
     "name": "stdout",
     "output_type": "stream",
     "text": [
      "Inside phone constructor\n",
      "Buying a smartphone\n",
      "Buying a phone\n"
     ]
    }
   ],
   "source": [
    "#Super keyword \n",
    "class Phone:\n",
    "    def __init__(self, price, brand, camera):\n",
    "        print(\"Inside phone constructor\")\n",
    "        self._price = price\n",
    "        self.brand = brand\n",
    "        self.camera = camera\n",
    "\n",
    "    def buy(self):\n",
    "        print(\"Buying a phone\")\n",
    "\n",
    "\n",
    "class SmartPhone(Phone):\n",
    "    def buy(self):\n",
    "        print(\"Buying a smartphone\")\n",
    "        super().buy()\n",
    "\n",
    "\n",
    "s = SmartPhone(20000, \"Apple\", 13)\n",
    "s.buy()\n"
   ]
  },
  {
   "cell_type": "markdown",
   "id": "25867915",
   "metadata": {},
   "source": [
    "#### Multilevel inheritance"
   ]
  },
  {
   "cell_type": "code",
   "execution_count": 2,
   "id": "4586c933",
   "metadata": {},
   "outputs": [
    {
     "name": "stdout",
     "output_type": "stream",
     "text": [
      "Inside phone constructor\n",
      "Inside phone constructor\n",
      "Buying a phone\n",
      "Product customer review\n",
      "Product customer review\n"
     ]
    }
   ],
   "source": [
    "class Product:\n",
    "    def review(self):\n",
    "        print(\"Product customer review\")\n",
    "\n",
    "class Phone(Product):\n",
    "    def __init__(self, price, brand, camera):\n",
    "        print(\"Inside phone constructor\")\n",
    "        self.price = price\n",
    "        self.brand = brand\n",
    "        self.camera = camera\n",
    "\n",
    "    def buy(self):\n",
    "        print(\"Buying a phone\")\n",
    "\n",
    "class SmartPhone(Phone):\n",
    "    pass\n",
    "\n",
    "# Creating instances\n",
    "s = SmartPhone(20000, \"Apple\", 12)\n",
    "p = Phone(1000, \"Samsung\", 1)\n",
    "\n",
    "# Method calls\n",
    "s.buy()\n",
    "s.review()\n",
    "p.review()\n"
   ]
  },
  {
   "cell_type": "markdown",
   "id": "53ca6a7f",
   "metadata": {},
   "source": [
    "#### Heirarchical inheritance"
   ]
  },
  {
   "cell_type": "code",
   "execution_count": 3,
   "id": "58d85e59",
   "metadata": {},
   "outputs": [
    {
     "name": "stdout",
     "output_type": "stream",
     "text": [
      "Inside phone constructor\n",
      "Buying a phone\n"
     ]
    }
   ],
   "source": [
    "class Phone:\n",
    "    def __init__(self, price, brand, camera):\n",
    "        print(\"Inside phone constructor\")\n",
    "        self.__price = price\n",
    "        self.brand = brand\n",
    "        self.camera = camera\n",
    "\n",
    "    def buy(self):\n",
    "        print(\"Buying a phone\")\n",
    "\n",
    "    def return_phone(self):\n",
    "        print(\"Returning a phone\")\n",
    "\n",
    "class SmartPhone(Phone):\n",
    "    pass\n",
    "\n",
    "class FeaturePhone(Phone):\n",
    "    pass\n",
    "\n",
    "# Creating an instance of SmartPhone and calling the buy method\n",
    "SmartPhone(1000, \"Apple\", \"13px\").buy()\n"
   ]
  },
  {
   "cell_type": "markdown",
   "id": "bdec2269",
   "metadata": {},
   "source": [
    "#### MRO method resolution order\n"
   ]
  },
  {
   "cell_type": "code",
   "execution_count": 4,
   "id": "e43e4c92",
   "metadata": {},
   "outputs": [
    {
     "name": "stdout",
     "output_type": "stream",
     "text": [
      "Inside phone constructor\n",
      "Buying a phone\n",
      "Customer review\n"
     ]
    }
   ],
   "source": [
    "class Phone:\n",
    "    def __init__(self, price, brand, camera):\n",
    "        print(\"Inside phone constructor\")\n",
    "        self.__price = price\n",
    "        self.brand = brand\n",
    "        self.camera = camera\n",
    "\n",
    "    def buy(self):\n",
    "        print(\"Buying a phone\")\n",
    "\n",
    "class Product:\n",
    "    def review(self):\n",
    "        print(\"Customer review\")\n",
    "\n",
    "class SmartPhone(Phone, Product):\n",
    "    pass\n",
    "\n",
    "# Creating an instance of SmartPhone and calling its methods\n",
    "s = SmartPhone(20000, \"Apple\", 12)\n",
    "s.buy()\n",
    "#customer review is printed because phone is called first\n",
    "s.review()\n"
   ]
  },
  {
   "cell_type": "markdown",
   "id": "4613e2f6",
   "metadata": {},
   "source": [
    "#### Multiple inheritance"
   ]
  },
  {
   "cell_type": "code",
   "execution_count": 5,
   "id": "d88f618e",
   "metadata": {},
   "outputs": [
    {
     "name": "stdout",
     "output_type": "stream",
     "text": [
      "70\n"
     ]
    }
   ],
   "source": [
    "class A:\n",
    "    def m1(self):\n",
    "        return 20\n",
    "\n",
    "class B(A):\n",
    "    def m1(self):\n",
    "        return 30\n",
    "\n",
    "    def m2(self):\n",
    "        return 40\n",
    "\n",
    "class C(B):\n",
    "    def m2(self):\n",
    "        return 20\n",
    "\n",
    "# Creating objects of each class\n",
    "obj1 = A()\n",
    "obj2 = B()\n",
    "obj3 = C()\n",
    "\n",
    "# Printing the sum of method calls\n",
    "print(obj1.m1() + obj3.m1() + obj3.m2())\n"
   ]
  },
  {
   "cell_type": "markdown",
   "id": "f5e10064",
   "metadata": {},
   "source": [
    "#### Method overloading\n",
    "- one method is imput giving different methods"
   ]
  },
  {
   "cell_type": "code",
   "execution_count": 8,
   "id": "e8eaf04c",
   "metadata": {},
   "outputs": [
    {
     "ename": "TypeError",
     "evalue": "Geometry.area() missing 1 required positional argument: 'b'",
     "output_type": "error",
     "traceback": [
      "\u001b[1;31m---------------------------------------------------------------------------\u001b[0m",
      "\u001b[1;31mTypeError\u001b[0m                                 Traceback (most recent call last)",
      "Cell \u001b[1;32mIn[8], line 7\u001b[0m\n\u001b[0;32m      5\u001b[0m         \u001b[38;5;28;01mreturn\u001b[39;00m l\u001b[38;5;241m*\u001b[39mb\n\u001b[0;32m      6\u001b[0m obj \u001b[38;5;241m=\u001b[39m Geometry()\n\u001b[1;32m----> 7\u001b[0m \u001b[38;5;28mprint\u001b[39m(obj\u001b[38;5;241m.\u001b[39marea(\u001b[38;5;241m4\u001b[39m))\n\u001b[0;32m      8\u001b[0m \u001b[38;5;66;03m#this will not work beacuse we have same two method with same name\u001b[39;00m\n\u001b[0;32m      9\u001b[0m \u001b[38;5;124;03m''' we can make it work with different method'''\u001b[39;00m\n",
      "\u001b[1;31mTypeError\u001b[0m: Geometry.area() missing 1 required positional argument: 'b'"
     ]
    }
   ],
   "source": [
    "class Geometry:\n",
    "    def area(self,radius):\n",
    "        return 3.14 * radius * radius\n",
    "    def area(self,l,b):\n",
    "        return l*b\n",
    "obj = Geometry()\n",
    "print(obj.area(4))\n",
    "#this will not work beacuse we have same two method with same name\n",
    "''' we can make it work with different method'''"
   ]
  },
  {
   "cell_type": "code",
   "execution_count": 9,
   "id": "c3f922da",
   "metadata": {},
   "outputs": [
    {
     "name": "stdout",
     "output_type": "stream",
     "text": [
      "Circle 50.24\n",
      "Rect 20\n"
     ]
    }
   ],
   "source": [
    "class Geometry:\n",
    "    def area(self,a,b=0):\n",
    "        if b==0:\n",
    "            print(\"Circle\", 3.14 *a *a)\n",
    "        else:\n",
    "            print(\"Rect\", a*b)\n",
    "\n",
    "obj = Geometry()\n",
    "obj.area(4)\n",
    "obj.area(4,5)"
   ]
  },
  {
   "cell_type": "markdown",
   "id": "68554bff",
   "metadata": {},
   "source": [
    "#### Operators overloading\n",
    "- when a single method will be used for different methods, + can be used for concatination in string and addtion of numbers"
   ]
  },
  {
   "cell_type": "code",
   "execution_count": 11,
   "id": "0c9ff717",
   "metadata": {},
   "outputs": [
    {
     "name": "stdout",
     "output_type": "stream",
     "text": [
      "19/12\n"
     ]
    }
   ],
   "source": [
    "from fractions import Fraction\n",
    "\n",
    "x = Fraction(3, 4)  # Represents 3/4\n",
    "y = Fraction(5, 6)  # Represents 5/6\n",
    "\n",
    "# Adding two fractions\n",
    "print(x + y)\n"
   ]
  },
  {
   "cell_type": "markdown",
   "id": "d2904722",
   "metadata": {},
   "source": [
    "## Project"
   ]
  },
  {
   "cell_type": "code",
   "execution_count": 29,
   "id": "b2965567",
   "metadata": {},
   "outputs": [
    {
     "name": "stdout",
     "output_type": "stream",
     "text": [
      "\"how would u like to proceed?\n",
      "              1. Enter 1 to check live train status\n",
      "              2. Enter 2 to ckeck PNR\n",
      "              3. Enter 3 to check train schedule: 3\n",
      "Enter the train no: 12222\n",
      "[{'SerialNo': '1', 'StationCode': 'HWH', 'StationName': 'HOWRAH JN.', 'ArrivalTime': '08:20:00', 'DepartureTime': '08:20:00', 'Distance': '0', 'Day': None}, {'SerialNo': '2', 'StationCode': 'TATA', 'StationName': 'TATANAGAR JN', 'ArrivalTime': '11:38:00', 'DepartureTime': '11:48:00', 'Distance': '254', 'Day': None}, {'SerialNo': '3', 'StationCode': 'BSP', 'StationName': 'BILASPUR JN.', 'ArrivalTime': '17:35:00', 'DepartureTime': '17:45:00', 'Distance': '720', 'Day': None}, {'SerialNo': '4', 'StationCode': 'NGP', 'StationName': 'NAGPUR JN.(C', 'ArrivalTime': '23:20:00', 'DepartureTime': '23:25:00', 'Distance': '1137', 'Day': None}, {'SerialNo': '5', 'StationCode': 'BSL', 'StationName': 'BHUSAVAL JN.', 'ArrivalTime': '03:42:00', 'DepartureTime': '03:47:00', 'Distance': '1534', 'Day': None}, {'SerialNo': '6', 'StationCode': 'MMR', 'StationName': 'MANMAD JN.', 'ArrivalTime': '06:00:00', 'DepartureTime': '06:03:00', 'Distance': '1718', 'Day': None}, {'SerialNo': '7', 'StationCode': 'DD', 'StationName': 'DAUND JN.', 'ArrivalTime': '10:00:00', 'DepartureTime': '10:15:00', 'Distance': '1955', 'Day': None}, {'SerialNo': '8', 'StationCode': 'PUNE', 'StationName': 'PUNE JN.', 'ArrivalTime': '11:45:00', 'DepartureTime': '11:45:00', 'Distance': '2033', 'Day': None}]\n",
      "HOWRAH JN. | 08:20:00\n",
      "TATANAGAR JN | 11:38:00\n",
      "BILASPUR JN. | 17:35:00\n",
      "NAGPUR JN.(C | 23:20:00\n",
      "BHUSAVAL JN. | 03:42:00\n",
      "MANMAD JN. | 06:00:00\n",
      "DAUND JN. | 10:00:00\n",
      "PUNE JN. | 11:45:00\n"
     ]
    }
   ],
   "source": [
    "import requests\n",
    "class IRCTC:\n",
    "    def __init__(self):\n",
    "        user_input = input(\"\"\"\"how would u like to proceed?\n",
    "              1. Enter 1 to check live train status\n",
    "              2. Enter 2 to ckeck PNR\n",
    "              3. Enter 3 to check train schedule: \"\"\")\n",
    "        if user_input == \"1\":\n",
    "            print(\"Live train status\")\n",
    "        elif user_input == \"2\":\n",
    "            print(\"PNR\")\n",
    "        else:\n",
    "            self.train_schedule()\n",
    "    \n",
    "    def train_schedule(self):\n",
    "        train_no = input(\"Enter the train no: \")\n",
    "        self.fetch_data(train_no)\n",
    "        \n",
    "    def fetch_data(self,train_no):\n",
    "        data = requests.get(\"https://indianrailapi.com/api/v2/TrainSchedule/apikey/2de76d9f0446185f2c37fdf192166a95/TrainNumber/{}\".format(train_no))\n",
    "        \n",
    "        data = data.json()\n",
    "        print(data['Route'])\n",
    "        for i in data['Route']:\n",
    "            print(i['StationName'], \"|\", i[\"ArrivalTime\"])\n",
    "        \n",
    "obj = IRCTC()"
   ]
  },
  {
   "cell_type": "code",
   "execution_count": null,
   "id": "57e9d226",
   "metadata": {},
   "outputs": [],
   "source": []
  }
 ],
 "metadata": {
  "kernelspec": {
   "display_name": "Python 3 (ipykernel)",
   "language": "python",
   "name": "python3"
  },
  "language_info": {
   "codemirror_mode": {
    "name": "ipython",
    "version": 3
   },
   "file_extension": ".py",
   "mimetype": "text/x-python",
   "name": "python",
   "nbconvert_exporter": "python",
   "pygments_lexer": "ipython3",
   "version": "3.11.3"
  }
 },
 "nbformat": 4,
 "nbformat_minor": 5
}
