{
 "cells": [
  {
   "cell_type": "markdown",
   "metadata": {},
   "source": [
    "### Functions helps for the readability of code and reusability of code."
   ]
  },
  {
   "cell_type": "code",
   "execution_count": 6,
   "metadata": {},
   "outputs": [
    {
     "name": "stdout",
     "output_type": "stream",
     "text": [
      "('rahul', 21)\n"
     ]
    }
   ],
   "source": [
    "def details():\n",
    "    name = 'rahul'\n",
    "    age = 21\n",
    "    return name, age\n",
    "info = details()\n",
    "print(info)"
   ]
  },
  {
   "cell_type": "code",
   "execution_count": 5,
   "metadata": {},
   "outputs": [
    {
     "name": "stdout",
     "output_type": "stream",
     "text": [
      "The number is even\n"
     ]
    }
   ],
   "source": [
    "def number(num):\n",
    "    if num %2==0:\n",
    "        print('The number is even')\n",
    "    else:\n",
    "        print('number not even')\n",
    "values = number(int(input(\"Enter the number of  your choice: \")))\n"
   ]
  },
  {
   "cell_type": "code",
   "execution_count": 3,
   "metadata": {},
   "outputs": [
    {
     "name": "stdout",
     "output_type": "stream",
     "text": [
      "number is odd\n",
      "The number 2 is even\n",
      "number is odd\n",
      "The number 4 is even\n",
      "number is odd\n",
      "The number 6 is even\n",
      "number is odd\n",
      "The number 8 is even\n",
      "number is odd\n",
      "The number 10 is even\n",
      "number is odd\n",
      "The number 12 is even\n",
      "number is odd\n",
      "The number 14 is even\n",
      "number is odd\n",
      "The number 16 is even\n",
      "number is odd\n",
      "The number 18 is even\n",
      "number is odd\n",
      "The number 20 is even\n"
     ]
    }
   ],
   "source": [
    "# OR\n",
    "def is_even(num):\n",
    "    if num %2==0:\n",
    "        print(f\"The number {num} is even\")\n",
    "    else:\n",
    "        print('number is odd')\n",
    "for i in range(1,21):\n",
    "    is_even(i)"
   ]
  },
  {
   "cell_type": "code",
   "execution_count": null,
   "metadata": {},
   "outputs": [
    {
     "name": "stdout",
     "output_type": "stream",
     "text": [
      "1 is not prime\n",
      "2 is prime\n",
      "3 is prime\n",
      "4 is not prime\n",
      "5 is prime\n",
      "6 is not prime\n",
      "7 is prime\n",
      "8 is not prime\n",
      "9 is not prime\n",
      "10 is not prime\n",
      "11 is prime\n",
      "12 is not prime\n",
      "13 is prime\n",
      "14 is not prime\n",
      "15 is not prime\n",
      "16 is not prime\n",
      "17 is prime\n",
      "18 is not prime\n",
      "19 is prime\n",
      "20 is not prime\n"
     ]
    }
   ],
   "source": [
    "def is_prime(num):\n",
    "    if num <= 1:\n",
    "        print(f\"{num} is not prime\")\n",
    "        return\n",
    "    for i in range(2, int(num ** 0.5) + 1):  \n",
    "        if num % i == 0:\n",
    "            print(f\"{num} is not prime\")\n",
    "            return\n",
    "    print(f\"{num} is prime\")\n",
    "\n",
    "for i in range(1, 21):\n",
    "    is_prime(i)\n"
   ]
  },
  {
   "cell_type": "code",
   "execution_count": 6,
   "metadata": {},
   "outputs": [
    {
     "name": "stdout",
     "output_type": "stream",
     "text": [
      "13 is prime\n"
     ]
    }
   ],
   "source": [
    "def is_prime(num):\n",
    "    if num<=2:\n",
    "        print('number is not prime')\n",
    "        return\n",
    "    i =2\n",
    "    while i*i <= num:\n",
    "        if num %i ==0:\n",
    "            print(f\"{num} is not prime\")\n",
    "            return\n",
    "        i += 1\n",
    "\n",
    "    print(f\"{num} is prime\")\n",
    "\n",
    "values = int(input(\"Enter the no of your choice\"))\n",
    "is_prime(values)"
   ]
  },
  {
   "cell_type": "markdown",
   "metadata": {},
   "source": [
    "#### Parameters\n",
    "- Creating a functions will make a parameter\n",
    "- values provided while calling the function will be called as arguments.\n",
    "\n",
    "\n",
    "#### Arguments\n",
    "- Default Argument\n",
    "- Keyword argument\n",
    "- Positional argument"
   ]
  },
  {
   "cell_type": "code",
   "execution_count": 16,
   "metadata": {},
   "outputs": [
    {
     "name": "stdout",
     "output_type": "stream",
     "text": [
      "15\n"
     ]
    }
   ],
   "source": [
    "def add(a, b):  # 'a' and 'b' are parameters\n",
    "    return a + b\n",
    "\n",
    "result = add(5, 10)  # 5 and 10 are arguments\n",
    "print(result)  # Output: 15\n"
   ]
  },
  {
   "cell_type": "code",
   "execution_count": 10,
   "metadata": {},
   "outputs": [
    {
     "name": "stdout",
     "output_type": "stream",
     "text": [
      "2\n"
     ]
    }
   ],
   "source": [
    "def product(a=1, b=2):\n",
    "    return a*b\n",
    "print(product())\n",
    "    "
   ]
  },
  {
   "cell_type": "code",
   "execution_count": 13,
   "metadata": {},
   "outputs": [
    {
     "data": {
      "text/plain": [
       "10"
      ]
     },
     "execution_count": 13,
     "metadata": {},
     "output_type": "execute_result"
    }
   ],
   "source": [
    "# positional argument\n",
    "product(2,3)\n",
    "\n",
    "# keyword arguments\n",
    "product(b=2, a=5)"
   ]
  },
  {
   "cell_type": "markdown",
   "metadata": {},
   "source": [
    "*args\n",
    "- helps to make multiple arguments "
   ]
  },
  {
   "cell_type": "code",
   "execution_count": 14,
   "metadata": {},
   "outputs": [
    {
     "name": "stdout",
     "output_type": "stream",
     "text": [
      "The sum is: 100\n"
     ]
    }
   ],
   "source": [
    "def sum(*args):\n",
    "    total = 0\n",
    "    for num in args:\n",
    "        total += num\n",
    "    return total\n",
    "\n",
    "result = sum(10, 20, 30, 40)\n",
    "print(\"The sum is:\", result)\n",
    "    "
   ]
  },
  {
   "cell_type": "code",
   "execution_count": 15,
   "metadata": {},
   "outputs": [
    {
     "name": "stdout",
     "output_type": "stream",
     "text": [
      "name=Rahul\n",
      "age=21\n",
      "branch=CSE\n"
     ]
    }
   ],
   "source": [
    "def student_details(**kwargs):\n",
    "    for key, value in kwargs.items():\n",
    "        print(f\"{key}={value}\")\n",
    "student_details(name = 'Rahul', age = 21, branch = 'CSE')\n",
    "        \n",
    "    \n"
   ]
  },
  {
   "cell_type": "markdown",
   "metadata": {},
   "source": [
    "#### Variable scope\n",
    "- local vs global"
   ]
  },
  {
   "cell_type": "code",
   "execution_count": null,
   "metadata": {},
   "outputs": [
    {
     "name": "stdout",
     "output_type": "stream",
     "text": [
      "5\n",
      "6\n",
      "5\n"
     ]
    }
   ],
   "source": [
    "def g(y):\n",
    "    print(x)\n",
    "    print(x+1)\n",
    "x = 5\n",
    "# global variable\n",
    "g(x)\n",
    "print(x)\n"
   ]
  },
  {
   "cell_type": "code",
   "execution_count": 19,
   "metadata": {},
   "outputs": [
    {
     "name": "stdout",
     "output_type": "stream",
     "text": [
      "2\n",
      "5\n"
     ]
    }
   ],
   "source": [
    "def f(y):\n",
    "    x = 1\n",
    "    x+= 1\n",
    "    print(x)\n",
    "x = 5\n",
    "f(x)\n",
    "print(x) "
   ]
  },
  {
   "cell_type": "code",
   "execution_count": null,
   "metadata": {},
   "outputs": [
    {
     "ename": "UnboundLocalError",
     "evalue": "cannot access local variable 'x' where it is not associated with a value",
     "output_type": "error",
     "traceback": [
      "\u001b[1;31m---------------------------------------------------------------------------\u001b[0m",
      "\u001b[1;31mUnboundLocalError\u001b[0m                         Traceback (most recent call last)",
      "Cell \u001b[1;32mIn[21], line 5\u001b[0m\n\u001b[0;32m      3\u001b[0m     \u001b[38;5;28mprint\u001b[39m(x)\n\u001b[0;32m      4\u001b[0m x \u001b[38;5;241m=\u001b[39m \u001b[38;5;241m5\u001b[39m\n\u001b[1;32m----> 5\u001b[0m \u001b[43mh\u001b[49m\u001b[43m(\u001b[49m\u001b[43mx\u001b[49m\u001b[43m)\u001b[49m\n\u001b[0;32m      6\u001b[0m \u001b[38;5;28mprint\u001b[39m(x)\n",
      "Cell \u001b[1;32mIn[21], line 2\u001b[0m, in \u001b[0;36mh\u001b[1;34m(y)\u001b[0m\n\u001b[0;32m      1\u001b[0m \u001b[38;5;28;01mdef\u001b[39;00m \u001b[38;5;21mh\u001b[39m(y):\n\u001b[1;32m----> 2\u001b[0m     \u001b[43mx\u001b[49m\u001b[38;5;241m+\u001b[39m\u001b[38;5;241m=\u001b[39m\u001b[38;5;241m1\u001b[39m\n\u001b[0;32m      3\u001b[0m     \u001b[38;5;28mprint\u001b[39m(x)\n",
      "\u001b[1;31mUnboundLocalError\u001b[0m: cannot access local variable 'x' where it is not associated with a value"
     ]
    }
   ],
   "source": [
    "def h(y):\n",
    "    x+=1\n",
    "    # Trying to modify the value of x without initializing x \n",
    "x = 5\n",
    "h(x)\n",
    "print(x)"
   ]
  },
  {
   "cell_type": "code",
   "execution_count": 22,
   "metadata": {},
   "outputs": [
    {
     "name": "stdout",
     "output_type": "stream",
     "text": [
      "6\n"
     ]
    }
   ],
   "source": [
    "def h(y):\n",
    "    global x\n",
    "    x+=1\n",
    "x = 5\n",
    "h(x)\n",
    "print(x)"
   ]
  },
  {
   "cell_type": "code",
   "execution_count": 25,
   "metadata": {},
   "outputs": [
    {
     "name": "stdout",
     "output_type": "stream",
     "text": [
      "Factorial of 5 is: 120\n"
     ]
    }
   ],
   "source": [
    "def factorial(n):\n",
    "  result = 1\n",
    "  for i in range(1, n+1):\n",
    "    result *= i\n",
    "  print(f'Factorial of {n} is: {result}')\n",
    "\n",
    "\n",
    "n = int(input(\"Enter the number\"))\n",
    "factorial(n)"
   ]
  },
  {
   "cell_type": "code",
   "execution_count": 27,
   "metadata": {},
   "outputs": [
    {
     "name": "stdout",
     "output_type": "stream",
     "text": [
      "The factorial of 5 is: 120\n"
     ]
    }
   ],
   "source": [
    "def factorial(num):\n",
    "    result = 1\n",
    "    for i in range(1,n+1):\n",
    "        result *= i\n",
    "    print(f\"The factorial of {num} is: {result}\")\n",
    "\n",
    "\n",
    "num = int(input(\"Enter the number\"))\n",
    "factorial(num)"
   ]
  },
  {
   "cell_type": "markdown",
   "metadata": {},
   "source": [
    "Write a function that takes a list of numbers and returns the sum of all the numbers."
   ]
  },
  {
   "cell_type": "code",
   "execution_count": null,
   "metadata": {},
   "outputs": [],
   "source": [
    "def sum_list(lst):\n",
    "    total = 0\n",
    "    for num in lst:\n",
    "        total += num\n",
    "    return total\n",
    "\n",
    "numbers = input(\"Enter numbers separated by space: \").split()\n",
    "\n",
    "numbers = [int(num) for num in numbers]\n",
    "\n",
    "result = sum_list(numbers)\n",
    "\n",
    "print(\"Sum of list:\", result)"
   ]
  },
  {
   "cell_type": "markdown",
   "metadata": {},
   "source": [
    "#### Write a code to add all the integer value in the list\n"
   ]
  },
  {
   "cell_type": "code",
   "execution_count": null,
   "metadata": {},
   "outputs": [
    {
     "name": "stdout",
     "output_type": "stream",
     "text": [
      "Final count of values are 81\n"
     ]
    }
   ],
   "source": [
    "def sum_of_all(lst):\n",
    "    total = 0\n",
    "    for num in lst:\n",
    "        total += num\n",
    "    return total\n",
    " \n",
    "number = input('Enter the values').split()\n",
    "number = [int(num) for num in number]    \n",
    "result = sum_of_all(number)\n",
    "print(\"Final count of values are\", result)\n",
    "\n",
    "# converted_numbers = []\n",
    "# for num in numbers:\n",
    "#     converted_numbers.append(int(num))\n"
   ]
  },
  {
   "cell_type": "markdown",
   "metadata": {},
   "source": [
    "### Finding the maximum number in the list"
   ]
  },
  {
   "cell_type": "code",
   "execution_count": 32,
   "metadata": {},
   "outputs": [
    {
     "name": "stdout",
     "output_type": "stream",
     "text": [
      "Maximum number: 42\n"
     ]
    }
   ],
   "source": [
    "def find_max(lst):\n",
    "    max_num = lst[0]\n",
    "    for num in lst:\n",
    "        if num > max_num:\n",
    "            max_num = num\n",
    "    return max_num\n",
    "\n",
    "number = input(\"Enter the number: \").split()\n",
    "number = [int(num) for num in number]\n",
    "result = find_max(number)\n",
    "print(\"Maximum number:\", result)\n"
   ]
  },
  {
   "cell_type": "markdown",
   "metadata": {},
   "source": [
    "### Check if a Number Exists in a List"
   ]
  },
  {
   "cell_type": "code",
   "execution_count": null,
   "metadata": {},
   "outputs": [
    {
     "name": "stdout",
     "output_type": "stream",
     "text": [
      "Yes, 69 is in the list\n"
     ]
    }
   ],
   "source": [
    "def contains(numbers, target):\n",
    "    if target in numbers:\n",
    "        print(f\"Yes, {target} is in the list\")\n",
    "    else:\n",
    "        print(f'No, {target} is not in the list')\n",
    "numbers = input().split()\n",
    "numbers = [int(num) for num in numbers]\n",
    "target = int(input(\"Enter the number to check: \"))\n",
    "contains(numbers, target)\n",
    "\n",
    "    "
   ]
  },
  {
   "cell_type": "markdown",
   "metadata": {},
   "source": [
    "### Reverse a string in python"
   ]
  },
  {
   "cell_type": "code",
   "execution_count": 1,
   "metadata": {},
   "outputs": [
    {
     "name": "stdout",
     "output_type": "stream",
     "text": [
      "Final reverse string is:  luhar\n"
     ]
    }
   ],
   "source": [
    "def reverse_str(s):\n",
    "    return s[::-1]\n",
    "\n",
    "input_str = input(\"Enter a string: \")\n",
    "reversed_str = reverse_str(input_str)\n",
    "print(\"Final reverse string is: \", reversed_str)"
   ]
  },
  {
   "cell_type": "code",
   "execution_count": 4,
   "metadata": {},
   "outputs": [],
   "source": [
    "def reverse_string(s):\n",
    "    reversed_str = \"\"\n",
    "    for char in s:\n",
    "        reversed_str = char + reversed_str\n",
    "    return reversed_str\n"
   ]
  },
  {
   "cell_type": "code",
   "execution_count": null,
   "metadata": {},
   "outputs": [
    {
     "ename": "NameError",
     "evalue": "name 'reverse_string' is not defined",
     "output_type": "error",
     "traceback": [
      "\u001b[1;31m---------------------------------------------------------------------------\u001b[0m",
      "\u001b[1;31mNameError\u001b[0m                                 Traceback (most recent call last)",
      "Cell \u001b[1;32mIn[3], line 11\u001b[0m\n\u001b[0;32m      8\u001b[0m user_input \u001b[38;5;241m=\u001b[39m \u001b[38;5;28minput\u001b[39m(\u001b[38;5;124m\"\u001b[39m\u001b[38;5;124mEnter a string: \u001b[39m\u001b[38;5;124m\"\u001b[39m)\n\u001b[0;32m     10\u001b[0m \u001b[38;5;66;03m# Calling the recursive function\u001b[39;00m\n\u001b[1;32m---> 11\u001b[0m reversed_result \u001b[38;5;241m=\u001b[39m \u001b[43mreverse_string\u001b[49m(user_input)\n\u001b[0;32m     13\u001b[0m \u001b[38;5;28mprint\u001b[39m(\u001b[38;5;124m\"\u001b[39m\u001b[38;5;124mReversed string:\u001b[39m\u001b[38;5;124m\"\u001b[39m, reversed_result)\n",
      "\u001b[1;31mNameError\u001b[0m: name 'reverse_string' is not defined"
     ]
    }
   ],
   "source": [
    "# Using recursion\n",
    "def reverse_str(s):\n",
    "    if len(s)==0:\n",
    "        return s\n",
    "    else:\n",
    "        return reverse_str(s[1:] + s[0])\n",
    "\n",
    "user_input = input(\"Enter a string: \")\n",
    "\n",
    "# Calling the recursive function\n",
    "reversed_result = reverse_string(user_input)\n",
    "\n",
    "print(\"Reversed string:\", reversed_result)"
   ]
  },
  {
   "cell_type": "code",
   "execution_count": 6,
   "metadata": {},
   "outputs": [
    {
     "name": "stdout",
     "output_type": "stream",
     "text": [
      "Input String:  hello ji kshe ho\n",
      "Number of vowel in the string are:  5\n"
     ]
    }
   ],
   "source": [
    "def count_vowels(vowels):\n",
    "    vowel_count = 0\n",
    "    for char in vowels:\n",
    "        if char.lower() in 'aeiou':\n",
    "            vowel_count += 1\n",
    "    return vowel_count\n",
    "    \n",
    "    \n",
    "    \n",
    "user_input = input(\"Enter the string: \")\n",
    "vowel_ct = count_vowels(user_input)\n",
    "print(\"Input String: \", user_input)\n",
    "print(\"Number of vowel in the string are: \", vowel_ct)\n"
   ]
  },
  {
   "cell_type": "markdown",
   "metadata": {},
   "source": [
    "### Printing a string after removing vowels"
   ]
  },
  {
   "cell_type": "code",
   "execution_count": 8,
   "metadata": {},
   "outputs": [
    {
     "name": "stdout",
     "output_type": "stream",
     "text": [
      "Final string: rhl\n"
     ]
    }
   ],
   "source": [
    "def str_without_vow(text):\n",
    "    vowels = \"aeiouAEIOU\"\n",
    "    rem_str = [i for i in text if i not in vowels]\n",
    "    return ''.join(rem_str)  # Join list back to string\n",
    "\n",
    "input_string = input(\"Enter the string: \")\n",
    "removed_str = str_without_vow(input_string)\n",
    "print(\"Final string:\", removed_str)\n"
   ]
  },
  {
   "cell_type": "code",
   "execution_count": 12,
   "metadata": {},
   "outputs": [
    {
     "name": "stdout",
     "output_type": "stream",
     "text": [
      "The final string:  my nm s rhl\n"
     ]
    }
   ],
   "source": [
    "def removevowels(engstr):\n",
    "    vol = ['a', 'e', 'i', 'o', 'u', 'A', 'E', 'I', 'O', 'U']\n",
    "    answer = [i for i in engstr if i not in vol ]\n",
    "    return ''.join(answer)\n",
    "    \n",
    "    \n",
    "    \n",
    "def main():\n",
    "    engstr = input(\"Enter a string\")\n",
    "    result = removevowels(engstr)\n",
    "    print(\"The final string: \", result)\n",
    "\n",
    "\n",
    "if __name__ == '__main__':\n",
    "    main()"
   ]
  },
  {
   "cell_type": "markdown",
   "metadata": {},
   "source": [
    "### Count Character Frequency in a String"
   ]
  },
  {
   "cell_type": "code",
   "execution_count": 14,
   "metadata": {},
   "outputs": [
    {
     "name": "stdout",
     "output_type": "stream",
     "text": [
      "Final character count (excluding vowels):\n",
      "r: 1\n",
      "h: 2\n",
      "l: 1\n",
      " : 1\n",
      "c: 1\n",
      "n: 1\n",
      "d: 1\n"
     ]
    }
   ],
   "source": [
    "def count_char(s):\n",
    "    vowels = ['a', 'e', 'i', 'o', 'u']\n",
    "    char_count = {}\n",
    "\n",
    "    for char in s:\n",
    "        if char.lower() not in vowels:  # to skip vowels (optional)\n",
    "            if char in char_count:\n",
    "                char_count[char] += 1\n",
    "            else:\n",
    "                char_count[char] = 1\n",
    "\n",
    "    return char_count\n",
    "\n",
    "user_input = input(\"Enter the string: \")\n",
    "final_count = count_char(user_input)\n",
    "\n",
    "print(\"Final character count (excluding vowels):\")\n",
    "for char, count in final_count.items():\n",
    "    print(f\"{char}: {count}\")\n"
   ]
  },
  {
   "cell_type": "code",
   "execution_count": 16,
   "metadata": {},
   "outputs": [
    {
     "name": "stdout",
     "output_type": "stream",
     "text": [
      "Final character count (excluding vowels):\n",
      "n: 1\n",
      "a: 2\n",
      "m: 1\n",
      "e: 1\n",
      " : 3\n",
      "h: 2\n",
      "i: 2\n",
      "t: 1\n",
      "o: 1\n"
     ]
    }
   ],
   "source": [
    "def char_counter(s):\n",
    "    vowels = ['a','e', 'i', 'o', 'u']\n",
    "    char_count = {}\n",
    "    for char in s:\n",
    "        if char.lower not in vowels:\n",
    "            if char in char_count:\n",
    "                char_count[char] +=1\n",
    "            else:\n",
    "                char_count[char] = 1\n",
    "    return char_count\n",
    "            \n",
    "    \n",
    "user_input = input(\"Enter the string: \")\n",
    "final_count = char_counter(user_input)\n",
    "print(\"Final character count (excluding vowels):\")\n",
    "for char, count in final_count.items():\n",
    "    print(f'{char}: {count}')\n",
    "    "
   ]
  },
  {
   "cell_type": "markdown",
   "metadata": {},
   "source": [
    "### Find a common element amongst 2 List"
   ]
  },
  {
   "cell_type": "code",
   "execution_count": 20,
   "metadata": {},
   "outputs": [
    {
     "name": "stdout",
     "output_type": "stream",
     "text": [
      "Common elements are:  [4, 5]\n"
     ]
    }
   ],
   "source": [
    "def common_in_lists(num1, num2):\n",
    "    result = [i for i in num1 if i in num2]\n",
    "    return result\n",
    "    \n",
    "list1 = [1, 2, 3, 4, 5]\n",
    "list2 = [4, 5, 6, 7, 8]\n",
    "cmn = common_in_lists(list1, list2)\n",
    "print(\"Common elements are: \", cmn)"
   ]
  },
  {
   "cell_type": "code",
   "execution_count": 23,
   "metadata": {},
   "outputs": [
    {
     "name": "stdout",
     "output_type": "stream",
     "text": [
      "Common elements are:  [5, 14, 9]\n"
     ]
    }
   ],
   "source": [
    "def common_in_lists(num1, num2):\n",
    "    common = []\n",
    "    for i in num1:\n",
    "        if i in num2:\n",
    "            common.append(i)\n",
    "    return common\n",
    "\n",
    "list1 = list(map(int, input(\"Enter the list1\").split()))\n",
    "list2 = list(map(int, input(\"Enter the list2\").split()))\n",
    "cmn = common_in_lists(list1, list2)\n",
    "print(\"Common elements are: \", cmn)\n",
    "\n"
   ]
  },
  {
   "cell_type": "markdown",
   "metadata": {},
   "source": [
    "### Finding the unique elements in a list"
   ]
  },
  {
   "cell_type": "code",
   "execution_count": 27,
   "metadata": {},
   "outputs": [
    {
     "name": "stdout",
     "output_type": "stream",
     "text": [
      "Original list [2, 4, 6, 8, 9, 2, 1, 8, 5, 7, 9]\n",
      "Output [2, 4, 6, 8, 9, 1, 5, 7]\n"
     ]
    }
   ],
   "source": [
    "def unique(nums):\n",
    "  common = []\n",
    "  for i in nums:\n",
    "    if i not in common:\n",
    "      common.append(i)\n",
    "  return common\n",
    "\n",
    "nums = list(map(int,input(\"Input\").split()))\n",
    "print('Original list', nums)\n",
    "output = unique(nums)\n",
    "print(\"Output\", output)"
   ]
  },
  {
   "cell_type": "markdown",
   "metadata": {},
   "source": []
  },
  {
   "cell_type": "code",
   "execution_count": 30,
   "metadata": {},
   "outputs": [
    {
     "name": "stdout",
     "output_type": "stream",
     "text": [
      "Result: No, it's not a palindrome\n"
     ]
    }
   ],
   "source": [
    "def palindrome(original_str):\n",
    "    original_str = original_str.strip().lower()\n",
    "    reversed_str = original_str[::-1]\n",
    "    if original_str == reversed_str:\n",
    "        return f\"Yes, it's a palindrome\"\n",
    "    else:\n",
    "        return f\"No, it's not a palindrome\"\n",
    "\n",
    "original_str = input(\"Enter a string: \")\n",
    "result = palindrome(original_str)\n",
    "print(\"Result:\", result)\n"
   ]
  },
  {
   "cell_type": "code",
   "execution_count": null,
   "metadata": {},
   "outputs": [
    {
     "name": "stdout",
     "output_type": "stream",
     "text": [
      "Yes, ramar a palindrome\n"
     ]
    }
   ],
   "source": [
    "def is_palindrome(s):\n",
    "    s = s.lower().strip()  # optional cleanup\n",
    "    if len(s) <= 1:\n",
    "        return True\n",
    "    if s[0] != s[-1]:\n",
    "        return False\n",
    "    return is_palindrome(s[1:-1])\n",
    "\n",
    "# Input\n",
    "original_str = input(\"Enter a string: \")\n",
    "if is_palindrome(original_str):\n",
    "    print(f\"Yes, {original_str} is a palindrome\")\n",
    "else:\n",
    "    print(\"No, it's not a palindrome\")\n"
   ]
  },
  {
   "cell_type": "code",
   "execution_count": 35,
   "metadata": {},
   "outputs": [
    {
     "name": "stdout",
     "output_type": "stream",
     "text": [
      "Number of words: 5\n"
     ]
    }
   ],
   "source": [
    "def count_words(original_str):\n",
    "    words = original_str.split()  # splits the string into a list of words\n",
    "    return len(words)             # returns the number of words\n",
    "\n",
    "original_str = input(\"Enter the string: \")\n",
    "final_count = count_words(original_str)\n",
    "print(\"Number of words:\", final_count)\n"
   ]
  },
  {
   "cell_type": "markdown",
   "metadata": {},
   "source": [
    "### Count word frequency"
   ]
  },
  {
   "cell_type": "code",
   "execution_count": 36,
   "metadata": {},
   "outputs": [
    {
     "name": "stdout",
     "output_type": "stream",
     "text": [
      "Final word frequency:  {'my': 1, 'name': 2, 'is': 2, 'rahul.': 1, 'What': 1, 'your': 1}\n"
     ]
    }
   ],
   "source": [
    "def count_words(original_str):\n",
    "    words = original_str.split()\n",
    "    count_str = {}\n",
    "\n",
    "    for word in words:\n",
    "        if word in count_str:\n",
    "            count_str[word] += 1\n",
    "        else:\n",
    "            count_str[word] = 1\n",
    "\n",
    "    return count_str\n",
    "\n",
    "original_str = input(\"Enter the string: \")\n",
    "final_str = count_words(original_str)\n",
    "print(\"Final word frequency: \", final_str)\n"
   ]
  },
  {
   "cell_type": "code",
   "execution_count": 37,
   "metadata": {},
   "outputs": [
    {
     "name": "stdout",
     "output_type": "stream",
     "text": [
      "Word Frequencies: {'my': 1, 'name': 2, 'is': 2, 'bond,': 2, 'james': 1, 'what': 1, 'your': 1, 'baby': 1}\n",
      "The most common word is 'name' which appears 2 times.\n"
     ]
    }
   ],
   "source": [
    "def count_words(original_str):\n",
    "    words = original_str.lower().split()  # Case-insensitive\n",
    "    count_str = {}\n",
    "\n",
    "    for word in words:\n",
    "        if word in count_str:\n",
    "            count_str[word] += 1\n",
    "        else:\n",
    "            count_str[word] = 1\n",
    "\n",
    "    return count_str\n",
    "\n",
    "def most_common_word(count_dict):\n",
    "    max_word = max(count_dict, key=count_dict.get)\n",
    "    return max_word, count_dict[max_word]\n",
    "\n",
    "# Input\n",
    "original_str = input(\"Enter the string: \")\n",
    "final_str = count_words(original_str)\n",
    "\n",
    "# Output\n",
    "print(\"Word Frequencies:\", final_str)\n",
    "\n",
    "# Most common word\n",
    "word, freq = most_common_word(final_str)\n",
    "print(f\"The most common word is '{word}' which appears {freq} times.\")\n"
   ]
  },
  {
   "cell_type": "markdown",
   "metadata": {},
   "source": [
    "### Anagram checker\n",
    "- When tro string are same at any order"
   ]
  },
  {
   "cell_type": "code",
   "execution_count": 38,
   "metadata": {},
   "outputs": [
    {
     "name": "stdout",
     "output_type": "stream",
     "text": [
      "No, 'rahul' and 'rohit' are not anagrams.\n"
     ]
    }
   ],
   "source": [
    "def anagram(str1, str2):\n",
    "    if sorted(str1) == sorted(str2):\n",
    "        return f\"Yes, '{str1}' and '{str2}' are anagrams.\"\n",
    "    else:\n",
    "        return f\"No, '{str1}' and '{str2}' are not anagrams.\"\n",
    "\n",
    "# Input\n",
    "str1 = input(\"Enter the first string: \")\n",
    "str2 = input(\"Enter the second string: \")\n",
    "\n",
    "# Output\n",
    "result = anagram(str1, str2)\n",
    "print(result)\n"
   ]
  },
  {
   "cell_type": "markdown",
   "metadata": {},
   "source": [
    "### Prime Number List within Range"
   ]
  },
  {
   "cell_type": "code",
   "execution_count": 39,
   "metadata": {},
   "outputs": [
    {
     "name": "stdout",
     "output_type": "stream",
     "text": [
      "Prime numbers in range: [2, 3, 5, 7, 11, 13, 17, 19, 23, 29, 31, 37, 41, 43, 47, 53, 59, 61, 67, 71, 73, 79, 83, 89, 97]\n"
     ]
    }
   ],
   "source": [
    "def prime_numbers_in_range(start, end):\n",
    "    primes = []\n",
    "    for num in range(start, end + 1):\n",
    "        if num > 1:\n",
    "            for i in range(2, int(num ** 0.5) + 1):  # Efficient check till square root\n",
    "                if num % i == 0:\n",
    "                    break\n",
    "            else:\n",
    "                primes.append(num)\n",
    "    return primes\n",
    "\n",
    "start = int(input(\"Enter the start of range: \"))\n",
    "end = int(input(\"Enter the end of range: \"))\n",
    "print(\"Prime numbers in range:\", prime_numbers_in_range(start, end))\n"
   ]
  },
  {
   "cell_type": "markdown",
   "metadata": {},
   "source": [
    "### Sum of Digits in a Number"
   ]
  },
  {
   "cell_type": "code",
   "execution_count": 40,
   "metadata": {},
   "outputs": [
    {
     "name": "stdout",
     "output_type": "stream",
     "text": [
      "Sum of digits: 9\n"
     ]
    }
   ],
   "source": [
    "def sum_of_digits(number):\n",
    "    total = 0\n",
    "    while number > 0:\n",
    "        total += number % 10  # Add the last digit\n",
    "        number = number // 10  # Remove the last digit\n",
    "    return total\n",
    "\n",
    "num = int(input(\"Enter a number: \"))\n",
    "print(\"Sum of digits:\", sum_of_digits(num))\n"
   ]
  },
  {
   "cell_type": "markdown",
   "metadata": {},
   "source": [
    "### Check if Two Strings Are Rotations"
   ]
  },
  {
   "cell_type": "code",
   "execution_count": 41,
   "metadata": {},
   "outputs": [
    {
     "name": "stdout",
     "output_type": "stream",
     "text": [
      "tima is NOT a rotation of amit\n"
     ]
    }
   ],
   "source": [
    "def are_strings_rotations(str1, str2):\n",
    "    if len(str1) != len(str2):\n",
    "        return False\n",
    "    return str2 in str1 + str1  # Concatenate str1 with itself and check if str2 is a substring\n",
    "\n",
    "string1 = input(\"Enter the first string: \")\n",
    "string2 = input(\"Enter the second string: \")\n",
    "if are_strings_rotations(string1, string2):\n",
    "    print(f\"{string2} is a rotation of {string1}\")\n",
    "else:\n",
    "    print(f\"{string2} is NOT a rotation of {string1}\")\n"
   ]
  },
  {
   "cell_type": "markdown",
   "metadata": {},
   "source": [
    "## Recursion"
   ]
  },
  {
   "cell_type": "code",
   "execution_count": 2,
   "metadata": {},
   "outputs": [
    {
     "name": "stdout",
     "output_type": "stream",
     "text": [
      "Final output is: 32\n"
     ]
    }
   ],
   "source": [
    "def power(base, exponent):\n",
    "    if exponent == 0:\n",
    "        return 1\n",
    "    else:\n",
    "        return base * power(base, exponent - 1)\n",
    "\n",
    "base = int(input(\"Enter the base value: \"))\n",
    "exponent = int(input(\"Enter the exponent: \"))\n",
    "result = power(base, exponent)\n",
    "print(\"Final output is:\", result)\n"
   ]
  },
  {
   "cell_type": "code",
   "execution_count": 4,
   "metadata": {},
   "outputs": [
    {
     "name": "stdout",
     "output_type": "stream",
     "text": [
      "Final output is: 0.125\n"
     ]
    }
   ],
   "source": [
    "def power(base, exponent):\n",
    "    if exponent == 0:\n",
    "        return 1\n",
    "    elif exponent > 0:\n",
    "        return base * power(base, exponent - 1)\n",
    "    else:\n",
    "        return 1 / power(base, -exponent)\n",
    "\n",
    "base = int(input(\"Enter the base value: \"))\n",
    "exponent = int(input(\"Enter the exponent: \"))\n",
    "result = power(base, exponent)\n",
    "print(\"Final output is:\", result)\n"
   ]
  },
  {
   "cell_type": "markdown",
   "metadata": {},
   "source": [
    "### Fibonacci recursion call"
   ]
  },
  {
   "cell_type": "code",
   "execution_count": 11,
   "metadata": {},
   "outputs": [
    {
     "name": "stdout",
     "output_type": "stream",
     "text": [
      "0\n",
      "1\n",
      "2\n",
      "3\n",
      "4\n",
      "5\n",
      "6\n",
      "7\n",
      "8\n",
      "9\n",
      "10\n",
      "11\n",
      "12\n",
      "13\n",
      "14\n",
      "15\n",
      "16\n",
      "17\n",
      "18\n",
      "19\n",
      "20\n"
     ]
    }
   ],
   "source": [
    "def fibonacci(num):\n",
    "    if num == 0:\n",
    "        return 0\n",
    "    elif num==1:\n",
    "        return 1\n",
    "    else:\n",
    "        return fibonacci(num -1) + fibonacci(num-2)\n",
    "num = int(input(\"Enter the value: \"))\n",
    "for i in range(0,fibonacci(num-1)):\n",
    "    print(i)\n"
   ]
  },
  {
   "cell_type": "markdown",
   "metadata": {},
   "source": [
    "### Sum of digit, using recursion call\n",
    "- Input: 1234\n",
    "- Output: 10 "
   ]
  },
  {
   "cell_type": "code",
   "execution_count": 15,
   "metadata": {},
   "outputs": [
    {
     "name": "stdout",
     "output_type": "stream",
     "text": [
      "Input values are:  1234\n",
      "Output sum:  10\n"
     ]
    }
   ],
   "source": [
    "def sum_digit(num):\n",
    "    if num == 0:\n",
    "        return 0\n",
    "    else:\n",
    "        return (num%10) + sum_digit(num // 10)\n",
    "num = int(input(\"Enter the number: \"))\n",
    "print(\"Input values are: \", num)\n",
    "result = sum_digit(num)\n",
    "print(\"Output sum: \", result)"
   ]
  },
  {
   "cell_type": "code",
   "execution_count": 1,
   "metadata": {},
   "outputs": [
    {
     "name": "stdout",
     "output_type": "stream",
     "text": [
      "GCD (or HCF) is: 6\n"
     ]
    }
   ],
   "source": [
    "def find_gcd(a, b):\n",
    "    if b == 0:\n",
    "        return a\n",
    "    else:\n",
    "        return find_gcd(b, a % b)\n",
    "\n",
    "num1 = int(input(\"Enter first number: \"))\n",
    "num2 = int(input(\"Enter second number: \"))\n",
    "\n",
    "result = find_gcd(num1, num2)\n",
    "print(\"GCD (or HCF) is:\", result)\n"
   ]
  },
  {
   "cell_type": "code",
   "execution_count": 5,
   "metadata": {},
   "outputs": [
    {
     "name": "stdout",
     "output_type": "stream",
     "text": [
      "Total digits: 1\n",
      "Total alphabets: 5\n"
     ]
    }
   ],
   "source": [
    "def count_d_a(s):\n",
    "    alphabet = 0\n",
    "    digit = 0\n",
    "    for char in s:\n",
    "        if char.isdigit():\n",
    "            digit += 1\n",
    "        elif char.isalpha():\n",
    "            alphabet += 1\n",
    "    return digit, alphabet\n",
    "\n",
    "input_str = input(\"Enter the string with alphabet and digits: \")\n",
    "\n",
    "digits, alphabets = count_d_a(input_str)\n",
    "print(f\"Total digits: {digits}\")\n",
    "print(f\"Total alphabets: {alphabets}\")\n"
   ]
  },
  {
   "cell_type": "code",
   "execution_count": 7,
   "metadata": {},
   "outputs": [
    {
     "name": "stdout",
     "output_type": "stream",
     "text": [
      "Duplicated values are: ['2', '5']\n"
     ]
    }
   ],
   "source": [
    "def find_duplicates(lst):\n",
    "    seen = []\n",
    "    duplicates = []\n",
    "\n",
    "    for value in lst:\n",
    "        if value in seen:\n",
    "            if value not in duplicates:\n",
    "                duplicates.append(value)\n",
    "        else:\n",
    "            seen.append(value)\n",
    "    \n",
    "    return duplicates\n",
    "\n",
    "lst_input = input(\"Enter the list: \").split()\n",
    "result = find_duplicates(lst_input)\n",
    "print(\"Duplicated values are:\", result)\n"
   ]
  },
  {
   "cell_type": "markdown",
   "metadata": {},
   "source": [
    "### Nested function"
   ]
  },
  {
   "cell_type": "code",
   "execution_count": null,
   "metadata": {},
   "outputs": [
    {
     "name": "stdout",
     "output_type": "stream",
     "text": [
      "Result: 27\n"
     ]
    }
   ],
   "source": [
    "def outer_function(number):\n",
    "    def inner_function(n):\n",
    "        return n * n \n",
    "\n",
    "    square = inner_function(number)  \n",
    "    return square * number \n",
    "\n",
    "result = outer_function(3)  \n",
    "print(\"Result:\", result)\n"
   ]
  },
  {
   "cell_type": "code",
   "execution_count": null,
   "metadata": {},
   "outputs": [],
   "source": [
    "def "
   ]
  },
  {
   "cell_type": "code",
   "execution_count": null,
   "metadata": {},
   "outputs": [],
   "source": []
  },
  {
   "cell_type": "code",
   "execution_count": null,
   "metadata": {},
   "outputs": [],
   "source": []
  },
  {
   "cell_type": "code",
   "execution_count": null,
   "metadata": {},
   "outputs": [],
   "source": []
  },
  {
   "cell_type": "code",
   "execution_count": null,
   "metadata": {},
   "outputs": [],
   "source": []
  },
  {
   "cell_type": "code",
   "execution_count": null,
   "metadata": {},
   "outputs": [],
   "source": []
  },
  {
   "cell_type": "code",
   "execution_count": null,
   "metadata": {},
   "outputs": [],
   "source": []
  },
  {
   "cell_type": "code",
   "execution_count": null,
   "metadata": {},
   "outputs": [],
   "source": []
  },
  {
   "cell_type": "code",
   "execution_count": null,
   "metadata": {},
   "outputs": [],
   "source": []
  },
  {
   "cell_type": "code",
   "execution_count": null,
   "metadata": {},
   "outputs": [],
   "source": []
  },
  {
   "cell_type": "code",
   "execution_count": null,
   "metadata": {},
   "outputs": [],
   "source": []
  },
  {
   "cell_type": "code",
   "execution_count": null,
   "metadata": {},
   "outputs": [],
   "source": []
  },
  {
   "cell_type": "code",
   "execution_count": null,
   "metadata": {},
   "outputs": [],
   "source": []
  },
  {
   "cell_type": "code",
   "execution_count": null,
   "metadata": {},
   "outputs": [],
   "source": []
  },
  {
   "cell_type": "code",
   "execution_count": null,
   "metadata": {},
   "outputs": [],
   "source": []
  },
  {
   "cell_type": "code",
   "execution_count": null,
   "metadata": {},
   "outputs": [],
   "source": []
  }
 ],
 "metadata": {
  "kernelspec": {
   "display_name": "Python 3",
   "language": "python",
   "name": "python3"
  },
  "language_info": {
   "codemirror_mode": {
    "name": "ipython",
    "version": 3
   },
   "file_extension": ".py",
   "mimetype": "text/x-python",
   "name": "python",
   "nbconvert_exporter": "python",
   "pygments_lexer": "ipython3",
   "version": "3.12.0"
  }
 },
 "nbformat": 4,
 "nbformat_minor": 2
}
