{
 "cells": [
  {
   "attachments": {},
   "cell_type": "markdown",
   "metadata": {},
   "source": [
    "![WhatsApp Image 2024-10-09 at 11.15.15_a8753ea9.jpg](<attachment:WhatsApp Image 2024-10-09 at 11.15.15_a8753ea9.jpg>)"
   ]
  },
  {
   "cell_type": "markdown",
   "metadata": {},
   "source": [
    "#### Functions in python are treated as first class functions because\n",
    "- function can be passed as an argument to another fucntion\n",
    "- function are objects\n",
    "- function can return another functions"
   ]
  },
  {
   "cell_type": "code",
   "execution_count": 3,
   "metadata": {},
   "outputs": [
    {
     "name": "stdout",
     "output_type": "stream",
     "text": [
      "hello\n"
     ]
    }
   ],
   "source": [
    "def greet():\n",
    "    print(\"hello\")\n",
    "greet()\n"
   ]
  },
  {
   "cell_type": "code",
   "execution_count": 6,
   "metadata": {},
   "outputs": [
    {
     "name": "stdout",
     "output_type": "stream",
     "text": [
      "10\n",
      "10 5\n"
     ]
    }
   ],
   "source": [
    "g_val = 10\n",
    "def greet():\n",
    "    l_vel = 5\n",
    "    print(g_val, l_vel)\n",
    "print(g_val)\n",
    "greet()"
   ]
  },
  {
   "cell_type": "code",
   "execution_count": 5,
   "metadata": {},
   "outputs": [
    {
     "ename": "NameError",
     "evalue": "name 'l_vel' is not defined",
     "output_type": "error",
     "traceback": [
      "\u001b[1;31m---------------------------------------------------------------------------\u001b[0m",
      "\u001b[1;31mNameError\u001b[0m                                 Traceback (most recent call last)",
      "Cell \u001b[1;32mIn[5], line 6\u001b[0m\n\u001b[0;32m      4\u001b[0m     l_vel \u001b[38;5;241m=\u001b[39m \u001b[38;5;241m5\u001b[39m\n\u001b[0;32m      5\u001b[0m     \u001b[38;5;28mprint\u001b[39m(g_val, l_vel)\n\u001b[1;32m----> 6\u001b[0m \u001b[38;5;28mprint\u001b[39m(g_val, l_vel)\n\u001b[0;32m      7\u001b[0m greet()\n",
      "\u001b[1;31mNameError\u001b[0m: name 'l_vel' is not defined"
     ]
    }
   ],
   "source": [
    "#l_vel is a local variable so it cannot be printed outside the function without calling it directly\n",
    "g_val = 10\n",
    "def greet():\n",
    "    l_vel = 5\n",
    "    print(g_val, l_vel)\n",
    "print(g_val, l_vel)\n",
    "greet()"
   ]
  },
  {
   "cell_type": "code",
   "execution_count": 15,
   "metadata": {},
   "outputs": [
    {
     "name": "stdout",
     "output_type": "stream",
     "text": [
      "Hello, how u doing\n",
      "My g\n"
     ]
    }
   ],
   "source": [
    "## functions are objects\n",
    "def coms(text):\n",
    "    return text.capitalize()\n",
    "print(coms(\"Hello, how u doing\"))\n",
    "ya=coms(\"my g\")\n",
    "print(ya)"
   ]
  },
  {
   "cell_type": "code",
   "execution_count": 7,
   "metadata": {},
   "outputs": [
    {
     "name": "stdout",
     "output_type": "stream",
     "text": [
      "Hello rahul\n"
     ]
    }
   ],
   "source": [
    "#Passing the parameters\n",
    "n = input(\"Enter your name\")\n",
    "def greet(n):\n",
    "    print(\"Hello\", n)\n",
    "greet(n)"
   ]
  },
  {
   "cell_type": "code",
   "execution_count": 19,
   "metadata": {},
   "outputs": [
    {
     "data": {
      "text/plain": [
       "[1, 2, 3, 4]"
      ]
     },
     "execution_count": 19,
     "metadata": {},
     "output_type": "execute_result"
    }
   ],
   "source": [
    "lst = [1,2,3,4,\"Rahul\", 'Chand',[1,2,3,4,5]]\n",
    "def practice():\n",
    "    l2=[]\n",
    "    list([l2.append(i) for i in lst if (type(i)==int or type(i)==float)])\n",
    "    return l2\n",
    "practice()"
   ]
  },
  {
   "cell_type": "code",
   "execution_count": 24,
   "metadata": {},
   "outputs": [
    {
     "data": {
      "text/plain": [
       "[1, 2, 3, 4, 11, 22, 39, 43]"
      ]
     },
     "execution_count": 24,
     "metadata": {},
     "output_type": "execute_result"
    }
   ],
   "source": [
    "l1=[1,2,3,4,\"Rahul\",\"chand\",[11,22,39,43]] #make a new list of only numbers\n",
    "def test7():\n",
    "    \"\"\"well this is called doctring in genral when we call function it doesnot have any doctring if it is user made but since i have created a docstring this message will visible as it's documenation\"\"\"\n",
    "    l2=[]\n",
    "    list([l2.append(i) for i in l1 if (type(i)==int or type(i)==float)])\n",
    "    list([l2.append(j) for i in l1 if type(i) == list for j in i if type(j)==int or type(j)==float])\n",
    "    return l2\n",
    "test7()"
   ]
  },
  {
   "cell_type": "code",
   "execution_count": 5,
   "metadata": {},
   "outputs": [
    {
     "name": "stdout",
     "output_type": "stream",
     "text": [
      "Hello rahul\n"
     ]
    }
   ],
   "source": [
    "def greet(n):\n",
    "    print(\"Hello\", n)\n",
    "greet(\"rahul\")"
   ]
  },
  {
   "cell_type": "code",
   "execution_count": 9,
   "metadata": {},
   "outputs": [
    {
     "name": "stdout",
     "output_type": "stream",
     "text": [
      "5 10 15\n"
     ]
    }
   ],
   "source": [
    "def submission(a,b):\n",
    "    print(a,b,a+b)\n",
    "submission(5,10)"
   ]
  },
  {
   "cell_type": "code",
   "execution_count": 3,
   "metadata": {},
   "outputs": [
    {
     "name": "stdout",
     "output_type": "stream",
     "text": [
      "25\n",
      "None\n"
     ]
    }
   ],
   "source": [
    "def submit(a,b):\n",
    "    print(a+b)\n",
    "print(submit(10,15))\n",
    "#None is coming because the other print statement is returning the return value of submit(10,15)"
   ]
  },
  {
   "cell_type": "code",
   "execution_count": 1,
   "metadata": {},
   "outputs": [
    {
     "name": "stdout",
     "output_type": "stream",
     "text": [
      "15\n"
     ]
    }
   ],
   "source": [
    "def submission(a,b):\n",
    "    return a+b\n",
    "var = submission(5,10)\n",
    "print(var)"
   ]
  },
  {
   "cell_type": "code",
   "execution_count": 7,
   "metadata": {},
   "outputs": [
    {
     "name": "stdout",
     "output_type": "stream",
     "text": [
      "(25, -5, 150)\n"
     ]
    }
   ],
   "source": [
    "def submit(a,b):\n",
    "    return a+b, a-b, a*b\n",
    "sumi = submit(10,15)\n",
    "print(sumi)\n",
    "# Output is coming in tuple format to change the format we can use other method"
   ]
  },
  {
   "cell_type": "code",
   "execution_count": 8,
   "metadata": {},
   "outputs": [
    {
     "name": "stdout",
     "output_type": "stream",
     "text": [
      "25 -5 150\n"
     ]
    }
   ],
   "source": [
    "def submit(a,b):\n",
    "    return a+b, a-b, a*b\n",
    "addition, subtraction, product = submit(10,15)\n",
    "print(addition, subtraction, product)\n"
   ]
  },
  {
   "cell_type": "code",
   "execution_count": 13,
   "metadata": {},
   "outputs": [
    {
     "name": "stdout",
     "output_type": "stream",
     "text": [
      "[1, 4, 9, 16, 25, 36]\n",
      "[1, 8, 27, 64, 125, 216]\n",
      "[2, 12, 36, 80, 150, 252]\n"
     ]
    }
   ],
   "source": [
    "#calling diffrenet function\n",
    "lst = [1,2,3,4,5,6]\n",
    "def squ_lst(lst):\n",
    "    return [i**2 for i in lst]\n",
    "def cube_lst(lst):\n",
    "    return [i**3 for i in lst]\n",
    "def final(lst):\n",
    "    lst1 = squ_lst(lst)\n",
    "    lst2 = cube_lst(lst)\n",
    "    return [lst1[i] + lst2[i] for i in range(len(lst1))]\n",
    "print(squ_lst(lst))\n",
    "print(cube_lst(lst))\n",
    "print(final(lst))"
   ]
  },
  {
   "cell_type": "code",
   "execution_count": 25,
   "metadata": {},
   "outputs": [],
   "source": [
    "def test6(*args):#it can be name anything\n",
    "    return args ## this will return tuple"
   ]
  },
  {
   "cell_type": "code",
   "execution_count": 26,
   "metadata": {},
   "outputs": [
    {
     "data": {
      "text/plain": [
       "('swaenjfdbnf', 324.32535, 24, 'swasfsfs')"
      ]
     },
     "execution_count": 26,
     "metadata": {},
     "output_type": "execute_result"
    }
   ],
   "source": [
    "test6(\"swaenjfdbnf\",324.32535,24,\"swasfsfs\")\n"
   ]
  },
  {
   "cell_type": "code",
   "execution_count": 27,
   "metadata": {},
   "outputs": [
    {
     "data": {
      "text/plain": [
       "{'a': 23, 'b': 'rahul', 'c': 35345.454, 'd': (5+6j)}"
      ]
     },
     "execution_count": 27,
     "metadata": {},
     "output_type": "execute_result"
    }
   ],
   "source": [
    "def test8(**kwargs):\n",
    "    return kwargs #this will return dictionary\n",
    "test8(a=23,b=\"rahul\",c=35345.454,d=5+6j)\n"
   ]
  },
  {
   "cell_type": "markdown",
   "metadata": {},
   "source": [
    "### Math Function"
   ]
  },
  {
   "cell_type": "code",
   "execution_count": 1,
   "metadata": {},
   "outputs": [],
   "source": [
    "import math"
   ]
  },
  {
   "cell_type": "code",
   "execution_count": 3,
   "metadata": {},
   "outputs": [
    {
     "name": "stdout",
     "output_type": "stream",
     "text": [
      "11\n",
      "10\n",
      "10\n"
     ]
    }
   ],
   "source": [
    "x =10.8\n",
    "print(math.ceil(x))\n",
    "print(math.floor(x))\n",
    "print(math.trunc(x))"
   ]
  },
  {
   "cell_type": "code",
   "execution_count": 5,
   "metadata": {},
   "outputs": [
    {
     "name": "stdout",
     "output_type": "stream",
     "text": [
      "20.085536923187668\n",
      "0.47712125471966244\n"
     ]
    }
   ],
   "source": [
    "x = 3\n",
    "print(math.exp(x))\n",
    "print(math.log10(x))"
   ]
  },
  {
   "cell_type": "code",
   "execution_count": 8,
   "metadata": {},
   "outputs": [
    {
     "name": "stdout",
     "output_type": "stream",
     "text": [
      "0.8939966636005579\n",
      "-0.4480736161291701\n",
      "3.141592653589793\n"
     ]
    }
   ],
   "source": [
    "x = 90\n",
    "print(math.sin(x))\n",
    "print(math.cos(x))\n",
    "print(math.pi)"
   ]
  },
  {
   "cell_type": "markdown",
   "metadata": {},
   "source": [
    "### Random Number"
   ]
  },
  {
   "cell_type": "code",
   "execution_count": 24,
   "metadata": {},
   "outputs": [
    {
     "name": "stdout",
     "output_type": "stream",
     "text": [
      "0.8498988148717966\n",
      "1\n"
     ]
    }
   ],
   "source": [
    "import random\n",
    "print(random.random())\n",
    "print(random.randint(1,3))"
   ]
  },
  {
   "cell_type": "code",
   "execution_count": 21,
   "metadata": {},
   "outputs": [
    {
     "name": "stdout",
     "output_type": "stream",
     "text": [
      "1\n",
      "[5, 2]\n"
     ]
    }
   ],
   "source": [
    "print(random.choice([1,2,3,4,5]))\n",
    "print(random.sample([1,2,3,4,5],2))"
   ]
  },
  {
   "cell_type": "code",
   "execution_count": 30,
   "metadata": {},
   "outputs": [
    {
     "name": "stdout",
     "output_type": "stream",
     "text": [
      "1.9172134187741228\n"
     ]
    },
    {
     "data": {
      "text/plain": [
       "'Using seed now the value not gonna change'"
      ]
     },
     "execution_count": 30,
     "metadata": {},
     "output_type": "execute_result"
    }
   ],
   "source": [
    "random.seed(40)\n",
    "print(random.uniform(1.0, 3.0))\n",
    "\"\"\"Using seed now the value not gonna change\"\"\""
   ]
  },
  {
   "cell_type": "markdown",
   "metadata": {},
   "source": [
    "### Date time"
   ]
  },
  {
   "cell_type": "code",
   "execution_count": 41,
   "metadata": {},
   "outputs": [
    {
     "name": "stdout",
     "output_type": "stream",
     "text": [
      "2024-10-09 23:37:28.253570\n",
      "2023-11-12 10:30:12\n"
     ]
    }
   ],
   "source": [
    "import datetime\n",
    "print(datetime.datetime.now())\n",
    "print(datetime.datetime(2023,11,12,10,30,12))"
   ]
  },
  {
   "cell_type": "code",
   "execution_count": 43,
   "metadata": {},
   "outputs": [
    {
     "name": "stdout",
     "output_type": "stream",
     "text": [
      "09/10/24 23:41:38\n"
     ]
    }
   ],
   "source": [
    "print(datetime.datetime.now().strftime(\"%d/%m/%y %H:%M:%S\"))"
   ]
  },
  {
   "cell_type": "code",
   "execution_count": 44,
   "metadata": {},
   "outputs": [
    {
     "name": "stdout",
     "output_type": "stream",
     "text": [
      "347 days, 13:21:55.190714\n"
     ]
    }
   ],
   "source": [
    "date_1 = datetime.datetime.now()\n",
    "date_2 = datetime.datetime(2023,10,28,10,30,0)\n",
    "print(date_1 - date_2)\n"
   ]
  },
  {
   "cell_type": "markdown",
   "metadata": {},
   "source": [
    "### Collections"
   ]
  },
  {
   "cell_type": "code",
   "execution_count": 47,
   "metadata": {},
   "outputs": [],
   "source": [
    "from collections import Counter"
   ]
  },
  {
   "cell_type": "code",
   "execution_count": 49,
   "metadata": {},
   "outputs": [
    {
     "name": "stdout",
     "output_type": "stream",
     "text": [
      "Counter({2: 3, 5: 3, 4: 2, 1: 1, 3: 1, 6: 1, 7: 1, 8: 1})\n"
     ]
    }
   ],
   "source": [
    "lst = [1,2,2,4,5,3,2,4,5,5,6,7,8]\n",
    "print(Counter(lst))\n",
    "#Unordered dictionary"
   ]
  },
  {
   "cell_type": "code",
   "execution_count": 4,
   "metadata": {},
   "outputs": [
    {
     "name": "stdout",
     "output_type": "stream",
     "text": [
      "defaultdict(<class 'int'>, {'a': 2})\n"
     ]
    }
   ],
   "source": [
    "from collections import defaultdict, OrderedDict\n",
    "d = defaultdict(int)\n",
    "d['a'] = 2\n",
    "print(d)"
   ]
  },
  {
   "cell_type": "code",
   "execution_count": 5,
   "metadata": {},
   "outputs": [
    {
     "name": "stdout",
     "output_type": "stream",
     "text": [
      "OrderedDict([('one', 1), ('two', 2)])\n"
     ]
    }
   ],
   "source": [
    "d = OrderedDict()\n",
    "d['one'] = 1\n",
    "d['two'] = 2\n",
    "print(d)"
   ]
  },
  {
   "cell_type": "code",
   "execution_count": 9,
   "metadata": {},
   "outputs": [
    {
     "name": "stdout",
     "output_type": "stream",
     "text": [
      "abcdefghijklmnopqrstuvwxyzABCDEFGHIJKLMNOPQRSTUVWXYZ\n",
      "abcdefghijklmnopqrstuvwxyz\n",
      "ABCDEFGHIJKLMNOPQRSTUVWXYZ\n",
      "--------------------------------------------------------------------------------\n",
      "0123456789\n",
      "0123456789abcdefABCDEF\n",
      "01234567\n",
      "!\"#$%&'()*+,-./:;<=>?@[\\]^_`{|}~\n"
     ]
    }
   ],
   "source": [
    "#Strings\n",
    "import string\n",
    "print(string.ascii_letters)\n",
    "print(string.ascii_lowercase)\n",
    "print(string.ascii_uppercase)\n",
    "\n",
    "print(\"-\"*80)\n",
    "print(string.digits)\n",
    "print(string.hexdigits)\n",
    "print(string.octdigits)\n",
    "\n",
    "print(string.punctuation)"
   ]
  },
  {
   "cell_type": "markdown",
   "metadata": {},
   "source": [
    "- Problem Statement - Calculating the nth term of the Ackermann function.\n",
    "- The Ackermann function is a recursive mathematical function that is exceptionally fast-growing. It is often used to demonstrate the difference in growth rates between simple recursive algorithms and more efficient ones.\n",
    "\n",
    "- If m = 0, the result is n + 1.\n",
    "\n",
    "- If m > 0 and n = 0, the result is ackermann(m-1, 1).\n",
    "\n",
    "- If m > 0 and n > 0, the result is ackermann(m-1, ackermann(m, n-1)).\n"
   ]
  },
  {
   "cell_type": "code",
   "execution_count": null,
   "metadata": {},
   "outputs": [],
   "source": [
    "\n",
    "def ackermann(m, n):\n",
    "    if m == 0:\n",
    "        return n + 1\n",
    "    elif m > 0 and n == 0:\n",
    "        return ackermann(m-1, 1)\n",
    "    elif m > 0 and n > 0:\n",
    "        return ackermann(m-1, ackermann(m, n-1))\n",
    "\n",
    "result = ackermann(3, 4)\n",
    "print(result)  "
   ]
  }
 ],
 "metadata": {
  "kernelspec": {
   "display_name": "Python 3 (ipykernel)",
   "language": "python",
   "name": "python3"
  },
  "language_info": {
   "codemirror_mode": {
    "name": "ipython",
    "version": 3
   },
   "file_extension": ".py",
   "mimetype": "text/x-python",
   "name": "python",
   "nbconvert_exporter": "python",
   "pygments_lexer": "ipython3",
   "version": "3.11.3"
  }
 },
 "nbformat": 4,
 "nbformat_minor": 2
}
