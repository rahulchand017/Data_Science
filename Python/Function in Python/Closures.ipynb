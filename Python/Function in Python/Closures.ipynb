{
 "cells": [
  {
   "cell_type": "markdown",
   "metadata": {},
   "source": [
    "#### Closures in Python involve nested functions. A function inside another function is called a nested function."
   ]
  },
  {
   "cell_type": "markdown",
   "metadata": {},
   "source": [
    "#### USE of Closure\n",
    "- 1. Preserving State:- \n",
    "A closure allows you to \"remember\" the state of variables from the outer function even after it has finished executing. This is useful when you need to maintain state without using global variables or object-oriented classes.\n",
    "\n",
    "- 2. Encapsulation:- \n",
    "Closures provide a way to hide (encapsulate) certain variables and functions from the outside world, creating a private environment.\n",
    "\n",
    "- 3. Function Factories:- \n",
    "Closures are commonly used in factory functions, where you want to generate customized functions with specific behavior."
   ]
  },
  {
   "cell_type": "code",
   "execution_count": 8,
   "metadata": {},
   "outputs": [
    {
     "name": "stdout",
     "output_type": "stream",
     "text": [
      "Hi sexy! How are u\n"
     ]
    }
   ],
   "source": [
    "def outer_function():\n",
    "    def inner_function():\n",
    "        print(\"Hi sexy! How are u\")\n",
    "    inner_function()\n",
    "\n",
    "outer_function()\n"
   ]
  },
  {
   "cell_type": "code",
   "execution_count": 16,
   "metadata": {},
   "outputs": [
    {
     "name": "stdout",
     "output_type": "stream",
     "text": [
      "Hi,gorgeous\n"
     ]
    }
   ],
   "source": [
    "def outerfunc():\n",
    "    message=\"Hi,gorgeous\"\n",
    "    def innerfunc():\n",
    "        print(message)    \n",
    "    return innerfunc\n",
    "# outerfunc()\n",
    "variable_object=outerfunc()\n",
    "variable_object()\n"
   ]
  },
  {
   "cell_type": "markdown",
   "metadata": {},
   "source": [
    "##### In a closure, the inner function has access to variables from the outer function, but by default, those variables are read-only. If you want to modify those variables from within the inner function, you must use the nonlocal keyword."
   ]
  },
  {
   "cell_type": "code",
   "execution_count": 19,
   "metadata": {},
   "outputs": [
    {
     "name": "stdout",
     "output_type": "stream",
     "text": [
      "Count is now: 1\n",
      "Count is now: 2\n"
     ]
    }
   ],
   "source": [
    "def outer_function():\n",
    "    count = 0\n",
    "\n",
    "    def inner_function():\n",
    "        nonlocal count  # Allows modification of the outer variable\n",
    "        count += 1\n",
    "        print(f\"Count is now: {count}\")\n",
    "\n",
    "    return inner_function\n",
    "\n",
    "closure_function = outer_function()\n",
    "closure_function()  # Output: Count is now: 1\n",
    "closure_function()  # Output: Count is now: 2\n",
    "\n"
   ]
  },
  {
   "cell_type": "code",
   "execution_count": 23,
   "metadata": {},
   "outputs": [
    {
     "name": "stdout",
     "output_type": "stream",
     "text": [
      "20\n",
      "50\n"
     ]
    }
   ],
   "source": [
    "\"\"\" Using Closures to Create Function Factories \"\"\"\n",
    "def make_multiplier(factor):\n",
    "    def multiply_by(number):\n",
    "        return number * factor  # Uses 'factor' from outer function\n",
    "    return multiply_by\n",
    "\n",
    "# Create multiplier functions\n",
    "multiply_by_2 = make_multiplier(2)\n",
    "multiply_by_5 = make_multiplier(5)\n",
    "\n",
    "# Use the generated functions\n",
    "print(multiply_by_2(10))  # Output: 20\n",
    "print(multiply_by_5(10))  # Output: 50\n"
   ]
  },
  {
   "cell_type": "code",
   "execution_count": 24,
   "metadata": {},
   "outputs": [
    {
     "name": "stdout",
     "output_type": "stream",
     "text": [
      "Something is happening before the function is called.\n",
      "Hello!\n",
      "Something is happening after the function is called.\n"
     ]
    }
   ],
   "source": [
    "\"\"\" Closures in Decorators \"\"\"\n",
    "def my_decorator(func):\n",
    "    def wrapper():\n",
    "        print(\"Something is happening before the function is called.\")\n",
    "        func()  # Calling the original function\n",
    "        print(\"Something is happening after the function is called.\")\n",
    "    return wrapper\n",
    "\n",
    "@my_decorator\n",
    "def say_hello():\n",
    "    print(\"Hello!\")\n",
    "\n",
    "# Using the decorated function\n",
    "say_hello()\n"
   ]
  },
  {
   "cell_type": "code",
   "execution_count": 25,
   "metadata": {},
   "outputs": [
    {
     "name": "stdout",
     "output_type": "stream",
     "text": [
      "120\n",
      "120\n"
     ]
    }
   ],
   "source": [
    "\"\"\"Closures for Memoization (Caching Results)\"\"\"\n",
    "def memoize_factorial():\n",
    "    cache = {}\n",
    "\n",
    "    def factorial(n):\n",
    "        if n in cache:\n",
    "            return cache[n]\n",
    "        if n == 0:\n",
    "            return 1\n",
    "        result = n * factorial(n - 1)\n",
    "        cache[n] = result  # Store the result in the cache\n",
    "        return result\n",
    "\n",
    "    return factorial\n",
    "\n",
    "# Creating a memoized factorial function\n",
    "memoized_factorial = memoize_factorial()\n",
    "\n",
    "# Testing the memoized function\n",
    "print(memoized_factorial(5))  # Output: 120\n",
    "print(memoized_factorial(5))  # Output: 120 (retrieved from cache)\n"
   ]
  },
  {
   "cell_type": "code",
   "execution_count": 26,
   "metadata": {},
   "outputs": [
    {
     "name": "stdout",
     "output_type": "stream",
     "text": [
      "Callback triggered with message: Hello, World!\n",
      "Callback triggered with message: Goodbye!\n"
     ]
    }
   ],
   "source": [
    "def create_callback(message):\n",
    "    def callback():\n",
    "        print(f\"Callback triggered with message: {message}\")\n",
    "    return callback\n",
    "\n",
    "callback1 = create_callback(\"Hello, World!\")\n",
    "callback2 = create_callback(\"Goodbye!\")\n",
    "\n",
    "callback1()  \n",
    "callback2() \n"
   ]
  },
  {
   "cell_type": "code",
   "execution_count": 27,
   "metadata": {},
   "outputs": [
    {
     "name": "stdout",
     "output_type": "stream",
     "text": [
      "Hello, Alice!\n",
      "Goodbye, Bob!\n"
     ]
    }
   ],
   "source": [
    "def greet(greeting):\n",
    "    def greet_person(name):\n",
    "        return f\"{greeting}, {name}!\"\n",
    "    return greet_person\n",
    "\n",
    "say_hello = greet(\"Hello\")\n",
    "say_goodbye = greet(\"Goodbye\")\n",
    "\n",
    "print(say_hello(\"Alice\"))  \n",
    "print(say_goodbye(\"Bob\"))  \n"
   ]
  },
  {
   "cell_type": "code",
   "execution_count": null,
   "metadata": {},
   "outputs": [],
   "source": []
  }
 ],
 "metadata": {
  "kernelspec": {
   "display_name": "Python 3 (ipykernel)",
   "language": "python",
   "name": "python3"
  },
  "language_info": {
   "codemirror_mode": {
    "name": "ipython",
    "version": 3
   },
   "file_extension": ".py",
   "mimetype": "text/x-python",
   "name": "python",
   "nbconvert_exporter": "python",
   "pygments_lexer": "ipython3",
   "version": "3.11.3"
  }
 },
 "nbformat": 4,
 "nbformat_minor": 2
}
