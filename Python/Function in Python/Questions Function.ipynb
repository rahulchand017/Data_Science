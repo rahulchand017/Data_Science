{
 "cells": [
  {
   "cell_type": "markdown",
   "id": "cfe9d5e6",
   "metadata": {},
   "source": [
    "## Functions\n",
    "- Non repetitive of the code"
   ]
  },
  {
   "cell_type": "code",
   "execution_count": 7,
   "id": "685876d4",
   "metadata": {},
   "outputs": [
    {
     "name": "stdout",
     "output_type": "stream",
     "text": [
      "Hello ji\n"
     ]
    }
   ],
   "source": [
    "def hello_func():\n",
    "    print('Hello ji')\n",
    "hello_func()"
   ]
  },
  {
   "cell_type": "code",
   "execution_count": 11,
   "id": "2cbfa0a3",
   "metadata": {},
   "outputs": [
    {
     "name": "stdout",
     "output_type": "stream",
     "text": [
      "Hello bol bsdk.\n"
     ]
    }
   ],
   "source": [
    "\n",
    "def hello_func(greeting):\n",
    "    return '{} bol bsdk.'.format(greeting)\n",
    "\n",
    "# Call the function with a greeting\n",
    "print(hello_func(\"Hello\"))\n"
   ]
  },
  {
   "cell_type": "code",
   "execution_count": 19,
   "id": "a04fa26e",
   "metadata": {},
   "outputs": [
    {
     "name": "stdout",
     "output_type": "stream",
     "text": [
      "14 is even\n"
     ]
    }
   ],
   "source": [
    "def is_even(num):\n",
    "    if num%2== 0:\n",
    "        print(f\"{num} is even\")\n",
    "    else:\n",
    "        print(f\"{num} not even\")\n",
    "number = int(input('Enter the number'))\n",
    "is_even(number)"
   ]
  },
  {
   "cell_type": "markdown",
   "id": "f6a4fdd8",
   "metadata": {},
   "source": [
    "*args"
   ]
  },
  {
   "cell_type": "code",
   "execution_count": 20,
   "id": "82c47b24",
   "metadata": {},
   "outputs": [
    {
     "name": "stdout",
     "output_type": "stream",
     "text": [
      "362880\n"
     ]
    }
   ],
   "source": [
    "def product(*args):\n",
    "    product = 1\n",
    "    for i in args:\n",
    "        product = product * i\n",
    "    return product\n",
    "value = product(1,2,3,4,5,6,7,8,9)\n",
    "print(value)"
   ]
  },
  {
   "cell_type": "markdown",
   "id": "dcb83df7",
   "metadata": {},
   "source": [
    "** kwargs"
   ]
  },
  {
   "cell_type": "code",
   "execution_count": 26,
   "id": "f01891d9",
   "metadata": {},
   "outputs": [
    {
     "name": "stdout",
     "output_type": "stream",
     "text": [
      "India -> delhi\n",
      "srilanka -> colombo\n"
     ]
    }
   ],
   "source": [
    "def country_capital(**kwargs):\n",
    "    for (key, value) in kwargs.items():\n",
    "        print(key, '->', value)\n",
    "country_capital(India='delhi', srilanka='colombo', )"
   ]
  },
  {
   "cell_type": "markdown",
   "id": "8ce5233a",
   "metadata": {},
   "source": [
    "#### points to remember while using args and kwargs\n",
    "- Order of the arguments matter( normal -> *args-> **kwargs)\n",
    "- The words \"args\" and \"kwargs\" are only a conventional, you can use any name of your choice"
   ]
  },
  {
   "cell_type": "code",
   "execution_count": 27,
   "id": "b4b3c7f3",
   "metadata": {},
   "outputs": [
    {
     "name": "stdout",
     "output_type": "stream",
     "text": [
      "Inside function g\n",
      "inside function f\n"
     ]
    }
   ],
   "source": [
    "def f():\n",
    "    def g():\n",
    "        print(\"Inside function g\")\n",
    "    g()\n",
    "    print('inside function f')\n",
    "f()"
   ]
  },
  {
   "cell_type": "code",
   "execution_count": 28,
   "id": "a63c418f",
   "metadata": {},
   "outputs": [
    {
     "name": "stdout",
     "output_type": "stream",
     "text": [
      "in g(x): x 3\n",
      "in h(x): x 4\n",
      "in main program scope: x, 3\n",
      "in main program scope: z, 4\n"
     ]
    }
   ],
   "source": [
    "def g(x):\n",
    "    def h(x):\n",
    "        print(\"in h(x): x\", x + 1)  \n",
    "\n",
    "    print(\"in g(x): x\", x) \n",
    "    h(x)\n",
    "    return x + 1 \n",
    "\n",
    "x = 3  \n",
    "z = g(x)  \n",
    "\n",
    "print(\"in main program scope: x,\", x)  \n",
    "print(\"in main program scope: z,\", z)  "
   ]
  },
  {
   "cell_type": "code",
   "execution_count": 29,
   "id": "05aa5501",
   "metadata": {},
   "outputs": [
    {
     "data": {
      "text/plain": [
       "2115888591104"
      ]
     },
     "execution_count": 29,
     "metadata": {},
     "output_type": "execute_result"
    }
   ],
   "source": [
    "def square(num):\n",
    "    return num**2\n",
    "id(square)"
   ]
  },
  {
   "cell_type": "code",
   "execution_count": 30,
   "id": "9a29e85e",
   "metadata": {},
   "outputs": [
    {
     "name": "stdout",
     "output_type": "stream",
     "text": [
      "7\n"
     ]
    }
   ],
   "source": [
    "# Returning a function\n",
    "def f():\n",
    "    def x(a,b):\n",
    "        return a +b\n",
    "    return x\n",
    "val = f()(3,4)\n",
    "print(val)"
   ]
  },
  {
   "cell_type": "code",
   "execution_count": 32,
   "id": "1261487e",
   "metadata": {},
   "outputs": [
    {
     "name": "stdout",
     "output_type": "stream",
     "text": [
      "True\n",
      "False\n"
     ]
    }
   ],
   "source": [
    "check = lambda x: 'a' in x\n",
    "print(check('rahul'))\n",
    "print(check('Viru'))"
   ]
  },
  {
   "cell_type": "markdown",
   "id": "7c64633e",
   "metadata": {},
   "source": [
    "### HOF is a function which returns another function"
   ]
  },
  {
   "cell_type": "code",
   "execution_count": null,
   "id": "eb0ce0f2",
   "metadata": {},
   "outputs": [
    {
     "name": "stdout",
     "output_type": "stream",
     "text": [
      "[1, 4, 9, 16, 25]\n"
     ]
    }
   ],
   "source": [
    "def square(x):\n",
    "    return x * x\n",
    "\n",
    "def transform(f,L):\n",
    "    output = []\n",
    "    for i in L:\n",
    "        output.append(f(i))\n",
    "        \n",
    "    print(output)\n",
    "L = [1,2,3,4,5]\n",
    "\n",
    "transform(square,L)"
   ]
  },
  {
   "cell_type": "markdown",
   "id": "1f0310ae",
   "metadata": {},
   "source": [
    "## Questions"
   ]
  },
  {
   "cell_type": "markdown",
   "id": "f93fb3cc",
   "metadata": {},
   "source": [
    "### Write a Python program using map() to convert a list of strings representing numbers into a list of integers.\n",
    "\n"
   ]
  },
  {
   "cell_type": "code",
   "execution_count": 34,
   "id": "be42f08e",
   "metadata": {},
   "outputs": [
    {
     "name": "stdout",
     "output_type": "stream",
     "text": [
      "[1, 2, 3, 4]\n"
     ]
    }
   ],
   "source": [
    "numbers = ['1', '2', '3', '4']\n",
    "int_num = list(map(int, numbers))\n",
    "print(int_num)\n"
   ]
  },
  {
   "cell_type": "markdown",
   "id": "52c12378",
   "metadata": {},
   "source": [
    "### You have a list of names, and you want to convert each name to uppercase using map().\n",
    "\n"
   ]
  },
  {
   "cell_type": "code",
   "execution_count": 36,
   "id": "acd69491",
   "metadata": {},
   "outputs": [
    {
     "name": "stdout",
     "output_type": "stream",
     "text": [
      "['RAHUL', 'BOB', 'CHARLIE']\n"
     ]
    }
   ],
   "source": [
    "names = ['rahul', 'bob', 'charlie']\n",
    "upper_names = list(map(str.upper, names))\n",
    "\n",
    "print(upper_names)\n"
   ]
  },
  {
   "cell_type": "markdown",
   "id": "d38dfe62",
   "metadata": {},
   "source": [
    "### Given a list of integers, use map() with a lambda function to square each number.\n",
    "\n"
   ]
  },
  {
   "cell_type": "code",
   "execution_count": 37,
   "id": "10101a54",
   "metadata": {},
   "outputs": [
    {
     "data": {
      "text/plain": [
       "[1, 4, 9, 16, 25]"
      ]
     },
     "execution_count": 37,
     "metadata": {},
     "output_type": "execute_result"
    }
   ],
   "source": [
    "numbers = [1, 2, 3, 4, 5]\n",
    "squares = list(map(lambda x:x**2, numbers))\n",
    "squares"
   ]
  },
  {
   "cell_type": "markdown",
   "id": "8b030dfd",
   "metadata": {},
   "source": [
    "### You are given two lists of numbers. Use map() to add the corresponding elements of the two lists.\n",
    "\n"
   ]
  },
  {
   "cell_type": "code",
   "execution_count": 39,
   "id": "d4d9efd7",
   "metadata": {},
   "outputs": [
    {
     "name": "stdout",
     "output_type": "stream",
     "text": [
      "[5, 7, 9]\n"
     ]
    }
   ],
   "source": [
    "list1 = [1, 2, 3]\n",
    "list2 = [4, 5, 6]\n",
    "summed = list(map(lambda x,y:x+y, list1, list2))\n",
    "print(summed)"
   ]
  },
  {
   "cell_type": "markdown",
   "id": "1fb83485",
   "metadata": {},
   "source": [
    "### You are given a list of names. Use map() to create a new list that adds a greeting to each name.\n"
   ]
  },
  {
   "cell_type": "code",
   "execution_count": 42,
   "id": "f0e16c52",
   "metadata": {},
   "outputs": [
    {
     "name": "stdout",
     "output_type": "stream",
     "text": [
      "['Hello, Rahul!', 'Hello, Amit!', 'Hello, Sneha!']\n"
     ]
    }
   ],
   "source": [
    "names = ['Rahul', 'Amit', 'Sneha']\n",
    "greetings = list(map(lambda name: \"Hello, \" + name + \"!\", names))\n",
    "print(greetings)\n"
   ]
  },
  {
   "cell_type": "code",
   "execution_count": null,
   "id": "beef96c1",
   "metadata": {},
   "outputs": [
    {
     "data": {
      "text/plain": [
       "49"
      ]
     },
     "execution_count": 45,
     "metadata": {},
     "output_type": "execute_result"
    }
   ],
   "source": [
    "square = lambda x:x**2\n",
    "def square(x):\n",
    "    return x*x\n",
    "square(7)\n",
    "\n",
    "\n",
    "# # Define the lambda function\n",
    "# square = lambda x: x ** 2\n",
    "\n",
    "# # Call it with 7\n",
    "# result = square(7)\n",
    "\n",
    "# print(result)\n"
   ]
  },
  {
   "cell_type": "markdown",
   "id": "0253f44d",
   "metadata": {},
   "source": [
    "### Write a lambda function that returns \"Even\" if a number is even, and \"Odd\" if it’s not.\n",
    "Then, use it to check the number 13."
   ]
  },
  {
   "cell_type": "code",
   "execution_count": 46,
   "id": "060c8e95",
   "metadata": {},
   "outputs": [
    {
     "data": {
      "text/plain": [
       "'odd'"
      ]
     },
     "execution_count": 46,
     "metadata": {},
     "output_type": "execute_result"
    }
   ],
   "source": [
    "value = lambda  x:'Even' if x%2==0 else 'odd'\n",
    "result = value(7)\n",
    "result"
   ]
  },
  {
   "cell_type": "markdown",
   "id": "37789ae0",
   "metadata": {},
   "source": [
    "#### You have a list of tuples representing students and their marks. Use a lambda function with sorted() to sort the list based on marks (second item in each tuple).\n",
    "\n"
   ]
  },
  {
   "cell_type": "code",
   "execution_count": null,
   "id": "b2621e4f",
   "metadata": {},
   "outputs": [
    {
     "name": "stdout",
     "output_type": "stream",
     "text": [
      "[('Amit', 72), ('Rahul', 85), ('Sneha', 90)]\n"
     ]
    }
   ],
   "source": [
    "students = [('Rahul', 85), ('Amit', 72), ('Sneha', 90)]\n",
    "stu_sorted = sorted(students, key=lambda x:x[1])\n",
    "# For each tuple x, sort by the second item — i.e., x[1] (the mark)\n",
    "print(stu_sorted)"
   ]
  },
  {
   "cell_type": "markdown",
   "id": "84275839",
   "metadata": {},
   "source": [
    "#### You are given a list of tuples where each tuple contains a name and age. Use lambda with max() to find the person with the highest age."
   ]
  },
  {
   "cell_type": "code",
   "execution_count": 48,
   "id": "ef46642e",
   "metadata": {},
   "outputs": [
    {
     "data": {
      "text/plain": [
       "('Sneha', 30)"
      ]
     },
     "execution_count": 48,
     "metadata": {},
     "output_type": "execute_result"
    }
   ],
   "source": [
    "people = [('Rahul', 25), ('Sneha', 30), ('Amit', 22)]\n",
    "max_age = max(people, key = lambda x:x[1])\n",
    "max_age"
   ]
  },
  {
   "cell_type": "markdown",
   "id": "bd3fde27",
   "metadata": {},
   "source": [
    "#### Use lambda with map() to get the length of each word in a list of strings.\n",
    "\n",
    "\n"
   ]
  },
  {
   "cell_type": "code",
   "execution_count": 51,
   "id": "d3540b90",
   "metadata": {},
   "outputs": [
    {
     "name": "stdout",
     "output_type": "stream",
     "text": [
      "[5, 6, 6]\n"
     ]
    }
   ],
   "source": [
    "words = ['apple', 'banana', 'cherry']\n",
    "str_size = list(map(lambda x: len(x), words))\n",
    "\n",
    "print(str_size)\n"
   ]
  },
  {
   "cell_type": "markdown",
   "id": "78b0863d",
   "metadata": {},
   "source": [
    "### Create a lambda function that takes an integer and returns:\n",
    "\n",
    "- 'Positive' if it's > 0\n",
    "- 'Zero' if it's == 0\n",
    "- 'Negative' if it's < 0"
   ]
  },
  {
   "cell_type": "code",
   "execution_count": 53,
   "id": "c9f845a5",
   "metadata": {},
   "outputs": [
    {
     "name": "stdout",
     "output_type": "stream",
     "text": [
      "Positive\n"
     ]
    }
   ],
   "source": [
    "value = int(input())\n",
    "count = lambda x: 'Positive' if x > 0 else ('Zero' if x == 0 else 'Negative')\n",
    "print(count(value))\n"
   ]
  },
  {
   "cell_type": "markdown",
   "id": "4ee622b7",
   "metadata": {},
   "source": [
    "#### Use filter() with a lambda function to extract only even numbers from the list:\n"
   ]
  },
  {
   "cell_type": "code",
   "execution_count": 55,
   "id": "554007fc",
   "metadata": {},
   "outputs": [
    {
     "data": {
      "text/plain": [
       "[4, 10, 16, 22]"
      ]
     },
     "execution_count": 55,
     "metadata": {},
     "output_type": "execute_result"
    }
   ],
   "source": [
    "numbers = [1, 4, 7, 10, 13, 16, 19, 22]\n",
    "even = list(filter(lambda x:x%2==0, numbers))\n",
    "even"
   ]
  },
  {
   "cell_type": "markdown",
   "id": "1224fcce",
   "metadata": {},
   "source": [
    "#### Filter the string with charater greater than 4 only"
   ]
  },
  {
   "cell_type": "code",
   "execution_count": 57,
   "id": "0ae75884",
   "metadata": {},
   "outputs": [
    {
     "data": {
      "text/plain": [
       "['Sneha', 'Priyanka', 'Ankit']"
      ]
     },
     "execution_count": 57,
     "metadata": {},
     "output_type": "execute_result"
    }
   ],
   "source": [
    "names = ['Ram', 'Sneha', 'Amit', 'Priyanka', 'Raj', 'Ankit']\n",
    "greater_num = list(filter(lambda x:len(x)>4, names))\n",
    "greater_num"
   ]
  },
  {
   "cell_type": "markdown",
   "id": "cffbf940",
   "metadata": {},
   "source": [
    "## join"
   ]
  },
  {
   "cell_type": "markdown",
   "id": "99019f13",
   "metadata": {},
   "source": [
    "### You’re given a list of names. Use join() to convert this list into a single string, separated by commas."
   ]
  },
  {
   "cell_type": "code",
   "execution_count": 59,
   "id": "e5cf5ce3",
   "metadata": {},
   "outputs": [
    {
     "name": "stdout",
     "output_type": "stream",
     "text": [
      "Rahul,Amit,Sneha\n"
     ]
    }
   ],
   "source": [
    "names = ['Rahul', 'Amit', 'Sneha']\n",
    "result = ','.join(names)\n",
    "\n",
    "print(result)\n"
   ]
  },
  {
   "cell_type": "markdown",
   "id": "84366b44",
   "metadata": {},
   "source": [
    "#### You are given a list of lowercase words. Convert each word to uppercase, then join them using a dash (-) as the separator."
   ]
  },
  {
   "cell_type": "code",
   "execution_count": 63,
   "id": "ba87854d",
   "metadata": {},
   "outputs": [
    {
     "name": "stdout",
     "output_type": "stream",
     "text": [
      "PYTHON-IS-AWESOME\n"
     ]
    }
   ],
   "source": [
    "words = ['python', 'is', 'awesome']\n",
    "upper_str = '-'.join(map(str.upper, words))\n",
    "print(upper_str)\n"
   ]
  },
  {
   "cell_type": "markdown",
   "id": "b2bd8219",
   "metadata": {},
   "source": [
    "#### You're given a list of tasks. Generate a single string where each task is numbered (starting from 1), and each appears on a new line."
   ]
  },
  {
   "cell_type": "code",
   "execution_count": 64,
   "id": "e01fcc1f",
   "metadata": {},
   "outputs": [
    {
     "name": "stdout",
     "output_type": "stream",
     "text": [
      "1. Wake up\n",
      "2. Brush teeth\n",
      "3. Code\n",
      "4. Sleep\n"
     ]
    }
   ],
   "source": [
    "tasks = ['Wake up', 'Brush teeth', 'Code', 'Sleep']\n",
    "\n",
    "numbered = '\\n'.join(f\"{i+1}. {task}\" for i, task in enumerate(tasks))\n",
    "\n",
    "print(numbered)\n"
   ]
  },
  {
   "cell_type": "markdown",
   "id": "b84d745d",
   "metadata": {},
   "source": [
    "#### You're given a list of fruits. Create a single string that lists them in the following format:\n",
    "- [1] Apple | [2] Banana | [3] Cherry | [4] Mango\n"
   ]
  },
  {
   "cell_type": "code",
   "execution_count": 69,
   "id": "1a3db2ba",
   "metadata": {},
   "outputs": [
    {
     "name": "stdout",
     "output_type": "stream",
     "text": [
      "[1] Apple | [2] Banana | [3] Cherry | [4] Mango\n"
     ]
    }
   ],
   "source": [
    "fruits = ['Apple', 'Banana', 'Cherry', 'Mango']\n",
    "num = ' | '.join(f'[{i+1}] {fruit}' for i, fruit in enumerate(fruits))\n",
    "print(num)\n"
   ]
  },
  {
   "cell_type": "markdown",
   "id": "983d4bd9",
   "metadata": {},
   "source": [
    "#### You're given a list of book titles, and you need to list them in reverse order, with numbering starting from 1 (not from the actual index)"
   ]
  },
  {
   "cell_type": "code",
   "execution_count": 78,
   "id": "161d6637",
   "metadata": {},
   "outputs": [
    {
     "data": {
      "text/plain": [
       "'[1] Sapiens|[2] Brave New World|[3] 1984|[4] The Alchemist'"
      ]
     },
     "execution_count": 78,
     "metadata": {},
     "output_type": "execute_result"
    }
   ],
   "source": [
    "books = ['The Alchemist', '1984', 'Brave New World', 'Sapiens']\n",
    "reversed_books = books[::-1]\n",
    "cunt = '|'.join(f'[{i+1}] {book}' for i,book in enumerate(reversed_books))\n",
    "cunt"
   ]
  },
  {
   "cell_type": "markdown",
   "id": "140f47c5",
   "metadata": {},
   "source": [
    "## Zip\n",
    "- zip() allows you to combine two or more lists element-wise.\n",
    "\n"
   ]
  },
  {
   "cell_type": "code",
   "execution_count": 79,
   "id": "58f2ad61",
   "metadata": {},
   "outputs": [
    {
     "name": "stdout",
     "output_type": "stream",
     "text": [
      "[('Rahul', 85), ('Sneha', 92), ('Amit', 78)]\n"
     ]
    }
   ],
   "source": [
    "names = ['Rahul', 'Sneha', 'Amit']\n",
    "scores = [85, 92, 78]\n",
    "\n",
    "combined = list(zip(names, scores))\n",
    "print(combined)\n"
   ]
  },
  {
   "cell_type": "code",
   "execution_count": 86,
   "id": "d264bde9",
   "metadata": {},
   "outputs": [
    {
     "name": "stdout",
     "output_type": "stream",
     "text": [
      "Riya - A\n",
      "Kabir - B+\n",
      "Meera - A-\n"
     ]
    }
   ],
   "source": [
    "\n",
    "\n",
    "students = ['Riya', 'Kabir', 'Meera']\n",
    "grades = ['A', 'B+', 'A-']\n",
    "\n",
    "combined = zip(students, grades)  # This gives: [('Riya', 'A'), ('Kabir', 'B+'), ('Meera', 'A-')]\n",
    "\n",
    "# Now format and join each pair\n",
    "formatted = [f'{student} - {grade}' for student, grade in combined]\n",
    "\n",
    "# Join the strings line by line\n",
    "result = '\\n'.join(formatted)\n",
    "\n",
    "print(result)\n"
   ]
  },
  {
   "cell_type": "markdown",
   "id": "f3f07114",
   "metadata": {},
   "source": [
    "1. Riya - A\n",
    "2. Kabir - B+\n",
    "3. Meera - A-"
   ]
  },
  {
   "cell_type": "code",
   "execution_count": 95,
   "id": "02dbfbe9",
   "metadata": {},
   "outputs": [
    {
     "name": "stdout",
     "output_type": "stream",
     "text": [
      "1. Riya - A\n",
      "2. Kabir - B+\n",
      "3. Meera - A-\n"
     ]
    }
   ],
   "source": [
    "\n",
    "students = ['Riya', 'Kabir', 'Meera']\n",
    "grades = ['A', 'B+', 'A-']\n",
    "\n",
    "zipped = zip(students, grades)\n",
    "\n",
    "combined = [f'{i+1}. {student} - {grade}' for i, (student, grade) in enumerate(zipped)]\n",
    "\n",
    "result = '\\n'.join(combined)\n",
    "print(result)\n",
    "\n"
   ]
  },
  {
   "cell_type": "markdown",
   "id": "ed0f5014",
   "metadata": {},
   "source": [
    "## Zip and map "
   ]
  },
  {
   "cell_type": "code",
   "execution_count": 110,
   "id": "3373f5fa",
   "metadata": {},
   "outputs": [
    {
     "name": "stdout",
     "output_type": "stream",
     "text": [
      "Rahul Verma\n",
      "Sneha Kumar\n",
      "Amit Sharma\n"
     ]
    }
   ],
   "source": [
    "first_names = ['Rahul', 'Sneha', 'Amit']\n",
    "last_names = ['Verma', 'Kumar', 'Sharma']\n",
    "\n",
    "full_names = list(map(lambda x, y: f'{x} {y}', first_names, last_names))\n",
    "result = '\\n'.join(full_names)\n",
    "print(result)\n"
   ]
  },
  {
   "cell_type": "code",
   "execution_count": 108,
   "id": "fd98b7cc",
   "metadata": {},
   "outputs": [
    {
     "name": "stdout",
     "output_type": "stream",
     "text": [
      "['Rahul Verma', 'Sneha Kumar', 'Amit Sharma']\n"
     ]
    }
   ],
   "source": [
    "first_names = ['Rahul', 'Sneha', 'Amit']\n",
    "last_names = ['Verma', 'Kumar', 'Sharma']\n",
    "\n",
    "# Step 1: Zip the two lists\n",
    "combined = zip(first_names, last_names)  # [('Rahul', 'Verma'), ('Sneha', 'Kumar'), ('Amit', 'Sharma')]\n",
    "\n",
    "# Step 2: Use map + lambda to format full names\n",
    "full_names = list(map(lambda x: f'{x[0]} {x[1]}', combined))\n",
    "joining = '\\n'.join(full_name)\n",
    "# Step 3: Print the result\n",
    "print(full_names)\n"
   ]
  },
  {
   "cell_type": "markdown",
   "id": "b57bf8fc",
   "metadata": {},
   "source": [
    "## List Comprehension"
   ]
  },
  {
   "cell_type": "code",
   "execution_count": 1,
   "id": "31a3b080",
   "metadata": {},
   "outputs": [
    {
     "name": "stdout",
     "output_type": "stream",
     "text": [
      "Rahul Verma\n",
      "Sneha Kumar\n",
      "Amit Sharma\n"
     ]
    }
   ],
   "source": [
    "first_names = ['Rahul', 'Sneha', 'Amit']\n",
    "last_names = ['Verma', 'Kumar', 'Sharma']\n",
    "comprehension = [f'{first} {last}' for first, last in zip(first_names, last_names)]\n",
    "result = '\\n'.join(comprehension)\n",
    "print(result)"
   ]
  },
  {
   "cell_type": "markdown",
   "id": "b5b34345",
   "metadata": {},
   "source": [
    "#### You’re given a list of dictionaries with student names and their scores:\n",
    "- Find students with more than 80 score\n",
    "<!-- python\n",
    "students = [\n",
    "    {'name': 'Rahul', 'score': 85},\n",
    "    {'name': 'Sneha', 'score': 92},\n",
    "    {'name': 'Amit', 'score': 74},\n",
    "    {'name': 'Priya', 'score': 89},\n",
    "    {'name': 'Kabir', 'score': 67}\n",
    "]\n",
    "🧠 Task:\n",
    "Use list comprehension to create a list of names for students who scored 80 or more. -->"
   ]
  },
  {
   "cell_type": "code",
   "execution_count": 3,
   "id": "37cd39d8",
   "metadata": {},
   "outputs": [
    {
     "name": "stdout",
     "output_type": "stream",
     "text": [
      "Rahul 85\n",
      "Sneha 92\n",
      "Priya 89\n"
     ]
    }
   ],
   "source": [
    "students = [\n",
    "    {'name': 'Rahul', 'score': 85},\n",
    "    {'name': 'Sneha', 'score': 92},\n",
    "    {'name': 'Amit', 'score': 74},\n",
    "    {'name': 'Priya', 'score': 89},\n",
    "    {'name': 'Kabir', 'score': 67}\n",
    "]\n",
    "ranked = [f\"{student['name']} {student['score']}\" for student in students if student['score'] >= 80]\n",
    "print('\\n'.join(ranked))\n"
   ]
  },
  {
   "cell_type": "code",
   "execution_count": 4,
   "id": "0accae05",
   "metadata": {},
   "outputs": [
    {
     "name": "stdout",
     "output_type": "stream",
     "text": [
      "Sneha - 92\n",
      "Priya - 89\n",
      "Rahul - 85\n"
     ]
    }
   ],
   "source": [
    "students = [\n",
    "    {'name': 'Rahul', 'score': 85},\n",
    "    {'name': 'Sneha', 'score': 92},\n",
    "    {'name': 'Amit', 'score': 74},\n",
    "    {'name': 'Priya', 'score': 89},\n",
    "    {'name': 'Kabir', 'score': 67}\n",
    "]\n",
    "\n",
    "# Step 1: Filter + Step 2: Sort\n",
    "top_students = sorted(\n",
    "    [student for student in students if student['score'] >= 80],\n",
    "    key=lambda x: x['score'],\n",
    "    reverse=True\n",
    ")\n",
    "\n",
    "# Step 3: Format\n",
    "ranked = [f\"{student['name']} - {student['score']}\" for student in top_students]\n",
    "print('\\n'.join(ranked))\n"
   ]
  },
  {
   "cell_type": "code",
   "execution_count": null,
   "id": "569bd53f",
   "metadata": {},
   "outputs": [],
   "source": []
  },
  {
   "cell_type": "code",
   "execution_count": null,
   "id": "8bdbea6f",
   "metadata": {},
   "outputs": [],
   "source": []
  },
  {
   "cell_type": "code",
   "execution_count": null,
   "id": "126b980b",
   "metadata": {},
   "outputs": [],
   "source": []
  },
  {
   "cell_type": "code",
   "execution_count": null,
   "id": "0d839491",
   "metadata": {},
   "outputs": [],
   "source": []
  },
  {
   "cell_type": "code",
   "execution_count": null,
   "id": "1296b5ff",
   "metadata": {},
   "outputs": [],
   "source": []
  },
  {
   "cell_type": "code",
   "execution_count": null,
   "id": "d74f9a1c",
   "metadata": {},
   "outputs": [],
   "source": []
  },
  {
   "cell_type": "code",
   "execution_count": null,
   "id": "308aabb1",
   "metadata": {},
   "outputs": [],
   "source": []
  },
  {
   "cell_type": "code",
   "execution_count": null,
   "id": "5b66150a",
   "metadata": {},
   "outputs": [],
   "source": []
  },
  {
   "cell_type": "code",
   "execution_count": null,
   "id": "f6991e44",
   "metadata": {},
   "outputs": [],
   "source": []
  }
 ],
 "metadata": {
  "kernelspec": {
   "display_name": "Python 3",
   "language": "python",
   "name": "python3"
  },
  "language_info": {
   "codemirror_mode": {
    "name": "ipython",
    "version": 3
   },
   "file_extension": ".py",
   "mimetype": "text/x-python",
   "name": "python",
   "nbconvert_exporter": "python",
   "pygments_lexer": "ipython3",
   "version": "3.12.0"
  }
 },
 "nbformat": 4,
 "nbformat_minor": 5
}
