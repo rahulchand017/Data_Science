{
 "cells": [
  {
   "cell_type": "markdown",
   "metadata": {},
   "source": [
    "''' LEGB: Local -----> Enclosing -----> Global -----> Built-in'''\n",
    "\n",
    "python checks variables from local scope to built-in scope"
   ]
  },
  {
   "cell_type": "markdown",
   "metadata": {},
   "source": []
  }
 ],
 "metadata": {
  "language_info": {
   "name": "python"
  }
 },
 "nbformat": 4,
 "nbformat_minor": 2
}
