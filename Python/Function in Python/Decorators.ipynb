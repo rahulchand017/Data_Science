{
 "cells": [
  {
   "cell_type": "markdown",
   "metadata": {
    "vscode": {
     "languageId": "plaintext"
    }
   },
   "source": [
    "### Decorators \n",
    "- A decorator is a function that takes another function as an argument and extends its behavior without modifying it directly."
   ]
  },
  {
   "cell_type": "code",
   "execution_count": 8,
   "metadata": {},
   "outputs": [
    {
     "name": "stdout",
     "output_type": "stream",
     "text": [
      "Hello\n"
     ]
    }
   ],
   "source": [
    "def hello():\n",
    "    print(\"Hello\")\n",
    "hello()"
   ]
  },
  {
   "cell_type": "code",
   "execution_count": 9,
   "metadata": {},
   "outputs": [
    {
     "name": "stdout",
     "output_type": "stream",
     "text": [
      "Good morning\n",
      "Hello\n",
      "Thanks for using this function\n"
     ]
    }
   ],
   "source": [
    "def greet(fx):\n",
    "    def mfx():\n",
    "        print(\"Good morning\")\n",
    "        fx()  # Call the original function passed to the decorator\n",
    "        print(\"Thanks for using this function\")\n",
    "    return mfx  # Return the inner function without calling it\n",
    "\n",
    "@greet\n",
    "def hello():\n",
    "    print(\"Hello\")\n",
    "\n",
    "hello()\n"
   ]
  },
  {
   "cell_type": "code",
   "execution_count": 10,
   "metadata": {},
   "outputs": [
    {
     "name": "stdout",
     "output_type": "stream",
     "text": [
      "Something is happening before the function is called.\n",
      "Hello!\n",
      "Something is happening after the function is called.\n"
     ]
    }
   ],
   "source": [
    "def my_decorator(func):\n",
    "    def wrapper():\n",
    "        print(\"Something is happening before the function is called.\")\n",
    "        func()\n",
    "        print(\"Something is happening after the function is called.\")\n",
    "    return wrapper\n",
    "\n",
    "@my_decorator\n",
    "def say_hello():\n",
    "    print(\"Hello!\")\n",
    "\n",
    "say_hello()"
   ]
  },
  {
   "cell_type": "code",
   "execution_count": 11,
   "metadata": {},
   "outputs": [
    {
     "name": "stdout",
     "output_type": "stream",
     "text": [
      "Wrapper executed before the function.\n",
      "Display function ran.\n"
     ]
    }
   ],
   "source": [
    "def decorator_function(original_function):\n",
    "    def wrapper_function():\n",
    "        print(\"Wrapper executed before the function.\")\n",
    "        return original_function()\n",
    "    return wrapper_function\n",
    "\n",
    "@decorator_function\n",
    "def display():\n",
    "    print(\"Display function ran.\")\n",
    "\n",
    "display()"
   ]
  },
  {
   "cell_type": "code",
   "execution_count": 12,
   "metadata": {},
   "outputs": [
    {
     "name": "stdout",
     "output_type": "stream",
     "text": [
      "Wrapper executed before the function.\n",
      "Name: Alice, Age: 25\n"
     ]
    }
   ],
   "source": [
    "def decorator_function(original_function):\n",
    "    def wrapper_function(*args, **kwargs):\n",
    "        print(\"Wrapper executed before the function.\")\n",
    "        return original_function(*args, **kwargs)\n",
    "    return wrapper_function\n",
    "\n",
    "@decorator_function\n",
    "def display_info(name, age):\n",
    "    print(f\"Name: {name}, Age: {age}\")\n",
    "\n",
    "display_info(\"Alice\", 25)\n"
   ]
  },
  {
   "cell_type": "code",
   "execution_count": 13,
   "metadata": {},
   "outputs": [
    {
     "name": "stdout",
     "output_type": "stream",
     "text": [
      "Key word\n",
      "Name: Rohit, Age:25\n"
     ]
    }
   ],
   "source": [
    "def practice(original_func):\n",
    "    def wrapper(*args, **kwargs):\n",
    "        print(\"Key word\")\n",
    "        return original_func(*args, **kwargs)\n",
    "    return wrapper \n",
    "@practice \n",
    "def display(name, age):\n",
    "    print(f\"Name: {name}, Age:{age}\")\n",
    "\n",
    "display(\"Rohit\", 25)"
   ]
  },
  {
   "cell_type": "code",
   "execution_count": 14,
   "metadata": {},
   "outputs": [
    {
     "name": "stdout",
     "output_type": "stream",
     "text": [
      "Wrapper executed before the original function.\n",
      "Wrapper executed after the original function.\n",
      "Result of add function: 8\n"
     ]
    }
   ],
   "source": [
    "def decorator_function(original_function):\n",
    "    def wrapper_function(*args, **kwargs):\n",
    "        print(\"Wrapper executed before the original function.\")\n",
    "        result = original_function(*args, **kwargs)\n",
    "        print(\"Wrapper executed after the original function.\")\n",
    "        return result\n",
    "    return wrapper_function\n",
    "\n",
    "@decorator_function\n",
    "def add(a, b):\n",
    "    return a + b\n",
    "\n",
    "result = add(5, 3)\n",
    "print(f\"Result of add function: {result}\")\n"
   ]
  },
  {
   "cell_type": "code",
   "execution_count": 15,
   "metadata": {},
   "outputs": [
    {
     "name": "stdout",
     "output_type": "stream",
     "text": [
      "Decorator one printed\n",
      "Execution of decorator_two\n",
      "Inside my_function\n"
     ]
    }
   ],
   "source": [
    "def decorator_one(func):\n",
    "    def wrapper_one(*args, **kwargs):\n",
    "        print(\"Decorator one printed\")\n",
    "        return func(*args, **kwargs)\n",
    "    return wrapper_one\n",
    "\n",
    "def decorator_two(func):\n",
    "    def wrapper_two(*args, **kwargs):\n",
    "        print(\"Execution of decorator_two\")\n",
    "        return func(*args, **kwargs)\n",
    "    return wrapper_two\n",
    "\n",
    "@decorator_one\n",
    "@decorator_two\n",
    "def my_function():\n",
    "    print(\"Inside my_function\")\n",
    "\n",
    "my_function()"
   ]
  },
  {
   "cell_type": "code",
   "execution_count": 18,
   "metadata": {},
   "outputs": [
    {
     "name": "stdout",
     "output_type": "stream",
     "text": [
      "Hello!\n",
      "Hello!\n",
      "Hello!\n"
     ]
    }
   ],
   "source": [
    "\"\"\" Using Decorators with Arguments \"\"\"\n",
    "def repeat(times):\n",
    "    def decorator_function(original_function):\n",
    "        def wrapper_function(*args, **kwargs):\n",
    "            for _ in range(times):\n",
    "                original_function(*args, **kwargs)\n",
    "        return wrapper_function\n",
    "    return decorator_function\n",
    "#When you see _ in a for loop, it signifies that the value produced by the iteration is not needed.\n",
    "\n",
    "@repeat(3)\n",
    "def say_hello():\n",
    "    print(\"Hello!\")\n",
    "\n",
    "say_hello()\n"
   ]
  },
  {
   "cell_type": "code",
   "execution_count": 22,
   "metadata": {},
   "outputs": [
    {
     "name": "stdout",
     "output_type": "stream",
     "text": [
      "wrapper_function\n",
      "None\n",
      "------------------------------------------------------------------------------------------\n",
      "display\n",
      "This function displays a message.\n"
     ]
    }
   ],
   "source": [
    "\"\"\" Preserving Function Metadata Using functools.wraps \"\"\"\n",
    "\n",
    "def decorator_function(original_function):\n",
    "    def wrapper_function(*args, **kwargs):\n",
    "        print(\"Wrapper executed before the original function.\")\n",
    "        return original_function(*args, **kwargs)\n",
    "    return wrapper_function\n",
    "\n",
    "@decorator_function\n",
    "def display():\n",
    "    \"\"\"This function displays a message.\"\"\"\n",
    "    print(\"Display function executed.\")\n",
    "\n",
    "print(display.__name__)  # Output: wrapper_function\n",
    "print(display.__doc__)   # Output: None\n",
    "\n",
    "\n",
    "\n",
    "\n",
    "\n",
    "\n",
    "print(\"-\"*90)\n",
    "\n",
    "\"\"\" Without functools.wraps, the metadata of display is lost, and it now reflects the wrapper_function's metadata. \"\"\"\n",
    "\n",
    "\n",
    "from functools import wraps\n",
    "\n",
    "def decorator_function(original_function):\n",
    "    @wraps(original_function)\n",
    "    def wrapper_function(*args, **kwargs):\n",
    "        print(\"Wrapper executed before the original function.\")\n",
    "        return original_function(*args, **kwargs)\n",
    "    return wrapper_function\n",
    "\n",
    "@decorator_function\n",
    "def display():\n",
    "    \"\"\"This function displays a message.\"\"\"\n",
    "    print(\"Display function executed.\")\n",
    "\n",
    "print(display.__name__)  # Output: display\n",
    "print(display.__doc__)   # Output: This function displays a message.\n"
   ]
  },
  {
   "cell_type": "code",
   "execution_count": 24,
   "metadata": {},
   "outputs": [
    {
     "name": "stdout",
     "output_type": "stream",
     "text": [
      "Decorator executed before the original function.\n",
      "Display function executed.\n",
      "Decorator executed after the original function.\n",
      "------------------------------------------------------------------------------------------\n",
      "greet has been called 1 times.\n",
      "Hello, Alice!\n",
      "greet has been called 2 times.\n",
      "Hello, Bob!\n"
     ]
    }
   ],
   "source": [
    "\"\"\" Class-Based Decorators \"\"\"\n",
    "class MyDecorator:\n",
    "    def __init__(self, original_function):\n",
    "        self.original_function = original_function\n",
    "\n",
    "    def __call__(self, *args, **kwargs):\n",
    "        print(\"Decorator executed before the original function.\")\n",
    "        result = self.original_function(*args, **kwargs)\n",
    "        print(\"Decorator executed after the original function.\")\n",
    "        return result\n",
    "\n",
    "@MyDecorator\n",
    "def display():\n",
    "    print(\"Display function executed.\")\n",
    "\n",
    "display()\n",
    "\n",
    "\n",
    "\n",
    "print(\"-\"*90)\n",
    "\n",
    "\n",
    "\n",
    "\n",
    "class CountCalls:\n",
    "    def __init__(self, original_function):\n",
    "        self.original_function = original_function\n",
    "        self.count = 0\n",
    "\n",
    "    def __call__(self, *args, **kwargs):\n",
    "        self.count += 1\n",
    "        print(f\"{self.original_function.__name__} has been called {self.count} times.\")\n",
    "        return self.original_function(*args, **kwargs)\n",
    "\n",
    "@CountCalls\n",
    "def greet(name):\n",
    "    print(f\"Hello, {name}!\")\n",
    "\n",
    "greet(\"Alice\")\n",
    "greet(\"Bob\")\n"
   ]
  },
  {
   "cell_type": "markdown",
   "metadata": {},
   "source": [
    "####  Logging\n",
    "- Decorators can be used to log the details of function calls, such as the function's name, arguments, and return values."
   ]
  },
  {
   "cell_type": "code",
   "execution_count": 25,
   "metadata": {},
   "outputs": [
    {
     "name": "stdout",
     "output_type": "stream",
     "text": [
      "Function 'multiply' was called with arguments (3, 4) and keyword arguments {}\n",
      "Function 'multiply' returned 12\n"
     ]
    },
    {
     "data": {
      "text/plain": [
       "12"
      ]
     },
     "execution_count": 25,
     "metadata": {},
     "output_type": "execute_result"
    }
   ],
   "source": [
    "def log_function_call(func):\n",
    "    def wrapper(*args, **kwargs):\n",
    "        print(f\"Function '{func.__name__}' was called with arguments {args} and keyword arguments {kwargs}\")\n",
    "        result = func(*args, **kwargs)\n",
    "        print(f\"Function '{func.__name__}' returned {result}\")\n",
    "        return result\n",
    "    return wrapper\n",
    "\n",
    "@log_function_call\n",
    "def multiply(a, b):\n",
    "    return a * b\n",
    "\n",
    "multiply(3, 4)\n"
   ]
  },
  {
   "cell_type": "code",
   "execution_count": 26,
   "metadata": {},
   "outputs": [
    {
     "name": "stdout",
     "output_type": "stream",
     "text": [
      "User Profile: Alice\n",
      "User is not authenticated. Access denied.\n"
     ]
    }
   ],
   "source": [
    "\"\"\" Access Control / Authentication\n",
    "Decorators can enforce access control by checking user permissions or authentication status before allowing a function to execute. \"\"\"\n",
    "\n",
    "def require_authentication(func):\n",
    "    def wrapper(user, *args, **kwargs):\n",
    "        if not user.get(\"is_authenticated\"):\n",
    "            print(\"User is not authenticated. Access denied.\")\n",
    "            return\n",
    "        return func(user, *args, **kwargs)\n",
    "    return wrapper\n",
    "\n",
    "@require_authentication\n",
    "def view_profile(user):\n",
    "    print(f\"User Profile: {user['name']}\")\n",
    "\n",
    "user1 = {\"name\": \"Alice\", \"is_authenticated\": True}\n",
    "user2 = {\"name\": \"Bob\", \"is_authenticated\": False}\n",
    "\n",
    "view_profile(user1)  # Access granted\n",
    "view_profile(user2)  # Access denied\n"
   ]
  },
  {
   "cell_type": "code",
   "execution_count": 27,
   "metadata": {},
   "outputs": [
    {
     "name": "stdout",
     "output_type": "stream",
     "text": [
      "Calculating result for 5\n",
      "Calculating result for 4\n",
      "Calculating result for 3\n",
      "Calculating result for 2\n",
      "Calculating result for 1\n",
      "Calculating result for 0\n",
      "Fetching cached result for 1\n",
      "Fetching cached result for 2\n",
      "Fetching cached result for 3\n",
      "5\n",
      "Calculating result for 6\n",
      "Fetching cached result for 5\n",
      "Fetching cached result for 4\n",
      "8\n"
     ]
    }
   ],
   "source": [
    "\"\"\" Memoization / Caching\n",
    "Memoization caches the results of expensive function calls to speed up subsequent calls with the same arguments. \"\"\"\n",
    "\n",
    "def memoize(func):\n",
    "    cache = {}\n",
    "    def wrapper(n):\n",
    "        if n in cache:\n",
    "            print(f\"Fetching cached result for {n}\")\n",
    "            return cache[n]\n",
    "        print(f\"Calculating result for {n}\")\n",
    "        result = func(n)\n",
    "        cache[n] = result\n",
    "        return result\n",
    "    return wrapper\n",
    "\n",
    "@memoize\n",
    "def fibonacci(n):\n",
    "    if n <= 1:\n",
    "        return n\n",
    "    return fibonacci(n - 1) + fibonacci(n - 2)\n",
    "\n",
    "print(fibonacci(5))\n",
    "print(fibonacci(6))  # Reuses some of the previously cached results\n"
   ]
  },
  {
   "cell_type": "code",
   "execution_count": 38,
   "metadata": {},
   "outputs": [
    {
     "name": "stdout",
     "output_type": "stream",
     "text": [
      "Task completed\n",
      "long_running_task executed in 1.0005 seconds\n"
     ]
    }
   ],
   "source": [
    "\"\"\" Timing Functions\n",
    "Decorators can measure the execution time of a function, which is helpful for performance testing and optimization. \"\"\"\n",
    "import time\n",
    "\n",
    "def time_execution(func):\n",
    "    def wrapper(*args, **kwargs):\n",
    "        start_time = time.time()\n",
    "        result = func(*args, **kwargs)\n",
    "        end_time = time.time()\n",
    "        print(f\"{func.__name__} executed in {end_time - start_time:.4f} seconds\")\n",
    "        return result\n",
    "    return wrapper\n",
    "\n",
    "@time_execution\n",
    "def long_running_task():\n",
    "    time.sleep(1)\n",
    "    print(\"Task completed\")\n",
    "\n",
    "long_running_task()\n"
   ]
  },
  {
   "cell_type": "markdown",
   "metadata": {},
   "source": [
    "### Built-in Decorators in Python"
   ]
  },
  {
   "cell_type": "code",
   "execution_count": 30,
   "metadata": {},
   "outputs": [
    {
     "name": "stdout",
     "output_type": "stream",
     "text": [
      "8\n"
     ]
    }
   ],
   "source": [
    "\"\"\"@staticmethod\n",
    "Used to define a method inside a class that does not access any instance (self) or class (cls) variables.\n",
    "It behaves like a regular function but belongs to the class's namespace.\"\"\"\n",
    "\n",
    "class MathOperations:\n",
    "    @staticmethod\n",
    "    def add(a, b):\n",
    "        return a + b\n",
    "\n",
    "# Call the static method without creating an instance of the class\n",
    "result = MathOperations.add(5, 3)\n",
    "print(result)  # Output: 8\n"
   ]
  },
  {
   "cell_type": "code",
   "execution_count": 31,
   "metadata": {},
   "outputs": [
    {
     "name": "stdout",
     "output_type": "stream",
     "text": [
      "Alice\n",
      "Homo sapiens\n"
     ]
    }
   ],
   "source": [
    "\"\"\" @classmethod\n",
    "Used to define a method that accesses the class itself (not an instance). It takes cls as the first parameter, representing the class.\n",
    "Often used for creating factory methods. \"\"\"\n",
    "\n",
    "class Person:\n",
    "    species = \"Homo sapiens\"\n",
    "\n",
    "    @classmethod\n",
    "    def create_human(cls, name):\n",
    "        return cls(name)\n",
    "\n",
    "    def __init__(self, name):\n",
    "        self.name = name\n",
    "\n",
    "# Use the class method to create an instance\n",
    "person = Person.create_human(\"Alice\")\n",
    "print(person.name)  # Output: Alice\n",
    "print(person.species)  # Output: Homo sapiens\n"
   ]
  },
  {
   "cell_type": "code",
   "execution_count": 33,
   "metadata": {},
   "outputs": [
    {
     "name": "stdout",
     "output_type": "stream",
     "text": [
      "5\n",
      "78.53975\n",
      "314.159\n"
     ]
    }
   ],
   "source": [
    "\"\"\" @property\n",
    "Allows you to define methods in a class that can be accessed like attributes. This is useful for creating read-only attributes or attributes that need to be calculated. \"\"\"\n",
    "\n",
    "class Circle:\n",
    "    def __init__(self, radius):\n",
    "        self._radius = radius\n",
    "\n",
    "    @property\n",
    "    def radius(self):\n",
    "        return self._radius\n",
    "\n",
    "    @radius.setter\n",
    "    def radius(self, value):\n",
    "        if value < 0:\n",
    "            raise ValueError(\"Radius cannot be negative\")\n",
    "        self._radius = value\n",
    "\n",
    "    @property\n",
    "    def area(self):\n",
    "        return 3.14159 * (self._radius ** 2)\n",
    "\n",
    "circle = Circle(5)\n",
    "print(circle.radius)  # Output: 5\n",
    "print(circle.area)    # Output: 78.53975\n",
    "\n",
    "circle.radius = 10    # Setting a new value\n",
    "print(circle.area)    # Output: 314.159\n"
   ]
  },
  {
   "cell_type": "code",
   "execution_count": 34,
   "metadata": {},
   "outputs": [
    {
     "name": "stdout",
     "output_type": "stream",
     "text": [
      "120\n",
      "720\n"
     ]
    }
   ],
   "source": [
    "\"\"\" @functools.lru_cache\n",
    "A built-in decorator for caching function results to improve performance. It uses \"Least Recently Used\" (LRU) cache to store the results. \"\"\"\n",
    "\n",
    "from functools import lru_cache\n",
    "\n",
    "@lru_cache(maxsize=32)\n",
    "def factorial(n):\n",
    "    if n <= 1:\n",
    "        return 1\n",
    "    return n * factorial(n - 1)\n",
    "\n",
    "print(factorial(5))  # Output: 120\n",
    "print(factorial(6))  # Output: 720, with some results cached from factorial(5)\n"
   ]
  },
  {
   "cell_type": "code",
   "execution_count": 35,
   "metadata": {},
   "outputs": [
    {
     "name": "stdout",
     "output_type": "stream",
     "text": [
      "Point(x=1, y=2)\n",
      "False\n"
     ]
    }
   ],
   "source": [
    "\"\"\" @dataclass\n",
    "Introduced in Python 3.7, the @dataclass decorator automatically adds special methods to a class, like __init__, __repr__, and __eq__, based on the class attributes. \"\"\"\n",
    "\n",
    "from dataclasses import dataclass\n",
    "\n",
    "@dataclass\n",
    "class Point:\n",
    "    x: int\n",
    "    y: int\n",
    "\n",
    "p1 = Point(1, 2)\n",
    "p2 = Point(3, 4)\n",
    "print(p1)  # Output: Point(x=1, y=2)\n",
    "print(p1 == p2)  # Output: False\n"
   ]
  },
  {
   "cell_type": "code",
   "execution_count": null,
   "metadata": {},
   "outputs": [],
   "source": []
  }
 ],
 "metadata": {
  "kernelspec": {
   "display_name": "Python 3",
   "language": "python",
   "name": "python3"
  },
  "language_info": {
   "codemirror_mode": {
    "name": "ipython",
    "version": 3
   },
   "file_extension": ".py",
   "mimetype": "text/x-python",
   "name": "python",
   "nbconvert_exporter": "python",
   "pygments_lexer": "ipython3",
   "version": "3.11.3"
  }
 },
 "nbformat": 4,
 "nbformat_minor": 2
}
