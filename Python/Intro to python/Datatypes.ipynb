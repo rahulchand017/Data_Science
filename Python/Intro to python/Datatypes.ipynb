{
 "cells": [
  {
   "cell_type": "markdown",
   "id": "a8297aaf",
   "metadata": {},
   "source": [
    "## There are 4 major datatypes\n",
    "1. Integer:- Any number without the decimals.\n",
    "2. Float:- Any number which include the decimals.\n",
    "3. String:- Any alphabets or words under single or double quotes, any no inside the single or double quotes are also counts under string\n",
    "4. Boolean:- Either True or False.\n"
   ]
  },
  {
   "cell_type": "code",
   "execution_count": 8,
   "id": "b17159f9",
   "metadata": {},
   "outputs": [
    {
     "name": "stdout",
     "output_type": "stream",
     "text": [
      "1000\n",
      "100.0\n",
      "name\n",
      "<class 'str'>\n"
     ]
    }
   ],
   "source": [
    "print(1000)\n",
    "print(100.0)\n",
    "print(\"name\")\n",
    "print(type(\"my name is Rahul\"))"
   ]
  },
  {
   "cell_type": "code",
   "execution_count": 7,
   "id": "c1d32ac7",
   "metadata": {},
   "outputs": [
    {
     "name": "stdout",
     "output_type": "stream",
     "text": [
      "<class 'str'>\n"
     ]
    }
   ],
   "source": [
    "print(type(\"name\"))"
   ]
  },
  {
   "cell_type": "code",
   "execution_count": 5,
   "id": "b136bcef",
   "metadata": {},
   "outputs": [
    {
     "data": {
      "text/plain": [
       "int"
      ]
     },
     "execution_count": 5,
     "metadata": {},
     "output_type": "execute_result"
    }
   ],
   "source": [
    "type(1000)"
   ]
  },
  {
   "cell_type": "code",
   "execution_count": 4,
   "id": "cb69a5a9",
   "metadata": {},
   "outputs": [
    {
     "data": {
      "text/plain": [
       "float"
      ]
     },
     "execution_count": 4,
     "metadata": {},
     "output_type": "execute_result"
    }
   ],
   "source": [
    "type(100.0)"
   ]
  },
  {
   "cell_type": "markdown",
   "id": "e9d2f882",
   "metadata": {},
   "source": [
    "Want to print output at the same line."
   ]
  },
  {
   "cell_type": "code",
   "execution_count": 14,
   "id": "845fdc98",
   "metadata": {},
   "outputs": [
    {
     "name": "stdout",
     "output_type": "stream",
     "text": [
      "A B C\n",
      "A 10.0 100 True\n"
     ]
    }
   ],
   "source": [
    "print('A', 'B', 'C')\n",
    "print('A', 10.0, 100, True)\n"
   ]
  },
  {
   "cell_type": "code",
   "execution_count": 2,
   "id": "3f3b2c86",
   "metadata": {},
   "outputs": [
    {
     "name": "stdout",
     "output_type": "stream",
     "text": [
      "a-b-c-"
     ]
    }
   ],
   "source": [
    "print('a', end = \"-\")\n",
    "print('b', end = \"-\")\n",
    "print('c', end = \"-\")"
   ]
  },
  {
   "cell_type": "code",
   "execution_count": 17,
   "id": "51d11d2f",
   "metadata": {},
   "outputs": [
    {
     "name": "stdout",
     "output_type": "stream",
     "text": [
      "Hello\n",
      "world\n"
     ]
    }
   ],
   "source": [
    "print(\"Hello\\nworld\")"
   ]
  },
  {
   "cell_type": "code",
   "execution_count": 18,
   "id": "e8ab202c",
   "metadata": {},
   "outputs": [
    {
     "name": "stdout",
     "output_type": "stream",
     "text": [
      "hello\tWorld\n"
     ]
    }
   ],
   "source": [
    "print(\"hello\\tWorld\")"
   ]
  },
  {
   "cell_type": "code",
   "execution_count": 21,
   "id": "ef5783be",
   "metadata": {},
   "outputs": [
    {
     "name": "stdout",
     "output_type": "stream",
     "text": [
      "a*b*c\n"
     ]
    }
   ],
   "source": [
    "print('a', 'b', 'c', sep = '*')"
   ]
  },
  {
   "cell_type": "code",
   "execution_count": 22,
   "id": "cd6c4eeb",
   "metadata": {},
   "outputs": [
    {
     "name": "stdout",
     "output_type": "stream",
     "text": [
      "a b c*"
     ]
    }
   ],
   "source": [
    "print('a', 'b', 'c', end = '*')"
   ]
  },
  {
   "cell_type": "code",
   "execution_count": null,
   "id": "bea1262d",
   "metadata": {},
   "outputs": [],
   "source": []
  }
 ],
 "metadata": {
  "kernelspec": {
   "display_name": "Python 3 (ipykernel)",
   "language": "python",
   "name": "python3"
  },
  "language_info": {
   "codemirror_mode": {
    "name": "ipython",
    "version": 3
   },
   "file_extension": ".py",
   "mimetype": "text/x-python",
   "name": "python",
   "nbconvert_exporter": "python",
   "pygments_lexer": "ipython3",
   "version": "3.11.3"
  }
 },
 "nbformat": 4,
 "nbformat_minor": 5
}
