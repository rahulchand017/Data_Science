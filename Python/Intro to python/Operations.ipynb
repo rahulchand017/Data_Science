{
 "cells": [
  {
   "cell_type": "markdown",
   "id": "b98a3f28",
   "metadata": {},
   "source": [
    "1. Arithematic Operators"
   ]
  },
  {
   "cell_type": "code",
   "execution_count": 2,
   "id": "90e76c74",
   "metadata": {},
   "outputs": [
    {
     "name": "stdout",
     "output_type": "stream",
     "text": [
      "5\n",
      "2\n",
      "1\n",
      "Rahul Chand\n",
      "0.2999999999999998\n"
     ]
    }
   ],
   "source": [
    "print(2+3)\n",
    "print(True + True)\n",
    "print(True + False)\n",
    "# print(2.3 + '1') gives error\n",
    "print('Rahul ' + 'Chand')   #concatination operation\n",
    "print(2.3 - 2)\n",
    "# print('Rahul' - 'Chand')"
   ]
  },
  {
   "cell_type": "code",
   "execution_count": 9,
   "id": "91e91509",
   "metadata": {},
   "outputs": [
    {
     "name": "stdout",
     "output_type": "stream",
     "text": [
      "2.0\n"
     ]
    }
   ],
   "source": [
    "print(2.5 // 1)\n",
    "# // gives the quotient "
   ]
  },
  {
   "cell_type": "code",
   "execution_count": 10,
   "id": "bdfce329",
   "metadata": {},
   "outputs": [
    {
     "name": "stdout",
     "output_type": "stream",
     "text": [
      "1\n"
     ]
    }
   ],
   "source": [
    "print(3%2)"
   ]
  },
  {
   "cell_type": "code",
   "execution_count": 3,
   "id": "85b240cc",
   "metadata": {},
   "outputs": [
    {
     "name": "stdout",
     "output_type": "stream",
     "text": [
      "9\n",
      "256\n"
     ]
    }
   ],
   "source": [
    "# Exponentials\n",
    "print(3 ** 2)\n",
    "print(4**4)"
   ]
  },
  {
   "cell_type": "code",
   "execution_count": 16,
   "id": "952224bd",
   "metadata": {},
   "outputs": [
    {
     "name": "stdout",
     "output_type": "stream",
     "text": [
      "3.5\n",
      "35\n"
     ]
    }
   ],
   "source": [
    "# Absolute\n",
    "print(abs(-3.5))\n",
    "print(abs(-35))"
   ]
  },
  {
   "cell_type": "code",
   "execution_count": 7,
   "id": "d31582fc",
   "metadata": {},
   "outputs": [
    {
     "name": "stdout",
     "output_type": "stream",
     "text": [
      "3.0\n",
      "5.225\n",
      "5.67\n"
     ]
    }
   ],
   "source": [
    "#round\n",
    "print(round(2.9998,2))\n",
    "print(round(5.22544, 3))\n",
    "print(f\"{5.6666:.2f}\")\n"
   ]
  },
  {
   "cell_type": "code",
   "execution_count": 22,
   "id": "5f628a0d",
   "metadata": {},
   "outputs": [
    {
     "name": "stdout",
     "output_type": "stream",
     "text": [
      "243\n",
      "125\n"
     ]
    }
   ],
   "source": [
    "#power operations\n",
    "print(pow(3,5))\n",
    "print(pow(5,3))"
   ]
  },
  {
   "cell_type": "markdown",
   "id": "938649be",
   "metadata": {},
   "source": [
    "2. Comparison Operators"
   ]
  },
  {
   "cell_type": "code",
   "execution_count": 27,
   "id": "f29e50ea",
   "metadata": {},
   "outputs": [
    {
     "name": "stdout",
     "output_type": "stream",
     "text": [
      "False\n",
      "True\n",
      "False\n",
      "True\n",
      "True\n"
     ]
    }
   ],
   "source": [
    "print(1>2)\n",
    "print(2>1)\n",
    "print(1 == 2)\n",
    "print(1.0 == 1)\n",
    "print(True == 1)\n"
   ]
  },
  {
   "cell_type": "code",
   "execution_count": 29,
   "id": "d743c7bd",
   "metadata": {},
   "outputs": [
    {
     "name": "stdout",
     "output_type": "stream",
     "text": [
      "True\n",
      "False\n"
     ]
    }
   ],
   "source": [
    "print( 1 != 2)\n",
    "print( True != 1)"
   ]
  },
  {
   "cell_type": "code",
   "execution_count": 30,
   "id": "9ab0a12c",
   "metadata": {},
   "outputs": [
    {
     "name": "stdout",
     "output_type": "stream",
     "text": [
      "True\n",
      "True\n",
      "False\n"
     ]
    }
   ],
   "source": [
    "print(1<=2)\n",
    "print(1.0 <=1)\n",
    "print(3 <= True)"
   ]
  },
  {
   "cell_type": "code",
   "execution_count": 31,
   "id": "db23cdfc",
   "metadata": {},
   "outputs": [
    {
     "name": "stdout",
     "output_type": "stream",
     "text": [
      "False\n",
      "True\n",
      "True\n"
     ]
    }
   ],
   "source": [
    "print(1>=2)\n",
    "print(1.0 >=1)\n",
    "print(3 >= True)"
   ]
  },
  {
   "cell_type": "markdown",
   "id": "cd6f84de",
   "metadata": {},
   "source": [
    "3. Logical Operators"
   ]
  },
  {
   "cell_type": "code",
   "execution_count": 5,
   "id": "d882e1ea",
   "metadata": {},
   "outputs": [
    {
     "name": "stdout",
     "output_type": "stream",
     "text": [
      "True\n",
      "False\n",
      "False\n"
     ]
    }
   ],
   "source": [
    "# and operator\n",
    "x = 5\n",
    "print(x< 10 and x>4)\n",
    "print(x>5 and x>4)\n",
    "print(True and False)"
   ]
  },
  {
   "cell_type": "code",
   "execution_count": 38,
   "id": "5f1b77b5",
   "metadata": {},
   "outputs": [
    {
     "name": "stdout",
     "output_type": "stream",
     "text": [
      "True\n",
      "True\n"
     ]
    }
   ],
   "source": [
    "# or operator\n",
    "x = 5\n",
    "print(x>5 or x>4)\n",
    "print(True or False)"
   ]
  },
  {
   "cell_type": "code",
   "execution_count": 42,
   "id": "cedd1db2",
   "metadata": {},
   "outputs": [
    {
     "name": "stdout",
     "output_type": "stream",
     "text": [
      "False\n",
      "False\n"
     ]
    }
   ],
   "source": [
    "# not operator\n",
    "print(not True)\n",
    "x = 5\n",
    "print(not(x > 3 and x < 10))\n"
   ]
  },
  {
   "cell_type": "markdown",
   "id": "f0b62a53",
   "metadata": {},
   "source": [
    "4. Bitwise Operator"
   ]
  },
  {
   "cell_type": "markdown",
   "id": "1049381e",
   "metadata": {},
   "source": [
    "# ^\tXOR\tSets each bit to 1 if only one of two bits is 1\tx ^ y\n",
    "~\tNOT\tInverts all the bits\t~x\t\n",
    "<<\tZero fill left shift\tShift left by pushing zeros in from the right and let the leftmost bits fall off\tx << 2\t\n",
    ">>\tSigned right shift\tShift right by pushing copies of the leftmost bit in from the left, and let the rightmost bits fall off"
   ]
  },
  {
   "cell_type": "code",
   "execution_count": 44,
   "id": "d550c9ec",
   "metadata": {},
   "outputs": [
    {
     "name": "stdout",
     "output_type": "stream",
     "text": [
      "4\n"
     ]
    }
   ],
   "source": [
    "print(6 ^ 2)"
   ]
  },
  {
   "cell_type": "code",
   "execution_count": 46,
   "id": "afb3abad",
   "metadata": {},
   "outputs": [
    {
     "name": "stdout",
     "output_type": "stream",
     "text": [
      "-4\n",
      "-6\n"
     ]
    }
   ],
   "source": [
    "print(~3)\n",
    "print(~5)"
   ]
  },
  {
   "cell_type": "markdown",
   "id": "e41bd000",
   "metadata": {},
   "source": [
    "## Type Converion"
   ]
  },
  {
   "cell_type": "code",
   "execution_count": 48,
   "id": "124a9aad",
   "metadata": {},
   "outputs": [
    {
     "name": "stdout",
     "output_type": "stream",
     "text": [
      "3\n",
      "10\n"
     ]
    }
   ],
   "source": [
    "print(int(3.5))\n",
    "print(int(\" 10 \"))"
   ]
  },
  {
   "cell_type": "code",
   "execution_count": null,
   "id": "d691dbb1",
   "metadata": {},
   "outputs": [],
   "source": []
  }
 ],
 "metadata": {
  "kernelspec": {
   "display_name": "Python 3 (ipykernel)",
   "language": "python",
   "name": "python3"
  },
  "language_info": {
   "codemirror_mode": {
    "name": "ipython",
    "version": 3
   },
   "file_extension": ".py",
   "mimetype": "text/x-python",
   "name": "python",
   "nbconvert_exporter": "python",
   "pygments_lexer": "ipython3",
   "version": "3.11.3"
  }
 },
 "nbformat": 4,
 "nbformat_minor": 5
}
