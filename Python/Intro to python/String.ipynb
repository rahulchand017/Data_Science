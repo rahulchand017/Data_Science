{
 "cells": [
  {
   "cell_type": "markdown",
   "id": "e01e8ffc",
   "metadata": {},
   "source": [
    "## String "
   ]
  },
  {
   "cell_type": "code",
   "execution_count": 2,
   "id": "027f2254",
   "metadata": {},
   "outputs": [
    {
     "name": "stdout",
     "output_type": "stream",
     "text": [
      "Rahul Chand Rahul Chand Rahul Chand Rahul Chand Rahul Chand \n"
     ]
    }
   ],
   "source": [
    "#Replicate a string\n",
    "print('Rahul Chand '*5)"
   ]
  },
  {
   "cell_type": "code",
   "execution_count": 6,
   "id": "5d08125e",
   "metadata": {},
   "outputs": [
    {
     "name": "stdout",
     "output_type": "stream",
     "text": [
      "11\n",
      "13\n"
     ]
    }
   ],
   "source": [
    "# length of a string\n",
    "print(len('rahul Chand'))\n",
    "print(len( 'rahul   chand'))"
   ]
  },
  {
   "cell_type": "code",
   "execution_count": 1,
   "id": "65ab631d",
   "metadata": {},
   "outputs": [
    {
     "name": "stdout",
     "output_type": "stream",
     "text": [
      "h\n",
      "l\n",
      "rahul c\n",
      "chand\n",
      "rahul chand\n",
      "rahul \n",
      "rhlcad\n"
     ]
    }
   ],
   "source": [
    "#Slicing a string\n",
    "print('rahul'[2])\n",
    "print('rahul'[-1])\n",
    "print('rahul chand'[0:6])\n",
    "print('rahul chand'[6:11])\n",
    "print('rahul chand'[0:])\n",
    "print('rahul chand'[:6])\n",
    "print('rahul chand'[:11:2])"
   ]
  },
  {
   "cell_type": "code",
   "execution_count": 28,
   "id": "6f8b2861",
   "metadata": {},
   "outputs": [
    {
     "name": "stdout",
     "output_type": "stream",
     "text": [
      "dnahc luhar\n",
      "rahul chand\n",
      "rahul chan\n"
     ]
    }
   ],
   "source": [
    "#Reverse a string\n",
    "print('rahul chand'[::-1])\n",
    "print('rahul chand'[:])\n",
    "print('rahul chand'[-11:-1])"
   ]
  },
  {
   "cell_type": "code",
   "execution_count": 30,
   "id": "f78074f5",
   "metadata": {},
   "outputs": [
    {
     "name": "stdout",
     "output_type": "stream",
     "text": [
      "rahul chand\n",
      "RAHUL CHAND\n"
     ]
    }
   ],
   "source": [
    "print('rahul chand'.lower())\n",
    "print('rahul chand'.upper())"
   ]
  },
  {
   "cell_type": "code",
   "execution_count": 34,
   "id": "e5797181",
   "metadata": {},
   "outputs": [
    {
     "name": "stdout",
     "output_type": "stream",
     "text": [
      "  rahul   chand  \n",
      "rahul   chand\n"
     ]
    }
   ],
   "source": [
    "#Remove extra space at start and end of string\n",
    "print('  rahul   chand  ')\n",
    "print('  rahul   chand  '.strip())"
   ]
  },
  {
   "cell_type": "code",
   "execution_count": 35,
   "id": "36e5d24d",
   "metadata": {},
   "outputs": [
    {
     "name": "stdout",
     "output_type": "stream",
     "text": [
      "ra*ul c*and\n"
     ]
    }
   ],
   "source": [
    "# Replace \n",
    "print('rahul chand'.replace('h','*'))"
   ]
  },
  {
   "cell_type": "code",
   "execution_count": 38,
   "id": "6bbc94d9",
   "metadata": {},
   "outputs": [
    {
     "name": "stdout",
     "output_type": "stream",
     "text": [
      "2\n"
     ]
    }
   ],
   "source": [
    "print('rahul chand'.count('h'))"
   ]
  },
  {
   "cell_type": "code",
   "execution_count": 43,
   "id": "9be676d7",
   "metadata": {},
   "outputs": [
    {
     "name": "stdout",
     "output_type": "stream",
     "text": [
      "****rahul chand*****\n",
      "rahul chand*********\n",
      "*********rahul chand\n"
     ]
    }
   ],
   "source": [
    "print('rahul chand'.center(20, '*'))\n",
    "print('rahul chand'.ljust(20, '*'))\n",
    "print('rahul chand'.rjust(20, '*'))"
   ]
  },
  {
   "cell_type": "code",
   "execution_count": null,
   "id": "152d0701",
   "metadata": {},
   "outputs": [],
   "source": [
    "hello "
   ]
  }
 ],
 "metadata": {
  "kernelspec": {
   "display_name": "Python 3 (ipykernel)",
   "language": "python",
   "name": "python3"
  },
  "language_info": {
   "codemirror_mode": {
    "name": "ipython",
    "version": 3
   },
   "file_extension": ".py",
   "mimetype": "text/x-python",
   "name": "python",
   "nbconvert_exporter": "python",
   "pygments_lexer": "ipython3",
   "version": "3.11.3"
  }
 },
 "nbformat": 4,
 "nbformat_minor": 5
}
