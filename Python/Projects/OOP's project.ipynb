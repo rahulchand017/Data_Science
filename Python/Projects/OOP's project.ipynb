{
 "cells": [
  {
   "cell_type": "code",
   "execution_count": null,
   "metadata": {},
   "outputs": [
    {
     "name": "stdout",
     "output_type": "stream",
     "text": [
      "Requirement already satisfied: nlpcloud in c:\\users\\rahul\\appdata\\local\\programs\\python\\python312\\lib\\site-packages (1.1.47)\n",
      "Requirement already satisfied: requests in c:\\users\\rahul\\appdata\\local\\programs\\python\\python312\\lib\\site-packages (from nlpcloud) (2.32.3)\n",
      "Requirement already satisfied: charset-normalizer<4,>=2 in c:\\users\\rahul\\appdata\\local\\programs\\python\\python312\\lib\\site-packages (from requests->nlpcloud) (3.4.1)\n",
      "Requirement already satisfied: idna<4,>=2.5 in c:\\users\\rahul\\appdata\\local\\programs\\python\\python312\\lib\\site-packages (from requests->nlpcloud) (3.10)\n",
      "Requirement already satisfied: urllib3<3,>=1.21.1 in c:\\users\\rahul\\appdata\\local\\programs\\python\\python312\\lib\\site-packages (from requests->nlpcloud) (2.3.0)\n",
      "Requirement already satisfied: certifi>=2017.4.17 in c:\\users\\rahul\\appdata\\local\\programs\\python\\python312\\lib\\site-packages (from requests->nlpcloud) (2024.12.14)\n"
     ]
    },
    {
     "name": "stderr",
     "output_type": "stream",
     "text": [
      "\n",
      "[notice] A new release of pip is available: 23.2.1 -> 25.0.1\n",
      "[notice] To update, run: python.exe -m pip install --upgrade pip\n"
     ]
    }
   ],
   "source": [
    "! pip install nlpcloud\n",
    "# https://nlpcloud.com/home/playground/language-detection"
   ]
  },
  {
   "cell_type": "code",
   "execution_count": 8,
   "metadata": {},
   "outputs": [
    {
     "data": {
      "text/plain": [
       "{'entities': [{'start': 26,\n",
       "   'end': 36,\n",
       "   'type': 'programming languages',\n",
       "   'text': 'Javascript'},\n",
       "  {'start': 102,\n",
       "   'end': 108,\n",
       "   'type': 'programming languages',\n",
       "   'text': 'Python'},\n",
       "  {'start': 165, 'end': 167, 'type': 'programming languages', 'text': 'Go'}]}"
      ]
     },
     "execution_count": 8,
     "metadata": {},
     "output_type": "execute_result"
    }
   ],
   "source": [
    "import nlpcloud\n",
    "\n",
    "client = nlpcloud.Client(\"finetuned-gpt-neox-20b\", \"b346e77283a2109d794ccc64ae5ca742252665c9\", gpu=True, lang=\"en\")\n",
    "client.entities(\"\"\"John Doe started learning Javascript when he was 15 years old. After a couple of years he switched to Python and starter learning low level programming. He is now a Go expert at Google.\"\"\", searched_entity=\"programming languages\")"
   ]
  },
  {
   "cell_type": "code",
   "execution_count": null,
   "metadata": {},
   "outputs": [
    {
     "name": "stdout",
     "output_type": "stream",
     "text": [
      "registration successful.Now login\n",
      "{'rahulchand938@gmail.com': ['rahul', '1234']}\n",
      "login successful\n",
      "joy\n"
     ]
    },
    {
     "ename": "",
     "evalue": "",
     "output_type": "error",
     "traceback": [
      "\u001b[1;31mThe Kernel crashed while executing code in the current cell or a previous cell. \n",
      "\u001b[1;31mPlease review the code in the cell(s) to identify a possible cause of the failure. \n",
      "\u001b[1;31mClick <a href='https://aka.ms/vscodeJupyterKernelCrash'>here</a> for more info. \n",
      "\u001b[1;31mView Jupyter <a href='command:jupyter.viewOutput'>log</a> for further details."
     ]
    }
   ],
   "source": [
    "import nlpcloud\n",
    "\n",
    "class NLPApp:\n",
    "\n",
    "  def __init__(self):\n",
    "\n",
    "    self.__database = {}\n",
    "    self.__first_menu()\n",
    "\n",
    "  def __first_menu(self):\n",
    "\n",
    "    first_input = input(\"\"\"\n",
    "    Hi! how would you like to proceed?\n",
    "    1. Not a member? Register\n",
    "    2. Already a member? Login\n",
    "    3. Galti se aa gaye? Exit\n",
    "    \"\"\")\n",
    "\n",
    "    if first_input == '1':\n",
    "      self.__register()\n",
    "    elif first_input == '2':\n",
    "      self.__login()\n",
    "    else:\n",
    "      exit()\n",
    "\n",
    "  def __second_menu(self):\n",
    "\n",
    "    second_input = input(\"\"\"\n",
    "    Hi! how would you like to proceed?\n",
    "    1. NER\n",
    "    2. Language Detection\n",
    "    3. Sentiment Analysis\n",
    "    4. Logout\n",
    "    \"\"\")\n",
    "\n",
    "    if second_input == '1':\n",
    "      self.__ner()\n",
    "    elif second_input == '2':\n",
    "      self.__language_detection()\n",
    "    elif second_input == '3':\n",
    "      self.__sentiment_analysis()\n",
    "    else:\n",
    "      exit()\n",
    "\n",
    "  def __register(self):\n",
    "    name = input('enter name')\n",
    "    email = input('enter email')\n",
    "    password = input('enter password')\n",
    "\n",
    "    if email in self.__database:\n",
    "      print('email already exists')\n",
    "    else:\n",
    "      self.__database[email] = [name,password]\n",
    "      print('registration successful.Now login')\n",
    "      print(self.__database)\n",
    "      self.__first_menu()\n",
    "\n",
    "\n",
    "  def __login(self):\n",
    "    \n",
    "    email = input('enter email')\n",
    "    password = input('enter password')\n",
    "\n",
    "    if email in self.__database:\n",
    "      if self.__database[email][1] == password:\n",
    "        print('login successful')\n",
    "        self.__second_menu()\n",
    "      else:\n",
    "        print('wrong password.Try again')\n",
    "        self.__login()\n",
    "    else:\n",
    "      print('This email is not registered')\n",
    "      self.__first_menu()\n",
    "\n",
    "  def __sentiment_analysis(self):\n",
    "    para = input('enter the paragraph')\n",
    "\n",
    "    client = nlpcloud.Client(\"distilbert-base-uncased-emotion\", \"b346e77283a2109d794ccc64ae5ca742252665c9\", gpu=False, lang=\"en\")\n",
    "    response = client.sentiment(para)\n",
    "\n",
    "    L = []\n",
    "    for i in response['scored_labels']:\n",
    "      L.append(i['score'])\n",
    "\n",
    "    index = sorted(list(enumerate(L)),key=lambda x:x[1],reverse=True)[0][0]\n",
    "\n",
    "    print(response['scored_labels'][index]['label'])\n",
    "    self.__second_menu()\n",
    "\n",
    "\n",
    "obj = NLPApp()"
   ]
  },
  {
   "cell_type": "code",
   "execution_count": 2,
   "metadata": {},
   "outputs": [],
   "source": [
    "d = {'scored_labels': [{'label': 'sadness', 'score': 0.98093181848526}, {'label': 'joy', 'score': 0.001407247269526124}, {'label': 'love', 'score': 0.0004157320945523679}, {'label': 'anger', 'score': 0.01649504341185093}, {'label': 'fear', 'score': 0.00039679379551671445}, {'label': 'surprise', 'score': 0.00035347335506230593}]}"
   ]
  },
  {
   "cell_type": "code",
   "execution_count": 3,
   "metadata": {},
   "outputs": [],
   "source": [
    "L = []\n",
    "for i in d['scored_labels']:\n",
    "  L.append(i['score'])\n",
    "\n",
    "index = sorted(list(enumerate(L)),key=lambda x:x[1],reverse=True)[0][0]"
   ]
  },
  {
   "cell_type": "code",
   "execution_count": 4,
   "metadata": {},
   "outputs": [
    {
     "data": {
      "text/plain": [
       "'sadness'"
      ]
     },
     "execution_count": 4,
     "metadata": {},
     "output_type": "execute_result"
    }
   ],
   "source": [
    "d['scored_labels'][index]['label']"
   ]
  },
  {
   "cell_type": "code",
   "execution_count": null,
   "metadata": {},
   "outputs": [],
   "source": []
  },
  {
   "cell_type": "code",
   "execution_count": 6,
   "metadata": {},
   "outputs": [
    {
     "name": "stdout",
     "output_type": "stream",
     "text": [
      "Collecting emoji\n",
      "  Obtaining dependency information for emoji from https://files.pythonhosted.org/packages/91/db/a0335710caaa6d0aebdaa65ad4df789c15d89b7babd9a30277838a7d9aac/emoji-2.14.1-py3-none-any.whl.metadata\n",
      "  Downloading emoji-2.14.1-py3-none-any.whl.metadata (5.7 kB)\n",
      "Downloading emoji-2.14.1-py3-none-any.whl (590 kB)\n",
      "   ---------------------------------------- 0.0/590.6 kB ? eta -:--:--\n",
      "   ----- ---------------------------------- 81.9/590.6 kB 1.6 MB/s eta 0:00:01\n",
      "   --------- ------------------------------ 143.4/590.6 kB 1.7 MB/s eta 0:00:01\n",
      "   --------------- ------------------------ 225.3/590.6 kB 1.5 MB/s eta 0:00:01\n",
      "   -------------------- ------------------- 307.2/590.6 kB 1.6 MB/s eta 0:00:01\n",
      "   ------------------------ --------------- 368.6/590.6 kB 1.6 MB/s eta 0:00:01\n",
      "   ------------------------------ --------- 450.6/590.6 kB 1.6 MB/s eta 0:00:01\n",
      "   ----------------------------------- ---- 522.2/590.6 kB 1.6 MB/s eta 0:00:01\n",
      "   ---------------------------------------  583.7/590.6 kB 1.6 MB/s eta 0:00:01\n",
      "   ---------------------------------------- 590.6/590.6 kB 1.5 MB/s eta 0:00:00\n",
      "Installing collected packages: emoji\n",
      "Successfully installed emoji-2.14.1\n"
     ]
    },
    {
     "name": "stderr",
     "output_type": "stream",
     "text": [
      "\n",
      "[notice] A new release of pip is available: 23.2.1 -> 25.0.1\n",
      "[notice] To update, run: python.exe -m pip install --upgrade pip\n"
     ]
    }
   ],
   "source": [
    "! pip install emoji"
   ]
  },
  {
   "cell_type": "code",
   "execution_count": 7,
   "metadata": {},
   "outputs": [
    {
     "name": "stdout",
     "output_type": "stream",
     "text": [
      "Python is 😀\n"
     ]
    }
   ],
   "source": [
    "import emoji\n",
    "print(emoji.emojize('Python is :grinning_face:'))"
   ]
  },
  {
   "cell_type": "code",
   "execution_count": null,
   "metadata": {},
   "outputs": [],
   "source": []
  }
 ],
 "metadata": {
  "kernelspec": {
   "display_name": "Python 3",
   "language": "python",
   "name": "python3"
  },
  "language_info": {
   "codemirror_mode": {
    "name": "ipython",
    "version": 3
   },
   "file_extension": ".py",
   "mimetype": "text/x-python",
   "name": "python",
   "nbconvert_exporter": "python",
   "pygments_lexer": "ipython3",
   "version": "3.12.0"
  }
 },
 "nbformat": 4,
 "nbformat_minor": 2
}
