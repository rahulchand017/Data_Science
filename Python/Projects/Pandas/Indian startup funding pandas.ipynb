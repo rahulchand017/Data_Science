{
 "cells": [
  {
   "cell_type": "code",
   "execution_count": 1,
   "id": "8e878e08",
   "metadata": {},
   "outputs": [],
   "source": [
    "#importing necessary libraries\n",
    "import pandas as pd\n",
    "import numpy as np\n",
    "import matplotlib.pyplot as plt\n",
    "import seaborn as sns\n",
    "import warnings\n",
    "warnings.filterwarnings('ignore')"
   ]
  },
  {
   "cell_type": "code",
   "execution_count": 2,
   "id": "02cff6ad",
   "metadata": {},
   "outputs": [],
   "source": [
    "#loading the dataset\n",
    "df = pd.read_csv('startup_funding.csv')"
   ]
  },
  {
   "cell_type": "code",
   "execution_count": 3,
   "id": "4b536090",
   "metadata": {},
   "outputs": [
    {
     "data": {
      "text/html": [
       "<div>\n",
       "<style scoped>\n",
       "    .dataframe tbody tr th:only-of-type {\n",
       "        vertical-align: middle;\n",
       "    }\n",
       "\n",
       "    .dataframe tbody tr th {\n",
       "        vertical-align: top;\n",
       "    }\n",
       "\n",
       "    .dataframe thead th {\n",
       "        text-align: right;\n",
       "    }\n",
       "</style>\n",
       "<table border=\"1\" class=\"dataframe\">\n",
       "  <thead>\n",
       "    <tr style=\"text-align: right;\">\n",
       "      <th></th>\n",
       "      <th>Sr No</th>\n",
       "      <th>Date dd/mm/yyyy</th>\n",
       "      <th>Startup Name</th>\n",
       "      <th>Industry Vertical</th>\n",
       "      <th>SubVertical</th>\n",
       "      <th>City  Location</th>\n",
       "      <th>Investors Name</th>\n",
       "      <th>InvestmentnType</th>\n",
       "      <th>Amount in USD</th>\n",
       "      <th>Remarks</th>\n",
       "    </tr>\n",
       "  </thead>\n",
       "  <tbody>\n",
       "    <tr>\n",
       "      <th>0</th>\n",
       "      <td>1</td>\n",
       "      <td>09/01/2020</td>\n",
       "      <td>BYJU’S</td>\n",
       "      <td>E-Tech</td>\n",
       "      <td>E-learning</td>\n",
       "      <td>Bengaluru</td>\n",
       "      <td>Tiger Global Management</td>\n",
       "      <td>Private Equity Round</td>\n",
       "      <td>20,00,00,000</td>\n",
       "      <td>NaN</td>\n",
       "    </tr>\n",
       "    <tr>\n",
       "      <th>1</th>\n",
       "      <td>2</td>\n",
       "      <td>13/01/2020</td>\n",
       "      <td>Shuttl</td>\n",
       "      <td>Transportation</td>\n",
       "      <td>App based shuttle service</td>\n",
       "      <td>Gurgaon</td>\n",
       "      <td>Susquehanna Growth Equity</td>\n",
       "      <td>Series C</td>\n",
       "      <td>80,48,394</td>\n",
       "      <td>NaN</td>\n",
       "    </tr>\n",
       "  </tbody>\n",
       "</table>\n",
       "</div>"
      ],
      "text/plain": [
       "   Sr No Date dd/mm/yyyy Startup Name Industry Vertical  \\\n",
       "0      1      09/01/2020       BYJU’S            E-Tech   \n",
       "1      2      13/01/2020       Shuttl    Transportation   \n",
       "\n",
       "                 SubVertical City  Location             Investors Name  \\\n",
       "0                 E-learning      Bengaluru    Tiger Global Management   \n",
       "1  App based shuttle service        Gurgaon  Susquehanna Growth Equity   \n",
       "\n",
       "        InvestmentnType Amount in USD Remarks  \n",
       "0  Private Equity Round  20,00,00,000     NaN  \n",
       "1              Series C     80,48,394     NaN  "
      ]
     },
     "execution_count": 3,
     "metadata": {},
     "output_type": "execute_result"
    }
   ],
   "source": [
    "df.head(2)"
   ]
  },
  {
   "cell_type": "code",
   "execution_count": 4,
   "id": "1f9435bc",
   "metadata": {},
   "outputs": [
    {
     "name": "stdout",
     "output_type": "stream",
     "text": [
      "<class 'pandas.core.frame.DataFrame'>\n",
      "RangeIndex: 3044 entries, 0 to 3043\n",
      "Data columns (total 10 columns):\n",
      " #   Column             Non-Null Count  Dtype \n",
      "---  ------             --------------  ----- \n",
      " 0   Sr No              3044 non-null   int64 \n",
      " 1   Date dd/mm/yyyy    3044 non-null   object\n",
      " 2   Startup Name       3044 non-null   object\n",
      " 3   Industry Vertical  2873 non-null   object\n",
      " 4   SubVertical        2108 non-null   object\n",
      " 5   City  Location     2864 non-null   object\n",
      " 6   Investors Name     3020 non-null   object\n",
      " 7   InvestmentnType    3040 non-null   object\n",
      " 8   Amount in USD      2084 non-null   object\n",
      " 9   Remarks            419 non-null    object\n",
      "dtypes: int64(1), object(9)\n",
      "memory usage: 237.9+ KB\n"
     ]
    }
   ],
   "source": [
    "df.info()"
   ]
  },
  {
   "cell_type": "code",
   "execution_count": 5,
   "id": "0f0923a7",
   "metadata": {},
   "outputs": [],
   "source": [
    "#changing the datetime\n",
    "df.drop(columns=['Remarks'], inplace = True)"
   ]
  },
  {
   "cell_type": "code",
   "execution_count": 6,
   "id": "775df547",
   "metadata": {},
   "outputs": [],
   "source": [
    "df.set_index('Sr No', inplace = True)"
   ]
  },
  {
   "cell_type": "code",
   "execution_count": 7,
   "id": "e928e29c",
   "metadata": {},
   "outputs": [],
   "source": [
    "#Renaming columns for further easy use\n",
    "df.rename(columns={\n",
    "    'Date dd/mm/yyyy': 'date',\n",
    "    'Startup Name': 'startup',\n",
    "    'InvestmentnType' : 'round',\n",
    "    'Industry Vertical' : 'vertical',\n",
    "    'SubVertical' : 'subVertical',\n",
    "    'City  Location': 'city',\n",
    "    'Investors Name' : 'investors',\n",
    "    'Amount in USD' : 'amount'\n",
    "    \n",
    "}, inplace = True)"
   ]
  },
  {
   "cell_type": "code",
   "execution_count": 8,
   "id": "cd298be7",
   "metadata": {},
   "outputs": [
    {
     "data": {
      "text/html": [
       "<div>\n",
       "<style scoped>\n",
       "    .dataframe tbody tr th:only-of-type {\n",
       "        vertical-align: middle;\n",
       "    }\n",
       "\n",
       "    .dataframe tbody tr th {\n",
       "        vertical-align: top;\n",
       "    }\n",
       "\n",
       "    .dataframe thead th {\n",
       "        text-align: right;\n",
       "    }\n",
       "</style>\n",
       "<table border=\"1\" class=\"dataframe\">\n",
       "  <thead>\n",
       "    <tr style=\"text-align: right;\">\n",
       "      <th></th>\n",
       "      <th>date</th>\n",
       "      <th>startup</th>\n",
       "      <th>vertical</th>\n",
       "      <th>subVertical</th>\n",
       "      <th>city</th>\n",
       "      <th>investors</th>\n",
       "      <th>round</th>\n",
       "      <th>amount</th>\n",
       "    </tr>\n",
       "    <tr>\n",
       "      <th>Sr No</th>\n",
       "      <th></th>\n",
       "      <th></th>\n",
       "      <th></th>\n",
       "      <th></th>\n",
       "      <th></th>\n",
       "      <th></th>\n",
       "      <th></th>\n",
       "      <th></th>\n",
       "    </tr>\n",
       "  </thead>\n",
       "  <tbody>\n",
       "    <tr>\n",
       "      <th>1</th>\n",
       "      <td>09/01/2020</td>\n",
       "      <td>BYJU’S</td>\n",
       "      <td>E-Tech</td>\n",
       "      <td>E-learning</td>\n",
       "      <td>Bengaluru</td>\n",
       "      <td>Tiger Global Management</td>\n",
       "      <td>Private Equity Round</td>\n",
       "      <td>20,00,00,000</td>\n",
       "    </tr>\n",
       "    <tr>\n",
       "      <th>2</th>\n",
       "      <td>13/01/2020</td>\n",
       "      <td>Shuttl</td>\n",
       "      <td>Transportation</td>\n",
       "      <td>App based shuttle service</td>\n",
       "      <td>Gurgaon</td>\n",
       "      <td>Susquehanna Growth Equity</td>\n",
       "      <td>Series C</td>\n",
       "      <td>80,48,394</td>\n",
       "    </tr>\n",
       "    <tr>\n",
       "      <th>3</th>\n",
       "      <td>09/01/2020</td>\n",
       "      <td>Mamaearth</td>\n",
       "      <td>E-commerce</td>\n",
       "      <td>Retailer of baby and toddler products</td>\n",
       "      <td>Bengaluru</td>\n",
       "      <td>Sequoia Capital India</td>\n",
       "      <td>Series B</td>\n",
       "      <td>1,83,58,860</td>\n",
       "    </tr>\n",
       "    <tr>\n",
       "      <th>4</th>\n",
       "      <td>02/01/2020</td>\n",
       "      <td>https://www.wealthbucket.in/</td>\n",
       "      <td>FinTech</td>\n",
       "      <td>Online Investment</td>\n",
       "      <td>New Delhi</td>\n",
       "      <td>Vinod Khatumal</td>\n",
       "      <td>Pre-series A</td>\n",
       "      <td>30,00,000</td>\n",
       "    </tr>\n",
       "    <tr>\n",
       "      <th>5</th>\n",
       "      <td>02/01/2020</td>\n",
       "      <td>Fashor</td>\n",
       "      <td>Fashion and Apparel</td>\n",
       "      <td>Embroiled Clothes For Women</td>\n",
       "      <td>Mumbai</td>\n",
       "      <td>Sprout Venture Partners</td>\n",
       "      <td>Seed Round</td>\n",
       "      <td>18,00,000</td>\n",
       "    </tr>\n",
       "  </tbody>\n",
       "</table>\n",
       "</div>"
      ],
      "text/plain": [
       "             date                       startup             vertical  \\\n",
       "Sr No                                                                  \n",
       "1      09/01/2020                        BYJU’S               E-Tech   \n",
       "2      13/01/2020                        Shuttl       Transportation   \n",
       "3      09/01/2020                     Mamaearth           E-commerce   \n",
       "4      02/01/2020  https://www.wealthbucket.in/              FinTech   \n",
       "5      02/01/2020                        Fashor  Fashion and Apparel   \n",
       "\n",
       "                                 subVertical       city  \\\n",
       "Sr No                                                     \n",
       "1                                 E-learning  Bengaluru   \n",
       "2                  App based shuttle service    Gurgaon   \n",
       "3      Retailer of baby and toddler products  Bengaluru   \n",
       "4                          Online Investment  New Delhi   \n",
       "5                Embroiled Clothes For Women     Mumbai   \n",
       "\n",
       "                       investors                 round        amount  \n",
       "Sr No                                                                 \n",
       "1        Tiger Global Management  Private Equity Round  20,00,00,000  \n",
       "2      Susquehanna Growth Equity              Series C     80,48,394  \n",
       "3          Sequoia Capital India              Series B   1,83,58,860  \n",
       "4                 Vinod Khatumal          Pre-series A     30,00,000  \n",
       "5        Sprout Venture Partners            Seed Round     18,00,000  "
      ]
     },
     "execution_count": 8,
     "metadata": {},
     "output_type": "execute_result"
    }
   ],
   "source": [
    "df.head()"
   ]
  },
  {
   "cell_type": "code",
   "execution_count": 9,
   "id": "52c2eeae",
   "metadata": {},
   "outputs": [],
   "source": [
    "#Converting amount to float firstly\n",
    "df['amount'] = df['amount'].fillna('0')"
   ]
  },
  {
   "cell_type": "code",
   "execution_count": 10,
   "id": "d6760f53",
   "metadata": {},
   "outputs": [
    {
     "data": {
      "text/plain": [
       "<bound method DataFrame.info of              date                       startup             vertical  \\\n",
       "Sr No                                                                  \n",
       "1      09/01/2020                        BYJU’S               E-Tech   \n",
       "2      13/01/2020                        Shuttl       Transportation   \n",
       "3      09/01/2020                     Mamaearth           E-commerce   \n",
       "4      02/01/2020  https://www.wealthbucket.in/              FinTech   \n",
       "5      02/01/2020                        Fashor  Fashion and Apparel   \n",
       "...           ...                           ...                  ...   \n",
       "3040   29/01/2015                    Printvenue                  NaN   \n",
       "3041   29/01/2015                      Graphene                  NaN   \n",
       "3042   30/01/2015                Mad Street Den                  NaN   \n",
       "3043   30/01/2015                     Simplotel                  NaN   \n",
       "3044   31/01/2015              couponmachine.in                  NaN   \n",
       "\n",
       "                                 subVertical       city  \\\n",
       "Sr No                                                     \n",
       "1                                 E-learning  Bengaluru   \n",
       "2                  App based shuttle service    Gurgaon   \n",
       "3      Retailer of baby and toddler products  Bengaluru   \n",
       "4                          Online Investment  New Delhi   \n",
       "5                Embroiled Clothes For Women     Mumbai   \n",
       "...                                      ...        ...   \n",
       "3040                                     NaN        NaN   \n",
       "3041                                     NaN        NaN   \n",
       "3042                                     NaN        NaN   \n",
       "3043                                     NaN        NaN   \n",
       "3044                                     NaN        NaN   \n",
       "\n",
       "                               investors                 round        amount  \n",
       "Sr No                                                                         \n",
       "1                Tiger Global Management  Private Equity Round  20,00,00,000  \n",
       "2              Susquehanna Growth Equity              Series C     80,48,394  \n",
       "3                  Sequoia Capital India              Series B   1,83,58,860  \n",
       "4                         Vinod Khatumal          Pre-series A     30,00,000  \n",
       "5                Sprout Venture Partners            Seed Round     18,00,000  \n",
       "...                                  ...                   ...           ...  \n",
       "3040         Asia Pacific Internet Group        Private Equity     45,00,000  \n",
       "3041                      KARSEMVEN Fund        Private Equity      8,25,000  \n",
       "3042      Exfinity Fund, GrowX Ventures.        Private Equity     15,00,000  \n",
       "3043                          MakeMyTrip        Private Equity             0  \n",
       "3044   UK based Group of Angel Investors          Seed Funding      1,40,000  \n",
       "\n",
       "[3044 rows x 8 columns]>"
      ]
     },
     "execution_count": 10,
     "metadata": {},
     "output_type": "execute_result"
    }
   ],
   "source": [
    "df.info"
   ]
  },
  {
   "cell_type": "code",
   "execution_count": 11,
   "id": "93a2f743",
   "metadata": {},
   "outputs": [],
   "source": [
    "#Converting amount of float to int\n",
    "# df['amount'] = df['amount'].astype(int)\n",
    "# can't convert directly beacuse we have ',' in between\n",
    "df['amount'] = df['amount'].str.replace(',','')\n",
    "df['amount'] = df['amount'].str.replace('undisclosed','')\n",
    "df['amount'] = df['amount'].str.replace('unknown','')\n",
    "df['amount'] = df['amount'].str.replace('Undisclosed','')\n",
    "# df['amount'] = df['amount'].astype(int)"
   ]
  },
  {
   "cell_type": "code",
   "execution_count": 12,
   "id": "f62e6dc0",
   "metadata": {},
   "outputs": [],
   "source": [
    "df = df[df['amount'].str.isdigit()]"
   ]
  },
  {
   "cell_type": "code",
   "execution_count": 13,
   "id": "d5ccb858",
   "metadata": {},
   "outputs": [],
   "source": [
    "df['amount'] = df['amount'].astype(float)"
   ]
  },
  {
   "cell_type": "code",
   "execution_count": 14,
   "id": "bac88314",
   "metadata": {},
   "outputs": [
    {
     "name": "stdout",
     "output_type": "stream",
     "text": [
      "<class 'pandas.core.frame.DataFrame'>\n",
      "Int64Index: 3022 entries, 1 to 3044\n",
      "Data columns (total 8 columns):\n",
      " #   Column       Non-Null Count  Dtype  \n",
      "---  ------       --------------  -----  \n",
      " 0   date         3022 non-null   object \n",
      " 1   startup      3022 non-null   object \n",
      " 2   vertical     2851 non-null   object \n",
      " 3   subVertical  2097 non-null   object \n",
      " 4   city         2842 non-null   object \n",
      " 5   investors    2998 non-null   object \n",
      " 6   round        3020 non-null   object \n",
      " 7   amount       3022 non-null   float64\n",
      "dtypes: float64(1), object(7)\n",
      "memory usage: 212.5+ KB\n"
     ]
    }
   ],
   "source": [
    "df.info()"
   ]
  },
  {
   "cell_type": "code",
   "execution_count": 15,
   "id": "0eb32b1b",
   "metadata": {},
   "outputs": [
    {
     "data": {
      "text/html": [
       "<div>\n",
       "<style scoped>\n",
       "    .dataframe tbody tr th:only-of-type {\n",
       "        vertical-align: middle;\n",
       "    }\n",
       "\n",
       "    .dataframe tbody tr th {\n",
       "        vertical-align: top;\n",
       "    }\n",
       "\n",
       "    .dataframe thead th {\n",
       "        text-align: right;\n",
       "    }\n",
       "</style>\n",
       "<table border=\"1\" class=\"dataframe\">\n",
       "  <thead>\n",
       "    <tr style=\"text-align: right;\">\n",
       "      <th></th>\n",
       "      <th>date</th>\n",
       "      <th>startup</th>\n",
       "      <th>vertical</th>\n",
       "      <th>subVertical</th>\n",
       "      <th>city</th>\n",
       "      <th>investors</th>\n",
       "      <th>round</th>\n",
       "      <th>amount</th>\n",
       "    </tr>\n",
       "    <tr>\n",
       "      <th>Sr No</th>\n",
       "      <th></th>\n",
       "      <th></th>\n",
       "      <th></th>\n",
       "      <th></th>\n",
       "      <th></th>\n",
       "      <th></th>\n",
       "      <th></th>\n",
       "      <th></th>\n",
       "    </tr>\n",
       "  </thead>\n",
       "  <tbody>\n",
       "    <tr>\n",
       "      <th>1476</th>\n",
       "      <td>24/08/2016</td>\n",
       "      <td>UrbanLadder</td>\n",
       "      <td>eCommerce</td>\n",
       "      <td>Online Furniture Store</td>\n",
       "      <td>Mumbai</td>\n",
       "      <td>Trifecta Capital</td>\n",
       "      <td>Private Equity</td>\n",
       "      <td>3000000.0</td>\n",
       "    </tr>\n",
       "    <tr>\n",
       "      <th>2845</th>\n",
       "      <td>20/04/2015</td>\n",
       "      <td>1mg (Healthkartplus)</td>\n",
       "      <td>Online Pharmacy &amp; Drug DB</td>\n",
       "      <td>NaN</td>\n",
       "      <td>Gurgaon</td>\n",
       "      <td>Deep Kalra, Sequoia Capital, Omidyar Network, ...</td>\n",
       "      <td>Private Equity</td>\n",
       "      <td>6000000.0</td>\n",
       "    </tr>\n",
       "    <tr>\n",
       "      <th>1709</th>\n",
       "      <td>17/05/2016</td>\n",
       "      <td>Crownit</td>\n",
       "      <td>Consumer Internet</td>\n",
       "      <td>Mobile customer rewards management platform</td>\n",
       "      <td>Gurgaon</td>\n",
       "      <td>Undisclosed investors, Accel Partners, Helion ...</td>\n",
       "      <td>Private Equity</td>\n",
       "      <td>0.0</td>\n",
       "    </tr>\n",
       "  </tbody>\n",
       "</table>\n",
       "</div>"
      ],
      "text/plain": [
       "             date               startup                   vertical  \\\n",
       "Sr No                                                                \n",
       "1476   24/08/2016           UrbanLadder                  eCommerce   \n",
       "2845   20/04/2015  1mg (Healthkartplus)  Online Pharmacy & Drug DB   \n",
       "1709   17/05/2016               Crownit          Consumer Internet   \n",
       "\n",
       "                                       subVertical     city  \\\n",
       "Sr No                                                         \n",
       "1476                        Online Furniture Store   Mumbai   \n",
       "2845                                           NaN  Gurgaon   \n",
       "1709   Mobile customer rewards management platform  Gurgaon   \n",
       "\n",
       "                                               investors           round  \\\n",
       "Sr No                                                                      \n",
       "1476                                    Trifecta Capital  Private Equity   \n",
       "2845   Deep Kalra, Sequoia Capital, Omidyar Network, ...  Private Equity   \n",
       "1709   Undisclosed investors, Accel Partners, Helion ...  Private Equity   \n",
       "\n",
       "          amount  \n",
       "Sr No             \n",
       "1476   3000000.0  \n",
       "2845   6000000.0  \n",
       "1709         0.0  "
      ]
     },
     "execution_count": 15,
     "metadata": {},
     "output_type": "execute_result"
    }
   ],
   "source": [
    "df.sample(3)"
   ]
  },
  {
   "cell_type": "code",
   "execution_count": 16,
   "id": "44ac56a9",
   "metadata": {},
   "outputs": [],
   "source": [
    "def to_inr(dollar):\n",
    "    inr = dollar * 82.5\n",
    "    return inr/10000000"
   ]
  },
  {
   "cell_type": "code",
   "execution_count": 17,
   "id": "1d764c09",
   "metadata": {},
   "outputs": [],
   "source": [
    "df['amount'] = df['amount'].apply(to_inr)"
   ]
  },
  {
   "cell_type": "raw",
   "id": "bcc3fbf5",
   "metadata": {},
   "source": [
    "# One issue while converting datetime, so changinf=g it\n",
    "df['Date'] = df['Date'].str.replace('72018 ','')"
   ]
  },
  {
   "cell_type": "code",
   "execution_count": 18,
   "id": "30f92742",
   "metadata": {},
   "outputs": [],
   "source": [
    "df['date'] = pd.to_datetime(df['date'], errors = 'coerce')"
   ]
  },
  {
   "cell_type": "code",
   "execution_count": 19,
   "id": "7617cfcb",
   "metadata": {},
   "outputs": [
    {
     "data": {
      "text/html": [
       "<div>\n",
       "<style scoped>\n",
       "    .dataframe tbody tr th:only-of-type {\n",
       "        vertical-align: middle;\n",
       "    }\n",
       "\n",
       "    .dataframe tbody tr th {\n",
       "        vertical-align: top;\n",
       "    }\n",
       "\n",
       "    .dataframe thead th {\n",
       "        text-align: right;\n",
       "    }\n",
       "</style>\n",
       "<table border=\"1\" class=\"dataframe\">\n",
       "  <thead>\n",
       "    <tr style=\"text-align: right;\">\n",
       "      <th></th>\n",
       "      <th>date</th>\n",
       "      <th>startup</th>\n",
       "      <th>vertical</th>\n",
       "      <th>subVertical</th>\n",
       "      <th>city</th>\n",
       "      <th>investors</th>\n",
       "      <th>round</th>\n",
       "      <th>amount</th>\n",
       "    </tr>\n",
       "    <tr>\n",
       "      <th>Sr No</th>\n",
       "      <th></th>\n",
       "      <th></th>\n",
       "      <th></th>\n",
       "      <th></th>\n",
       "      <th></th>\n",
       "      <th></th>\n",
       "      <th></th>\n",
       "      <th></th>\n",
       "    </tr>\n",
       "  </thead>\n",
       "  <tbody>\n",
       "    <tr>\n",
       "      <th>1</th>\n",
       "      <td>2020-09-01</td>\n",
       "      <td>BYJU’S</td>\n",
       "      <td>E-Tech</td>\n",
       "      <td>E-learning</td>\n",
       "      <td>Bengaluru</td>\n",
       "      <td>Tiger Global Management</td>\n",
       "      <td>Private Equity Round</td>\n",
       "      <td>1650.000000</td>\n",
       "    </tr>\n",
       "    <tr>\n",
       "      <th>2</th>\n",
       "      <td>2020-01-13</td>\n",
       "      <td>Shuttl</td>\n",
       "      <td>Transportation</td>\n",
       "      <td>App based shuttle service</td>\n",
       "      <td>Gurgaon</td>\n",
       "      <td>Susquehanna Growth Equity</td>\n",
       "      <td>Series C</td>\n",
       "      <td>66.399250</td>\n",
       "    </tr>\n",
       "    <tr>\n",
       "      <th>3</th>\n",
       "      <td>2020-09-01</td>\n",
       "      <td>Mamaearth</td>\n",
       "      <td>E-commerce</td>\n",
       "      <td>Retailer of baby and toddler products</td>\n",
       "      <td>Bengaluru</td>\n",
       "      <td>Sequoia Capital India</td>\n",
       "      <td>Series B</td>\n",
       "      <td>151.460595</td>\n",
       "    </tr>\n",
       "    <tr>\n",
       "      <th>4</th>\n",
       "      <td>2020-02-01</td>\n",
       "      <td>https://www.wealthbucket.in/</td>\n",
       "      <td>FinTech</td>\n",
       "      <td>Online Investment</td>\n",
       "      <td>New Delhi</td>\n",
       "      <td>Vinod Khatumal</td>\n",
       "      <td>Pre-series A</td>\n",
       "      <td>24.750000</td>\n",
       "    </tr>\n",
       "    <tr>\n",
       "      <th>5</th>\n",
       "      <td>2020-02-01</td>\n",
       "      <td>Fashor</td>\n",
       "      <td>Fashion and Apparel</td>\n",
       "      <td>Embroiled Clothes For Women</td>\n",
       "      <td>Mumbai</td>\n",
       "      <td>Sprout Venture Partners</td>\n",
       "      <td>Seed Round</td>\n",
       "      <td>14.850000</td>\n",
       "    </tr>\n",
       "  </tbody>\n",
       "</table>\n",
       "</div>"
      ],
      "text/plain": [
       "            date                       startup             vertical  \\\n",
       "Sr No                                                                 \n",
       "1     2020-09-01                        BYJU’S               E-Tech   \n",
       "2     2020-01-13                        Shuttl       Transportation   \n",
       "3     2020-09-01                     Mamaearth           E-commerce   \n",
       "4     2020-02-01  https://www.wealthbucket.in/              FinTech   \n",
       "5     2020-02-01                        Fashor  Fashion and Apparel   \n",
       "\n",
       "                                 subVertical       city  \\\n",
       "Sr No                                                     \n",
       "1                                 E-learning  Bengaluru   \n",
       "2                  App based shuttle service    Gurgaon   \n",
       "3      Retailer of baby and toddler products  Bengaluru   \n",
       "4                          Online Investment  New Delhi   \n",
       "5                Embroiled Clothes For Women     Mumbai   \n",
       "\n",
       "                       investors                 round       amount  \n",
       "Sr No                                                                \n",
       "1        Tiger Global Management  Private Equity Round  1650.000000  \n",
       "2      Susquehanna Growth Equity              Series C    66.399250  \n",
       "3          Sequoia Capital India              Series B   151.460595  \n",
       "4                 Vinod Khatumal          Pre-series A    24.750000  \n",
       "5        Sprout Venture Partners            Seed Round    14.850000  "
      ]
     },
     "execution_count": 19,
     "metadata": {},
     "output_type": "execute_result"
    }
   ],
   "source": [
    "df.head()"
   ]
  },
  {
   "cell_type": "code",
   "execution_count": 20,
   "id": "fbfa55f0",
   "metadata": {},
   "outputs": [
    {
     "data": {
      "text/plain": [
       "Sr No\n",
       "1        1.0\n",
       "2       13.0\n",
       "3        1.0\n",
       "4        1.0\n",
       "5        1.0\n",
       "        ... \n",
       "3040    29.0\n",
       "3041    29.0\n",
       "3042    30.0\n",
       "3043    30.0\n",
       "3044    31.0\n",
       "Name: date, Length: 3022, dtype: float64"
      ]
     },
     "execution_count": 20,
     "metadata": {},
     "output_type": "execute_result"
    }
   ],
   "source": [
    "df['date'].dt.day"
   ]
  },
  {
   "cell_type": "code",
   "execution_count": 21,
   "id": "b70a1018",
   "metadata": {},
   "outputs": [
    {
     "name": "stdout",
     "output_type": "stream",
     "text": [
      "<class 'pandas.core.frame.DataFrame'>\n",
      "Int64Index: 3022 entries, 1 to 3044\n",
      "Data columns (total 8 columns):\n",
      " #   Column       Non-Null Count  Dtype         \n",
      "---  ------       --------------  -----         \n",
      " 0   date         3019 non-null   datetime64[ns]\n",
      " 1   startup      3022 non-null   object        \n",
      " 2   vertical     2851 non-null   object        \n",
      " 3   subVertical  2097 non-null   object        \n",
      " 4   city         2842 non-null   object        \n",
      " 5   investors    2998 non-null   object        \n",
      " 6   round        3020 non-null   object        \n",
      " 7   amount       3022 non-null   float64       \n",
      "dtypes: datetime64[ns](1), float64(1), object(6)\n",
      "memory usage: 212.5+ KB\n"
     ]
    }
   ],
   "source": [
    "df.info()"
   ]
  },
  {
   "cell_type": "code",
   "execution_count": 23,
   "id": "50e86e90",
   "metadata": {},
   "outputs": [],
   "source": [
    "df = df.dropna(subset = ['date','startup','vertical','city','investors','round','amount'])"
   ]
  },
  {
   "cell_type": "code",
   "execution_count": 24,
   "id": "ebeddb9b",
   "metadata": {},
   "outputs": [
    {
     "name": "stdout",
     "output_type": "stream",
     "text": [
      "<class 'pandas.core.frame.DataFrame'>\n",
      "Int64Index: 2814 entries, 1 to 2873\n",
      "Data columns (total 8 columns):\n",
      " #   Column       Non-Null Count  Dtype         \n",
      "---  ------       --------------  -----         \n",
      " 0   date         2814 non-null   datetime64[ns]\n",
      " 1   startup      2814 non-null   object        \n",
      " 2   vertical     2814 non-null   object        \n",
      " 3   subVertical  2070 non-null   object        \n",
      " 4   city         2814 non-null   object        \n",
      " 5   investors    2814 non-null   object        \n",
      " 6   round        2814 non-null   object        \n",
      " 7   amount       2814 non-null   float64       \n",
      "dtypes: datetime64[ns](1), float64(1), object(6)\n",
      "memory usage: 197.9+ KB\n"
     ]
    }
   ],
   "source": [
    "df.info()"
   ]
  },
  {
   "cell_type": "code",
   "execution_count": null,
   "id": "f4043a19",
   "metadata": {},
   "outputs": [],
   "source": []
  }
 ],
 "metadata": {
  "kernelspec": {
   "display_name": "Python 3 (ipykernel)",
   "language": "python",
   "name": "python3"
  },
  "language_info": {
   "codemirror_mode": {
    "name": "ipython",
    "version": 3
   },
   "file_extension": ".py",
   "mimetype": "text/x-python",
   "name": "python",
   "nbconvert_exporter": "python",
   "pygments_lexer": "ipython3",
   "version": "3.11.3"
  }
 },
 "nbformat": 4,
 "nbformat_minor": 5
}
