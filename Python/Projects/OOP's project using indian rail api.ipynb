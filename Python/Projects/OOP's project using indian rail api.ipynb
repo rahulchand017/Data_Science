{
 "cells": [
  {
   "cell_type": "markdown",
   "id": "63119bd7",
   "metadata": {},
   "source": [
    "## OOP's project"
   ]
  },
  {
   "cell_type": "markdown",
   "id": "1e0ec4b3",
   "metadata": {},
   "source": [
    "#### API:- Indian rail api\n",
    "#### API key:- from indian rail api site\n",
    "#### json:- https://jsonviewer.stack.hu/\n",
    "\n",
    "\n",
    " - http://indianrailapi.com/api/v2/TrainSchedule/apikey/<apikey>/TrainNumber/<TrainNumber>/"
   ]
  },
  {
   "cell_type": "code",
   "execution_count": 1,
   "id": "ebb39fc1",
   "metadata": {},
   "outputs": [
    {
     "name": "stdout",
     "output_type": "stream",
     "text": [
      "\"how would u like to proceed?\n",
      "              1. Enter 1 to check live train status\n",
      "              2. Enter 2 to ckeck PNR\n",
      "              3. Enter 3 to check train schedule: 3\n",
      "Enter the train no: 12222\n",
      "[{'SerialNo': '1', 'StationCode': 'HWH', 'StationName': 'HOWRAH JN.', 'ArrivalTime': '08:20:00', 'DepartureTime': '08:20:00', 'Distance': '0', 'Day': None}, {'SerialNo': '2', 'StationCode': 'TATA', 'StationName': 'TATANAGAR JN', 'ArrivalTime': '11:38:00', 'DepartureTime': '11:48:00', 'Distance': '254', 'Day': None}, {'SerialNo': '3', 'StationCode': 'BSP', 'StationName': 'BILASPUR JN.', 'ArrivalTime': '17:35:00', 'DepartureTime': '17:45:00', 'Distance': '720', 'Day': None}, {'SerialNo': '4', 'StationCode': 'NGP', 'StationName': 'NAGPUR JN.(C', 'ArrivalTime': '23:20:00', 'DepartureTime': '23:25:00', 'Distance': '1137', 'Day': None}, {'SerialNo': '5', 'StationCode': 'BSL', 'StationName': 'BHUSAVAL JN.', 'ArrivalTime': '03:42:00', 'DepartureTime': '03:47:00', 'Distance': '1534', 'Day': None}, {'SerialNo': '6', 'StationCode': 'MMR', 'StationName': 'MANMAD JN.', 'ArrivalTime': '06:00:00', 'DepartureTime': '06:03:00', 'Distance': '1718', 'Day': None}, {'SerialNo': '7', 'StationCode': 'DD', 'StationName': 'DAUND JN.', 'ArrivalTime': '10:00:00', 'DepartureTime': '10:15:00', 'Distance': '1955', 'Day': None}, {'SerialNo': '8', 'StationCode': 'PUNE', 'StationName': 'PUNE JN.', 'ArrivalTime': '11:45:00', 'DepartureTime': '11:45:00', 'Distance': '2033', 'Day': None}]\n",
      "HOWRAH JN. | 08:20:00\n",
      "TATANAGAR JN | 11:38:00\n",
      "BILASPUR JN. | 17:35:00\n",
      "NAGPUR JN.(C | 23:20:00\n",
      "BHUSAVAL JN. | 03:42:00\n",
      "MANMAD JN. | 06:00:00\n",
      "DAUND JN. | 10:00:00\n",
      "PUNE JN. | 11:45:00\n"
     ]
    }
   ],
   "source": [
    "import requests\n",
    "class IRCTC:\n",
    "    def __init__(self):\n",
    "        user_input = input(\"\"\"\"how would u like to proceed?\n",
    "              1. Enter 1 to check live train status\n",
    "              2. Enter 2 to ckeck PNR\n",
    "              3. Enter 3 to check train schedule: \"\"\")\n",
    "        if user_input == \"1\":\n",
    "            print(\"Live train status\")\n",
    "        elif user_input == \"2\":\n",
    "            print(\"PNR\")\n",
    "        else:\n",
    "            self.train_schedule()\n",
    "    \n",
    "    def train_schedule(self):\n",
    "        train_no = input(\"Enter the train no: \")\n",
    "        self.fetch_data(train_no)\n",
    "        \n",
    "    def fetch_data(self,train_no):\n",
    "        data = requests.get(\"https://indianrailapi.com/api/v2/TrainSchedule/apikey/2de76d9f0446185f2c37fdf192166a95/TrainNumber/{}\".format(train_no))\n",
    "        \n",
    "        data = data.json()\n",
    "        print(data['Route'])\n",
    "        for i in data['Route']:\n",
    "            print(i['StationName'], \"|\", i[\"ArrivalTime\"])\n",
    "        \n",
    "obj = IRCTC()"
   ]
  },
  {
   "cell_type": "code",
   "execution_count": null,
   "id": "92b4a823",
   "metadata": {},
   "outputs": [],
   "source": []
  }
 ],
 "metadata": {
  "kernelspec": {
   "display_name": "Python 3 (ipykernel)",
   "language": "python",
   "name": "python3"
  },
  "language_info": {
   "codemirror_mode": {
    "name": "ipython",
    "version": 3
   },
   "file_extension": ".py",
   "mimetype": "text/x-python",
   "name": "python",
   "nbconvert_exporter": "python",
   "pygments_lexer": "ipython3",
   "version": "3.11.3"
  }
 },
 "nbformat": 4,
 "nbformat_minor": 5
}
