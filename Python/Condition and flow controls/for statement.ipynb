{
 "cells": [
  {
   "cell_type": "markdown",
   "id": "eecac421",
   "metadata": {},
   "source": [
    "The for loop is a fundamental control flow statement in Python that is used for iterating over a sequence (such as a list, tuple, string, or range) or other iterable objects."
   ]
  },
  {
   "cell_type": "code",
   "execution_count": 1,
   "id": "7af1e55b",
   "metadata": {},
   "outputs": [
    {
     "name": "stdout",
     "output_type": "stream",
     "text": [
      "name\n",
      "data\n",
      "identity card\n"
     ]
    }
   ],
   "source": [
    "l = [\"name\", \"data\", \"identity card\"]\n",
    "for i in l:\n",
    "    print(i)"
   ]
  },
  {
   "cell_type": "markdown",
   "id": "a4b35d3f",
   "metadata": {},
   "source": [
    "## For loop with Dictionary"
   ]
  },
  {
   "cell_type": "code",
   "execution_count": 3,
   "id": "b25b9000",
   "metadata": {},
   "outputs": [
    {
     "name": "stdout",
     "output_type": "stream",
     "text": [
      "Dictionary Iteration\n",
      "key1 val1\n",
      "key2 345\n"
     ]
    }
   ],
   "source": [
    "print(\"Dictionary Iteration\")\n",
    "d = dict()\n",
    "\n",
    "d['key1'] = \"val1\"\n",
    "d['key2'] = 345\n",
    "for i in d:\n",
    "    print(i, d[i])"
   ]
  },
  {
   "cell_type": "markdown",
   "id": "f562a00e",
   "metadata": {},
   "source": [
    "## For loop in string"
   ]
  },
  {
   "cell_type": "code",
   "execution_count": 4,
   "id": "f6b94a82",
   "metadata": {},
   "outputs": [
    {
     "name": "stdout",
     "output_type": "stream",
     "text": [
      "r\n",
      "a\n",
      "h\n",
      "u\n",
      "l\n"
     ]
    }
   ],
   "source": [
    "name = \"rahul\"\n",
    "for word in name:\n",
    "    print(word)"
   ]
  },
  {
   "cell_type": "code",
   "execution_count": 5,
   "id": "3b86b061",
   "metadata": {},
   "outputs": [
    {
     "name": "stdout",
     "output_type": "stream",
     "text": [
      "0 0\n",
      "0 1\n",
      "1 0\n",
      "1 1\n",
      "2 0\n",
      "2 1\n"
     ]
    }
   ],
   "source": [
    "# Nested for loop\n",
    "for i in range(3):\n",
    "    for j in range(2):\n",
    "        print(i,j)"
   ]
  },
  {
   "cell_type": "code",
   "execution_count": 16,
   "id": "adba72cd",
   "metadata": {},
   "outputs": [
    {
     "name": "stdout",
     "output_type": "stream",
     "text": [
      "1 1\n",
      "1 2\n",
      "1 3\n",
      "1 4\n",
      "1 5\n",
      "1 6\n",
      "-\n",
      "2 1\n",
      "2 2\n",
      "2 3\n",
      "2 4\n",
      "2 5\n",
      "2 6\n",
      "-\n",
      "3 1\n",
      "3 2\n",
      "3 3\n",
      "3 4\n",
      "3 5\n",
      "3 6\n",
      "-\n",
      "4 1\n",
      "4 2\n",
      "4 3\n",
      "4 4\n",
      "4 5\n",
      "4 6\n",
      "-\n",
      "5 1\n",
      "5 2\n",
      "5 3\n",
      "5 4\n",
      "5 5\n",
      "5 6\n",
      "-\n",
      "6 1\n",
      "6 2\n",
      "6 3\n",
      "6 4\n",
      "6 5\n",
      "6 6\n",
      "-\n"
     ]
    }
   ],
   "source": [
    "for i in range(1,7):\n",
    "    for j in range(1,7):\n",
    "        print(i,j)\n",
    "    print(\"-\")"
   ]
  },
  {
   "cell_type": "code",
   "execution_count": 19,
   "id": "4b77d99f",
   "metadata": {},
   "outputs": [
    {
     "name": "stdout",
     "output_type": "stream",
     "text": [
      "1 4\n",
      "2 3\n",
      "3 2\n",
      "4 1\n"
     ]
    }
   ],
   "source": [
    "#how many pairs are there whose sum is 5\n",
    "for i in range(1,5):\n",
    "    for j in range(1,5):\n",
    "        if(i+j==5):\n",
    "            print(i,j)"
   ]
  },
  {
   "cell_type": "code",
   "execution_count": 24,
   "id": "55a03813",
   "metadata": {},
   "outputs": [
    {
     "name": "stdout",
     "output_type": "stream",
     "text": [
      "1 7\n",
      "2 6\n",
      "3 5\n",
      "4 4\n",
      "5 3\n",
      "6 2\n",
      "7 1\n",
      "7\n",
      "19.44\n"
     ]
    }
   ],
   "source": [
    "#Probability of getting 8 as the sum of two numbers\n",
    "number = 0\n",
    "for i in range(1,7):\n",
    "    for j in range(1,7):\n",
    "        if(i+j ==8 ):\n",
    "            number = number + 1\n",
    "            print(i,j)\n",
    "print(number)\n",
    "print(round((number/36)*100,2))"
   ]
  },
  {
   "cell_type": "code",
   "execution_count": 33,
   "id": "5971248a",
   "metadata": {},
   "outputs": [
    {
     "name": "stdout",
     "output_type": "stream",
     "text": [
      "1 = 0.0\n",
      "2 = 2.78\n",
      "3 = 5.56\n",
      "4 = 8.33\n",
      "5 = 11.11\n",
      "6 = 13.89\n",
      "7 = 16.67\n",
      "8 = 19.44\n",
      "9 = 22.22\n",
      "10 = 19.44\n",
      "11 = 16.67\n",
      "12 = 13.89\n"
     ]
    }
   ],
   "source": [
    "#Probability of getting numbers from 1-12 as the sum of two numbers\n",
    "for n in range(1,13):\n",
    "    \n",
    "    number = 0\n",
    "    for i in range(1,7):\n",
    "        for j in range(1,7):\n",
    "            if(i+j == n):\n",
    "                number = number + 1\n",
    "\n",
    "    print(n,'=',round((number/36)*100,2))"
   ]
  },
  {
   "cell_type": "code",
   "execution_count": 1,
   "id": "afe4f3b7",
   "metadata": {},
   "outputs": [
    {
     "name": "stdout",
     "output_type": "stream",
     "text": [
      "[0, 1, 4, 9, 16]\n"
     ]
    }
   ],
   "source": [
    "#List Comprehensions:\n",
    "#List comprehensions provide a concise way to create lists using for loops:\n",
    "\n",
    "\n",
    "squares = [x**2 for x in range(5)]\n",
    "print(squares)"
   ]
  },
  {
   "cell_type": "markdown",
   "id": "32132030",
   "metadata": {},
   "source": [
    "Problem Statement - Write a program checking whether a number is an Armstrong number. An Armstrong number (also known as a narcissistic number, pluperfect digital invariant, or pluperfect number) is a number that is the sum of its own digits each raised to the power of the number of digits."
   ]
  },
  {
   "cell_type": "code",
   "execution_count": 1,
   "id": "5f95f87c",
   "metadata": {},
   "outputs": [
    {
     "name": "stdout",
     "output_type": "stream",
     "text": [
      "10 is not an Armstrong number.\n"
     ]
    }
   ],
   "source": [
    "def is_armstrong_number(number):\n",
    "        num_str = str(number)\n",
    "        num_digits = len(num_str)\n",
    "        sum_of_digits = sum(int(digit) ** num_digits for digit in num_str)\n",
    "        return sum_of_digits == number\n",
    "\n",
    "    # User input\n",
    "num = int(input(\"Enter a number: \"))\n",
    "\n",
    "    # Check and display the result\n",
    "if is_armstrong_number(num):\n",
    "        print(f\"{num} is an Armstrong number.\")\n",
    "else:\n",
    "        print(f\"{num} is not an Armstrong number.\")"
   ]
  },
  {
   "cell_type": "markdown",
   "id": "fdef9206",
   "metadata": {},
   "source": [
    "## Printing the table of "
   ]
  },
  {
   "cell_type": "code",
   "execution_count": 3,
   "id": "8197dbfe",
   "metadata": {},
   "outputs": [
    {
     "name": "stdout",
     "output_type": "stream",
     "text": [
      "2\n",
      "4\n",
      "6\n",
      "8\n",
      "10\n",
      "12\n",
      "14\n",
      "16\n",
      "18\n",
      "20\n"
     ]
    }
   ],
   "source": [
    "# Formula for the table\n",
    "n = 2\n",
    "for i in range(n,(n*10)+1,n):\n",
    "    print(i)"
   ]
  },
  {
   "cell_type": "code",
   "execution_count": 8,
   "id": "a0bf2912",
   "metadata": {},
   "outputs": [
    {
     "name": "stdout",
     "output_type": "stream",
     "text": [
      "Enter the number: 10\n",
      "0 * 10 = 0\n",
      "1 * 10 = 10\n",
      "2 * 10 = 20\n",
      "3 * 10 = 30\n",
      "4 * 10 = 40\n",
      "5 * 10 = 50\n",
      "6 * 10 = 60\n",
      "7 * 10 = 70\n",
      "8 * 10 = 80\n",
      "9 * 10 = 90\n",
      "10 * 10 = 100\n"
     ]
    }
   ],
   "source": [
    "n = int(input(\"Enter the number: \"))\n",
    "for i in range(11):\n",
    "    print(i,'*', n,'=', i*n)"
   ]
  },
  {
   "cell_type": "code",
   "execution_count": 9,
   "id": "0f0a0419",
   "metadata": {},
   "outputs": [
    {
     "name": "stdout",
     "output_type": "stream",
     "text": [
      "Enter the number: 15\n",
      "1 * 15 = 15\n",
      "2 * 15 = 30\n",
      "3 * 15 = 45\n",
      "4 * 15 = 60\n",
      "5 * 15 = 75\n",
      "6 * 15 = 90\n",
      "7 * 15 = 105\n",
      "8 * 15 = 120\n",
      "9 * 15 = 135\n",
      "10 * 15 = 150\n"
     ]
    }
   ],
   "source": [
    "n = int(input(\"Enter the number: \"))\n",
    "for i in range(1,11):\n",
    "    print(i,'*', n,'=', i*n)\n"
   ]
  },
  {
   "cell_type": "code",
   "execution_count": 11,
   "id": "2593cfd1",
   "metadata": {},
   "outputs": [
    {
     "name": "stdout",
     "output_type": "stream",
     "text": [
      "2\n",
      "4\n",
      "6\n",
      "8\n",
      "10\n",
      "12\n",
      "14\n",
      "16\n",
      "18\n",
      "20\n"
     ]
    }
   ],
   "source": [
    "for i in range(2,21,2):\n",
    "    print(i)"
   ]
  },
  {
   "cell_type": "code",
   "execution_count": null,
   "id": "03d44338",
   "metadata": {},
   "outputs": [],
   "source": []
  }
 ],
 "metadata": {
  "kernelspec": {
   "display_name": "Python 3",
   "language": "python",
   "name": "python3"
  },
  "language_info": {
   "codemirror_mode": {
    "name": "ipython",
    "version": 3
   },
   "file_extension": ".py",
   "mimetype": "text/x-python",
   "name": "python",
   "nbconvert_exporter": "python",
   "pygments_lexer": "ipython3",
   "version": "3.12.0"
  }
 },
 "nbformat": 4,
 "nbformat_minor": 5
}
