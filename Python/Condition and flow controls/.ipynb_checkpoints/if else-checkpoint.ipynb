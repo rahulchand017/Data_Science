{
 "cells": [
  {
   "cell_type": "markdown",
   "id": "47c6e59e",
   "metadata": {},
   "source": [
    "if, elif, else are the statements which are used to solve the conditions."
   ]
  },
  {
   "cell_type": "markdown",
   "id": "313d5ca6",
   "metadata": {},
   "source": [
    "Ques:- Find a year is a leap year or not."
   ]
  },
  {
   "cell_type": "raw",
   "id": "38404ec9",
   "metadata": {},
   "source": [
    "Else statement cannot be executed without if statement.\n",
    "Many if statement can be executed.\n",
    "if, elif, else are the sequential order of the execution of any statement.\n"
   ]
  },
  {
   "cell_type": "code",
   "execution_count": 8,
   "id": "7fa69b2e",
   "metadata": {},
   "outputs": [
    {
     "name": "stdout",
     "output_type": "stream",
     "text": [
      "Enter a year: 2024\n",
      "2024 is a leap year\n"
     ]
    }
   ],
   "source": [
    "year = int(input(\"Enter a year: \"))\n",
    "if(year % 4 == 0 and year % 100!=0)or(year%400==0):\n",
    "    print(f\"{year} is a leap year\")\n",
    "else:\n",
    "    print(f\"{year} not a leap year\")\n"
   ]
  },
  {
   "cell_type": "code",
   "execution_count": 4,
   "id": "b14428ee",
   "metadata": {},
   "outputs": [
    {
     "name": "stdout",
     "output_type": "stream",
     "text": [
      "x is greater than 5\n"
     ]
    }
   ],
   "source": [
    "x = 10\n",
    "if x>5:\n",
    "    print(\"x is greater than 5\")"
   ]
  },
  {
   "cell_type": "code",
   "execution_count": 1,
   "id": "9ba7f35d",
   "metadata": {},
   "outputs": [
    {
     "name": "stdout",
     "output_type": "stream",
     "text": [
      "True\n"
     ]
    }
   ],
   "source": [
    "i = 10\n",
    "print(True) if i < 15 else print(False)"
   ]
  },
  {
   "cell_type": "code",
   "execution_count": 3,
   "id": "6199fabb",
   "metadata": {},
   "outputs": [
    {
     "name": "stdout",
     "output_type": "stream",
     "text": [
      "32\n",
      "x is greater than 25 and less than 50\n"
     ]
    }
   ],
   "source": [
    "x = int(input())\n",
    "if (x<50 and x>25):\n",
    "    print(\"x is greater than 25 and less than 50\")\n",
    "elif(x>30):\n",
    "    print(\"x is greater than 30\")\n",
    "else:\n",
    "    print(\"x have enter some random no\")"
   ]
  },
  {
   "cell_type": "markdown",
   "id": "4201e539",
   "metadata": {},
   "source": [
    "## Short Hand if-else statement\n"
   ]
  },
  {
   "cell_type": "code",
   "execution_count": 4,
   "id": "fec3bff9",
   "metadata": {},
   "outputs": [
    {
     "name": "stdout",
     "output_type": "stream",
     "text": [
      "True\n"
     ]
    }
   ],
   "source": [
    "x = 32\n",
    "print(True) if x>25 else print(False)"
   ]
  },
  {
   "cell_type": "markdown",
   "id": "b0c97692",
   "metadata": {},
   "source": [
    "## Nested if-else Statements:"
   ]
  },
  {
   "cell_type": "code",
   "execution_count": null,
   "id": "2deb845e",
   "metadata": {},
   "outputs": [],
   "source": [
    "\n",
    "x = 100\n",
    "if(x>=100):\n",
    "    print(\"no greater than or equal to 100\")\n",
    "    if(x<200):\n",
    "        print(\"no less than 200\")\n",
    "    else:\n",
    "        print(\"no greater than 200\")\n",
    "else:\n",
    "    print(\"number less than or equal to 99\")"
   ]
  },
  {
   "cell_type": "code",
   "execution_count": 9,
   "id": "b0766122",
   "metadata": {},
   "outputs": [
    {
     "name": "stdout",
     "output_type": "stream",
     "text": [
      "20\n",
      "it is divisible by 5\n",
      "only divisible by 5 not 3\n"
     ]
    }
   ],
   "source": [
    "x = int(input())\n",
    "if(x%5==0):\n",
    "    print(\"it is divisible by 5\")\n",
    "    if(x%3==0):\n",
    "        print(\"it is also divisible by 3\")\n",
    "    else:\n",
    "        print(\"only divisible by 5 not 3\")\n",
    "else:\n",
    "    print(\"not divisible by 5 and 3\")"
   ]
  },
  {
   "cell_type": "code",
   "execution_count": null,
   "id": "65c35c1f",
   "metadata": {},
   "outputs": [],
   "source": [
    "x = int(input())\n",
    "if(x%5==0)and (x%3==0):\n",
    "        print(\"it is divisible by 5 and 3\")\n",
    "else:\n",
    "    print(\"not divisible by 5 and 3\")"
   ]
  },
  {
   "cell_type": "code",
   "execution_count": null,
   "id": "fc997305",
   "metadata": {},
   "outputs": [],
   "source": []
  }
 ],
 "metadata": {
  "kernelspec": {
   "display_name": "Python 3 (ipykernel)",
   "language": "python",
   "name": "python3"
  },
  "language_info": {
   "codemirror_mode": {
    "name": "ipython",
    "version": 3
   },
   "file_extension": ".py",
   "mimetype": "text/x-python",
   "name": "python",
   "nbconvert_exporter": "python",
   "pygments_lexer": "ipython3",
   "version": "3.11.3"
  }
 },
 "nbformat": 4,
 "nbformat_minor": 5
}
