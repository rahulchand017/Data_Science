{
 "cells": [
  {
   "cell_type": "markdown",
   "id": "36ccc11e",
   "metadata": {},
   "source": [
    "### The while loop is a control flow statement in Python that repeatedly executes a block of code as long as a specified condition is true, and when the condition becomes false, the line immediately after the loop in the program is executed.\n",
    "\n",
    "## Syntax\n",
    "While expression:\n",
    "#statements"
   ]
  },
  {
   "cell_type": "code",
   "execution_count": 1,
   "id": "96ba69c5",
   "metadata": {},
   "outputs": [
    {
     "name": "stdout",
     "output_type": "stream",
     "text": [
      "2 4 "
     ]
    }
   ],
   "source": [
    "counter= 2\n",
    "while counter <= 5:\n",
    "    print(counter, end=' ')\n",
    "    counter += 2"
   ]
  },
  {
   "cell_type": "code",
   "execution_count": 4,
   "id": "c89e23b6",
   "metadata": {},
   "outputs": [
    {
     "name": "stdout",
     "output_type": "stream",
     "text": [
      "(1, 1) (1, 2) (2, 1) (2, 2) (3, 1) (3, 2) "
     ]
    }
   ],
   "source": [
    "# Nested While Loop\n",
    "# Similar to for loops, while loops can be nested to handle more complex scenarios:\n",
    "\n",
    "\n",
    "outer_counter = 1\n",
    "while outer_counter <= 3:\n",
    "    inner_counter = 1\n",
    "    while inner_counter <= 2:\n",
    "        print(f\"({outer_counter}, {inner_counter})\", end=' ')\n",
    "        inner_counter += 1\n",
    "    outer_counter += 1"
   ]
  },
  {
   "cell_type": "code",
   "execution_count": 1,
   "id": "20806549",
   "metadata": {},
   "outputs": [
    {
     "name": "stdout",
     "output_type": "stream",
     "text": [
      "1\n",
      "3\n",
      "6\n",
      "10\n",
      "15\n",
      "21\n",
      "28\n"
     ]
    }
   ],
   "source": [
    "## S is sum \n",
    "s=1\n",
    "n = 30\n",
    "i =1\n",
    "while(n>s):\n",
    "    print(s)\n",
    "    i=i+1\n",
    "    s+=i\n",
    "    "
   ]
  },
  {
   "cell_type": "code",
   "execution_count": 2,
   "id": "dcc3ff48",
   "metadata": {},
   "outputs": [
    {
     "name": "stdout",
     "output_type": "stream",
     "text": [
      "(1, 1) (1, 2) (2, 1) (2, 2) (3, 1) (3, 2) "
     ]
    }
   ],
   "source": [
    "## Nested While Loop\n",
    "## Similar to for loops, while loops can be nested to handle more complex scenarios:\n",
    "\n",
    "\n",
    "outer_counter = 1\n",
    "while outer_counter <= 3:\n",
    "    inner_counter = 1\n",
    "    while inner_counter <= 2:\n",
    "        print(f\"({outer_counter}, {inner_counter})\", end=' ')\n",
    "        inner_counter += 1\n",
    "    outer_counter += 1"
   ]
  },
  {
   "cell_type": "code",
   "execution_count": 3,
   "id": "a389a927",
   "metadata": {},
   "outputs": [
    {
     "name": "stdout",
     "output_type": "stream",
     "text": [
      "1 2 4 5 "
     ]
    }
   ],
   "source": [
    "# Continue statement is used to execute next line of code\n",
    "counter = 1\n",
    "while counter <= 5:\n",
    "    if counter == 3:\n",
    "        counter += 1\n",
    "        continue\n",
    "    print(counter, end=' ')\n",
    "    counter += 1"
   ]
  },
  {
   "cell_type": "code",
   "execution_count": 4,
   "id": "2b080da3",
   "metadata": {},
   "outputs": [
    {
     "name": "stdout",
     "output_type": "stream",
     "text": [
      "1 2 3 4 5 "
     ]
    }
   ],
   "source": [
    "## While Loop with break statement\n",
    "## The break statement is useful for exiting a while loop prematurely based on a certain condition.\n",
    "\n",
    "\n",
    "counter = 1\n",
    "while counter <= 10:\n",
    "    print(counter,end=' ')\n",
    "    if counter == 5:\n",
    "        break\n",
    "    counter += 1\n"
   ]
  },
  {
   "cell_type": "code",
   "execution_count": 5,
   "id": "17d2504a",
   "metadata": {},
   "outputs": [
    {
     "name": "stdout",
     "output_type": "stream",
     "text": [
      "Enter your age: 21\n"
     ]
    }
   ],
   "source": [
    "while True:\n",
    "    age = int(input(\"Enter your age: \"))\n",
    "    if age >= 0:\n",
    "        break\n",
    "    else:\n",
    "        print(\"Please enter a valid age.\")"
   ]
  },
  {
   "cell_type": "code",
   "execution_count": 7,
   "id": "d90a83e5",
   "metadata": {},
   "outputs": [
    {
     "name": "stdout",
     "output_type": "stream",
     "text": [
      "Continue playing? (yes/no): yes\n",
      "Continue playing? (yes/no): no\n"
     ]
    }
   ],
   "source": [
    "game_over = False\n",
    "while not game_over:\n",
    "    # Game logic here\n",
    "    user_input = input(\"Continue playing? (yes/no): \")\n",
    "    if user_input.lower() == \"no\":\n",
    "        game_over = True"
   ]
  },
  {
   "cell_type": "markdown",
   "id": "fd93c462",
   "metadata": {},
   "source": [
    "### Challenge Galore\n",
    "#### Problem Statement - Create a Python program that prompts the user to enter positive numbers continuously. The program should use a while loop to collect input data until the user enters a non-positive number. Implement simple data validation to ensure entered values are valid positive numbers. Finally, output the list of positive numbers entered by the user. The objective is to create an interactive and error-tolerant program for collecting and handling user input."
   ]
  },
  {
   "cell_type": "code",
   "execution_count": null,
   "id": "99d805e0",
   "metadata": {},
   "outputs": [],
   "source": [
    "numbers = []\n",
    "\n",
    "while True:\n",
    "    user_input = input(\"Enter a positive number (enter a non-positive number to stop): \")\n",
    "\n",
    "    # Check if the input can be converted to a float and is non-negative\n",
    "    if user_input.replace('.', '', 1).isdigit() and float(user_input) > 0:\n",
    "        numbers.append(float(user_input))\n",
    "    elif user_input.replace('-', '', 1).isdigit() and float(user_input) <= 0:\n",
    "        break  # Exit the loop if a non-positive number is entered\n",
    "    else:\n",
    "        print(\"Invalid input. Please enter a valid positive number.\")\n",
    "\n",
    "# Data handling after the loop\n",
    "if numbers:\n",
    "    print(f\"You entered the following positive numbers: {numbers}\")\n",
    "else:\n",
    "    print(\"No positive numbers were entered.\")\n"
   ]
  },
  {
   "cell_type": "code",
   "execution_count": null,
   "id": "fe7964b5",
   "metadata": {},
   "outputs": [],
   "source": [
    "# Reverse a number\n",
    "# Input: a number to reverse\n",
    "number = int(input(\"Enter a number: \"))\n",
    "\n",
    "# Initialize the reversed number to 0\n",
    "reversed_number = 0\n",
    "\n",
    "# Use a while loop to reverse the number\n",
    "while number > 0:\n",
    "    digit = number % 10  # Get the last digit\n",
    "    reversed_number = reversed_number * 10 + digit  # Append the digit to the reversed number\n",
    "    number //= 10  # Remove the last digit from the original number\n",
    "\n",
    "print(\"Reversed number:\", reversed_number)\n"
   ]
  },
  {
   "cell_type": "code",
   "execution_count": null,
   "id": "9d3d0b2c",
   "metadata": {},
   "outputs": [],
   "source": []
  }
 ],
 "metadata": {
  "kernelspec": {
   "display_name": "Python 3 (ipykernel)",
   "language": "python",
   "name": "python3"
  },
  "language_info": {
   "codemirror_mode": {
    "name": "ipython",
    "version": 3
   },
   "file_extension": ".py",
   "mimetype": "text/x-python",
   "name": "python",
   "nbconvert_exporter": "python",
   "pygments_lexer": "ipython3",
   "version": "3.11.3"
  }
 },
 "nbformat": 4,
 "nbformat_minor": 5
}
