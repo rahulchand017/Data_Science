{
 "cells": [
  {
   "cell_type": "code",
   "execution_count": 2,
   "id": "650f7413",
   "metadata": {},
   "outputs": [],
   "source": [
    "import numpy as np"
   ]
  },
  {
   "cell_type": "markdown",
   "id": "aa303c11",
   "metadata": {},
   "source": [
    "#### 0D Tensor"
   ]
  },
  {
   "cell_type": "code",
   "execution_count": null,
   "id": "fcfbf0b4",
   "metadata": {},
   "outputs": [],
   "source": [
    "n = np.array(4)"
   ]
  },
  {
   "cell_type": "code",
   "execution_count": 4,
   "id": "58c8ded7",
   "metadata": {},
   "outputs": [
    {
     "data": {
      "text/plain": [
       "array(4)"
      ]
     },
     "execution_count": 4,
     "metadata": {},
     "output_type": "execute_result"
    }
   ],
   "source": [
    "n"
   ]
  },
  {
   "cell_type": "code",
   "execution_count": 5,
   "id": "3b4018e2",
   "metadata": {},
   "outputs": [
    {
     "data": {
      "text/plain": [
       "0"
      ]
     },
     "execution_count": 5,
     "metadata": {},
     "output_type": "execute_result"
    }
   ],
   "source": [
    "n.ndim"
   ]
  },
  {
   "cell_type": "markdown",
   "id": "832ce841",
   "metadata": {},
   "source": [
    "#### 1D Tensor\n",
    "- Also called Vector\n",
    "- This is 1D Tensor also a vector with 4 dimension(for vector it had 4dimension)"
   ]
  },
  {
   "cell_type": "code",
   "execution_count": 10,
   "id": "e15dac17",
   "metadata": {},
   "outputs": [
    {
     "data": {
      "text/plain": [
       "1"
      ]
     },
     "execution_count": 10,
     "metadata": {},
     "output_type": "execute_result"
    }
   ],
   "source": [
    "a = np.array([1,2,3,4])\n",
    "a.ndim"
   ]
  },
  {
   "cell_type": "markdown",
   "id": "50239e15",
   "metadata": {},
   "source": [
    "#### 2D Tensor\n",
    "- Also called `matrics`"
   ]
  },
  {
   "cell_type": "code",
   "execution_count": 11,
   "id": "18368411",
   "metadata": {},
   "outputs": [],
   "source": [
    "mat = np.array([[1,2,3,4],[5,6,7,8]])"
   ]
  },
  {
   "cell_type": "code",
   "execution_count": 12,
   "id": "58772ba8",
   "metadata": {},
   "outputs": [
    {
     "data": {
      "text/plain": [
       "2"
      ]
     },
     "execution_count": 12,
     "metadata": {},
     "output_type": "execute_result"
    }
   ],
   "source": [
    "mat.ndim"
   ]
  },
  {
   "cell_type": "code",
   "execution_count": 7,
   "id": "7a53af78",
   "metadata": {},
   "outputs": [],
   "source": [
    "a = np.arange(2,8).reshape(2,3)"
   ]
  },
  {
   "cell_type": "code",
   "execution_count": 9,
   "id": "3ad900ff",
   "metadata": {},
   "outputs": [
    {
     "data": {
      "text/plain": [
       "2"
      ]
     },
     "execution_count": 9,
     "metadata": {},
     "output_type": "execute_result"
    }
   ],
   "source": [
    "a.ndim"
   ]
  },
  {
   "cell_type": "markdown",
   "id": "14989cae",
   "metadata": {},
   "source": [
    "### Vectors\n"
   ]
  },
  {
   "cell_type": "code",
   "execution_count": 13,
   "id": "7b169a80",
   "metadata": {},
   "outputs": [],
   "source": [
    "import numpy as np\n"
   ]
  },
  {
   "cell_type": "code",
   "execution_count": null,
   "id": "5d912733",
   "metadata": {},
   "outputs": [
    {
     "name": "stdout",
     "output_type": "stream",
     "text": [
      "Euclidean distance from origin:  7.416198487095663\n"
     ]
    }
   ],
   "source": [
    "# distance from origin -> euclidean distance\n",
    "# n-dimension vector A\n",
    "A = np.array([1,2,3,4,5])\n",
    "# finding euclidean distance\n",
    "distance = np.linalg.norm(A)\n",
    "print(\"Euclidean distance from origin: \", distance)"
   ]
  },
  {
   "cell_type": "code",
   "execution_count": null,
   "id": "f1a6edeb",
   "metadata": {},
   "outputs": [
    {
     "name": "stdout",
     "output_type": "stream",
     "text": [
      "Euclidean distance from origin:  8.382332347441762\n"
     ]
    }
   ],
   "source": [
    "# wrong answer\n",
    "A = np.array([1,2,3,4,5])\n",
    "distance = sum(np.sqrt(A))\n",
    "print(\"Euclidean distance from origin: \", distance)"
   ]
  },
  {
   "cell_type": "code",
   "execution_count": 17,
   "id": "9921d934",
   "metadata": {},
   "outputs": [
    {
     "name": "stdout",
     "output_type": "stream",
     "text": [
      "Euclidean distance between A and B:  11.180339887498949\n"
     ]
    }
   ],
   "source": [
    "# Euclidean distance for 2 n-dimension vectors A and B\n",
    "A = np.array([1,2,3,4,5])\n",
    "B = np.array([6,7,8,9,10])\n",
    "difference = A - B\n",
    "distance = np.linalg.norm(difference)\n",
    "print(\"Euclidean distance between A and B: \", distance)\n"
   ]
  },
  {
   "cell_type": "markdown",
   "id": "76e04e1b",
   "metadata": {},
   "source": [
    "### Dot Product\n",
    "- Scalar\n",
    "- It is commutative A.B = B.A\n",
    "- It is Distributive A.(B+C) = A.B + A.C"
   ]
  },
  {
   "cell_type": "code",
   "execution_count": null,
   "id": "85f1e2a0",
   "metadata": {},
   "outputs": [
    {
     "name": "stdout",
     "output_type": "stream",
     "text": [
      "32\n"
     ]
    }
   ],
   "source": [
    "import numpy as np\n",
    "A = np.array([1,2,3])\n",
    "B = np.array([4,5,6])\n",
    "print(np.dot(A,B))\n"
   ]
  },
  {
   "cell_type": "markdown",
   "id": "f2d5ab4f",
   "metadata": {},
   "source": [
    "# Cosine Similarity"
   ]
  },
  {
   "cell_type": "code",
   "execution_count": 21,
   "id": "55431581",
   "metadata": {},
   "outputs": [
    {
     "name": "stdout",
     "output_type": "stream",
     "text": [
      "Cosine similarity of A and B:  -0.9746318461970762\n",
      "Cosine similarity of A and C : 0.9258200997725513\n"
     ]
    }
   ],
   "source": [
    "A = np.array([1,2,3])\n",
    "B = np.array([-4,-5,-6])\n",
    "C = np.array([5,5,5])\n",
    "cosine_similarity = np.dot(A,B)/ (np.linalg.norm(A)*np.linalg.norm(B))\n",
    "print(\"Cosine similarity of A and B: \", cosine_similarity)\n",
    "\n",
    "cosine_similarity = np.dot(A,C)/(np.linalg.norm(A)*np.linalg.norm(C))\n",
    "print(\"Cosine similarity of A and C :\", cosine_similarity)"
   ]
  },
  {
   "cell_type": "markdown",
   "id": "8eedb9f1",
   "metadata": {},
   "source": [
    "### Matrix"
   ]
  },
  {
   "cell_type": "code",
   "execution_count": 22,
   "id": "ef2656a9",
   "metadata": {},
   "outputs": [
    {
     "data": {
      "text/plain": [
       "array([[1, 3, 4],\n",
       "       [6, 4, 1],\n",
       "       [2, 2, 2]])"
      ]
     },
     "execution_count": 22,
     "metadata": {},
     "output_type": "execute_result"
    }
   ],
   "source": [
    "import numpy as np\n",
    "A = np.array([[1,3,4],[6,4,1],[2,2,2]])\n",
    "A"
   ]
  },
  {
   "cell_type": "code",
   "execution_count": 23,
   "id": "d2114d73",
   "metadata": {},
   "outputs": [
    {
     "data": {
      "text/plain": [
       "array([ 5, 16, 11])"
      ]
     },
     "execution_count": 23,
     "metadata": {},
     "output_type": "execute_result"
    }
   ],
   "source": [
    "B = np.array([5,16,11])\n",
    "B"
   ]
  },
  {
   "cell_type": "code",
   "execution_count": 24,
   "id": "5ec0c379",
   "metadata": {},
   "outputs": [
    {
     "data": {
      "text/plain": [
       "array([[-0.75 , -0.25 ,  1.625],\n",
       "       [ 1.25 ,  0.75 , -2.875],\n",
       "       [-0.5  , -0.5  ,  1.75 ]])"
      ]
     },
     "execution_count": 24,
     "metadata": {},
     "output_type": "execute_result"
    }
   ],
   "source": [
    "A_inv = np.linalg.inv(A)\n",
    "A_inv"
   ]
  },
  {
   "cell_type": "code",
   "execution_count": 28,
   "id": "2535e2ca",
   "metadata": {},
   "outputs": [
    {
     "data": {
      "text/plain": [
       "array([ 10.125, -13.375,   8.75 ])"
      ]
     },
     "execution_count": 28,
     "metadata": {},
     "output_type": "execute_result"
    }
   ],
   "source": [
    "np.dot(A_inv,B)"
   ]
  },
  {
   "cell_type": "code",
   "execution_count": null,
   "id": "a3b678cb",
   "metadata": {},
   "outputs": [],
   "source": []
  },
  {
   "cell_type": "code",
   "execution_count": null,
   "id": "c152afd2",
   "metadata": {},
   "outputs": [],
   "source": []
  },
  {
   "cell_type": "code",
   "execution_count": null,
   "id": "163155a5",
   "metadata": {},
   "outputs": [],
   "source": []
  },
  {
   "cell_type": "code",
   "execution_count": null,
   "id": "4488a59b",
   "metadata": {},
   "outputs": [],
   "source": []
  }
 ],
 "metadata": {
  "kernelspec": {
   "display_name": "Python 3",
   "language": "python",
   "name": "python3"
  },
  "language_info": {
   "codemirror_mode": {
    "name": "ipython",
    "version": 3
   },
   "file_extension": ".py",
   "mimetype": "text/x-python",
   "name": "python",
   "nbconvert_exporter": "python",
   "pygments_lexer": "ipython3",
   "version": "3.12.0"
  }
 },
 "nbformat": 4,
 "nbformat_minor": 5
}
