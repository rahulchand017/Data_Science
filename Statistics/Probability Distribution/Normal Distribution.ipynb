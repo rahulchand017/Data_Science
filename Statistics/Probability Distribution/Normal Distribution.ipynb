{
 "cells": [
  {
   "cell_type": "markdown",
   "id": "75c71ca5",
   "metadata": {},
   "source": [
    "A normal distribution, also known as a Gaussian distribution or bell curve, is a symmetric, bell-shaped probability distribution where data clusters around a central mean. It is characterized by a mean, median, and mode all being equal, a total area under the curve of 100% (or 1), and a continuous, unimodal, and symmetric shape"
   ]
  },
  {
   "cell_type": "markdown",
   "id": "9cd166dd",
   "metadata": {},
   "source": [
    "Parameter are X ~ f(mean,SD)"
   ]
  },
  {
   "cell_type": "markdown",
   "id": "47375274",
   "metadata": {},
   "source": [
    "### Standard Normal Variate\n",
    "- Mean = 0 and S.D = 1 of a Normal Distribution"
   ]
  },
  {
   "cell_type": "markdown",
   "id": "459c4a80",
   "metadata": {},
   "source": [
    "#### Standardizing a normal distribution allows to compare different distributions with each others.\n",
    "#### Also to calculate probabilities using standardizing tables or software."
   ]
  },
  {
   "cell_type": "markdown",
   "id": "098add05",
   "metadata": {},
   "source": [
    " "
   ]
  }
 ],
 "metadata": {
  "kernelspec": {
   "display_name": "Python 3",
   "language": "python",
   "name": "python3"
  },
  "language_info": {
   "codemirror_mode": {
    "name": "ipython",
    "version": 3
   },
   "file_extension": ".py",
   "mimetype": "text/x-python",
   "name": "python",
   "nbconvert_exporter": "python",
   "pygments_lexer": "ipython3",
   "version": "3.12.0"
  }
 },
 "nbformat": 4,
 "nbformat_minor": 5
}
