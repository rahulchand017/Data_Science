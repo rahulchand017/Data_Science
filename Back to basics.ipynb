{
 "cells": [
  {
   "cell_type": "markdown",
   "id": "6750a114",
   "metadata": {},
   "source": [
    "#### Logical Operator"
   ]
  },
  {
   "cell_type": "code",
   "execution_count": 1,
   "id": "372a51c8",
   "metadata": {},
   "outputs": [
    {
     "data": {
      "text/plain": [
       "0"
      ]
     },
     "execution_count": 1,
     "metadata": {},
     "output_type": "execute_result"
    }
   ],
   "source": [
    "1 and 0 "
   ]
  },
  {
   "cell_type": "code",
   "execution_count": 2,
   "id": "7e343ec5",
   "metadata": {},
   "outputs": [
    {
     "data": {
      "text/plain": [
       "1"
      ]
     },
     "execution_count": 2,
     "metadata": {},
     "output_type": "execute_result"
    }
   ],
   "source": [
    "1 or 0"
   ]
  },
  {
   "cell_type": "markdown",
   "id": "e03a99d8",
   "metadata": {},
   "source": [
    "#### bitwise"
   ]
  },
  {
   "cell_type": "code",
   "execution_count": null,
   "id": "9325403c",
   "metadata": {},
   "outputs": [
    {
     "name": "stdout",
     "output_type": "stream",
     "text": [
      "1\n",
      "2\n"
     ]
    }
   ],
   "source": [
    "print(2^3)  #XOR\n",
    "print(2&3)\n",
    "print(~3) #NOT operator change 0 to 1 and 1 to 0"
   ]
  },
  {
   "cell_type": "markdown",
   "id": "25ffde15",
   "metadata": {},
   "source": [
    "#### Assignment opeartor"
   ]
  },
  {
   "cell_type": "markdown",
   "id": "5d6bdff7",
   "metadata": {},
   "source": [
    "#### Membership Operator\n",
    "- in/ not in"
   ]
  },
  {
   "cell_type": "code",
   "execution_count": 5,
   "id": "90a4f14d",
   "metadata": {},
   "outputs": [
    {
     "name": "stdout",
     "output_type": "stream",
     "text": [
      "True\n"
     ]
    }
   ],
   "source": [
    "print('D' in 'Delhi')\n"
   ]
  },
  {
   "cell_type": "code",
   "execution_count": 8,
   "id": "0b45c4d9",
   "metadata": {},
   "outputs": [
    {
     "name": "stdout",
     "output_type": "stream",
     "text": [
      "15\n"
     ]
    }
   ],
   "source": [
    "# Find the sun of a 3 digit number entered by user\n",
    "value = int(input())\n",
    "a = value%10\n",
    "value = value//10\n",
    "b = value%10\n",
    "value = value//10\n",
    "c = value%10\n",
    "print(a+b+c)"
   ]
  },
  {
   "cell_type": "code",
   "execution_count": 10,
   "id": "f744479b",
   "metadata": {},
   "outputs": [
    {
     "name": "stdout",
     "output_type": "stream",
     "text": [
      "15\n"
     ]
    }
   ],
   "source": [
    "def sum_num(num):\n",
    "    total = 0\n",
    "    while num>0:\n",
    "        digit = num%10\n",
    "        total+= digit\n",
    "        num//=10\n",
    "    return total\n",
    "value = int(input())\n",
    "print(sum_num(value))"
   ]
  },
  {
   "cell_type": "code",
   "execution_count": 11,
   "id": "2bdf44c8",
   "metadata": {},
   "outputs": [
    {
     "name": "stdout",
     "output_type": "stream",
     "text": [
      "4\n"
     ]
    }
   ],
   "source": [
    "# find the min of 3 given number\n",
    "a = int(input(\"first num\"))\n",
    "b = int(input(\"Second num\"))\n",
    "c = int(input(\"Third num\"))\n",
    "print(min(a,b,c))"
   ]
  },
  {
   "cell_type": "markdown",
   "id": "4ca65ab7",
   "metadata": {},
   "source": [
    "### module in python\n",
    "- math\n",
    "- keyword\n",
    "- constant\n",
    "- random\n"
   ]
  },
  {
   "cell_type": "code",
   "execution_count": 13,
   "id": "1bb1da73",
   "metadata": {},
   "outputs": [
    {
     "name": "stdout",
     "output_type": "stream",
     "text": [
      "2025-08-18 19:41:22.420312\n"
     ]
    }
   ],
   "source": [
    "import datetime\n",
    "print(datetime.datetime.now())"
   ]
  },
  {
   "cell_type": "code",
   "execution_count": 20,
   "id": "195b4859",
   "metadata": {},
   "outputs": [
    {
     "name": "stdout",
     "output_type": "stream",
     "text": [
      "11\n",
      "22\n",
      "33\n",
      "44\n",
      "55\n",
      "66\n",
      "77\n",
      "88\n",
      "99\n",
      "110\n"
     ]
    }
   ],
   "source": [
    "# program to print the table\n",
    "num = int(input())\n",
    "i = 1\n",
    "while i<11:\n",
    "    print(num*i)\n",
    "    i +=1\n"
   ]
  },
  {
   "cell_type": "code",
   "execution_count": null,
   "id": "96afa760",
   "metadata": {},
   "outputs": [],
   "source": [
    "# sum of all digits to a given number \n",
    "# keep accepting the no from user till he enters a 0 and then find the average."
   ]
  },
  {
   "cell_type": "code",
   "execution_count": 22,
   "id": "979d0570",
   "metadata": {},
   "outputs": [
    {
     "name": "stdout",
     "output_type": "stream",
     "text": [
      "Average: 2.5\n"
     ]
    }
   ],
   "source": [
    "total = 0      # to keep sum of numbers\n",
    "count = 0      # to count how many numbers entered\n",
    "\n",
    "while True:\n",
    "    num = int(input(\"Enter number (0 to stop): \"))\n",
    "    if num == 0:\n",
    "        break              \n",
    "    total += num\n",
    "    count += 1\n",
    "\n",
    "# avoid division by zero\n",
    "if count > 0:\n",
    "    avg = total / count\n",
    "    print(\"Average:\", avg)\n",
    "else:\n",
    "    print(\"No numbers entered!\")\n"
   ]
  },
  {
   "cell_type": "code",
   "execution_count": 24,
   "id": "14862cdf",
   "metadata": {},
   "outputs": [
    {
     "name": "stdout",
     "output_type": "stream",
     "text": [
      "Lower no\n",
      "Predict the no higher\n",
      "Predict the no higher\n",
      "Lower no\n",
      "Correctly guessed\n",
      "5\n"
     ]
    }
   ],
   "source": [
    "# Guessing game\n",
    "import random\n",
    "\n",
    "\n",
    "jackpot = random.randint(1,100)\n",
    "guess = int(input())\n",
    "count = 1\n",
    "while guess!= jackpot:\n",
    "    if guess< jackpot:\n",
    "        print(\"Predict the no higher\")\n",
    "    else:\n",
    "        print(\"Lower no\")\n",
    "    \n",
    "    guess = int(input())\n",
    "    count +=1\n",
    "else:\n",
    "    print('Correctly guessed')\n",
    "    print(count)\n"
   ]
  },
  {
   "cell_type": "code",
   "execution_count": 23,
   "id": "1ce4bd14",
   "metadata": {},
   "outputs": [
    {
     "name": "stdout",
     "output_type": "stream",
     "text": [
      "1\n",
      "2\n",
      "3\n",
      "4\n",
      "5\n",
      "6\n",
      "7\n",
      "8\n",
      "9\n",
      "10\n"
     ]
    }
   ],
   "source": [
    "for i in range(1,11):\n",
    "    print(i)"
   ]
  },
  {
   "cell_type": "markdown",
   "id": "8e3a4b6f",
   "metadata": {},
   "source": [
    "#### The current population of a town is 10,000. The population of the town is increasing at a rate of 10% per year. How have you... You have to write a program to find out the population at the end of each of the last 10 years."
   ]
  },
  {
   "cell_type": "code",
   "execution_count": null,
   "id": "6c8855a8",
   "metadata": {},
   "outputs": [
    {
     "name": "stdout",
     "output_type": "stream",
     "text": [
      "10 10000\n",
      "9 11000.0\n",
      "8 12100.000000000002\n",
      "7 13310.000000000004\n",
      "6 14641.000000000005\n",
      "5 16105.100000000008\n",
      "4 17715.61000000001\n",
      "3 19487.171000000013\n",
      "2 21435.888100000015\n"
     ]
    }
   ],
   "source": [
    "population = 10000\n",
    "for i in range(10,1,-1):\n",
    "    print(i,population)\n",
    "    population = population *1.1\n",
    "# for last 10 years"
   ]
  },
  {
   "cell_type": "code",
   "execution_count": 31,
   "id": "7673c2e4",
   "metadata": {},
   "outputs": [
    {
     "name": "stdout",
     "output_type": "stream",
     "text": [
      "1 1\n",
      "2 2\n",
      "3 3\n",
      "4 4\n",
      "5 5\n",
      "6 6\n"
     ]
    }
   ],
   "source": [
    "for i in range(1,7):\n",
    "    for j in range(1,7):\n",
    "        if i ==j:\n",
    "            print(i,j)\n",
    "        "
   ]
  },
  {
   "cell_type": "markdown",
   "id": "d2ed4854",
   "metadata": {},
   "source": [
    "#### Pattern"
   ]
  },
  {
   "cell_type": "code",
   "execution_count": 38,
   "id": "b33382df",
   "metadata": {},
   "outputs": [
    {
     "name": "stdout",
     "output_type": "stream",
     "text": [
      "*\n",
      "**\n",
      "***\n",
      "****\n",
      "*****\n"
     ]
    }
   ],
   "source": [
    "rows = int(input('Enter no of rows: '))\n",
    "for i in range(1,rows+1):\n",
    "    for j in range(1,i+1):\n",
    "        print('*', end = '')\n",
    "    print()\n",
    "        "
   ]
  },
  {
   "cell_type": "code",
   "execution_count": 4,
   "id": "3ba2d04f",
   "metadata": {},
   "outputs": [
    {
     "name": "stdout",
     "output_type": "stream",
     "text": [
      "1\n",
      "121\n",
      "12321\n",
      "1234321\n",
      "123454321\n"
     ]
    }
   ],
   "source": [
    "rows = int(input('Enter no of rows: '))\n",
    "for i in range(1,rows+1):\n",
    "    for j in range(1,i+1):\n",
    "        print(j, end='')\n",
    "    for k in range(i-1,0,-1):\n",
    "        print(k,end='')\n",
    "    print()"
   ]
  },
  {
   "cell_type": "code",
   "execution_count": 8,
   "id": "812ad9b1",
   "metadata": {},
   "outputs": [
    {
     "name": "stdout",
     "output_type": "stream",
     "text": [
      "5 7 11 13 "
     ]
    }
   ],
   "source": [
    "# find prime no\n",
    "start = int(input(\"Enter start of range: \"))\n",
    "end = int(input(\"Enter end of range: \"))\n",
    "\n",
    "\n",
    "for num in range(start, end + 1):\n",
    "    if num > 1:   # primes are greater than 1\n",
    "        is_prime = True\n",
    "        for i in range(2, int(num**0.5) + 1):  # check divisibility till sqrt(num)\n",
    "            if num % i == 0:\n",
    "                is_prime = False\n",
    "                break\n",
    "        if is_prime:\n",
    "            print(num, end=\" \")\n"
   ]
  },
  {
   "cell_type": "code",
   "execution_count": 9,
   "id": "0f06706b",
   "metadata": {},
   "outputs": [
    {
     "name": "stdout",
     "output_type": "stream",
     "text": [
      "5\n",
      "7\n",
      "11\n",
      "13\n"
     ]
    }
   ],
   "source": [
    "start = int(input(\"Enter start of range: \"))\n",
    "end = int(input(\"Enter end of range: \"))\n",
    "for i in range(start,end):\n",
    "    for j in range(2,i):\n",
    "        if i%j==0:\n",
    "            break\n",
    "    else:\n",
    "        print(i)"
   ]
  },
  {
   "cell_type": "markdown",
   "id": "7d23a3e1",
   "metadata": {},
   "source": [
    "## String\n",
    "- In python string is a collection of Unicode character"
   ]
  },
  {
   "cell_type": "code",
   "execution_count": 11,
   "id": "0ceeb9f3",
   "metadata": {},
   "outputs": [
    {
     "data": {
      "text/plain": [
       "'rahul'"
      ]
     },
     "execution_count": 11,
     "metadata": {},
     "output_type": "execute_result"
    }
   ],
   "source": [
    "str = input(\"Enter a string\")\n",
    "str"
   ]
  },
  {
   "cell_type": "code",
   "execution_count": 14,
   "id": "2174d8c4",
   "metadata": {},
   "outputs": [
    {
     "name": "stdout",
     "output_type": "stream",
     "text": [
      "rahul\n",
      "rahul\n",
      "rahul\n",
      "rahul\n",
      "rahul\n"
     ]
    }
   ],
   "source": [
    "for i in str:\n",
    "    print(str)"
   ]
  },
  {
   "cell_type": "code",
   "execution_count": 15,
   "id": "303ea005",
   "metadata": {},
   "outputs": [
    {
     "name": "stdout",
     "output_type": "stream",
     "text": [
      "r\n",
      "a\n",
      "h\n",
      "u\n",
      "l\n"
     ]
    }
   ],
   "source": [
    "for i in 'rahul':\n",
    "    print(i)"
   ]
  },
  {
   "cell_type": "markdown",
   "id": "e0d227cb",
   "metadata": {},
   "source": [
    "- capitalize:- Only first char capitalize\n",
    "- Title:- Capitalize first word\n",
    "- Upper\n",
    "- lower\n",
    "- swapcase"
   ]
  },
  {
   "cell_type": "markdown",
   "id": "57b46cfe",
   "metadata": {},
   "source": [
    "#### format"
   ]
  },
  {
   "cell_type": "code",
   "execution_count": 17,
   "id": "528fa711",
   "metadata": {},
   "outputs": [
    {
     "name": "stdout",
     "output_type": "stream",
     "text": [
      "the age is 22 and name is rahul\n"
     ]
    }
   ],
   "source": [
    "age = 22\n",
    "name = 'rahul'\n",
    "print(f\"the age is {age} and name is {name}\")"
   ]
  },
  {
   "cell_type": "markdown",
   "id": "1922cf7c",
   "metadata": {},
   "source": [
    "#### isalnum/ isalpha/ isdigit/ isidentifier"
   ]
  },
  {
   "cell_type": "code",
   "execution_count": 18,
   "id": "8e40c87f",
   "metadata": {},
   "outputs": [
    {
     "data": {
      "text/plain": [
       "True"
      ]
     },
     "execution_count": 18,
     "metadata": {},
     "output_type": "execute_result"
    }
   ],
   "source": [
    "'rahul123'.isalnum()"
   ]
  },
  {
   "cell_type": "markdown",
   "id": "0786c3e9",
   "metadata": {},
   "source": [
    "## split/join"
   ]
  },
  {
   "cell_type": "code",
   "execution_count": 20,
   "id": "21b35bc6",
   "metadata": {},
   "outputs": [
    {
     "data": {
      "text/plain": [
       "['hi', 'my', 'name', 'is', 'rahul']"
      ]
     },
     "execution_count": 20,
     "metadata": {},
     "output_type": "execute_result"
    }
   ],
   "source": [
    "'hi my name is rahul'.split(' ')"
   ]
  },
  {
   "cell_type": "code",
   "execution_count": 23,
   "id": "9343c705",
   "metadata": {},
   "outputs": [
    {
     "data": {
      "text/plain": [
       "'hi my name is rahul'"
      ]
     },
     "execution_count": 23,
     "metadata": {},
     "output_type": "execute_result"
    }
   ],
   "source": [
    "\" \".join(['hi', 'my', 'name', 'is', 'rahul'])"
   ]
  },
  {
   "cell_type": "code",
   "execution_count": 24,
   "id": "e6786675",
   "metadata": {},
   "outputs": [
    {
     "data": {
      "text/plain": [
       "'hi my naam is rahul'"
      ]
     },
     "execution_count": 24,
     "metadata": {},
     "output_type": "execute_result"
    }
   ],
   "source": [
    "'hi my name is rahul'.replace('name', 'naam')"
   ]
  },
  {
   "cell_type": "markdown",
   "id": "a5d1c84d",
   "metadata": {},
   "source": [
    "## List\n",
    "- It is a datatype where you can store multiple items under 1 name. More technically, list sct like dynamic arrays which means you can add more items on the fly."
   ]
  },
  {
   "cell_type": "markdown",
   "id": "7a78583c",
   "metadata": {},
   "source": [
    "- list size is dynamic as compared to array (no define the size at first)\n",
    "- list is heterogeneous (multiple type in a list)"
   ]
  },
  {
   "cell_type": "code",
   "execution_count": 30,
   "id": "55757d30",
   "metadata": {},
   "outputs": [
    {
     "data": {
      "text/plain": [
       "[1, 2, 3, 4, 5, 6]"
      ]
     },
     "execution_count": 30,
     "metadata": {},
     "output_type": "execute_result"
    }
   ],
   "source": [
    "# append\n",
    "l = [1,2,3,4,5]\n",
    "l.append(6)\n",
    "l"
   ]
  },
  {
   "cell_type": "code",
   "execution_count": 28,
   "id": "4a314bbd",
   "metadata": {},
   "outputs": [
    {
     "data": {
      "text/plain": [
       "[1, 2, 3, 4, 5, 6, 7, 8]"
      ]
     },
     "execution_count": 28,
     "metadata": {},
     "output_type": "execute_result"
    }
   ],
   "source": [
    "# extend\n",
    "l = [1,2,3,4,5]\n",
    "l.extend([6,7,8])\n",
    "l"
   ]
  },
  {
   "cell_type": "code",
   "execution_count": 33,
   "id": "65c86e31",
   "metadata": {},
   "outputs": [
    {
     "data": {
      "text/plain": [
       "[1, 100, 2, 3, 4, 5]"
      ]
     },
     "execution_count": 33,
     "metadata": {},
     "output_type": "execute_result"
    }
   ],
   "source": [
    "# insert\n",
    "l = [1,2,3,4,5]\n",
    "l.insert(1,100)\n",
    "l"
   ]
  },
  {
   "cell_type": "code",
   "execution_count": null,
   "id": "c7a051a6",
   "metadata": {},
   "outputs": [
    {
     "data": {
      "text/plain": [
       "[1, 9, 3, 4, 5]"
      ]
     },
     "execution_count": 34,
     "metadata": {},
     "output_type": "execute_result"
    }
   ],
   "source": [
    "# editing is possible with indexing and slicing\n",
    "l = [1,2,3,4,5]\n",
    "l[1] = 9\n",
    "l"
   ]
  },
  {
   "cell_type": "code",
   "execution_count": null,
   "id": "fb501b39",
   "metadata": {},
   "outputs": [
    {
     "name": "stdout",
     "output_type": "stream",
     "text": [
      "[1, 2, 3, 4, 5]\n"
     ]
    },
    {
     "ename": "NameError",
     "evalue": "name 'l' is not defined",
     "output_type": "error",
     "traceback": [
      "\u001b[1;31m---------------------------------------------------------------------------\u001b[0m",
      "\u001b[1;31mNameError\u001b[0m                                 Traceback (most recent call last)",
      "Cell \u001b[1;32mIn[35], line 8\u001b[0m\n\u001b[0;32m      6\u001b[0m \u001b[38;5;28mprint\u001b[39m(l)\n\u001b[0;32m      7\u001b[0m \u001b[38;5;28;01mdel\u001b[39;00m l\n\u001b[1;32m----> 8\u001b[0m \u001b[38;5;28mprint\u001b[39m(\u001b[43ml\u001b[49m)\n",
      "\u001b[1;31mNameError\u001b[0m: name 'l' is not defined"
     ]
    }
   ],
   "source": [
    "# del\n",
    "# remove\n",
    "# pop\n",
    "# clear (empty a list)\n",
    "l = [1,2,3,4,5]\n",
    "print(l)\n",
    "del l\n",
    "# del l[-1]\n",
    "print(l)\n"
   ]
  },
  {
   "cell_type": "code",
   "execution_count": null,
   "id": "26e48456",
   "metadata": {},
   "outputs": [
    {
     "data": {
      "text/plain": [
       "3"
      ]
     },
     "execution_count": 36,
     "metadata": {},
     "output_type": "execute_result"
    }
   ],
   "source": [
    "# count\n",
    "l = [1,2,3,2,5,8,9,3,4,3]\n",
    "l.count(3)"
   ]
  },
  {
   "cell_type": "code",
   "execution_count": 37,
   "id": "15c61ca9",
   "metadata": {},
   "outputs": [
    {
     "data": {
      "text/plain": [
       "[6, 5, 3, 1, 2]"
      ]
     },
     "execution_count": 37,
     "metadata": {},
     "output_type": "execute_result"
    }
   ],
   "source": [
    "# reverse\n",
    "l = [2,1,3,5,6]\n",
    "l.reverse() # permanent change\n",
    "l"
   ]
  },
  {
   "cell_type": "code",
   "execution_count": 38,
   "id": "c8144768",
   "metadata": {},
   "outputs": [
    {
     "name": "stdout",
     "output_type": "stream",
     "text": [
      "[2, 1, 3, 5, 6]\n",
      "None\n"
     ]
    }
   ],
   "source": [
    "l = [2,1,3,5,6]\n",
    "print(l)\n",
    "print(l.sort())\n",
    "# sort make permanent change while shorted doesn't"
   ]
  },
  {
   "cell_type": "markdown",
   "id": "1c6c1c0b",
   "metadata": {},
   "source": [
    "#### List comprehension"
   ]
  },
  {
   "cell_type": "code",
   "execution_count": 40,
   "id": "e7a8f853",
   "metadata": {},
   "outputs": [
    {
     "data": {
      "text/plain": [
       "[1, 2, 3, 4, 5, 6, 7, 8, 9, 10]"
      ]
     },
     "execution_count": 40,
     "metadata": {},
     "output_type": "execute_result"
    }
   ],
   "source": [
    "lst = [i for i in range(1,11)]\n",
    "lst"
   ]
  },
  {
   "cell_type": "code",
   "execution_count": 44,
   "id": "fedc988e",
   "metadata": {},
   "outputs": [
    {
     "data": {
      "text/plain": [
       "[5, 10, 15, 20, 25, 30, 35, 40, 45, 50]"
      ]
     },
     "execution_count": 44,
     "metadata": {},
     "output_type": "execute_result"
    }
   ],
   "source": [
    "# print all the no divisible by 5 in range of 1 to 50\n",
    "[i for i in range(1,51) if i%5==0]"
   ]
  },
  {
   "cell_type": "code",
   "execution_count": 45,
   "id": "7e46314b",
   "metadata": {},
   "outputs": [
    {
     "data": {
      "text/plain": [
       "['java', 'javascript']"
      ]
     },
     "execution_count": 45,
     "metadata": {},
     "output_type": "execute_result"
    }
   ],
   "source": [
    "languages = ['java',' python',' c++', 'javascript']\n",
    "[language for language in languages if language.startswith('j')]"
   ]
  },
  {
   "cell_type": "markdown",
   "id": "4ef100cc",
   "metadata": {},
   "source": [
    "## Tuples\n",
    "- Same as list in python except it is immutable."
   ]
  },
  {
   "cell_type": "code",
   "execution_count": 47,
   "id": "7c34679b",
   "metadata": {},
   "outputs": [
    {
     "name": "stdout",
     "output_type": "stream",
     "text": [
      "()\n",
      "<class 'tuple'>\n"
     ]
    }
   ],
   "source": [
    "# empty tuple\n",
    "t1 = ()\n",
    "print(t1)\n",
    "\n",
    "# single type tuple\n",
    "t2 = ('hello',)\n",
    "print(type(t2))"
   ]
  },
  {
   "cell_type": "code",
   "execution_count": null,
   "id": "70696236",
   "metadata": {},
   "outputs": [],
   "source": [
    "# count (no of time it occur)\n",
    "# index (index value)"
   ]
  },
  {
   "cell_type": "markdown",
   "id": "db21bd70",
   "metadata": {},
   "source": [
    "## Sets\n",
    "- Sets are unordered collection of items.\n",
    "- Unordered \n",
    "- Mutable\n",
    "- No duplicates\n",
    "- Can't contain mutable data type"
   ]
  },
  {
   "cell_type": "code",
   "execution_count": null,
   "id": "9f2711b2",
   "metadata": {},
   "outputs": [
    {
     "name": "stdout",
     "output_type": "stream",
     "text": [
      "<class 'set'>\n"
     ]
    }
   ],
   "source": [
    "# empty set\n",
    "sets = {''} # s = set()\n",
    "print(type(sets))"
   ]
  },
  {
   "cell_type": "markdown",
   "id": "d645311f",
   "metadata": {},
   "source": [
    "#### Accessing items\n",
    "- Can't do indexing or slicing\n",
    "- No changes can be done"
   ]
  },
  {
   "cell_type": "markdown",
   "id": "024e6cde",
   "metadata": {},
   "source": [
    "#### Can add and del items in set"
   ]
  },
  {
   "cell_type": "code",
   "execution_count": 55,
   "id": "1e93ffbe",
   "metadata": {},
   "outputs": [
    {
     "data": {
      "text/plain": [
       "{1, 2, 3, 4, 5, 10}"
      ]
     },
     "execution_count": 55,
     "metadata": {},
     "output_type": "execute_result"
    }
   ],
   "source": [
    "s = {1,2,4,5}\n",
    "s.add(3)\n",
    "s\n",
    "# update\n",
    "s.update([10])\n",
    "s"
   ]
  },
  {
   "cell_type": "code",
   "execution_count": null,
   "id": "396fec26",
   "metadata": {},
   "outputs": [],
   "source": [
    "del s"
   ]
  },
  {
   "cell_type": "markdown",
   "id": "7e386a9c",
   "metadata": {},
   "source": [
    "#### Set operations\n",
    "- Union |\n",
    "- Intersection &\n",
    "- Difference -\n",
    "- Symmetric difference ^ (exclude the same)"
   ]
  },
  {
   "cell_type": "code",
   "execution_count": 56,
   "id": "63e9dcba",
   "metadata": {},
   "outputs": [
    {
     "data": {
      "text/plain": [
       "{1, 2, 3, 4, 5, 6, 7, 8, 9, 10, 11, 12}"
      ]
     },
     "execution_count": 56,
     "metadata": {},
     "output_type": "execute_result"
    }
   ],
   "source": [
    "s1 = {1,2,3,4,5,6}\n",
    "s2 = {7,8,9,10,11,12}\n",
    "s1 | s2"
   ]
  },
  {
   "cell_type": "markdown",
   "id": "4e82c16c",
   "metadata": {},
   "source": [
    "## Dictionary\n",
    "- Store in key value pairs\n",
    "- Mutable\n",
    "- Indexing has no meaning\n",
    "- No duplicate keys"
   ]
  },
  {
   "cell_type": "markdown",
   "id": "6a10b5c4",
   "metadata": {},
   "source": [
    "#### Accessing items"
   ]
  },
  {
   "cell_type": "markdown",
   "id": "ca6f02d7",
   "metadata": {},
   "source": [
    "## Functions"
   ]
  },
  {
   "cell_type": "code",
   "execution_count": 58,
   "id": "d4288e4f",
   "metadata": {},
   "outputs": [
    {
     "name": "stdout",
     "output_type": "stream",
     "text": [
      "Is even\n"
     ]
    }
   ],
   "source": [
    "def is_even(num):\n",
    "    if num%2==0:\n",
    "        return 'Is even'\n",
    "    else:\n",
    "        return \"Not even\"\n",
    "value = int(input())\n",
    "print(is_even(value))"
   ]
  },
  {
   "cell_type": "markdown",
   "id": "ed7d748b",
   "metadata": {},
   "source": [
    "#### Type of argument\n",
    "- While defining function it is called parameter and when giving value it became argument\n",
    "- Default Argument\n",
    "- Positional Argument\n",
    "- Keyword Argument"
   ]
  },
  {
   "cell_type": "markdown",
   "id": "f3339798",
   "metadata": {},
   "source": [
    "*args, **kwargs"
   ]
  },
  {
   "cell_type": "code",
   "execution_count": null,
   "id": "bf3c82cb",
   "metadata": {},
   "outputs": [],
   "source": [
    "def multiplying(*argum):\n",
    "    # multiple no of variables no of non variable arguments can be taken with the help of *args\n",
    "    product = 1\n",
    "    for i in argum:\n",
    "        product = product * i\n",
    "    print(argum)\n",
    "    return product"
   ]
  },
  {
   "cell_type": "code",
   "execution_count": null,
   "id": "7e843241",
   "metadata": {},
   "outputs": [],
   "source": [
    "# euclidean distance\n",
    "import math\n",
    "dis = math.sqrt((x2-x1)**2 + (y2-y1)**2)"
   ]
  },
  {
   "cell_type": "code",
   "execution_count": null,
   "id": "fc35caac",
   "metadata": {},
   "outputs": [],
   "source": [
    "# Write a program to find the simple interest when the value of principle,rate of interest and time period is provided by the user.\n",
    "SI = (Principle * R *T)/100"
   ]
  },
  {
   "cell_type": "code",
   "execution_count": null,
   "id": "9e1b1ebd",
   "metadata": {},
   "outputs": [
    {
     "name": "stdout",
     "output_type": "stream",
     "text": [
      "Dogs: 2\n",
      "Chickens: 2\n"
     ]
    }
   ],
   "source": [
    "# Write a program that will tell the number of dogs and chicken are there when the user will provide the value of total heads and legs.\n",
    "def animals(heads, legs):\n",
    "    # let dogs = d, chickens = c\n",
    "    # equations:\n",
    "    # d + c = heads\n",
    "    # 4d + 2c = legs\n",
    "\n",
    "    for dogs in range(heads + 1):\n",
    "        chickens = heads - dogs\n",
    "        if 4*dogs + 2*chickens == legs:\n",
    "            return dogs, chickens\n",
    "    \n",
    "    return None, None  \n",
    "\n",
    "heads = int(input(\"Enter number of heads: \"))\n",
    "legs = int(input(\"Enter number of legs: \"))\n",
    "\n",
    "dogs, chickens = animals(heads, legs)\n",
    "\n",
    "if dogs is None:\n",
    "    print(\"No valid solution exists!\")\n",
    "else:\n",
    "    print(\"Dogs:\", dogs)\n",
    "    print(\"Chickens:\", chickens)\n"
   ]
  },
  {
   "cell_type": "code",
   "execution_count": 9,
   "id": "d9292c7a",
   "metadata": {},
   "outputs": [
    {
     "name": "stdout",
     "output_type": "stream",
     "text": [
      "55\n"
     ]
    }
   ],
   "source": [
    "# Write a program to find the sum of squares of first n natural numbers where n will be provided by the user.\n",
    "def sum_sqr(num):\n",
    "    total = 0\n",
    "    for i in range(1,num+1):\n",
    "        total += i**2\n",
    "    return total\n",
    "num = int(input(\"Enter the no\"))\n",
    "print(sum_sqr(num))"
   ]
  },
  {
   "cell_type": "code",
   "execution_count": null,
   "id": "f5d7fa23",
   "metadata": {},
   "outputs": [
    {
     "name": "stdout",
     "output_type": "stream",
     "text": [
      "The 7th term of the series is: 14\n"
     ]
    }
   ],
   "source": [
    "# Given the first 2 terms of an Arithmetic Series.Find the Nth term of the series. Assume all inputs are provided by the user.\n",
    "def nth_term_AP(a1, a2, n):\n",
    "    d = a2 - a1         \n",
    "    return a1 + (n - 1) * d\n",
    "\n",
    "a1 = int(input(\"Enter the first term: \"))\n",
    "a2 = int(input(\"Enter the second term: \"))\n",
    "n = int(input(\"Enter the term number (n): \"))\n",
    "\n",
    "print(f\"The {n}th term of the series is:\", nth_term_AP(a1, a2, n))\n"
   ]
  },
  {
   "cell_type": "code",
   "execution_count": null,
   "id": "03c73c29",
   "metadata": {},
   "outputs": [
    {
     "name": "stdout",
     "output_type": "stream",
     "text": [
      "9\n"
     ]
    }
   ],
   "source": [
    "# Given 2 fractions, find the sum of those 2 fractions.Take the numerator and denominator values of the fractions from the user.\n",
    "num1 = int(input(\"Enter nu1: \"))\n",
    "den1 = int(input(\"Enter denominator1: \"))\n",
    "num2 = int(input(\"Enter nu2: \"))\n",
    "den2 = int(input(\"Enter denominator2: \"))\n",
    "frac1 = float(num1/den1)\n",
    "frac2 = float(num2/den2)\n",
    "final_sum = int(frac1+frac2)\n",
    "print(final_sum)\n",
    "\n",
    "\"\"\"\n",
    "def add_fractions(num1, den1, num2, den2):\n",
    "    # finding common denominator\n",
    "    common_den = den1 * den2\n",
    "    # adjusting numerators\n",
    "    new_num1 = num1 * den2\n",
    "    new_num2 = num2 * den1\n",
    "    # sum of fractions\n",
    "    final_num = new_num1 + new_num2\n",
    "    return final_num, common_den\n",
    "\n",
    "# input from user\n",
    "num1 = int(input(\"Enter numerator1: \"))\n",
    "den1 = int(input(\"Enter denominator1: \"))\n",
    "num2 = int(input(\"Enter numerator2: \"))\n",
    "den2 = int(input(\"Enter denominator2: \"))\n",
    "\n",
    "num, den = add_fractions(num1, den1, num2, den2)\n",
    "print(f\"Sum of fractions = {num}/{den}\")\n",
    "\n",
    "\"\"\""
   ]
  },
  {
   "cell_type": "markdown",
   "id": "c49c0e00",
   "metadata": {},
   "source": [
    "#### Given the height, width and breadth of a milk tank, you have to find out how many glasses of milk can be obtained? Assume all the inputs are provided by the user.\n",
    "\n"
   ]
  },
  {
   "cell_type": "code",
   "execution_count": null,
   "id": "548f24c5",
   "metadata": {},
   "outputs": [],
   "source": [
    "def milk_glasses(height, width, breadth, glass_volume=250):\n",
    "    # volume of milk tank (in cubic cm)\n",
    "    tank_volume = height * width * breadth  \n",
    "    \n",
    "    # number of glasses\n",
    "    glasses = tank_volume // glass_volume  \n",
    "    \n",
    "    return int(glasses)\n",
    "\n",
    "# Taking user inputs\n",
    "h = int(input(\"Enter height of milk tank (cm): \"))\n",
    "w = int(input(\"Enter width of milk tank (cm): \"))\n",
    "b = int(input(\"Enter breadth of milk tank (cm): \"))\n",
    "\n",
    "result = milk_glasses(h, w, b)\n",
    "print(\"Total number of glasses of milk:\", result)\n"
   ]
  },
  {
   "cell_type": "markdown",
   "id": "2534eaf9",
   "metadata": {},
   "source": [
    "Write a program that will give you in hand monthly salary after deduction on CTC - HRA(10%), DA(5%), PF(3%) and taxes deduction as below:\n",
    "\n",
    "> Salary(Lakhs) : Tax(%)\n",
    "\n",
    "*   Below 5 : 0%\n",
    "*   5-10 : 10%\n",
    "*   10-20 : 20%\n",
    "*   aboove 20 : 30%"
   ]
  },
  {
   "cell_type": "code",
   "execution_count": 21,
   "id": "e82b8a14",
   "metadata": {},
   "outputs": [
    {
     "name": "stdout",
     "output_type": "stream",
     "text": [
      "Your Monthly In-Hand Salary is: 65600.0\n"
     ]
    }
   ],
   "source": [
    "def in_hand(Salary):\n",
    "    annual_salary = Salary*100000\n",
    "    HRA = 0.10 * annual_salary\n",
    "    DA = 0.05 * annual_salary\n",
    "    PF = 0.03 * annual_salary\n",
    "    salary_after_deduction = annual_salary - (HRA+DA+PF)\n",
    "    if Salary < 5:\n",
    "        tax_rate = 0\n",
    "    elif Salary <= 10:\n",
    "        tax_rate = 0.10\n",
    "    elif Salary <= 20:\n",
    "        tax_rate = 0.20\n",
    "    else:\n",
    "        tax_rate = 0.30\n",
    "\n",
    "    tax = tax_rate * salary_after_deduction\n",
    "    monthly_in_hand = (salary_after_deduction - tax)/12\n",
    "    return monthly_in_hand\n",
    "\n",
    "ctc = float(input(\"Enter your CTC in Lakhs: \"))\n",
    "print(\"Your Monthly In-Hand Salary is:\", round(in_hand(ctc), 2))\n",
    "    "
   ]
  },
  {
   "cell_type": "code",
   "execution_count": null,
   "id": "3f830a7e",
   "metadata": {},
   "outputs": [],
   "source": [
    "# Write a program that will take user input of cost price and selling price and determines whether its a loss or a profit.\n"
   ]
  },
  {
   "cell_type": "code",
   "execution_count": 23,
   "id": "fc8b3d31",
   "metadata": {},
   "outputs": [
    {
     "name": "stdout",
     "output_type": "stream",
     "text": [
      "Fibonacci Series: [0, 1, 1, 2, 3, 5, 8, 13, 21, 34]\n"
     ]
    }
   ],
   "source": [
    "# Display Fibonacci series up to 10 terms.\n",
    "def fibonacci(n):\n",
    "    a, b = 0, 1\n",
    "    series = []\n",
    "    for _ in range(n):\n",
    "        series.append(a)\n",
    "        a, b = b, a + b\n",
    "    return series\n",
    "\n",
    "print(\"Fibonacci Series:\", fibonacci(10))\n"
   ]
  },
  {
   "cell_type": "code",
   "execution_count": null,
   "id": "8f674b4e",
   "metadata": {},
   "outputs": [],
   "source": [
    "# Find the factorial of a given number.\n",
    "def factorial(num):\n",
    "    fact = 1\n",
    "    if num == 0:\n",
    "        return 1\n",
    "    else:\n",
    "        for i in range(1, num + 1):  \n",
    "            fact *= i                \n",
    "        return fact\n"
   ]
  },
  {
   "cell_type": "markdown",
   "id": "a37b71df",
   "metadata": {},
   "source": [
    "#### Take a user input as integer N. Find out the sum from 1 to N. If any number if divisible by 5, then skip that number. And if the sum is greater than 300, don't need to calculate the sum further more. Print the final result. And don't use for loop to solve this problem.\n"
   ]
  },
  {
   "cell_type": "code",
   "execution_count": null,
   "id": "c71e1817",
   "metadata": {},
   "outputs": [],
   "source": [
    "def sum_skip_5(N):\n",
    "    total = 0\n",
    "    i = 1\n",
    "    while i <= N:\n",
    "        if i % 5 == 0:   \n",
    "            i += 1\n",
    "            continue\n",
    "        total += i\n",
    "        if total > 300: \n",
    "            break\n",
    "        i += 1\n",
    "    return total\n",
    "\n",
    "N = int(input(\"Enter a number: \"))\n",
    "print(\"Final Sum:\", sum_skip_5(N))\n"
   ]
  },
  {
   "cell_type": "code",
   "execution_count": 25,
   "id": "3a7cf934",
   "metadata": {},
   "outputs": [
    {
     "name": "stdout",
     "output_type": "stream",
     "text": [
      "Sum = 32\n",
      "Average = 10.666666666666666\n"
     ]
    }
   ],
   "source": [
    "#  Write a program that keeps on accepting a number from the user until the user enters Zero. Display the sum and average of all the numbers.\n",
    "def accepting():\n",
    "    total = 0\n",
    "    count = 0\n",
    "    \n",
    "    while True:  \n",
    "        N = int(input(\"Enter a number (0 to stop): \"))\n",
    "        \n",
    "        if N == 0:\n",
    "            break   \n",
    "        \n",
    "        total += N\n",
    "        count += 1\n",
    "    \n",
    "    if count == 0:\n",
    "        avg = 0\n",
    "    else:\n",
    "        avg = total / count\n",
    "    \n",
    "    print(\"Sum =\", total)\n",
    "    print(\"Average =\", avg)\n",
    "\n",
    "accepting()\n",
    "\n",
    "        "
   ]
  },
  {
   "cell_type": "code",
   "execution_count": null,
   "id": "098a467c",
   "metadata": {},
   "outputs": [
    {
     "name": "stdout",
     "output_type": "stream",
     "text": [
      "2002,2009,2016,2023,2037,2044,2051,2058,2072,2079,2086,2093,2107,2114,2121,2128,2142,2149,2156,2163,2177,2184,2191,2198,2212,2219,2226,2233,2247,2254,2261,2268,2282,2289,2296,2303,2317,2324,2331,2338,2352,2359,2366,2373,2387,2394,2401,2408,2422,2429,2436,2443,2457,2464,2471,2478,2492,2499,2506,2513,2527,2534,2541,2548,2562,2569,2576,2583,2597,2604,2611,2618,2632,2639,2646,2653,2667,2674,2681,2688,2702,2709,2716,2723,2737,2744,2751,2758,2772,2779,2786,2793,2807,2814,2821,2828,2842,2849,2856,2863,2877,2884,2891,2898,2912,2919,2926,2933,2947,2954,2961,2968,2982,2989,2996,3003,3017,3024,3031,3038,3052,3059,3066,3073,3087,3094,3101,3108,3122,3129,3136,3143,3157,3164,3171,3178,3192,3199\n"
     ]
    }
   ],
   "source": [
    "# Find numbers divisible by 7 but not multiple of 5 between 2000 and 3200\n",
    "result = []\n",
    "\n",
    "for i in range(2000, 3201):  \n",
    "    if i % 7 == 0 and i % 5 != 0:\n",
    "        result.append(str(i))   # convert to string for joining later\n",
    "\n",
    "print(\",\".join(result))\n"
   ]
  },
  {
   "cell_type": "code",
   "execution_count": 27,
   "id": "88806691",
   "metadata": {},
   "outputs": [
    {
     "name": "stdout",
     "output_type": "stream",
     "text": [
      "2000 2002 2004 2006 2008 2020 2022 2024 2026 2028 2040 2042 2044 2046 2048 2060 2062 2064 2066 2068 2080 2082 2084 2086 2088 2200 2202 2204 2206 2208 2220 2222 2224 2226 2228 2240 2242 2244 2246 2248 2260 2262 2264 2266 2268 2280 2282 2284 2286 2288 2400 2402 2404 2406 2408 2420 2422 2424 2426 2428 2440 2442 2444 2446 2448 2460 2462 2464 2466 2468 2480 2482 2484 2486 2488 2600 2602 2604 2606 2608 2620 2622 2624 2626 2628 2640 2642 2644 2646 2648 2660 2662 2664 2666 2668 2680 2682 2684 2686 2688 2800 2802 2804 2806 2808 2820 2822 2824 2826 2828 2840 2842 2844 2846 2848 2860 2862 2864 2866 2868 2880 2882 2884 2886 2888\n"
     ]
    }
   ],
   "source": [
    "# Write a program, which will find all such numbers between 1000 and 3000 (both included) such that each digit of the number is an even number. \n",
    "# The numbers obtained should be printed in a space-separated sequence on a single line.\n",
    "\n",
    "result = []\n",
    "for i in range(1000, 3001):\n",
    "    all_even = True\n",
    "    for digit in str(i):  # check each digit\n",
    "        if int(digit) % 2 != 0:\n",
    "            all_even = False\n",
    "            break\n",
    "    if all_even:\n",
    "        result.append(str(i))\n",
    "\n",
    "print(\" \".join(result))\n"
   ]
  },
  {
   "cell_type": "markdown",
   "id": "021ea468",
   "metadata": {},
   "source": [
    "###`Problem 11`: A robot moves in a plane starting from the original point (0,0). The robot can move toward UP, DOWN, LEFT and RIGHT with a given steps.\n",
    "The trace of robot movement is shown as the following:\n",
    "```\n",
    "UP 5\n",
    "DOWN 3\n",
    "LEFT 3\n",
    "RIGHT 2\n",
    "!\n",
    "```\n",
    "> The numbers after the direction are steps.\n",
    "\n",
    "> `!` means robot stop there.\n",
    "\n",
    "**Please write a program to compute the distance from current position after a sequence of movement and original point.**\n",
    "\n",
    "*If the distance is a float, then just print the nearest integer.*\n",
    "\n",
    "Example:\n",
    "\n",
    "`Input`:\n",
    "```\n",
    "UP 5\n",
    "DOWN 3\n",
    "LEFT 3\n",
    "RIGHT 2\n",
    "!\n",
    "```\n",
    "`Output`:\n",
    "```\n",
    "2\n",
    "```"
   ]
  },
  {
   "cell_type": "code",
   "execution_count": null,
   "id": "77de4928",
   "metadata": {},
   "outputs": [],
   "source": [
    "import math\n",
    "\n",
    "x, y = 0, 0  \n",
    "\n",
    "while True:\n",
    "    command = input().strip()\n",
    "    if command == \"!\":   \n",
    "        break\n",
    "\n",
    "    direction, steps = command.split()\n",
    "    # DOWn 5 is divided into direction = DOWN and steps = 5 \n",
    "    steps = int(steps)\n",
    "\n",
    "    if direction == \"UP\":\n",
    "        y += steps\n",
    "    elif direction == \"DOWN\":\n",
    "        y -= steps\n",
    "    elif direction == \"LEFT\":\n",
    "        x -= steps\n",
    "    elif direction == \"RIGHT\":\n",
    "        x += steps\n",
    "\n",
    "distance = math.sqrt(x**2 + y**2)\n",
    "print(round(distance))   "
   ]
  },
  {
   "cell_type": "code",
   "execution_count": 31,
   "id": "66255482",
   "metadata": {},
   "outputs": [
    {
     "name": "stdout",
     "output_type": "stream",
     "text": [
      "5 is a prime number\n"
     ]
    }
   ],
   "source": [
    "# Write a program to print whether a given number is a prime number or not\n",
    "def is_prime(N):\n",
    "    for i in range(2, int(N**0.5)+ 1):\n",
    "        if N %i==0:\n",
    "            return False\n",
    "    return True\n",
    "n = int(input(\"Enter a number: \"))\n",
    "\n",
    "if is_prime(n):\n",
    "    print(f\"{n} is a prime number\")\n",
    "else:\n",
    "    print(f\"{n} is not a prime number\")"
   ]
  },
  {
   "cell_type": "markdown",
   "id": "cd84f2dd",
   "metadata": {},
   "source": [
    "#### `Problem 15`:Given two rectangles, find if the given two rectangles overlap or not. A rectangle is denoted by providing the x and y coordinates of two points: the left top corner and the right bottom corner of the rectangle. Two rectangles sharing a side are considered overlapping. (L1 and R1 are the extreme points of the first rectangle and L2 and R2 are the extreme points of the second rectangle).\n",
    "\n",
    "Note: It may be assumed that the rectangles are parallel to the coordinate axis.\n",
    "\n",
    "<img src='https://www.geeksforgeeks.org/wp-content/uploads/rectanglesOverlap.png' width='300' height='200'>"
   ]
  },
  {
   "cell_type": "code",
   "execution_count": 32,
   "id": "baa5ee83",
   "metadata": {},
   "outputs": [
    {
     "name": "stdout",
     "output_type": "stream",
     "text": [
      "Rectangles Overlap\n"
     ]
    }
   ],
   "source": [
    "def do_overlap(L1, R1, L2, R2):\n",
    "    # L1, R1, L2, R2 are tuples like (x, y)\n",
    "\n",
    "    # If one rectangle is to the left of other\n",
    "    if L1[0] > R2[0] or L2[0] > R1[0]:\n",
    "        return False\n",
    "\n",
    "    # If one rectangle is above the other\n",
    "    if L1[1] < R2[1] or L2[1] < R1[1]:\n",
    "        return False\n",
    "\n",
    "    return True  # rectangles overlap\n",
    "\n",
    "# --- Input example ---\n",
    "L1 = (0, 10)\n",
    "R1 = (10, 0)\n",
    "L2 = (5, 5)\n",
    "R2 = (15, -5)\n",
    "\n",
    "if do_overlap(L1, R1, L2, R2):\n",
    "    print(\"Rectangles Overlap\")\n",
    "else:\n",
    "    print(\"Rectangles Do Not Overlap\")\n"
   ]
  },
  {
   "cell_type": "code",
   "execution_count": null,
   "id": "9d5c3c84",
   "metadata": {},
   "outputs": [],
   "source": []
  },
  {
   "cell_type": "code",
   "execution_count": null,
   "id": "5a512aff",
   "metadata": {},
   "outputs": [],
   "source": []
  },
  {
   "cell_type": "code",
   "execution_count": null,
   "id": "82418f5e",
   "metadata": {},
   "outputs": [],
   "source": []
  },
  {
   "cell_type": "code",
   "execution_count": null,
   "id": "5d9d175f",
   "metadata": {},
   "outputs": [],
   "source": []
  },
  {
   "cell_type": "code",
   "execution_count": null,
   "id": "a7bbe8e8",
   "metadata": {},
   "outputs": [],
   "source": []
  },
  {
   "cell_type": "code",
   "execution_count": null,
   "id": "c34666a4",
   "metadata": {},
   "outputs": [],
   "source": []
  },
  {
   "cell_type": "code",
   "execution_count": null,
   "id": "5cb3d44e",
   "metadata": {},
   "outputs": [],
   "source": []
  },
  {
   "cell_type": "code",
   "execution_count": null,
   "id": "6f133e70",
   "metadata": {},
   "outputs": [],
   "source": []
  },
  {
   "cell_type": "code",
   "execution_count": null,
   "id": "ffed9569",
   "metadata": {},
   "outputs": [],
   "source": []
  },
  {
   "cell_type": "code",
   "execution_count": null,
   "id": "4bb3a2d8",
   "metadata": {},
   "outputs": [],
   "source": []
  },
  {
   "cell_type": "code",
   "execution_count": null,
   "id": "61d2d8eb",
   "metadata": {},
   "outputs": [],
   "source": []
  },
  {
   "cell_type": "code",
   "execution_count": null,
   "id": "378fb099",
   "metadata": {},
   "outputs": [],
   "source": []
  },
  {
   "cell_type": "code",
   "execution_count": null,
   "id": "5accc551",
   "metadata": {},
   "outputs": [],
   "source": []
  },
  {
   "cell_type": "code",
   "execution_count": null,
   "id": "5c7fb676",
   "metadata": {},
   "outputs": [],
   "source": []
  },
  {
   "cell_type": "code",
   "execution_count": null,
   "id": "0eeee185",
   "metadata": {},
   "outputs": [],
   "source": []
  },
  {
   "cell_type": "code",
   "execution_count": null,
   "id": "6cbca77d",
   "metadata": {},
   "outputs": [],
   "source": []
  },
  {
   "cell_type": "code",
   "execution_count": null,
   "id": "a1902eed",
   "metadata": {},
   "outputs": [],
   "source": []
  },
  {
   "cell_type": "code",
   "execution_count": null,
   "id": "5597d383",
   "metadata": {},
   "outputs": [],
   "source": []
  },
  {
   "cell_type": "code",
   "execution_count": null,
   "id": "3317c864",
   "metadata": {},
   "outputs": [],
   "source": []
  },
  {
   "cell_type": "code",
   "execution_count": null,
   "id": "d4bdff1e",
   "metadata": {},
   "outputs": [],
   "source": []
  },
  {
   "cell_type": "code",
   "execution_count": null,
   "id": "c62b97a0",
   "metadata": {},
   "outputs": [],
   "source": []
  },
  {
   "cell_type": "code",
   "execution_count": null,
   "id": "2b8a36cf",
   "metadata": {},
   "outputs": [],
   "source": []
  },
  {
   "cell_type": "code",
   "execution_count": null,
   "id": "01e6107c",
   "metadata": {},
   "outputs": [],
   "source": []
  },
  {
   "cell_type": "code",
   "execution_count": null,
   "id": "1c58dd3d",
   "metadata": {},
   "outputs": [],
   "source": []
  },
  {
   "cell_type": "code",
   "execution_count": null,
   "id": "a5b4b187",
   "metadata": {},
   "outputs": [],
   "source": []
  },
  {
   "cell_type": "code",
   "execution_count": null,
   "id": "c40933b9",
   "metadata": {},
   "outputs": [],
   "source": []
  },
  {
   "cell_type": "code",
   "execution_count": null,
   "id": "0e522050",
   "metadata": {},
   "outputs": [],
   "source": []
  },
  {
   "cell_type": "code",
   "execution_count": null,
   "id": "759e08f5",
   "metadata": {},
   "outputs": [],
   "source": []
  },
  {
   "cell_type": "code",
   "execution_count": null,
   "id": "b5b5e060",
   "metadata": {},
   "outputs": [],
   "source": []
  },
  {
   "cell_type": "code",
   "execution_count": null,
   "id": "da28fdb9",
   "metadata": {},
   "outputs": [],
   "source": []
  },
  {
   "cell_type": "code",
   "execution_count": null,
   "id": "c6507cae",
   "metadata": {},
   "outputs": [],
   "source": []
  },
  {
   "cell_type": "code",
   "execution_count": null,
   "id": "233ada2a",
   "metadata": {},
   "outputs": [],
   "source": []
  }
 ],
 "metadata": {
  "kernelspec": {
   "display_name": "Python 3",
   "language": "python",
   "name": "python3"
  },
  "language_info": {
   "codemirror_mode": {
    "name": "ipython",
    "version": 3
   },
   "file_extension": ".py",
   "mimetype": "text/x-python",
   "name": "python",
   "nbconvert_exporter": "python",
   "pygments_lexer": "ipython3",
   "version": "3.12.0"
  }
 },
 "nbformat": 4,
 "nbformat_minor": 5
}
