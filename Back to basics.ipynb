{
 "cells": [
  {
   "cell_type": "markdown",
   "id": "6750a114",
   "metadata": {},
   "source": [
    "#### Logical Operator"
   ]
  },
  {
   "cell_type": "code",
   "execution_count": 1,
   "id": "372a51c8",
   "metadata": {},
   "outputs": [
    {
     "data": {
      "text/plain": [
       "0"
      ]
     },
     "execution_count": 1,
     "metadata": {},
     "output_type": "execute_result"
    }
   ],
   "source": [
    "1 and 0 "
   ]
  },
  {
   "cell_type": "code",
   "execution_count": 2,
   "id": "7e343ec5",
   "metadata": {},
   "outputs": [
    {
     "data": {
      "text/plain": [
       "1"
      ]
     },
     "execution_count": 2,
     "metadata": {},
     "output_type": "execute_result"
    }
   ],
   "source": [
    "1 or 0"
   ]
  },
  {
   "cell_type": "markdown",
   "id": "e03a99d8",
   "metadata": {},
   "source": [
    "#### bitwise"
   ]
  },
  {
   "cell_type": "code",
   "execution_count": null,
   "id": "9325403c",
   "metadata": {},
   "outputs": [
    {
     "name": "stdout",
     "output_type": "stream",
     "text": [
      "1\n",
      "2\n"
     ]
    }
   ],
   "source": [
    "print(2^3)  #XOR\n",
    "print(2&3)\n",
    "print(~3) #NOT operator change 0 to 1 and 1 to 0"
   ]
  },
  {
   "cell_type": "markdown",
   "id": "25ffde15",
   "metadata": {},
   "source": [
    "#### Assignment opeartor"
   ]
  },
  {
   "cell_type": "markdown",
   "id": "5d6bdff7",
   "metadata": {},
   "source": [
    "#### Membership Operator\n",
    "- in/ not in"
   ]
  },
  {
   "cell_type": "code",
   "execution_count": 5,
   "id": "90a4f14d",
   "metadata": {},
   "outputs": [
    {
     "name": "stdout",
     "output_type": "stream",
     "text": [
      "True\n"
     ]
    }
   ],
   "source": [
    "print('D' in 'Delhi')\n"
   ]
  },
  {
   "cell_type": "code",
   "execution_count": 8,
   "id": "0b45c4d9",
   "metadata": {},
   "outputs": [
    {
     "name": "stdout",
     "output_type": "stream",
     "text": [
      "15\n"
     ]
    }
   ],
   "source": [
    "# Find the sun of a 3 digit number entered by user\n",
    "value = int(input())\n",
    "a = value%10\n",
    "value = value//10\n",
    "b = value%10\n",
    "value = value//10\n",
    "c = value%10\n",
    "print(a+b+c)"
   ]
  },
  {
   "cell_type": "code",
   "execution_count": 10,
   "id": "f744479b",
   "metadata": {},
   "outputs": [
    {
     "name": "stdout",
     "output_type": "stream",
     "text": [
      "15\n"
     ]
    }
   ],
   "source": [
    "def sum_num(num):\n",
    "    total = 0\n",
    "    while num>0:\n",
    "        digit = num%10\n",
    "        total+= digit\n",
    "        num//=10\n",
    "    return total\n",
    "value = int(input())\n",
    "print(sum_num(value))"
   ]
  },
  {
   "cell_type": "code",
   "execution_count": 11,
   "id": "2bdf44c8",
   "metadata": {},
   "outputs": [
    {
     "name": "stdout",
     "output_type": "stream",
     "text": [
      "4\n"
     ]
    }
   ],
   "source": [
    "# find the min of 3 given number\n",
    "a = int(input(\"first num\"))\n",
    "b = int(input(\"Second num\"))\n",
    "c = int(input(\"Third num\"))\n",
    "print(min(a,b,c))"
   ]
  },
  {
   "cell_type": "markdown",
   "id": "4ca65ab7",
   "metadata": {},
   "source": [
    "### module in python\n",
    "- math\n",
    "- keyword\n",
    "- constant\n",
    "- random\n"
   ]
  },
  {
   "cell_type": "code",
   "execution_count": 13,
   "id": "1bb1da73",
   "metadata": {},
   "outputs": [
    {
     "name": "stdout",
     "output_type": "stream",
     "text": [
      "2025-08-18 19:41:22.420312\n"
     ]
    }
   ],
   "source": [
    "import datetime\n",
    "print(datetime.datetime.now())"
   ]
  },
  {
   "cell_type": "code",
   "execution_count": 20,
   "id": "195b4859",
   "metadata": {},
   "outputs": [
    {
     "name": "stdout",
     "output_type": "stream",
     "text": [
      "11\n",
      "22\n",
      "33\n",
      "44\n",
      "55\n",
      "66\n",
      "77\n",
      "88\n",
      "99\n",
      "110\n"
     ]
    }
   ],
   "source": [
    "# program to print the table\n",
    "num = int(input())\n",
    "i = 1\n",
    "while i<11:\n",
    "    print(num*i)\n",
    "    i +=1\n"
   ]
  },
  {
   "cell_type": "code",
   "execution_count": null,
   "id": "96afa760",
   "metadata": {},
   "outputs": [],
   "source": [
    "# sum of all digits to a given number \n",
    "# keep accepting the no from user till he enters a 0 and then find the average."
   ]
  },
  {
   "cell_type": "code",
   "execution_count": 22,
   "id": "979d0570",
   "metadata": {},
   "outputs": [
    {
     "name": "stdout",
     "output_type": "stream",
     "text": [
      "Average: 2.5\n"
     ]
    }
   ],
   "source": [
    "total = 0      # to keep sum of numbers\n",
    "count = 0      # to count how many numbers entered\n",
    "\n",
    "while True:\n",
    "    num = int(input(\"Enter number (0 to stop): \"))\n",
    "    if num == 0:\n",
    "        break              \n",
    "    total += num\n",
    "    count += 1\n",
    "\n",
    "# avoid division by zero\n",
    "if count > 0:\n",
    "    avg = total / count\n",
    "    print(\"Average:\", avg)\n",
    "else:\n",
    "    print(\"No numbers entered!\")\n"
   ]
  },
  {
   "cell_type": "code",
   "execution_count": 24,
   "id": "14862cdf",
   "metadata": {},
   "outputs": [
    {
     "name": "stdout",
     "output_type": "stream",
     "text": [
      "Lower no\n",
      "Predict the no higher\n",
      "Predict the no higher\n",
      "Lower no\n",
      "Correctly guessed\n",
      "5\n"
     ]
    }
   ],
   "source": [
    "# Guessing game\n",
    "import random\n",
    "\n",
    "\n",
    "jackpot = random.randint(1,100)\n",
    "guess = int(input())\n",
    "count = 1\n",
    "while guess!= jackpot:\n",
    "    if guess< jackpot:\n",
    "        print(\"Predict the no higher\")\n",
    "    else:\n",
    "        print(\"Lower no\")\n",
    "    \n",
    "    guess = int(input())\n",
    "    count +=1\n",
    "else:\n",
    "    print('Correctly guessed')\n",
    "    print(count)\n"
   ]
  },
  {
   "cell_type": "code",
   "execution_count": 23,
   "id": "1ce4bd14",
   "metadata": {},
   "outputs": [
    {
     "name": "stdout",
     "output_type": "stream",
     "text": [
      "1\n",
      "2\n",
      "3\n",
      "4\n",
      "5\n",
      "6\n",
      "7\n",
      "8\n",
      "9\n",
      "10\n"
     ]
    }
   ],
   "source": [
    "for i in range(1,11):\n",
    "    print(i)"
   ]
  },
  {
   "cell_type": "markdown",
   "id": "8e3a4b6f",
   "metadata": {},
   "source": [
    "#### The current population of a town is 10,000. The population of the town is increasing at a rate of 10% per year. How have you... You have to write a program to find out the population at the end of each of the last 10 years."
   ]
  },
  {
   "cell_type": "code",
   "execution_count": null,
   "id": "6c8855a8",
   "metadata": {},
   "outputs": [
    {
     "name": "stdout",
     "output_type": "stream",
     "text": [
      "10 10000\n",
      "9 11000.0\n",
      "8 12100.000000000002\n",
      "7 13310.000000000004\n",
      "6 14641.000000000005\n",
      "5 16105.100000000008\n",
      "4 17715.61000000001\n",
      "3 19487.171000000013\n",
      "2 21435.888100000015\n"
     ]
    }
   ],
   "source": [
    "population = 10000\n",
    "for i in range(10,1,-1):\n",
    "    print(i,population)\n",
    "    population = population *1.1\n",
    "# for last 10 years"
   ]
  },
  {
   "cell_type": "code",
   "execution_count": 31,
   "id": "7673c2e4",
   "metadata": {},
   "outputs": [
    {
     "name": "stdout",
     "output_type": "stream",
     "text": [
      "1 1\n",
      "2 2\n",
      "3 3\n",
      "4 4\n",
      "5 5\n",
      "6 6\n"
     ]
    }
   ],
   "source": [
    "for i in range(1,7):\n",
    "    for j in range(1,7):\n",
    "        if i ==j:\n",
    "            print(i,j)\n",
    "        "
   ]
  },
  {
   "cell_type": "markdown",
   "id": "d2ed4854",
   "metadata": {},
   "source": [
    "#### Pattern"
   ]
  },
  {
   "cell_type": "code",
   "execution_count": 38,
   "id": "b33382df",
   "metadata": {},
   "outputs": [
    {
     "name": "stdout",
     "output_type": "stream",
     "text": [
      "*\n",
      "**\n",
      "***\n",
      "****\n",
      "*****\n"
     ]
    }
   ],
   "source": [
    "rows = int(input('Enter no of rows: '))\n",
    "for i in range(1,rows+1):\n",
    "    for j in range(1,i+1):\n",
    "        print('*', end = '')\n",
    "    print()\n",
    "        "
   ]
  },
  {
   "cell_type": "code",
   "execution_count": 4,
   "id": "3ba2d04f",
   "metadata": {},
   "outputs": [
    {
     "name": "stdout",
     "output_type": "stream",
     "text": [
      "1\n",
      "121\n",
      "12321\n",
      "1234321\n",
      "123454321\n"
     ]
    }
   ],
   "source": [
    "rows = int(input('Enter no of rows: '))\n",
    "for i in range(1,rows+1):\n",
    "    for j in range(1,i+1):\n",
    "        print(j, end='')\n",
    "    for k in range(i-1,0,-1):\n",
    "        print(k,end='')\n",
    "    print()"
   ]
  },
  {
   "cell_type": "code",
   "execution_count": 8,
   "id": "812ad9b1",
   "metadata": {},
   "outputs": [
    {
     "name": "stdout",
     "output_type": "stream",
     "text": [
      "5 7 11 13 "
     ]
    }
   ],
   "source": [
    "# find prime no\n",
    "start = int(input(\"Enter start of range: \"))\n",
    "end = int(input(\"Enter end of range: \"))\n",
    "\n",
    "\n",
    "for num in range(start, end + 1):\n",
    "    if num > 1:   # primes are greater than 1\n",
    "        is_prime = True\n",
    "        for i in range(2, int(num**0.5) + 1):  # check divisibility till sqrt(num)\n",
    "            if num % i == 0:\n",
    "                is_prime = False\n",
    "                break\n",
    "        if is_prime:\n",
    "            print(num, end=\" \")\n"
   ]
  },
  {
   "cell_type": "code",
   "execution_count": 9,
   "id": "0f06706b",
   "metadata": {},
   "outputs": [
    {
     "name": "stdout",
     "output_type": "stream",
     "text": [
      "5\n",
      "7\n",
      "11\n",
      "13\n"
     ]
    }
   ],
   "source": [
    "start = int(input(\"Enter start of range: \"))\n",
    "end = int(input(\"Enter end of range: \"))\n",
    "for i in range(start,end):\n",
    "    for j in range(2,i):\n",
    "        if i%j==0:\n",
    "            break\n",
    "    else:\n",
    "        print(i)"
   ]
  },
  {
   "cell_type": "markdown",
   "id": "7d23a3e1",
   "metadata": {},
   "source": [
    "## String\n",
    "- In python string is a collection of Unicode character"
   ]
  },
  {
   "cell_type": "code",
   "execution_count": 11,
   "id": "0ceeb9f3",
   "metadata": {},
   "outputs": [
    {
     "data": {
      "text/plain": [
       "'rahul'"
      ]
     },
     "execution_count": 11,
     "metadata": {},
     "output_type": "execute_result"
    }
   ],
   "source": [
    "str = input(\"Enter a string\")\n",
    "str"
   ]
  },
  {
   "cell_type": "code",
   "execution_count": 14,
   "id": "2174d8c4",
   "metadata": {},
   "outputs": [
    {
     "name": "stdout",
     "output_type": "stream",
     "text": [
      "rahul\n",
      "rahul\n",
      "rahul\n",
      "rahul\n",
      "rahul\n"
     ]
    }
   ],
   "source": [
    "for i in str:\n",
    "    print(str)"
   ]
  },
  {
   "cell_type": "code",
   "execution_count": 15,
   "id": "303ea005",
   "metadata": {},
   "outputs": [
    {
     "name": "stdout",
     "output_type": "stream",
     "text": [
      "r\n",
      "a\n",
      "h\n",
      "u\n",
      "l\n"
     ]
    }
   ],
   "source": [
    "for i in 'rahul':\n",
    "    print(i)"
   ]
  },
  {
   "cell_type": "markdown",
   "id": "e0d227cb",
   "metadata": {},
   "source": [
    "- capitalize:- Only first char capitalize\n",
    "- Title:- Capitalize first word\n",
    "- Upper\n",
    "- lower\n",
    "- swapcase"
   ]
  },
  {
   "cell_type": "markdown",
   "id": "57b46cfe",
   "metadata": {},
   "source": [
    "#### format"
   ]
  },
  {
   "cell_type": "code",
   "execution_count": 17,
   "id": "528fa711",
   "metadata": {},
   "outputs": [
    {
     "name": "stdout",
     "output_type": "stream",
     "text": [
      "the age is 22 and name is rahul\n"
     ]
    }
   ],
   "source": [
    "age = 22\n",
    "name = 'rahul'\n",
    "print(f\"the age is {age} and name is {name}\")"
   ]
  },
  {
   "cell_type": "markdown",
   "id": "1922cf7c",
   "metadata": {},
   "source": [
    "#### isalnum/ isalpha/ isdigit/ isidentifier"
   ]
  },
  {
   "cell_type": "code",
   "execution_count": 18,
   "id": "8e40c87f",
   "metadata": {},
   "outputs": [
    {
     "data": {
      "text/plain": [
       "True"
      ]
     },
     "execution_count": 18,
     "metadata": {},
     "output_type": "execute_result"
    }
   ],
   "source": [
    "'rahul123'.isalnum()"
   ]
  },
  {
   "cell_type": "markdown",
   "id": "0786c3e9",
   "metadata": {},
   "source": [
    "## split/join"
   ]
  },
  {
   "cell_type": "code",
   "execution_count": 20,
   "id": "21b35bc6",
   "metadata": {},
   "outputs": [
    {
     "data": {
      "text/plain": [
       "['hi', 'my', 'name', 'is', 'rahul']"
      ]
     },
     "execution_count": 20,
     "metadata": {},
     "output_type": "execute_result"
    }
   ],
   "source": [
    "'hi my name is rahul'.split(' ')"
   ]
  },
  {
   "cell_type": "code",
   "execution_count": 23,
   "id": "9343c705",
   "metadata": {},
   "outputs": [
    {
     "data": {
      "text/plain": [
       "'hi my name is rahul'"
      ]
     },
     "execution_count": 23,
     "metadata": {},
     "output_type": "execute_result"
    }
   ],
   "source": [
    "\" \".join(['hi', 'my', 'name', 'is', 'rahul'])"
   ]
  },
  {
   "cell_type": "code",
   "execution_count": 24,
   "id": "e6786675",
   "metadata": {},
   "outputs": [
    {
     "data": {
      "text/plain": [
       "'hi my naam is rahul'"
      ]
     },
     "execution_count": 24,
     "metadata": {},
     "output_type": "execute_result"
    }
   ],
   "source": [
    "'hi my name is rahul'.replace('name', 'naam')"
   ]
  },
  {
   "cell_type": "markdown",
   "id": "a5d1c84d",
   "metadata": {},
   "source": [
    "## List\n",
    "- It is a datatype where you can store multiple items under 1 name. More technically, list sct like dynamic arrays which means you can add more items on the fly."
   ]
  },
  {
   "cell_type": "markdown",
   "id": "7a78583c",
   "metadata": {},
   "source": [
    "- list size is dynamic as compared to array (no define the size at first)\n",
    "- list is heterogeneous (multiple type in a list)"
   ]
  },
  {
   "cell_type": "code",
   "execution_count": 30,
   "id": "55757d30",
   "metadata": {},
   "outputs": [
    {
     "data": {
      "text/plain": [
       "[1, 2, 3, 4, 5, 6]"
      ]
     },
     "execution_count": 30,
     "metadata": {},
     "output_type": "execute_result"
    }
   ],
   "source": [
    "# append\n",
    "l = [1,2,3,4,5]\n",
    "l.append(6)\n",
    "l"
   ]
  },
  {
   "cell_type": "code",
   "execution_count": 28,
   "id": "4a314bbd",
   "metadata": {},
   "outputs": [
    {
     "data": {
      "text/plain": [
       "[1, 2, 3, 4, 5, 6, 7, 8]"
      ]
     },
     "execution_count": 28,
     "metadata": {},
     "output_type": "execute_result"
    }
   ],
   "source": [
    "# extend\n",
    "l = [1,2,3,4,5]\n",
    "l.extend([6,7,8])\n",
    "l"
   ]
  },
  {
   "cell_type": "code",
   "execution_count": 33,
   "id": "65c86e31",
   "metadata": {},
   "outputs": [
    {
     "data": {
      "text/plain": [
       "[1, 100, 2, 3, 4, 5]"
      ]
     },
     "execution_count": 33,
     "metadata": {},
     "output_type": "execute_result"
    }
   ],
   "source": [
    "# insert\n",
    "l = [1,2,3,4,5]\n",
    "l.insert(1,100)\n",
    "l"
   ]
  },
  {
   "cell_type": "code",
   "execution_count": null,
   "id": "c7a051a6",
   "metadata": {},
   "outputs": [
    {
     "data": {
      "text/plain": [
       "[1, 9, 3, 4, 5]"
      ]
     },
     "execution_count": 34,
     "metadata": {},
     "output_type": "execute_result"
    }
   ],
   "source": [
    "# editing is possible with indexing and slicing\n",
    "l = [1,2,3,4,5]\n",
    "l[1] = 9\n",
    "l"
   ]
  },
  {
   "cell_type": "code",
   "execution_count": null,
   "id": "fb501b39",
   "metadata": {},
   "outputs": [
    {
     "name": "stdout",
     "output_type": "stream",
     "text": [
      "[1, 2, 3, 4, 5]\n"
     ]
    },
    {
     "ename": "NameError",
     "evalue": "name 'l' is not defined",
     "output_type": "error",
     "traceback": [
      "\u001b[1;31m---------------------------------------------------------------------------\u001b[0m",
      "\u001b[1;31mNameError\u001b[0m                                 Traceback (most recent call last)",
      "Cell \u001b[1;32mIn[35], line 8\u001b[0m\n\u001b[0;32m      6\u001b[0m \u001b[38;5;28mprint\u001b[39m(l)\n\u001b[0;32m      7\u001b[0m \u001b[38;5;28;01mdel\u001b[39;00m l\n\u001b[1;32m----> 8\u001b[0m \u001b[38;5;28mprint\u001b[39m(\u001b[43ml\u001b[49m)\n",
      "\u001b[1;31mNameError\u001b[0m: name 'l' is not defined"
     ]
    }
   ],
   "source": [
    "# del\n",
    "# remove\n",
    "# pop\n",
    "# clear (empty a list)\n",
    "l = [1,2,3,4,5]\n",
    "print(l)\n",
    "del l\n",
    "# del l[-1]\n",
    "print(l)\n"
   ]
  },
  {
   "cell_type": "code",
   "execution_count": null,
   "id": "26e48456",
   "metadata": {},
   "outputs": [
    {
     "data": {
      "text/plain": [
       "3"
      ]
     },
     "execution_count": 36,
     "metadata": {},
     "output_type": "execute_result"
    }
   ],
   "source": [
    "# count\n",
    "l = [1,2,3,2,5,8,9,3,4,3]\n",
    "l.count(3)"
   ]
  },
  {
   "cell_type": "code",
   "execution_count": 37,
   "id": "15c61ca9",
   "metadata": {},
   "outputs": [
    {
     "data": {
      "text/plain": [
       "[6, 5, 3, 1, 2]"
      ]
     },
     "execution_count": 37,
     "metadata": {},
     "output_type": "execute_result"
    }
   ],
   "source": [
    "# reverse\n",
    "l = [2,1,3,5,6]\n",
    "l.reverse() # permanent change\n",
    "l"
   ]
  },
  {
   "cell_type": "code",
   "execution_count": 38,
   "id": "c8144768",
   "metadata": {},
   "outputs": [
    {
     "name": "stdout",
     "output_type": "stream",
     "text": [
      "[2, 1, 3, 5, 6]\n",
      "None\n"
     ]
    }
   ],
   "source": [
    "l = [2,1,3,5,6]\n",
    "print(l)\n",
    "print(l.sort())\n",
    "# sort make permanent change while shorted doesn't"
   ]
  },
  {
   "cell_type": "markdown",
   "id": "1c6c1c0b",
   "metadata": {},
   "source": [
    "#### List comprehension"
   ]
  },
  {
   "cell_type": "code",
   "execution_count": 40,
   "id": "e7a8f853",
   "metadata": {},
   "outputs": [
    {
     "data": {
      "text/plain": [
       "[1, 2, 3, 4, 5, 6, 7, 8, 9, 10]"
      ]
     },
     "execution_count": 40,
     "metadata": {},
     "output_type": "execute_result"
    }
   ],
   "source": [
    "lst = [i for i in range(1,11)]\n",
    "lst"
   ]
  },
  {
   "cell_type": "code",
   "execution_count": 44,
   "id": "fedc988e",
   "metadata": {},
   "outputs": [
    {
     "data": {
      "text/plain": [
       "[5, 10, 15, 20, 25, 30, 35, 40, 45, 50]"
      ]
     },
     "execution_count": 44,
     "metadata": {},
     "output_type": "execute_result"
    }
   ],
   "source": [
    "# print all the no divisible by 5 in range of 1 to 50\n",
    "[i for i in range(1,51) if i%5==0]"
   ]
  },
  {
   "cell_type": "code",
   "execution_count": 45,
   "id": "7e46314b",
   "metadata": {},
   "outputs": [
    {
     "data": {
      "text/plain": [
       "['java', 'javascript']"
      ]
     },
     "execution_count": 45,
     "metadata": {},
     "output_type": "execute_result"
    }
   ],
   "source": [
    "languages = ['java',' python',' c++', 'javascript']\n",
    "[language for language in languages if language.startswith('j')]"
   ]
  },
  {
   "cell_type": "markdown",
   "id": "4ef100cc",
   "metadata": {},
   "source": [
    "## Tuples\n",
    "- Same as list in python except it is immutable."
   ]
  },
  {
   "cell_type": "code",
   "execution_count": 47,
   "id": "7c34679b",
   "metadata": {},
   "outputs": [
    {
     "name": "stdout",
     "output_type": "stream",
     "text": [
      "()\n",
      "<class 'tuple'>\n"
     ]
    }
   ],
   "source": [
    "# empty tuple\n",
    "t1 = ()\n",
    "print(t1)\n",
    "\n",
    "# single type tuple\n",
    "t2 = ('hello',)\n",
    "print(type(t2))"
   ]
  },
  {
   "cell_type": "code",
   "execution_count": null,
   "id": "70696236",
   "metadata": {},
   "outputs": [],
   "source": [
    "# count (no of time it occur)\n",
    "# index (index value)"
   ]
  },
  {
   "cell_type": "markdown",
   "id": "db21bd70",
   "metadata": {},
   "source": [
    "## Sets\n",
    "- Sets are unordered collection of items.\n",
    "- Unordered \n",
    "- Mutable\n",
    "- No duplicates\n",
    "- Can't contain mutable data type"
   ]
  },
  {
   "cell_type": "code",
   "execution_count": null,
   "id": "9f2711b2",
   "metadata": {},
   "outputs": [
    {
     "name": "stdout",
     "output_type": "stream",
     "text": [
      "<class 'set'>\n"
     ]
    }
   ],
   "source": [
    "# empty set\n",
    "sets = {''} # s = set()\n",
    "print(type(sets))"
   ]
  },
  {
   "cell_type": "markdown",
   "id": "d645311f",
   "metadata": {},
   "source": [
    "#### Accessing items\n",
    "- Can't do indexing or slicing\n",
    "- No changes can be done"
   ]
  },
  {
   "cell_type": "markdown",
   "id": "024e6cde",
   "metadata": {},
   "source": [
    "#### Can add and del items in set"
   ]
  },
  {
   "cell_type": "code",
   "execution_count": 55,
   "id": "1e93ffbe",
   "metadata": {},
   "outputs": [
    {
     "data": {
      "text/plain": [
       "{1, 2, 3, 4, 5, 10}"
      ]
     },
     "execution_count": 55,
     "metadata": {},
     "output_type": "execute_result"
    }
   ],
   "source": [
    "s = {1,2,4,5}\n",
    "s.add(3)\n",
    "s\n",
    "# update\n",
    "s.update([10])\n",
    "s"
   ]
  },
  {
   "cell_type": "code",
   "execution_count": null,
   "id": "396fec26",
   "metadata": {},
   "outputs": [],
   "source": [
    "del s"
   ]
  },
  {
   "cell_type": "markdown",
   "id": "7e386a9c",
   "metadata": {},
   "source": [
    "#### Set operations\n",
    "- Union |\n",
    "- Intersection &\n",
    "- Difference -\n",
    "- Symmetric difference ^ (exclude the same)"
   ]
  },
  {
   "cell_type": "code",
   "execution_count": 56,
   "id": "63e9dcba",
   "metadata": {},
   "outputs": [
    {
     "data": {
      "text/plain": [
       "{1, 2, 3, 4, 5, 6, 7, 8, 9, 10, 11, 12}"
      ]
     },
     "execution_count": 56,
     "metadata": {},
     "output_type": "execute_result"
    }
   ],
   "source": [
    "s1 = {1,2,3,4,5,6}\n",
    "s2 = {7,8,9,10,11,12}\n",
    "s1 | s2"
   ]
  },
  {
   "cell_type": "markdown",
   "id": "4e82c16c",
   "metadata": {},
   "source": [
    "## Dictionary\n",
    "- Store in key value pairs\n",
    "- Mutable\n",
    "- Indexing has no meaning\n",
    "- No duplicate keys"
   ]
  },
  {
   "cell_type": "markdown",
   "id": "6a10b5c4",
   "metadata": {},
   "source": [
    "#### Accessing items"
   ]
  },
  {
   "cell_type": "markdown",
   "id": "ca6f02d7",
   "metadata": {},
   "source": [
    "## Functions"
   ]
  },
  {
   "cell_type": "code",
   "execution_count": 58,
   "id": "d4288e4f",
   "metadata": {},
   "outputs": [
    {
     "name": "stdout",
     "output_type": "stream",
     "text": [
      "Is even\n"
     ]
    }
   ],
   "source": [
    "def is_even(num):\n",
    "    if num%2==0:\n",
    "        return 'Is even'\n",
    "    else:\n",
    "        return \"Not even\"\n",
    "value = int(input())\n",
    "print(is_even(value))"
   ]
  },
  {
   "cell_type": "markdown",
   "id": "ed7d748b",
   "metadata": {},
   "source": [
    "#### Type of argument\n",
    "- While defining function it is called parameter and when giving value it became argument\n",
    "- Default Argument\n",
    "- Positional Argument\n",
    "- Keyword Argument"
   ]
  },
  {
   "cell_type": "markdown",
   "id": "f3339798",
   "metadata": {},
   "source": [
    "*args, **kwargs"
   ]
  },
  {
   "cell_type": "code",
   "execution_count": null,
   "id": "bf3c82cb",
   "metadata": {},
   "outputs": [],
   "source": [
    "def multiplying(*argum):\n",
    "    # multiple no of variables no of non variable arguments can be taken with the help of *args\n",
    "    product = 1\n",
    "    for i in argum:\n",
    "        product = product * i\n",
    "    print(argum)\n",
    "    return product"
   ]
  },
  {
   "cell_type": "code",
   "execution_count": null,
   "id": "7e843241",
   "metadata": {},
   "outputs": [],
   "source": [
    "# euclidean distance\n",
    "import math\n",
    "dis = math.sqrt((x2-x1)**2 + (y2-y1)**2)"
   ]
  },
  {
   "cell_type": "code",
   "execution_count": null,
   "id": "fc35caac",
   "metadata": {},
   "outputs": [],
   "source": [
    "# Write a program to find the simple interest when the value of principle,rate of interest and time period is provided by the user.\n",
    "SI = (Principle * R *T)/100"
   ]
  },
  {
   "cell_type": "code",
   "execution_count": null,
   "id": "9e1b1ebd",
   "metadata": {},
   "outputs": [
    {
     "name": "stdout",
     "output_type": "stream",
     "text": [
      "Dogs: 2\n",
      "Chickens: 2\n"
     ]
    }
   ],
   "source": [
    "# Write a program that will tell the number of dogs and chicken are there when the user will provide the value of total heads and legs.\n",
    "def animals(heads, legs):\n",
    "    # let dogs = d, chickens = c\n",
    "    # equations:\n",
    "    # d + c = heads\n",
    "    # 4d + 2c = legs\n",
    "\n",
    "    for dogs in range(heads + 1):\n",
    "        chickens = heads - dogs\n",
    "        if 4*dogs + 2*chickens == legs:\n",
    "            return dogs, chickens\n",
    "    \n",
    "    return None, None  \n",
    "\n",
    "heads = int(input(\"Enter number of heads: \"))\n",
    "legs = int(input(\"Enter number of legs: \"))\n",
    "\n",
    "dogs, chickens = animals(heads, legs)\n",
    "\n",
    "if dogs is None:\n",
    "    print(\"No valid solution exists!\")\n",
    "else:\n",
    "    print(\"Dogs:\", dogs)\n",
    "    print(\"Chickens:\", chickens)\n"
   ]
  },
  {
   "cell_type": "code",
   "execution_count": 9,
   "id": "d9292c7a",
   "metadata": {},
   "outputs": [
    {
     "name": "stdout",
     "output_type": "stream",
     "text": [
      "55\n"
     ]
    }
   ],
   "source": [
    "# Write a program to find the sum of squares of first n natural numbers where n will be provided by the user.\n",
    "def sum_sqr(num):\n",
    "    total = 0\n",
    "    for i in range(1,num+1):\n",
    "        total += i**2\n",
    "    return total\n",
    "num = int(input(\"Enter the no\"))\n",
    "print(sum_sqr(num))"
   ]
  },
  {
   "cell_type": "code",
   "execution_count": null,
   "id": "f5d7fa23",
   "metadata": {},
   "outputs": [
    {
     "name": "stdout",
     "output_type": "stream",
     "text": [
      "The 7th term of the series is: 14\n"
     ]
    }
   ],
   "source": [
    "# Given the first 2 terms of an Arithmetic Series.Find the Nth term of the series. Assume all inputs are provided by the user.\n",
    "def nth_term_AP(a1, a2, n):\n",
    "    d = a2 - a1         \n",
    "    return a1 + (n - 1) * d\n",
    "\n",
    "a1 = int(input(\"Enter the first term: \"))\n",
    "a2 = int(input(\"Enter the second term: \"))\n",
    "n = int(input(\"Enter the term number (n): \"))\n",
    "\n",
    "print(f\"The {n}th term of the series is:\", nth_term_AP(a1, a2, n))\n"
   ]
  },
  {
   "cell_type": "code",
   "execution_count": null,
   "id": "03c73c29",
   "metadata": {},
   "outputs": [
    {
     "name": "stdout",
     "output_type": "stream",
     "text": [
      "9\n"
     ]
    }
   ],
   "source": [
    "# Given 2 fractions, find the sum of those 2 fractions.Take the numerator and denominator values of the fractions from the user.\n",
    "num1 = int(input(\"Enter nu1: \"))\n",
    "den1 = int(input(\"Enter denominator1: \"))\n",
    "num2 = int(input(\"Enter nu2: \"))\n",
    "den2 = int(input(\"Enter denominator2: \"))\n",
    "frac1 = float(num1/den1)\n",
    "frac2 = float(num2/den2)\n",
    "final_sum = int(frac1+frac2)\n",
    "print(final_sum)\n",
    "\n",
    "\"\"\"\n",
    "def add_fractions(num1, den1, num2, den2):\n",
    "    # finding common denominator\n",
    "    common_den = den1 * den2\n",
    "    # adjusting numerators\n",
    "    new_num1 = num1 * den2\n",
    "    new_num2 = num2 * den1\n",
    "    # sum of fractions\n",
    "    final_num = new_num1 + new_num2\n",
    "    return final_num, common_den\n",
    "\n",
    "# input from user\n",
    "num1 = int(input(\"Enter numerator1: \"))\n",
    "den1 = int(input(\"Enter denominator1: \"))\n",
    "num2 = int(input(\"Enter numerator2: \"))\n",
    "den2 = int(input(\"Enter denominator2: \"))\n",
    "\n",
    "num, den = add_fractions(num1, den1, num2, den2)\n",
    "print(f\"Sum of fractions = {num}/{den}\")\n",
    "\n",
    "\"\"\""
   ]
  },
  {
   "cell_type": "markdown",
   "id": "c49c0e00",
   "metadata": {},
   "source": [
    "#### Given the height, width and breadth of a milk tank, you have to find out how many glasses of milk can be obtained? Assume all the inputs are provided by the user.\n",
    "\n"
   ]
  },
  {
   "cell_type": "code",
   "execution_count": null,
   "id": "548f24c5",
   "metadata": {},
   "outputs": [],
   "source": [
    "def milk_glasses(height, width, breadth, glass_volume=250):\n",
    "    # volume of milk tank (in cubic cm)\n",
    "    tank_volume = height * width * breadth  \n",
    "    \n",
    "    # number of glasses\n",
    "    glasses = tank_volume // glass_volume  \n",
    "    \n",
    "    return int(glasses)\n",
    "\n",
    "# Taking user inputs\n",
    "h = int(input(\"Enter height of milk tank (cm): \"))\n",
    "w = int(input(\"Enter width of milk tank (cm): \"))\n",
    "b = int(input(\"Enter breadth of milk tank (cm): \"))\n",
    "\n",
    "result = milk_glasses(h, w, b)\n",
    "print(\"Total number of glasses of milk:\", result)\n"
   ]
  },
  {
   "cell_type": "markdown",
   "id": "2534eaf9",
   "metadata": {},
   "source": [
    "Write a program that will give you in hand monthly salary after deduction on CTC - HRA(10%), DA(5%), PF(3%) and taxes deduction as below:\n",
    "\n",
    "> Salary(Lakhs) : Tax(%)\n",
    "\n",
    "*   Below 5 : 0%\n",
    "*   5-10 : 10%\n",
    "*   10-20 : 20%\n",
    "*   aboove 20 : 30%"
   ]
  },
  {
   "cell_type": "code",
   "execution_count": 21,
   "id": "e82b8a14",
   "metadata": {},
   "outputs": [
    {
     "name": "stdout",
     "output_type": "stream",
     "text": [
      "Your Monthly In-Hand Salary is: 65600.0\n"
     ]
    }
   ],
   "source": [
    "def in_hand(Salary):\n",
    "    annual_salary = Salary*100000\n",
    "    HRA = 0.10 * annual_salary\n",
    "    DA = 0.05 * annual_salary\n",
    "    PF = 0.03 * annual_salary\n",
    "    salary_after_deduction = annual_salary - (HRA+DA+PF)\n",
    "    if Salary < 5:\n",
    "        tax_rate = 0\n",
    "    elif Salary <= 10:\n",
    "        tax_rate = 0.10\n",
    "    elif Salary <= 20:\n",
    "        tax_rate = 0.20\n",
    "    else:\n",
    "        tax_rate = 0.30\n",
    "\n",
    "    tax = tax_rate * salary_after_deduction\n",
    "    monthly_in_hand = (salary_after_deduction - tax)/12\n",
    "    return monthly_in_hand\n",
    "\n",
    "ctc = float(input(\"Enter your CTC in Lakhs: \"))\n",
    "print(\"Your Monthly In-Hand Salary is:\", round(in_hand(ctc), 2))\n",
    "    "
   ]
  },
  {
   "cell_type": "code",
   "execution_count": null,
   "id": "3f830a7e",
   "metadata": {},
   "outputs": [],
   "source": [
    "# Write a program that will take user input of cost price and selling price and determines whether its a loss or a profit.\n"
   ]
  },
  {
   "cell_type": "code",
   "execution_count": 23,
   "id": "fc8b3d31",
   "metadata": {},
   "outputs": [
    {
     "name": "stdout",
     "output_type": "stream",
     "text": [
      "Fibonacci Series: [0, 1, 1, 2, 3, 5, 8, 13, 21, 34]\n"
     ]
    }
   ],
   "source": [
    "# Display Fibonacci series up to 10 terms.\n",
    "def fibonacci(n):\n",
    "    a, b = 0, 1\n",
    "    series = []\n",
    "    for _ in range(n):\n",
    "        series.append(a)\n",
    "        a, b = b, a + b\n",
    "    return series\n",
    "\n",
    "print(\"Fibonacci Series:\", fibonacci(10))\n"
   ]
  },
  {
   "cell_type": "code",
   "execution_count": null,
   "id": "8f674b4e",
   "metadata": {},
   "outputs": [],
   "source": [
    "# Find the factorial of a given number.\n",
    "def factorial(num):\n",
    "    fact = 1\n",
    "    if num == 0:\n",
    "        return 1\n",
    "    else:\n",
    "        for i in range(1, num + 1):  \n",
    "            fact *= i                \n",
    "        return fact\n"
   ]
  },
  {
   "cell_type": "markdown",
   "id": "a37b71df",
   "metadata": {},
   "source": [
    "#### Take a user input as integer N. Find out the sum from 1 to N. If any number if divisible by 5, then skip that number. And if the sum is greater than 300, don't need to calculate the sum further more. Print the final result. And don't use for loop to solve this problem.\n"
   ]
  },
  {
   "cell_type": "code",
   "execution_count": null,
   "id": "c71e1817",
   "metadata": {},
   "outputs": [],
   "source": [
    "def sum_skip_5(N):\n",
    "    total = 0\n",
    "    i = 1\n",
    "    while i <= N:\n",
    "        if i % 5 == 0:   \n",
    "            i += 1\n",
    "            continue\n",
    "        total += i\n",
    "        if total > 300: \n",
    "            break\n",
    "        i += 1\n",
    "    return total\n",
    "\n",
    "N = int(input(\"Enter a number: \"))\n",
    "print(\"Final Sum:\", sum_skip_5(N))\n"
   ]
  },
  {
   "cell_type": "code",
   "execution_count": 25,
   "id": "3a7cf934",
   "metadata": {},
   "outputs": [
    {
     "name": "stdout",
     "output_type": "stream",
     "text": [
      "Sum = 32\n",
      "Average = 10.666666666666666\n"
     ]
    }
   ],
   "source": [
    "#  Write a program that keeps on accepting a number from the user until the user enters Zero. Display the sum and average of all the numbers.\n",
    "def accepting():\n",
    "    total = 0\n",
    "    count = 0\n",
    "    \n",
    "    while True:  \n",
    "        N = int(input(\"Enter a number (0 to stop): \"))\n",
    "        \n",
    "        if N == 0:\n",
    "            break   \n",
    "        \n",
    "        total += N\n",
    "        count += 1\n",
    "    \n",
    "    if count == 0:\n",
    "        avg = 0\n",
    "    else:\n",
    "        avg = total / count\n",
    "    \n",
    "    print(\"Sum =\", total)\n",
    "    print(\"Average =\", avg)\n",
    "\n",
    "accepting()\n",
    "\n",
    "        "
   ]
  },
  {
   "cell_type": "code",
   "execution_count": null,
   "id": "098a467c",
   "metadata": {},
   "outputs": [
    {
     "name": "stdout",
     "output_type": "stream",
     "text": [
      "2002,2009,2016,2023,2037,2044,2051,2058,2072,2079,2086,2093,2107,2114,2121,2128,2142,2149,2156,2163,2177,2184,2191,2198,2212,2219,2226,2233,2247,2254,2261,2268,2282,2289,2296,2303,2317,2324,2331,2338,2352,2359,2366,2373,2387,2394,2401,2408,2422,2429,2436,2443,2457,2464,2471,2478,2492,2499,2506,2513,2527,2534,2541,2548,2562,2569,2576,2583,2597,2604,2611,2618,2632,2639,2646,2653,2667,2674,2681,2688,2702,2709,2716,2723,2737,2744,2751,2758,2772,2779,2786,2793,2807,2814,2821,2828,2842,2849,2856,2863,2877,2884,2891,2898,2912,2919,2926,2933,2947,2954,2961,2968,2982,2989,2996,3003,3017,3024,3031,3038,3052,3059,3066,3073,3087,3094,3101,3108,3122,3129,3136,3143,3157,3164,3171,3178,3192,3199\n"
     ]
    }
   ],
   "source": [
    "# Find numbers divisible by 7 but not multiple of 5 between 2000 and 3200\n",
    "result = []\n",
    "\n",
    "for i in range(2000, 3201):  \n",
    "    if i % 7 == 0 and i % 5 != 0:\n",
    "        result.append(str(i))   # convert to string for joining later\n",
    "\n",
    "print(\",\".join(result))\n"
   ]
  },
  {
   "cell_type": "code",
   "execution_count": 27,
   "id": "88806691",
   "metadata": {},
   "outputs": [
    {
     "name": "stdout",
     "output_type": "stream",
     "text": [
      "2000 2002 2004 2006 2008 2020 2022 2024 2026 2028 2040 2042 2044 2046 2048 2060 2062 2064 2066 2068 2080 2082 2084 2086 2088 2200 2202 2204 2206 2208 2220 2222 2224 2226 2228 2240 2242 2244 2246 2248 2260 2262 2264 2266 2268 2280 2282 2284 2286 2288 2400 2402 2404 2406 2408 2420 2422 2424 2426 2428 2440 2442 2444 2446 2448 2460 2462 2464 2466 2468 2480 2482 2484 2486 2488 2600 2602 2604 2606 2608 2620 2622 2624 2626 2628 2640 2642 2644 2646 2648 2660 2662 2664 2666 2668 2680 2682 2684 2686 2688 2800 2802 2804 2806 2808 2820 2822 2824 2826 2828 2840 2842 2844 2846 2848 2860 2862 2864 2866 2868 2880 2882 2884 2886 2888\n"
     ]
    }
   ],
   "source": [
    "# Write a program, which will find all such numbers between 1000 and 3000 (both included) such that each digit of the number is an even number. \n",
    "# The numbers obtained should be printed in a space-separated sequence on a single line.\n",
    "\n",
    "result = []\n",
    "for i in range(1000, 3001):\n",
    "    all_even = True\n",
    "    for digit in str(i):  # check each digit\n",
    "        if int(digit) % 2 != 0:\n",
    "            all_even = False\n",
    "            break\n",
    "    if all_even:\n",
    "        result.append(str(i))\n",
    "\n",
    "print(\" \".join(result))\n"
   ]
  },
  {
   "cell_type": "markdown",
   "id": "021ea468",
   "metadata": {},
   "source": [
    "###`Problem 11`: A robot moves in a plane starting from the original point (0,0). The robot can move toward UP, DOWN, LEFT and RIGHT with a given steps.\n",
    "The trace of robot movement is shown as the following:\n",
    "```\n",
    "UP 5\n",
    "DOWN 3\n",
    "LEFT 3\n",
    "RIGHT 2\n",
    "!\n",
    "```\n",
    "> The numbers after the direction are steps.\n",
    "\n",
    "> `!` means robot stop there.\n",
    "\n",
    "**Please write a program to compute the distance from current position after a sequence of movement and original point.**\n",
    "\n",
    "*If the distance is a float, then just print the nearest integer.*\n",
    "\n",
    "Example:\n",
    "\n",
    "`Input`:\n",
    "```\n",
    "UP 5\n",
    "DOWN 3\n",
    "LEFT 3\n",
    "RIGHT 2\n",
    "!\n",
    "```\n",
    "`Output`:\n",
    "```\n",
    "2\n",
    "```"
   ]
  },
  {
   "cell_type": "code",
   "execution_count": null,
   "id": "77de4928",
   "metadata": {},
   "outputs": [],
   "source": [
    "import math\n",
    "\n",
    "x, y = 0, 0  \n",
    "\n",
    "while True:\n",
    "    command = input().strip()\n",
    "    if command == \"!\":   \n",
    "        break\n",
    "\n",
    "    direction, steps = command.split()\n",
    "    # DOWn 5 is divided into direction = DOWN and steps = 5 \n",
    "    steps = int(steps)\n",
    "\n",
    "    if direction == \"UP\":\n",
    "        y += steps\n",
    "    elif direction == \"DOWN\":\n",
    "        y -= steps\n",
    "    elif direction == \"LEFT\":\n",
    "        x -= steps\n",
    "    elif direction == \"RIGHT\":\n",
    "        x += steps\n",
    "\n",
    "distance = math.sqrt(x**2 + y**2)\n",
    "print(round(distance))   "
   ]
  },
  {
   "cell_type": "code",
   "execution_count": 31,
   "id": "66255482",
   "metadata": {},
   "outputs": [
    {
     "name": "stdout",
     "output_type": "stream",
     "text": [
      "5 is a prime number\n"
     ]
    }
   ],
   "source": [
    "# Write a program to print whether a given number is a prime number or not\n",
    "def is_prime(N):\n",
    "    for i in range(2, int(N**0.5)+ 1):\n",
    "        if N %i==0:\n",
    "            return False\n",
    "    return True\n",
    "n = int(input(\"Enter a number: \"))\n",
    "\n",
    "if is_prime(n):\n",
    "    print(f\"{n} is a prime number\")\n",
    "else:\n",
    "    print(f\"{n} is not a prime number\")"
   ]
  },
  {
   "cell_type": "markdown",
   "id": "cd84f2dd",
   "metadata": {},
   "source": [
    "#### `Problem 15`:Given two rectangles, find if the given two rectangles overlap or not. A rectangle is denoted by providing the x and y coordinates of two points: the left top corner and the right bottom corner of the rectangle. Two rectangles sharing a side are considered overlapping. (L1 and R1 are the extreme points of the first rectangle and L2 and R2 are the extreme points of the second rectangle).\n",
    "\n",
    "Note: It may be assumed that the rectangles are parallel to the coordinate axis.\n",
    "\n",
    "<img src='https://www.geeksforgeeks.org/wp-content/uploads/rectanglesOverlap.png' width='300' height='200'>"
   ]
  },
  {
   "cell_type": "code",
   "execution_count": 32,
   "id": "baa5ee83",
   "metadata": {},
   "outputs": [
    {
     "name": "stdout",
     "output_type": "stream",
     "text": [
      "Rectangles Overlap\n"
     ]
    }
   ],
   "source": [
    "def do_overlap(L1, R1, L2, R2):\n",
    "    # L1, R1, L2, R2 are tuples like (x, y)\n",
    "\n",
    "    # If one rectangle is to the left of other\n",
    "    if L1[0] > R2[0] or L2[0] > R1[0]:\n",
    "        return False\n",
    "\n",
    "    # If one rectangle is above the other\n",
    "    if L1[1] < R2[1] or L2[1] < R1[1]:\n",
    "        return False\n",
    "\n",
    "    return True  # rectangles overlap\n",
    "\n",
    "# --- Input example ---\n",
    "L1 = (0, 10)\n",
    "R1 = (10, 0)\n",
    "L2 = (5, 5)\n",
    "R2 = (15, -5)\n",
    "\n",
    "if do_overlap(L1, R1, L2, R2):\n",
    "    print(\"Rectangles Overlap\")\n",
    "else:\n",
    "    print(\"Rectangles Do Not Overlap\")\n"
   ]
  },
  {
   "cell_type": "markdown",
   "id": "9d5c3c84",
   "metadata": {},
   "source": [
    "## OOP's"
   ]
  },
  {
   "cell_type": "markdown",
   "id": "05eb7f1d",
   "metadata": {},
   "source": [
    "#### Class can have data and function only."
   ]
  },
  {
   "cell_type": "code",
   "execution_count": null,
   "id": "5a512aff",
   "metadata": {},
   "outputs": [],
   "source": [
    "# Syntax to create an object\n",
    "# objectname = classname()\n",
    "# L = list()"
   ]
  },
  {
   "cell_type": "code",
   "execution_count": 8,
   "id": "82418f5e",
   "metadata": {},
   "outputs": [],
   "source": [
    "class Atm():\n",
    "    # data are pin and balance\n",
    "    # constructor(special function it gets automatically executed)\n",
    "    def __init__(self):\n",
    "        self.pin =  ''\n",
    "        self.balance = 0\n",
    "        print(\"Hola\")\n",
    "        self.menu() # so that menu gets automatically executed\n",
    "        \n",
    "    def menu(self):\n",
    "        user_input = input(\"\"\"\n",
    "        Hi how can I help you?\n",
    "        1. Press 1 to create pin\n",
    "        2. Press 2 to change pin\n",
    "        3. Press 3 to check balance\n",
    "        4. Press 4 to Withdraw\n",
    "        5. Press 5 to exit\n",
    "              \"\"\")\n",
    "        \n",
    "        if user_input == '1':\n",
    "            # create pin\n",
    "            self.create_pin()\n",
    "        \n",
    "        elif user_input == '2':\n",
    "            # change pin\n",
    "            self.change_pin()\n",
    "            \n",
    "        elif user_input == '3':\n",
    "            # check balance\n",
    "            self.check_balance()\n",
    "        \n",
    "        elif user_input == '4':\n",
    "            # withdraw\n",
    "            self.withdraw()\n",
    "        elif user_input == '5':\n",
    "            print(\"Thank you for using the ATM. Have a nice day!\")\n",
    "            return\n",
    "        else:\n",
    "            print(\"Invalid input. Try again.\")\n",
    "            self.menu()\n",
    "    \n",
    "    def create_pin(self):\n",
    "        user_pin = input('Enter your pin')\n",
    "        self.pin = user_pin\n",
    "        \n",
    "        user_balance = int(input('Enter your balance'))\n",
    "        self.balance = user_balance\n",
    "        print(\"Pin created successfully\")\n",
    "        self.menu()\n",
    "        \n",
    "    def change_pin(self):\n",
    "        old_pin = input('enter old pin')\n",
    "        if old_pin == self.pin:\n",
    "            # let hin change the pin\n",
    "            new_pin = input('enter new pin')\n",
    "            self.pin = new_pin\n",
    "            print('pin change successfully')\n",
    "            self.menu()\n",
    "        else:\n",
    "            print('pin galat hai re mamu')\n",
    "            self.menu()\n",
    "            \n",
    "    def check_balance(self):\n",
    "        user_pin = input('enter your pin')\n",
    "        if user_pin == self.pin:\n",
    "            print('your balance',self.balance)\n",
    "            \n",
    "        else:\n",
    "            print('nikal pehli fursat se')\n",
    "        self.menu()\n",
    "            \n",
    "    def withdraw(self):\n",
    "        user_pin = input('enter your pin')\n",
    "        if user_pin == self.pin:\n",
    "            amount = int(input('enter the amount to withdraw'))\n",
    "            if amount <= self.balance:\n",
    "                self.balance = self.balance - amount\n",
    "                print('withdraw successful, your balance is ', self.balance)\n",
    "                \n",
    "            else:\n",
    "                print('not sufficient amount')\n",
    "        else:\n",
    "            print('pin ko wapus dekh bhai')\n",
    "        self.menu()\n",
    "    "
   ]
  },
  {
   "cell_type": "code",
   "execution_count": 10,
   "id": "5d9d175f",
   "metadata": {},
   "outputs": [
    {
     "name": "stdout",
     "output_type": "stream",
     "text": [
      "Hola\n",
      "Thank you for using the ATM. Have a nice day!\n"
     ]
    }
   ],
   "source": [
    "# objectname = classname()\n",
    "obj = Atm()"
   ]
  },
  {
   "cell_type": "code",
   "execution_count": 4,
   "id": "a7bbe8e8",
   "metadata": {},
   "outputs": [
    {
     "name": "stdout",
     "output_type": "stream",
     "text": [
      "<class '__main__.Atm'>\n"
     ]
    }
   ],
   "source": [
    "print(type(obj))"
   ]
  },
  {
   "cell_type": "code",
   "execution_count": 11,
   "id": "c34666a4",
   "metadata": {},
   "outputs": [],
   "source": [
    "# Anything outside the class is called function and function inside the class is called method"
   ]
  },
  {
   "cell_type": "markdown",
   "id": "c5b88c99",
   "metadata": {},
   "source": [
    "#### Class diagram"
   ]
  },
  {
   "cell_type": "code",
   "execution_count": null,
   "id": "b5274b5d",
   "metadata": {},
   "outputs": [],
   "source": []
  },
  {
   "cell_type": "markdown",
   "id": "5cb3d44e",
   "metadata": {},
   "source": [
    "#### Magic Method\n",
    "- AKA dunder method\n"
   ]
  },
  {
   "cell_type": "code",
   "execution_count": 14,
   "id": "6f133e70",
   "metadata": {},
   "outputs": [],
   "source": [
    "class Fraction():\n",
    "    # parametrized \n",
    "    def __init__(self, x,y):\n",
    "        self.num = x\n",
    "        self.den = y\n",
    "        \n",
    "    def __str__(self):\n",
    "        # use ths magic method to print\n",
    "        return f\"{self.num}/{self.den}\"\n",
    "        \n",
    "        "
   ]
  },
  {
   "cell_type": "code",
   "execution_count": 15,
   "id": "ffed9569",
   "metadata": {},
   "outputs": [
    {
     "name": "stdout",
     "output_type": "stream",
     "text": [
      "3/4\n"
     ]
    }
   ],
   "source": [
    "frac1 = Fraction(3,4)\n",
    "print(frac1)"
   ]
  },
  {
   "cell_type": "markdown",
   "id": "4bb3a2d8",
   "metadata": {},
   "source": [
    "## Encapsulation\n"
   ]
  },
  {
   "cell_type": "code",
   "execution_count": 16,
   "id": "61d2d8eb",
   "metadata": {},
   "outputs": [],
   "source": [
    "# instance var - > python tutor\n",
    "class Person:\n",
    "    def __init__(self,name_input, country_input):\n",
    "        self.name = name_input\n",
    "        self.country = country_input\n",
    "        \n",
    "p1 = Person('nitish', 'india')\n",
    "p2 = Person('steve', 'australia')"
   ]
  },
  {
   "cell_type": "markdown",
   "id": "378fb099",
   "metadata": {},
   "source": [
    "#### Class Relationships\n",
    "- Aggregation (has a relationship)\n",
    "- Inheritance"
   ]
  },
  {
   "cell_type": "code",
   "execution_count": 1,
   "id": "5accc551",
   "metadata": {},
   "outputs": [
    {
     "name": "stdout",
     "output_type": "stream",
     "text": [
      "gurgaon 122011 haryana\n",
      "mumbai 111111 maharastra\n"
     ]
    }
   ],
   "source": [
    "# example\n",
    "class Customer:\n",
    "\n",
    "  def __init__(self,name,gender,address):\n",
    "    self.name = name\n",
    "    self.gender = gender\n",
    "    self.address = address # created a separate class called Address and pass the obj to the constructor\n",
    "\n",
    "  def print_address(self):\n",
    "    print(self.address._Address__city,self.address.pin,self.address.state)\n",
    "\n",
    "  def edit_profile(self,new_name,new_city,new_pin,new_state):\n",
    "    self.name = new_name\n",
    "    self.address.edit_address(new_city,new_pin,new_state)\n",
    "\n",
    "class Address:\n",
    "\n",
    "  def __init__(self,city,pin,state):\n",
    "      self.__city = city\n",
    "      self.pin = pin\n",
    "      self.state = state\n",
    "\n",
    "  def get_city(self):\n",
    "    return self.__city\n",
    "\n",
    "  def edit_address(self,new_city,new_pin,new_state):\n",
    "    self.__city = new_city\n",
    "    self.pin = new_pin\n",
    "    self.state = new_state\n",
    "\n",
    "add1 = Address('gurgaon',122011,'haryana')\n",
    "cust = Customer('nitish','male',add1)\n",
    "\n",
    "cust.print_address()\n",
    "\n",
    "cust.edit_profile('ankit','mumbai',111111,'maharastra')\n",
    "cust.print_address()\n",
    "# method example\n",
    "# what about private attribute"
   ]
  },
  {
   "cell_type": "markdown",
   "id": "5c7fb676",
   "metadata": {},
   "source": [
    "#### Inheritance "
   ]
  },
  {
   "cell_type": "code",
   "execution_count": null,
   "id": "0eeee185",
   "metadata": {},
   "outputs": [
    {
     "name": "stdout",
     "output_type": "stream",
     "text": [
      "rahul\n",
      "login\n",
      "enroll into the course\n"
     ]
    }
   ],
   "source": [
    "#Inheritance\n",
    "class User():\n",
    "    def __init__(self):\n",
    "        self.name = 'rahul'\n",
    "    \n",
    "    def login(self):\n",
    "        print('login')\n",
    "            \n",
    "# Making child class -- Student from parent class -- User    \n",
    "class Student(User):\n",
    "    def enroll(self):\n",
    "        print('enroll into the course')\n",
    "# Method overriding if I try to make another constructor in the child class\n",
    "u = User()\n",
    "s = Student()\n",
    "\n",
    "print(s.name)\n",
    "s.login()\n",
    "s.enroll()"
   ]
  },
  {
   "cell_type": "markdown",
   "id": "6cbca77d",
   "metadata": {},
   "source": [
    "##### What gets inherited?\n",
    "\n",
    "- Constructor\n",
    "- Non Private Attributes\n",
    "- Non Private Methods"
   ]
  },
  {
   "cell_type": "code",
   "execution_count": 9,
   "id": "a1902eed",
   "metadata": {},
   "outputs": [
    {
     "name": "stdout",
     "output_type": "stream",
     "text": [
      "Inside phone constructor\n",
      "Buying a phone\n"
     ]
    }
   ],
   "source": [
    "# constructor example\n",
    "class Phone():\n",
    "    def __init__(self, price, brand , camera):\n",
    "        print(\"Inside phone constructor\")\n",
    "        self.price = price\n",
    "        self.brand = brand\n",
    "        self.camera = camera\n",
    "        \n",
    "    def buy(Self):\n",
    "        print(\"Buying a phone\")\n",
    "        \n",
    "class SmartPhone(Phone):\n",
    "    pass\n",
    "\n",
    "s = SmartPhone(20000, 'Apple',13)\n",
    "s.buy()\n",
    "# Child don't have its constructor, so parent constructor is been called here"
   ]
  },
  {
   "cell_type": "code",
   "execution_count": null,
   "id": "5597d383",
   "metadata": {},
   "outputs": [
    {
     "name": "stdout",
     "output_type": "stream",
     "text": [
      "Inside SmartPhone constructor\n"
     ]
    },
    {
     "data": {
      "text/plain": [
       "'Android'"
      ]
     },
     "execution_count": 5,
     "metadata": {},
     "output_type": "execute_result"
    }
   ],
   "source": [
    "# constructor example 2\n",
    "\n",
    "class Phone:\n",
    "    def __init__(self, price, brand, camera):\n",
    "        print (\"Inside phone constructor\")\n",
    "        self.__price = price\n",
    "        self.brand = brand\n",
    "        self.camera = camera\n",
    "\n",
    "class SmartPhone(Phone):\n",
    "    def __init__(self, os, ram):\n",
    "        self.os = os\n",
    "        self.ram = ram\n",
    "        print (\"Inside SmartPhone constructor\")\n",
    "\n",
    "s=SmartPhone(\"Android\", 2)\n",
    "s.os\n",
    "s.brand\n",
    "# Here child has its already existing constructor, so parent constructor were never created"
   ]
  },
  {
   "cell_type": "code",
   "execution_count": 12,
   "id": "3317c864",
   "metadata": {},
   "outputs": [
    {
     "name": "stdout",
     "output_type": "stream",
     "text": [
      "Inside phone constructor\n",
      "20000\n"
     ]
    },
    {
     "ename": "AttributeError",
     "evalue": "'SmartPhone' object has no attribute '__price'",
     "output_type": "error",
     "traceback": [
      "\u001b[1;31m---------------------------------------------------------------------------\u001b[0m",
      "\u001b[1;31mAttributeError\u001b[0m                            Traceback (most recent call last)",
      "Cell \u001b[1;32mIn[12], line 20\u001b[0m\n\u001b[0;32m     18\u001b[0m s\u001b[38;5;241m=\u001b[39mSmartPhone(\u001b[38;5;241m20000\u001b[39m, \u001b[38;5;124m\"\u001b[39m\u001b[38;5;124mApple\u001b[39m\u001b[38;5;124m\"\u001b[39m, \u001b[38;5;241m13\u001b[39m)\n\u001b[0;32m     19\u001b[0m s\u001b[38;5;241m.\u001b[39mshow()\n\u001b[1;32m---> 20\u001b[0m \u001b[43ms\u001b[49m\u001b[38;5;241;43m.\u001b[39;49m\u001b[43m__price\u001b[49m()\n",
      "\u001b[1;31mAttributeError\u001b[0m: 'SmartPhone' object has no attribute '__price'"
     ]
    }
   ],
   "source": [
    "# child can't access private members of the class\n",
    "\n",
    "class Phone:\n",
    "    def __init__(self, price, brand, camera):\n",
    "        print (\"Inside phone constructor\")\n",
    "        self.__price = price\n",
    "        self.brand = brand\n",
    "        self.camera = camera\n",
    "\n",
    "    #getter\n",
    "    def show(self):\n",
    "        print (self.__price)\n",
    "\n",
    "class SmartPhone(Phone):\n",
    "    def check(self):\n",
    "        print(self.__price)\n",
    "\n",
    "s=SmartPhone(20000, \"Apple\", 13)\n",
    "s.show()\n",
    "s.__price()"
   ]
  },
  {
   "cell_type": "code",
   "execution_count": null,
   "id": "d4bdff1e",
   "metadata": {},
   "outputs": [],
   "source": [
    "# Method Overriding\n",
    "# Parent and child has the same method name so child method will be executed\n",
    "class Phone:\n",
    "    def __init__(self, price, brand, camera):\n",
    "        print (\"Inside phone constructor\")\n",
    "        self.__price = price\n",
    "        self.brand = brand\n",
    "        self.camera = camera\n",
    "\n",
    "    def buy(self):\n",
    "        print (\"Buying a phone\")\n",
    "\n",
    "class SmartPhone(Phone):\n",
    "    def buy(self):\n",
    "        print (\"Buying a smartphone\")\n",
    "\n",
    "s=SmartPhone(20000, \"Apple\", 13)\n",
    "\n",
    "s.buy()"
   ]
  },
  {
   "cell_type": "markdown",
   "id": "cc4f02df",
   "metadata": {},
   "source": [
    "### Super Keyword"
   ]
  },
  {
   "cell_type": "code",
   "execution_count": 13,
   "id": "c62b97a0",
   "metadata": {},
   "outputs": [
    {
     "name": "stdout",
     "output_type": "stream",
     "text": [
      "Inside phone constructor\n",
      "Buying a smartphone\n",
      "Buying a phone\n"
     ]
    }
   ],
   "source": [
    "# super is used to call the method of parent\n",
    "class Phone():\n",
    "    def __init__(self, price, brand, camera):\n",
    "        print(\"Inside phone constructor\")\n",
    "        self.__price = price\n",
    "        self.brand = brand\n",
    "        self.camera = camera\n",
    "    def buy(self):\n",
    "        print(\"Buying a phone\")\n",
    "        \n",
    "class SmartPhone(Phone):\n",
    "    def buy(self):\n",
    "        print(\"Buying a smartphone\")\n",
    "        # Syntax to call parent ka buy method\n",
    "        super().buy()\n",
    "        \n",
    "s = SmartPhone(20000, 'Apple', 13)\n",
    "s.buy()\n"
   ]
  },
  {
   "cell_type": "code",
   "execution_count": null,
   "id": "2b8a36cf",
   "metadata": {},
   "outputs": [],
   "source": [
    "# super -> constructor\n",
    "class Phone:\n",
    "    def __init__(self, price, brand, camera):\n",
    "        print (\"Inside phone constructor\")\n",
    "        self.__price = price\n",
    "        self.brand = brand\n",
    "        self.camera = camera\n",
    "\n",
    "class SmartPhone(Phone):\n",
    "    def __init__(self, price, brand, camera, os, ram):\n",
    "        print('Inside smartphone constructor')\n",
    "        super().__init__(price, brand, camera)\n",
    "        self.os = os\n",
    "        self.ram = ram\n",
    "        print (\"Inside smartphone constructor\")\n",
    "\n",
    "s=SmartPhone(20000, \"Samsung\", 12, \"Android\", 2)\n",
    "\n",
    "print(s.os)\n",
    "print(s.brand)"
   ]
  },
  {
   "cell_type": "code",
   "execution_count": null,
   "id": "01e6107c",
   "metadata": {},
   "outputs": [],
   "source": [
    "# using super outside the class\n",
    "class Phone:\n",
    "    def __init__(self, price, brand, camera):\n",
    "        print (\"Inside phone constructor\")\n",
    "        self.__price = price\n",
    "        self.brand = brand\n",
    "        self.camera = camera\n",
    "\n",
    "    def buy(self):\n",
    "        print (\"Buying a phone\")\n",
    "\n",
    "class SmartPhone(Phone):\n",
    "    def buy(self):\n",
    "        print (\"Buying a smartphone\")\n",
    "        # syntax to call parent ka buy method\n",
    "        super().buy()\n",
    "        print(super().brand()) #cannot do this\n",
    "\n",
    "s=SmartPhone(20000, \"Apple\", 13)\n",
    "# super().buy() cannot be used here\n",
    "s.buy()"
   ]
  },
  {
   "cell_type": "markdown",
   "id": "bb4178d3",
   "metadata": {},
   "source": [
    "- Super cannot access attributes\n",
    "- Super cannot be called outside the class\n",
    "- Super is used inside the child class"
   ]
  },
  {
   "cell_type": "markdown",
   "id": "244711a2",
   "metadata": {},
   "source": [
    "##### Inheritance in summary\n",
    "\n",
    "- A class can inherit from another class.\n",
    "\n",
    "- Inheritance improves code reuse\n",
    "\n",
    "- Constructor, attributes, methods get inherited to the child class\n",
    "\n",
    "- The parent has no access to the child class\n",
    "\n",
    "- Private properties of parent are not accessible directly in child class\n",
    "\n",
    "- Child class can override the attributes or methods. This is called method overriding\n",
    "\n",
    "- super() is an inbuilt function which is used to invoke the parent class methods and constructor"
   ]
  },
  {
   "cell_type": "code",
   "execution_count": 14,
   "id": "a5b4b187",
   "metadata": {},
   "outputs": [
    {
     "name": "stdout",
     "output_type": "stream",
     "text": [
      "100\n",
      "200\n"
     ]
    }
   ],
   "source": [
    "class Parent:\n",
    "\n",
    "    def __init__(self,num):\n",
    "      self.__num=num\n",
    "\n",
    "    def get_num(self):\n",
    "      return self.__num\n",
    "\n",
    "class Child(Parent):\n",
    "  \n",
    "    def __init__(self,num,val):\n",
    "      super().__init__(num)\n",
    "      self.__val=val\n",
    "\n",
    "    def get_val(self):\n",
    "      return self.__val\n",
    "      \n",
    "son=Child(100,200)\n",
    "print(son.get_num())\n",
    "print(son.get_val())"
   ]
  },
  {
   "cell_type": "code",
   "execution_count": 15,
   "id": "c40933b9",
   "metadata": {},
   "outputs": [
    {
     "name": "stdout",
     "output_type": "stream",
     "text": [
      "100\n",
      "200\n"
     ]
    }
   ],
   "source": [
    "class Parent:\n",
    "    def __init__(self):\n",
    "        self.num=100\n",
    "\n",
    "class Child(Parent):\n",
    "\n",
    "    def __init__(self):\n",
    "        super().__init__()\n",
    "        self.var=200\n",
    "        \n",
    "    def show(self):\n",
    "        print(self.num)\n",
    "        print(self.var)\n",
    "\n",
    "son=Child()\n",
    "son.show()\n",
    "# son and self is same, as self can access the non private member so num can also access that"
   ]
  },
  {
   "cell_type": "code",
   "execution_count": 16,
   "id": "0e522050",
   "metadata": {},
   "outputs": [
    {
     "name": "stdout",
     "output_type": "stream",
     "text": [
      "Child: 10\n"
     ]
    }
   ],
   "source": [
    "class Parent:\n",
    "    def __init__(self):\n",
    "        self.__num=100\n",
    "\n",
    "    def show(self):\n",
    "        print(\"Parent:\",self.__num)\n",
    "\n",
    "class Child(Parent):\n",
    "    def __init__(self):\n",
    "        super().__init__()\n",
    "        self.__var=10\n",
    "\n",
    "    def show(self):\n",
    "        print(\"Child:\",self.__var)\n",
    "\n",
    "obj=Child()\n",
    "obj.show()"
   ]
  },
  {
   "cell_type": "markdown",
   "id": "cdd96c97",
   "metadata": {},
   "source": [
    "### Types of Inheritance\n",
    "\n",
    "- Single Inheritance\n",
    "- Multilevel Inheritance\n",
    "- Hierarchical Inheritance\n",
    "- Multiple Inheritance(Diamond Problem)\n",
    "- Hybrid Inheritance"
   ]
  },
  {
   "cell_type": "code",
   "execution_count": null,
   "id": "b5b5e060",
   "metadata": {},
   "outputs": [],
   "source": [
    "# multilevel\n",
    "class Product:\n",
    "    def review(self):\n",
    "        print (\"Product customer review\")\n",
    "\n",
    "class Phone(Product):\n",
    "    def __init__(self, price, brand, camera):\n",
    "        print (\"Inside phone constructor\")\n",
    "        self.__price = price\n",
    "        self.brand = brand\n",
    "        self.camera = camera\n",
    "\n",
    "    def buy(self):\n",
    "        print (\"Buying a phone\")\n",
    "\n",
    "class SmartPhone(Phone):\n",
    "    pass\n",
    "\n",
    "s=SmartPhone(20000, \"Apple\", 12)\n",
    "\n",
    "s.buy()\n",
    "s.review()"
   ]
  },
  {
   "cell_type": "code",
   "execution_count": 17,
   "id": "da28fdb9",
   "metadata": {},
   "outputs": [
    {
     "name": "stdout",
     "output_type": "stream",
     "text": [
      "Inside phone constructor\n",
      "Buying a phone\n",
      "Inside phone constructor\n",
      "Buying a phone\n"
     ]
    }
   ],
   "source": [
    "# Hierarchical\n",
    "class Phone:\n",
    "    def __init__(self, price, brand, camera):\n",
    "        print (\"Inside phone constructor\")\n",
    "        self.__price = price\n",
    "        self.brand = brand\n",
    "        self.camera = camera\n",
    "\n",
    "    def buy(self):\n",
    "        print (\"Buying a phone\")\n",
    "\n",
    "class SmartPhone(Phone):\n",
    "    pass\n",
    "\n",
    "class FeaturePhone(Phone):\n",
    "    pass\n",
    "\n",
    "SmartPhone(1000,\"Apple\",\"13px\").buy()\n",
    "FeaturePhone(10,\"Lava\",\"1px\").buy()"
   ]
  },
  {
   "cell_type": "code",
   "execution_count": null,
   "id": "c6507cae",
   "metadata": {},
   "outputs": [],
   "source": [
    "# Multiple\n",
    "class Phone:\n",
    "    def __init__(self, price, brand, camera):\n",
    "        print (\"Inside phone constructor\")\n",
    "        self.__price = price\n",
    "        self.brand = brand\n",
    "        self.camera = camera\n",
    "\n",
    "    def buy(self):\n",
    "        print (\"Buying a phone\")\n",
    "\n",
    "class Product:\n",
    "    def review(self):\n",
    "        print (\"Customer review\")\n",
    "\n",
    "class SmartPhone(Phone, Product):\n",
    "    pass\n",
    "\n",
    "s=SmartPhone(20000, \"Apple\", 12)\n",
    "\n",
    "s.buy()\n",
    "s.review()\n"
   ]
  },
  {
   "cell_type": "code",
   "execution_count": 18,
   "id": "233ada2a",
   "metadata": {},
   "outputs": [
    {
     "name": "stdout",
     "output_type": "stream",
     "text": [
      "Inside phone constructor\n",
      "Buying a phone\n"
     ]
    }
   ],
   "source": [
    "# the diamond problem\n",
    "# https://stackoverflow.com/questions/56361048/what-is-the-diamond-problem-in-python-and-why-its-not-appear-in-python2\n",
    "class Phone:\n",
    "    def __init__(self, price, brand, camera):\n",
    "        print (\"Inside phone constructor\")\n",
    "        self.__price = price\n",
    "        self.brand = brand\n",
    "        self.camera = camera\n",
    "\n",
    "    def buy(self):\n",
    "        print (\"Buying a phone\")\n",
    "\n",
    "class Product:\n",
    "    def buy(self):\n",
    "        print (\"Product buy method\")\n",
    "\n",
    "# Method resolution order\n",
    "class SmartPhone(Phone,Product):\n",
    "    pass\n",
    "# here Phone is written first, so this will be executed at first\n",
    "\n",
    "s=SmartPhone(20000, \"Apple\", 12)\n",
    "\n",
    "s.buy()"
   ]
  },
  {
   "cell_type": "code",
   "execution_count": 19,
   "id": "36822f66",
   "metadata": {},
   "outputs": [
    {
     "name": "stdout",
     "output_type": "stream",
     "text": [
      "70\n"
     ]
    }
   ],
   "source": [
    "class A:\n",
    "\n",
    "    def m1(self):\n",
    "        return 20\n",
    "\n",
    "class B(A):\n",
    "\n",
    "    def m1(self):\n",
    "        return 30\n",
    "\n",
    "    def m2(self):\n",
    "        return 40\n",
    "\n",
    "class C(B):\n",
    "  \n",
    "    def m2(self):\n",
    "        return 20\n",
    "obj1=A()\n",
    "obj2=B()\n",
    "obj3=C()\n",
    "print(obj1.m1() + obj3.m1()+ obj3.m2())"
   ]
  },
  {
   "cell_type": "code",
   "execution_count": 20,
   "id": "3578290a",
   "metadata": {},
   "outputs": [
    {
     "ename": "RecursionError",
     "evalue": "maximum recursion depth exceeded",
     "output_type": "error",
     "traceback": [
      "\u001b[1;31m---------------------------------------------------------------------------\u001b[0m",
      "\u001b[1;31mRecursionError\u001b[0m                            Traceback (most recent call last)",
      "Cell \u001b[1;32mIn[20], line 19\u001b[0m\n\u001b[0;32m     17\u001b[0m         \u001b[38;5;28;01mreturn\u001b[39;00m val\n\u001b[0;32m     18\u001b[0m obj\u001b[38;5;241m=\u001b[39mC()\n\u001b[1;32m---> 19\u001b[0m \u001b[38;5;28mprint\u001b[39m(\u001b[43mobj\u001b[49m\u001b[38;5;241;43m.\u001b[39;49m\u001b[43mm1\u001b[49m\u001b[43m(\u001b[49m\u001b[43m)\u001b[49m)\n",
      "Cell \u001b[1;32mIn[20], line 15\u001b[0m, in \u001b[0;36mC.m1\u001b[1;34m(self)\u001b[0m\n\u001b[0;32m     14\u001b[0m \u001b[38;5;28;01mdef\u001b[39;00m \u001b[38;5;21mm1\u001b[39m(\u001b[38;5;28mself\u001b[39m):\n\u001b[1;32m---> 15\u001b[0m     val\u001b[38;5;241m=\u001b[39m\u001b[38;5;28;43mself\u001b[39;49m\u001b[38;5;241;43m.\u001b[39;49m\u001b[43mm1\u001b[49m\u001b[43m(\u001b[49m\u001b[43m)\u001b[49m\u001b[38;5;241m+\u001b[39m\u001b[38;5;241m20\u001b[39m\n\u001b[0;32m     16\u001b[0m     \u001b[38;5;66;03m# self.m1 is calling itself, infinite time so thats why it crashed\u001b[39;00m\n\u001b[0;32m     17\u001b[0m     \u001b[38;5;28;01mreturn\u001b[39;00m val\n",
      "Cell \u001b[1;32mIn[20], line 15\u001b[0m, in \u001b[0;36mC.m1\u001b[1;34m(self)\u001b[0m\n\u001b[0;32m     14\u001b[0m \u001b[38;5;28;01mdef\u001b[39;00m \u001b[38;5;21mm1\u001b[39m(\u001b[38;5;28mself\u001b[39m):\n\u001b[1;32m---> 15\u001b[0m     val\u001b[38;5;241m=\u001b[39m\u001b[38;5;28;43mself\u001b[39;49m\u001b[38;5;241;43m.\u001b[39;49m\u001b[43mm1\u001b[49m\u001b[43m(\u001b[49m\u001b[43m)\u001b[49m\u001b[38;5;241m+\u001b[39m\u001b[38;5;241m20\u001b[39m\n\u001b[0;32m     16\u001b[0m     \u001b[38;5;66;03m# self.m1 is calling itself, infinite time so thats why it crashed\u001b[39;00m\n\u001b[0;32m     17\u001b[0m     \u001b[38;5;28;01mreturn\u001b[39;00m val\n",
      "    \u001b[1;31m[... skipping similar frames: C.m1 at line 15 (2974 times)]\u001b[0m\n",
      "Cell \u001b[1;32mIn[20], line 15\u001b[0m, in \u001b[0;36mC.m1\u001b[1;34m(self)\u001b[0m\n\u001b[0;32m     14\u001b[0m \u001b[38;5;28;01mdef\u001b[39;00m \u001b[38;5;21mm1\u001b[39m(\u001b[38;5;28mself\u001b[39m):\n\u001b[1;32m---> 15\u001b[0m     val\u001b[38;5;241m=\u001b[39m\u001b[38;5;28;43mself\u001b[39;49m\u001b[38;5;241;43m.\u001b[39;49m\u001b[43mm1\u001b[49m\u001b[43m(\u001b[49m\u001b[43m)\u001b[49m\u001b[38;5;241m+\u001b[39m\u001b[38;5;241m20\u001b[39m\n\u001b[0;32m     16\u001b[0m     \u001b[38;5;66;03m# self.m1 is calling itself, infinite time so thats why it crashed\u001b[39;00m\n\u001b[0;32m     17\u001b[0m     \u001b[38;5;28;01mreturn\u001b[39;00m val\n",
      "\u001b[1;31mRecursionError\u001b[0m: maximum recursion depth exceeded"
     ]
    }
   ],
   "source": [
    "class A:\n",
    "\n",
    "    def m1(self):\n",
    "        return 20\n",
    "\n",
    "class B(A):\n",
    "\n",
    "    def m1(self):\n",
    "        val=super().m1()+30\n",
    "        return val\n",
    "\n",
    "class C(B):\n",
    "  \n",
    "    def m1(self):\n",
    "        val=self.m1()+20\n",
    "        # self.m1 is calling itself, infinite time so thats why it crashed\n",
    "        return val\n",
    "obj=C()\n",
    "print(obj.m1())"
   ]
  },
  {
   "cell_type": "markdown",
   "id": "779fdcc9",
   "metadata": {},
   "source": [
    "### Polymorphism\n",
    "- When we have different method with same name, but with different features.\n",
    "\n",
    "- Method Overriding:- Inheritance of child from parent\n",
    "- Method Overloading:- Two method of same name in a class, but behaves differently\n",
    "- Operator Overloading"
   ]
  },
  {
   "cell_type": "code",
   "execution_count": null,
   "id": "feda9740",
   "metadata": {},
   "outputs": [
    {
     "ename": "TypeError",
     "evalue": "Shape.area() missing 1 required positional argument: 'b'",
     "output_type": "error",
     "traceback": [
      "\u001b[1;31m---------------------------------------------------------------------------\u001b[0m",
      "\u001b[1;31mTypeError\u001b[0m                                 Traceback (most recent call last)",
      "Cell \u001b[1;32mIn[21], line 11\u001b[0m\n\u001b[0;32m      8\u001b[0m         \u001b[38;5;28;01mreturn\u001b[39;00m l\u001b[38;5;241m*\u001b[39mb\n\u001b[0;32m     10\u001b[0m s \u001b[38;5;241m=\u001b[39m Shape()\n\u001b[1;32m---> 11\u001b[0m \u001b[43ms\u001b[49m\u001b[38;5;241;43m.\u001b[39;49m\u001b[43marea\u001b[49m\u001b[43m(\u001b[49m\u001b[38;5;241;43m2\u001b[39;49m\u001b[43m)\u001b[49m\n\u001b[0;32m     12\u001b[0m s\u001b[38;5;241m.\u001b[39marea(\u001b[38;5;241m3\u001b[39m,\u001b[38;5;241m4\u001b[39m)\n",
      "\u001b[1;31mTypeError\u001b[0m: Shape.area() missing 1 required positional argument: 'b'"
     ]
    }
   ],
   "source": [
    "#Method overloading example\n",
    "# Method overloading does not works in Python, But works in Java\n",
    "# It helps to make it look more clean\n",
    "class Shape():\n",
    "    def area(self, radius):\n",
    "        return 3.14*radius*radius\n",
    "    \n",
    "    def area(self, l,b):\n",
    "        return l*b\n",
    "    \n",
    "s = Shape()\n",
    "s.area(2)\n",
    "s.area(3,4)"
   ]
  },
  {
   "cell_type": "code",
   "execution_count": null,
   "id": "4163a753",
   "metadata": {},
   "outputs": [],
   "source": [
    "class Shape:\n",
    "# Default argument can solve this problem\n",
    "  def area(self,a,b=0):\n",
    "    if b == 0:\n",
    "      return 3.14*a*a\n",
    "    else:\n",
    "      return a*b\n",
    "\n",
    "s = Shape()\n",
    "\n",
    "print(s.area(2))\n",
    "print(s.area(3,4))"
   ]
  },
  {
   "cell_type": "code",
   "execution_count": 22,
   "id": "ae042c42",
   "metadata": {},
   "outputs": [
    {
     "name": "stdout",
     "output_type": "stream",
     "text": [
      "helloworld\n",
      "9\n"
     ]
    }
   ],
   "source": [
    "#Operator overloading\n",
    "print('hello' + 'world')\n",
    "print(4 + 5)"
   ]
  },
  {
   "cell_type": "markdown",
   "id": "57c8e37f",
   "metadata": {},
   "source": [
    "## Abstraction"
   ]
  },
  {
   "cell_type": "code",
   "execution_count": null,
   "id": "deb32697",
   "metadata": {},
   "outputs": [],
   "source": [
    "from abc import ABC,abstractmethod\n",
    "class BankApp(ABC):\n",
    "# BankApp is an abstract method -> which is an empty piece of code\n",
    "  def database(self):\n",
    "    print('connected to database')\n",
    "\n",
    "  @abstractmethod\n",
    "  def security(self):\n",
    "    pass\n",
    "\n",
    "  @abstractmethod\n",
    "  def display(self):\n",
    "    # it is a abstract method because no piece of code\n",
    "    pass\n"
   ]
  },
  {
   "cell_type": "code",
   "execution_count": 29,
   "id": "0294b75f",
   "metadata": {},
   "outputs": [],
   "source": [
    "class MobileApp(BankApp):\n",
    "\n",
    "  def mobile_login(self):\n",
    "    print('login into mobile')\n",
    "\n",
    "  def security(self):\n",
    "    print('mobile security')\n",
    "\n",
    "  def display(self):\n",
    "    print('display')"
   ]
  },
  {
   "cell_type": "code",
   "execution_count": 30,
   "id": "b464944b",
   "metadata": {},
   "outputs": [],
   "source": [
    "mob = MobileApp()"
   ]
  },
  {
   "cell_type": "code",
   "execution_count": 31,
   "id": "755312b9",
   "metadata": {},
   "outputs": [
    {
     "name": "stdout",
     "output_type": "stream",
     "text": [
      "mobile security\n"
     ]
    }
   ],
   "source": [
    "mob.security()"
   ]
  },
  {
   "cell_type": "code",
   "execution_count": null,
   "id": "9c9e2dfb",
   "metadata": {},
   "outputs": [
    {
     "ename": "TypeError",
     "evalue": "Can't instantiate abstract class BankApp without an implementation for abstract methods 'display', 'security'",
     "output_type": "error",
     "traceback": [
      "\u001b[1;31m---------------------------------------------------------------------------\u001b[0m",
      "\u001b[1;31mTypeError\u001b[0m                                 Traceback (most recent call last)",
      "Cell \u001b[1;32mIn[32], line 1\u001b[0m\n\u001b[1;32m----> 1\u001b[0m obj \u001b[38;5;241m=\u001b[39m \u001b[43mBankApp\u001b[49m\u001b[43m(\u001b[49m\u001b[43m)\u001b[49m\n\u001b[0;32m      2\u001b[0m \u001b[38;5;66;03m#Can't create an object of the class\u001b[39;00m\n",
      "\u001b[1;31mTypeError\u001b[0m: Can't instantiate abstract class BankApp without an implementation for abstract methods 'display', 'security'"
     ]
    }
   ],
   "source": [
    "obj = BankApp()\n",
    "#Can't create an object of the class\n",
    "#  can only work with MobileApp"
   ]
  },
  {
   "cell_type": "code",
   "execution_count": 1,
   "id": "d8fb8c9d",
   "metadata": {},
   "outputs": [],
   "source": [
    "f = open('sample.txt','w')\n",
    "f.write(\"Hello world\")\n",
    "f.close()"
   ]
  },
  {
   "cell_type": "code",
   "execution_count": 4,
   "id": "fe3581d4",
   "metadata": {},
   "outputs": [],
   "source": [
    "# Write multiline strings\n",
    "f = open('sample.txt','w')\n",
    "f.write(\"Hello world\")\n",
    "f.write('\\nHow are U?')\n",
    "f.close()"
   ]
  },
  {
   "cell_type": "markdown",
   "id": "e9c324d3",
   "metadata": {},
   "source": [
    "#### Namespaces"
   ]
  },
  {
   "cell_type": "markdown",
   "id": "7b8d4bbb",
   "metadata": {},
   "source": [
    "### Namespaces\n",
    "\n",
    "A namespace is a space that holds names(identifiers).Programmatically speaking, namespaces are dictionary of identifiers(keys) and their objects(values)\n",
    "\n",
    "There are 4 types of namespaces:\n",
    "- Builtin Namespace\n",
    "- Global Namespace\n",
    "- Enclosing Namespace\n",
    "- Local Namespace"
   ]
  },
  {
   "cell_type": "code",
   "execution_count": 5,
   "id": "757253ef",
   "metadata": {},
   "outputs": [
    {
     "name": "stdout",
     "output_type": "stream",
     "text": [
      "3\n",
      "2\n"
     ]
    }
   ],
   "source": [
    "# local and global -> same name\n",
    "a = 2\n",
    "\n",
    "def temp():\n",
    "  # local var\n",
    "  a = 3\n",
    "  print(a)\n",
    "\n",
    "temp()\n",
    "print(a)"
   ]
  },
  {
   "cell_type": "code",
   "execution_count": 6,
   "id": "3dee5ead",
   "metadata": {},
   "outputs": [
    {
     "name": "stdout",
     "output_type": "stream",
     "text": [
      "2\n",
      "2\n"
     ]
    }
   ],
   "source": [
    "# local and global -> local does not have but global has\n",
    "a = 2\n",
    "\n",
    "def temp():\n",
    "  # local var\n",
    "  print(a)\n",
    "\n",
    "temp()\n",
    "print(a)\n"
   ]
  },
  {
   "cell_type": "code",
   "execution_count": 7,
   "id": "c2cb1d2c",
   "metadata": {},
   "outputs": [
    {
     "ename": "UnboundLocalError",
     "evalue": "cannot access local variable 'a' where it is not associated with a value",
     "output_type": "error",
     "traceback": [
      "\u001b[1;31m---------------------------------------------------------------------------\u001b[0m",
      "\u001b[1;31mUnboundLocalError\u001b[0m                         Traceback (most recent call last)",
      "Cell \u001b[1;32mIn[7], line 10\u001b[0m\n\u001b[0;32m      7\u001b[0m   a \u001b[38;5;241m+\u001b[39m\u001b[38;5;241m=\u001b[39m \u001b[38;5;241m1\u001b[39m\n\u001b[0;32m      8\u001b[0m   \u001b[38;5;28mprint\u001b[39m(a)\n\u001b[1;32m---> 10\u001b[0m \u001b[43mtemp\u001b[49m\u001b[43m(\u001b[49m\u001b[43m)\u001b[49m\n\u001b[0;32m     11\u001b[0m \u001b[38;5;28mprint\u001b[39m(a)\n",
      "Cell \u001b[1;32mIn[7], line 7\u001b[0m, in \u001b[0;36mtemp\u001b[1;34m()\u001b[0m\n\u001b[0;32m      5\u001b[0m \u001b[38;5;28;01mdef\u001b[39;00m \u001b[38;5;21mtemp\u001b[39m():\n\u001b[0;32m      6\u001b[0m   \u001b[38;5;66;03m# local var\u001b[39;00m\n\u001b[1;32m----> 7\u001b[0m   \u001b[43ma\u001b[49m \u001b[38;5;241m+\u001b[39m\u001b[38;5;241m=\u001b[39m \u001b[38;5;241m1\u001b[39m\n\u001b[0;32m      8\u001b[0m   \u001b[38;5;28mprint\u001b[39m(a)\n",
      "\u001b[1;31mUnboundLocalError\u001b[0m: cannot access local variable 'a' where it is not associated with a value"
     ]
    }
   ],
   "source": [
    "# local and global -> editing global\n",
    "# Can't to changes directly\n",
    "a = 2\n",
    "\n",
    "def temp():\n",
    "  # local var\n",
    "  a += 1\n",
    "  print(a)\n",
    "\n",
    "temp()\n",
    "print(a)"
   ]
  },
  {
   "cell_type": "code",
   "execution_count": 8,
   "id": "58571431",
   "metadata": {},
   "outputs": [
    {
     "name": "stdout",
     "output_type": "stream",
     "text": [
      "3\n",
      "3\n"
     ]
    }
   ],
   "source": [
    "a = 2\n",
    "\n",
    "def temp():\n",
    "  # local var\n",
    "  global a\n",
    "  a += 1\n",
    "  print(a)\n",
    "\n",
    "temp()\n",
    "print(a)"
   ]
  },
  {
   "cell_type": "code",
   "execution_count": 9,
   "id": "d8d2cdd4",
   "metadata": {},
   "outputs": [
    {
     "name": "stdout",
     "output_type": "stream",
     "text": [
      "1\n",
      "1\n"
     ]
    }
   ],
   "source": [
    "# local and global -> global created inside local\n",
    "def temp():\n",
    "  # local var\n",
    "  global a\n",
    "  a = 1\n",
    "  print(a)\n",
    "\n",
    "temp()\n",
    "print(a)"
   ]
  },
  {
   "cell_type": "code",
   "execution_count": 10,
   "id": "9af402a0",
   "metadata": {},
   "outputs": [
    {
     "name": "stdout",
     "output_type": "stream",
     "text": [
      "5\n",
      "5\n"
     ]
    },
    {
     "ename": "NameError",
     "evalue": "name 'z' is not defined",
     "output_type": "error",
     "traceback": [
      "\u001b[1;31m---------------------------------------------------------------------------\u001b[0m",
      "\u001b[1;31mNameError\u001b[0m                                 Traceback (most recent call last)",
      "Cell \u001b[1;32mIn[10], line 9\u001b[0m\n\u001b[0;32m      7\u001b[0m temp(\u001b[38;5;241m5\u001b[39m)\n\u001b[0;32m      8\u001b[0m \u001b[38;5;28mprint\u001b[39m(a)\n\u001b[1;32m----> 9\u001b[0m \u001b[38;5;28mprint\u001b[39m(\u001b[43mz\u001b[49m)\n",
      "\u001b[1;31mNameError\u001b[0m: name 'z' is not defined"
     ]
    }
   ],
   "source": [
    "# local and global -> function parameter is local\n",
    "def temp(z):\n",
    "  # local var\n",
    "  print(z)\n",
    "\n",
    "a = 5\n",
    "temp(5)\n",
    "print(a)\n",
    "print(z)"
   ]
  },
  {
   "cell_type": "code",
   "execution_count": 11,
   "id": "735432d5",
   "metadata": {},
   "outputs": [
    {
     "name": "stdout",
     "output_type": "stream",
     "text": [
      "hello\n"
     ]
    }
   ],
   "source": [
    "# built in scope\n",
    "print('hello')"
   ]
  },
  {
   "cell_type": "code",
   "execution_count": 12,
   "id": "59ade69a",
   "metadata": {},
   "outputs": [
    {
     "name": "stdout",
     "output_type": "stream",
     "text": [
      "['ArithmeticError', 'AssertionError', 'AttributeError', 'BaseException', 'BaseExceptionGroup', 'BlockingIOError', 'BrokenPipeError', 'BufferError', 'BytesWarning', 'ChildProcessError', 'ConnectionAbortedError', 'ConnectionError', 'ConnectionRefusedError', 'ConnectionResetError', 'DeprecationWarning', 'EOFError', 'Ellipsis', 'EncodingWarning', 'EnvironmentError', 'Exception', 'ExceptionGroup', 'False', 'FileExistsError', 'FileNotFoundError', 'FloatingPointError', 'FutureWarning', 'GeneratorExit', 'IOError', 'ImportError', 'ImportWarning', 'IndentationError', 'IndexError', 'InterruptedError', 'IsADirectoryError', 'KeyError', 'KeyboardInterrupt', 'LookupError', 'MemoryError', 'ModuleNotFoundError', 'NameError', 'None', 'NotADirectoryError', 'NotImplemented', 'NotImplementedError', 'OSError', 'OverflowError', 'PendingDeprecationWarning', 'PermissionError', 'ProcessLookupError', 'RecursionError', 'ReferenceError', 'ResourceWarning', 'RuntimeError', 'RuntimeWarning', 'StopAsyncIteration', 'StopIteration', 'SyntaxError', 'SyntaxWarning', 'SystemError', 'SystemExit', 'TabError', 'TimeoutError', 'True', 'TypeError', 'UnboundLocalError', 'UnicodeDecodeError', 'UnicodeEncodeError', 'UnicodeError', 'UnicodeTranslateError', 'UnicodeWarning', 'UserWarning', 'ValueError', 'Warning', 'WindowsError', 'ZeroDivisionError', '__IPYTHON__', '__build_class__', '__debug__', '__doc__', '__import__', '__loader__', '__name__', '__package__', '__spec__', 'abs', 'aiter', 'all', 'anext', 'any', 'ascii', 'bin', 'bool', 'breakpoint', 'bytearray', 'bytes', 'callable', 'chr', 'classmethod', 'compile', 'complex', 'copyright', 'credits', 'delattr', 'dict', 'dir', 'display', 'divmod', 'enumerate', 'eval', 'exec', 'execfile', 'filter', 'float', 'format', 'frozenset', 'get_ipython', 'getattr', 'globals', 'hasattr', 'hash', 'help', 'hex', 'id', 'input', 'int', 'isinstance', 'issubclass', 'iter', 'len', 'license', 'list', 'locals', 'map', 'max', 'memoryview', 'min', 'next', 'object', 'oct', 'open', 'ord', 'pow', 'print', 'property', 'range', 'repr', 'reversed', 'round', 'runfile', 'set', 'setattr', 'slice', 'sorted', 'staticmethod', 'str', 'sum', 'super', 'tuple', 'type', 'vars', 'zip']\n"
     ]
    }
   ],
   "source": [
    "# How to see all the built-ins\n",
    "import builtins\n",
    "print(dir(builtins))"
   ]
  },
  {
   "cell_type": "code",
   "execution_count": 13,
   "id": "dd6e2ec9",
   "metadata": {},
   "outputs": [
    {
     "ename": "TypeError",
     "evalue": "max() takes 0 positional arguments but 1 was given",
     "output_type": "error",
     "traceback": [
      "\u001b[1;31m---------------------------------------------------------------------------\u001b[0m",
      "\u001b[1;31mTypeError\u001b[0m                                 Traceback (most recent call last)",
      "Cell \u001b[1;32mIn[13], line 6\u001b[0m\n\u001b[0;32m      4\u001b[0m \u001b[38;5;28;01mdef\u001b[39;00m \u001b[38;5;21mmax\u001b[39m():\n\u001b[0;32m      5\u001b[0m     \u001b[38;5;28mprint\u001b[39m(\u001b[38;5;124m'\u001b[39m\u001b[38;5;124mhello\u001b[39m\u001b[38;5;124m'\u001b[39m)\n\u001b[1;32m----> 6\u001b[0m \u001b[38;5;28;43mmax\u001b[39;49m\u001b[43m(\u001b[49m\u001b[43mL\u001b[49m\u001b[43m)\u001b[49m\n\u001b[0;32m      7\u001b[0m \u001b[38;5;66;03m# max is a already define function but due to LEGB rule it will check if max exist in global or not, if it  does then no need to check for the pre max function\u001b[39;00m\n",
      "\u001b[1;31mTypeError\u001b[0m: max() takes 0 positional arguments but 1 was given"
     ]
    }
   ],
   "source": [
    "# renaming builtins\n",
    "L = [1,2,3]\n",
    "max(L)\n",
    "def max():\n",
    "    print('hello')\n",
    "max(L)\n",
    "# max is a already define function but due to LEGB rule it will check if max exist in global or not, if it  does then no need to check for the pre max function\n"
   ]
  },
  {
   "cell_type": "code",
   "execution_count": null,
   "id": "72635b8c",
   "metadata": {},
   "outputs": [],
   "source": []
  },
  {
   "cell_type": "markdown",
   "id": "8774ef9b",
   "metadata": {},
   "source": [
    "### Decorators\n",
    "\n",
    "A decorator in python is a function that receives another function as input and adds some functionality(decoration) to and it and returns it.\n",
    "\n",
    "This can happen only because python functions are 1st class citizens.\n",
    "\n",
    "There are 2 types of decorators available in python\n",
    "- `Built in decorators` like `@staticmethod`, `@classmethod`, `@abstractmethod` and `@property` etc\n",
    "- `User defined decorators` that we programmers can create according to our needs"
   ]
  },
  {
   "cell_type": "code",
   "execution_count": null,
   "id": "15f3c47b",
   "metadata": {},
   "outputs": [],
   "source": [
    "# Python are first class citizens\n",
    "def func():\n",
    "    return True\n",
    "a = func()\n",
    "a"
   ]
  },
  {
   "cell_type": "code",
   "execution_count": null,
   "id": "61b26354",
   "metadata": {},
   "outputs": [
    {
     "name": "stdout",
     "output_type": "stream",
     "text": [
      "OOOOOOOOOOOOOOOOOOOOOO\n",
      "Lawdapuri\n",
      "Hello ji\n",
      "LUNDLUNDLUND\n",
      "OOOOOOOOOOOOOOOOOOOOOO\n",
      "Hello ji\n",
      "Lawdapuri\n",
      "LUNDLUNDLUND\n"
     ]
    }
   ],
   "source": [
    "# not the decorator, calling decorator function with two arguments\n",
    "def my_decorator(func, name):\n",
    "    def wrapper():\n",
    "        print(\"OOOOOOOOOOOOOOOOOOOOOO\")\n",
    "        func()\n",
    "        name()\n",
    "        print(\"LUNDLUNDLUND\")\n",
    "    return wrapper\n",
    "def hello():\n",
    "    print(\"Lawdapuri\")\n",
    "def display():\n",
    "    print(\"Hello ji\")\n",
    "a = my_decorator(hello, display)\n",
    "a()\n",
    "b = my_decorator(display, hello) \n",
    "b()"
   ]
  },
  {
   "cell_type": "code",
   "execution_count": 16,
   "id": "5fc14fae",
   "metadata": {},
   "outputs": [
    {
     "name": "stdout",
     "output_type": "stream",
     "text": [
      "OOOOOOOOOOOOOOOOOOOOOO\n",
      "Lawdapuri\n",
      "LUNDLUNDLUND\n",
      "OOOOOOOOOOOOOOOOOOOOOO\n",
      "Hello ji\n",
      "LUNDLUNDLUND\n"
     ]
    }
   ],
   "source": [
    "def my_decorator(func):\n",
    "    def wrapper():\n",
    "        print(\"OOOOOOOOOOOOOOOOOOOOOO\")\n",
    "        func()\n",
    "        print(\"LUNDLUNDLUND\")\n",
    "    return wrapper\n",
    "\n",
    "@my_decorator\n",
    "def hello():\n",
    "    print(\"Lawdapuri\")\n",
    "\n",
    "@my_decorator\n",
    "def display():\n",
    "    print(\"Hello ji\")\n",
    "\n",
    "hello()\n",
    "display()\n"
   ]
  },
  {
   "cell_type": "code",
   "execution_count": null,
   "id": "1531bd75",
   "metadata": {},
   "outputs": [
    {
     "name": "stdout",
     "output_type": "stream",
     "text": [
      "wrapper_function\n",
      "This function displays a message.\n"
     ]
    }
   ],
   "source": [
    "# from functools import wraps\n",
    "# to display the docstring OR use this docstring inside the wrapper function\n",
    "def decorator_function(original_function):\n",
    "    def wrapper_function(*args, **kwargs):\n",
    "        print(\"Wrapper executed before the original function.\")\n",
    "        return original_function(*args, **kwargs)\n",
    "    return wrapper_function\n",
    "\n",
    "@decorator_function\n",
    "def display():\n",
    "    \"\"\"This function displays a message.\"\"\"\n",
    "    print(\"Display function executed.\")\n",
    "\n",
    "print(display.__name__)  # Output: wrapper_function\n",
    "print(display.__doc__)   # Output: None\n",
    "\n"
   ]
  },
  {
   "cell_type": "code",
   "execution_count": 17,
   "id": "cbe51967",
   "metadata": {},
   "outputs": [
    {
     "name": "stdout",
     "output_type": "stream",
     "text": [
      "hello world\n",
      "Time taken is  hello 2.001070976257324 secs\n",
      "Display\n",
      "Time taken is  display 2.000899076461792 secs\n"
     ]
    }
   ],
   "source": [
    "# meaningful decorator\n",
    "import time\n",
    "def time_taken(func):\n",
    "    def wrapper():\n",
    "        start = time.time()\n",
    "        func()\n",
    "        print(\"Time taken is \", func.__name__, time.time()-start,'secs')\n",
    "    return wrapper\n",
    "@time_taken\n",
    "def hello():\n",
    "    print('hello world')\n",
    "    time.sleep(2)\n",
    "    \n",
    "@time_taken\n",
    "def display():\n",
    "    print('Display')\n",
    "    time.sleep(2)\n",
    "\n",
    "hello()\n",
    "display()\n",
    "    \n",
    "    \n",
    "    "
   ]
  },
  {
   "cell_type": "code",
   "execution_count": 19,
   "id": "f78f8783",
   "metadata": {},
   "outputs": [
    {
     "name": "stdout",
     "output_type": "stream",
     "text": [
      "hello world\n",
      "Time taken is  hello 2.00089693069458 secs\n",
      "4\n",
      "Time taken is  square 0.0 secs\n"
     ]
    }
   ],
   "source": [
    "# Multiple arguments\n",
    "import time\n",
    "def time_taken(func):\n",
    "    def wrapper(*args):\n",
    "        start = time.time()\n",
    "        func(*args)\n",
    "        print(\"Time taken is \", func.__name__, time.time()-start,'secs')\n",
    "    return wrapper\n",
    "@time_taken\n",
    "def hello():\n",
    "    print('hello world')\n",
    "    time.sleep(2)\n",
    "    \n",
    "@time_taken\n",
    "def square(num):\n",
    "    print(num**2)\n",
    "\n",
    "hello()\n",
    "square(2)\n",
    "    \n",
    "    \n",
    "    "
   ]
  },
  {
   "cell_type": "code",
   "execution_count": 27,
   "id": "9267cfda",
   "metadata": {},
   "outputs": [
    {
     "name": "stdout",
     "output_type": "stream",
     "text": [
      "4\n",
      "Hello Rahul\n"
     ]
    }
   ],
   "source": [
    "def sanity_check(data_type): # data_type because decorator has its own type as int\n",
    "    def outer_wrapper(func): # outer take data_type\n",
    "        def inner_wrapper(*args): #inner take square\n",
    "            if type(args[0]) == data_type:\n",
    "                func(*args)\n",
    "            else:\n",
    "                print(\"EE na chaulbe\")\n",
    "        return inner_wrapper\n",
    "    return outer_wrapper\n",
    "\n",
    "@sanity_check(int)\n",
    "def square(num):\n",
    "    print(num**2)\n",
    "@sanity_check(str)\n",
    "def greet(name):\n",
    "    print(\"Hello\", name)\n",
    "square(2)\n",
    "greet('Rahul')\n"
   ]
  },
  {
   "cell_type": "code",
   "execution_count": 28,
   "id": "d0f39146",
   "metadata": {},
   "outputs": [
    {
     "name": "stdout",
     "output_type": "stream",
     "text": [
      "Hello, Closure!\n"
     ]
    }
   ],
   "source": [
    "def outer_function(message):\n",
    "    def inner_function():\n",
    "        print(message)\n",
    "    return inner_function\n",
    "\n",
    "# Create a closure\n",
    "my_closure = outer_function(\"Hello, Closure!\")\n",
    "\n",
    "# Call the closure - it still remembers 'message'\n",
    "my_closure()"
   ]
  },
  {
   "cell_type": "markdown",
   "id": "f7756748",
   "metadata": {},
   "source": [
    "#### What is a Iteration\n",
    "- Iteration is a general term for taking each item of something, one after another. Any time you use a loop, explicit or implicit, to go over a group of items, that is iteration."
   ]
  },
  {
   "cell_type": "code",
   "execution_count": 29,
   "id": "4e2bc897",
   "metadata": {},
   "outputs": [
    {
     "name": "stdout",
     "output_type": "stream",
     "text": [
      "1\n",
      "2\n",
      "3\n"
     ]
    }
   ],
   "source": [
    "# Example\n",
    "num = [1,2,3]\n",
    "\n",
    "for i in num:\n",
    "    print(i)"
   ]
  },
  {
   "cell_type": "markdown",
   "id": "d1e7423b",
   "metadata": {},
   "source": [
    "#### Iterator\n",
    "- An Iterator is an object that allows the programmer to traverse through a sequence of data without having to store the entire data in the memory"
   ]
  },
  {
   "cell_type": "code",
   "execution_count": null,
   "id": "fe2329a9",
   "metadata": {},
   "outputs": [
    {
     "name": "stdout",
     "output_type": "stream",
     "text": [
      "83.1796875\n",
      "0.046875\n"
     ]
    }
   ],
   "source": [
    "# Example\n",
    "L = [x for x in range(1,10000)] # Iterable but not Iterator because it store in memory\n",
    "\n",
    "#for i in L:\n",
    "    #print(i*2)\n",
    "    \n",
    "import sys\n",
    "\n",
    "print(sys.getsizeof(L)/1024)\n",
    "\n",
    "x = range(1,10000000000)\n",
    "\n",
    "#for i in x:\n",
    "    #print(i*2)\n",
    "    \n",
    "print(sys.getsizeof(x)/1024)"
   ]
  },
  {
   "cell_type": "markdown",
   "id": "a4938ca6",
   "metadata": {},
   "source": [
    "#### What is Iterable\n",
    "\n",
    "- Iterable is an object, which one can iterate over\n",
    "\n",
    "- It generates an Iterator when passed to iter() method."
   ]
  },
  {
   "cell_type": "code",
   "execution_count": 32,
   "id": "fd881691",
   "metadata": {},
   "outputs": [
    {
     "data": {
      "text/plain": [
       "list_iterator"
      ]
     },
     "execution_count": 32,
     "metadata": {},
     "output_type": "execute_result"
    }
   ],
   "source": [
    "# Example\n",
    "\n",
    "L = [1,2,3]\n",
    "type(L)\n",
    "\n",
    "\n",
    "# L is an iterable\n",
    "type(iter(L))\n",
    "\n",
    "# iter(L) --> iterator"
   ]
  },
  {
   "cell_type": "markdown",
   "id": "60f40f35",
   "metadata": {},
   "source": [
    "#### Point to remember\n",
    "- Every Iterator is also and Iterable\n",
    "- Not all Iterables are Iterators"
   ]
  },
  {
   "cell_type": "markdown",
   "id": "0b433010",
   "metadata": {},
   "source": [
    "#### Trick\n",
    "- Every Iterable has an iter function\n",
    "- Every Iterator has both iter function as well as a next function"
   ]
  },
  {
   "cell_type": "code",
   "execution_count": 33,
   "id": "c4c2cd8b",
   "metadata": {},
   "outputs": [
    {
     "data": {
      "text/plain": [
       "['__abs__',\n",
       " '__add__',\n",
       " '__and__',\n",
       " '__bool__',\n",
       " '__ceil__',\n",
       " '__class__',\n",
       " '__delattr__',\n",
       " '__dir__',\n",
       " '__divmod__',\n",
       " '__doc__',\n",
       " '__eq__',\n",
       " '__float__',\n",
       " '__floor__',\n",
       " '__floordiv__',\n",
       " '__format__',\n",
       " '__ge__',\n",
       " '__getattribute__',\n",
       " '__getnewargs__',\n",
       " '__getstate__',\n",
       " '__gt__',\n",
       " '__hash__',\n",
       " '__index__',\n",
       " '__init__',\n",
       " '__init_subclass__',\n",
       " '__int__',\n",
       " '__invert__',\n",
       " '__le__',\n",
       " '__lshift__',\n",
       " '__lt__',\n",
       " '__mod__',\n",
       " '__mul__',\n",
       " '__ne__',\n",
       " '__neg__',\n",
       " '__new__',\n",
       " '__or__',\n",
       " '__pos__',\n",
       " '__pow__',\n",
       " '__radd__',\n",
       " '__rand__',\n",
       " '__rdivmod__',\n",
       " '__reduce__',\n",
       " '__reduce_ex__',\n",
       " '__repr__',\n",
       " '__rfloordiv__',\n",
       " '__rlshift__',\n",
       " '__rmod__',\n",
       " '__rmul__',\n",
       " '__ror__',\n",
       " '__round__',\n",
       " '__rpow__',\n",
       " '__rrshift__',\n",
       " '__rshift__',\n",
       " '__rsub__',\n",
       " '__rtruediv__',\n",
       " '__rxor__',\n",
       " '__setattr__',\n",
       " '__sizeof__',\n",
       " '__str__',\n",
       " '__sub__',\n",
       " '__subclasshook__',\n",
       " '__truediv__',\n",
       " '__trunc__',\n",
       " '__xor__',\n",
       " 'as_integer_ratio',\n",
       " 'bit_count',\n",
       " 'bit_length',\n",
       " 'conjugate',\n",
       " 'denominator',\n",
       " 'from_bytes',\n",
       " 'imag',\n",
       " 'is_integer',\n",
       " 'numerator',\n",
       " 'real',\n",
       " 'to_bytes']"
      ]
     },
     "execution_count": 33,
     "metadata": {},
     "output_type": "execute_result"
    }
   ],
   "source": [
    "a = 2\n",
    "a\n",
    "\n",
    "#for i in a:\n",
    "    #print(i)\n",
    "    \n",
    "dir(a)"
   ]
  },
  {
   "cell_type": "code",
   "execution_count": 34,
   "id": "c9aca4bd",
   "metadata": {},
   "outputs": [
    {
     "data": {
      "text/plain": [
       "['__class__',\n",
       " '__class_getitem__',\n",
       " '__contains__',\n",
       " '__delattr__',\n",
       " '__delitem__',\n",
       " '__dir__',\n",
       " '__doc__',\n",
       " '__eq__',\n",
       " '__format__',\n",
       " '__ge__',\n",
       " '__getattribute__',\n",
       " '__getitem__',\n",
       " '__getstate__',\n",
       " '__gt__',\n",
       " '__hash__',\n",
       " '__init__',\n",
       " '__init_subclass__',\n",
       " '__ior__',\n",
       " '__iter__',\n",
       " '__le__',\n",
       " '__len__',\n",
       " '__lt__',\n",
       " '__ne__',\n",
       " '__new__',\n",
       " '__or__',\n",
       " '__reduce__',\n",
       " '__reduce_ex__',\n",
       " '__repr__',\n",
       " '__reversed__',\n",
       " '__ror__',\n",
       " '__setattr__',\n",
       " '__setitem__',\n",
       " '__sizeof__',\n",
       " '__str__',\n",
       " '__subclasshook__',\n",
       " 'clear',\n",
       " 'copy',\n",
       " 'fromkeys',\n",
       " 'get',\n",
       " 'items',\n",
       " 'keys',\n",
       " 'pop',\n",
       " 'popitem',\n",
       " 'setdefault',\n",
       " 'update',\n",
       " 'values']"
      ]
     },
     "execution_count": 34,
     "metadata": {},
     "output_type": "execute_result"
    }
   ],
   "source": [
    "T = {1:2,3:4}\n",
    "dir(T)"
   ]
  },
  {
   "cell_type": "markdown",
   "id": "cecaad02",
   "metadata": {},
   "source": [
    "#### For iterator"
   ]
  },
  {
   "cell_type": "code",
   "execution_count": 38,
   "id": "5e50f989",
   "metadata": {},
   "outputs": [
    {
     "data": {
      "text/plain": [
       "['__class__',\n",
       " '__delattr__',\n",
       " '__dir__',\n",
       " '__doc__',\n",
       " '__eq__',\n",
       " '__format__',\n",
       " '__ge__',\n",
       " '__getattribute__',\n",
       " '__getstate__',\n",
       " '__gt__',\n",
       " '__hash__',\n",
       " '__init__',\n",
       " '__init_subclass__',\n",
       " '__iter__',\n",
       " '__le__',\n",
       " '__length_hint__',\n",
       " '__lt__',\n",
       " '__ne__',\n",
       " '__new__',\n",
       " '__next__',\n",
       " '__reduce__',\n",
       " '__reduce_ex__',\n",
       " '__repr__',\n",
       " '__setattr__',\n",
       " '__setstate__',\n",
       " '__sizeof__',\n",
       " '__str__',\n",
       " '__subclasshook__']"
      ]
     },
     "execution_count": 38,
     "metadata": {},
     "output_type": "execute_result"
    }
   ],
   "source": [
    "L = [1,2,3]\n",
    "dir(L) # not iterator, because no __next__ available\n",
    "# L is not an iterator\n",
    "\n",
    "\n",
    "# iter() method is used to generate the iterable of a iterator \n",
    "iter_L = iter(L)\n",
    "# iter_L is an iterator\n",
    "# __iter__ and __next__ both available\n",
    "dir(iter_L) "
   ]
  },
  {
   "cell_type": "code",
   "execution_count": null,
   "id": "86cec74e",
   "metadata": {},
   "outputs": [],
   "source": [
    "# Create own range fun\n",
    "# iterable\n",
    "class mera_range:\n",
    "    \n",
    "    def __init__(self,start,end):\n",
    "        self.start = start\n",
    "        self.end = end\n",
    "        \n",
    "    def __iter__(self):\n",
    "        return mera_iterator(self)\n",
    "    \n",
    "\n",
    "# iterator\n",
    "class mera_iterator:\n",
    "    \n",
    "    def __init__(self,iterable_obj):\n",
    "        self.iterable = iterable_obj\n",
    "    \n",
    "    def __iter__(self):\n",
    "        return self\n",
    "    \n",
    "    def __next__(self):\n",
    "        \n",
    "        if self.iterable.start >= self.iterable.end:\n",
    "            raise StopIteration\n",
    "        \n",
    "        current = self.iterable.start\n",
    "        self.iterable.start+=1\n",
    "        return current"
   ]
  },
  {
   "cell_type": "markdown",
   "id": "a99d642b",
   "metadata": {},
   "source": [
    "## Generator\n",
    "- Python generator are simple way to create iterators.\n",
    "- Generator function don't have return, however have `yield`"
   ]
  },
  {
   "cell_type": "markdown",
   "id": "604c8256",
   "metadata": {},
   "source": [
    "#### The why?\n"
   ]
  },
  {
   "cell_type": "code",
   "execution_count": 39,
   "id": "fc99c501",
   "metadata": {},
   "outputs": [
    {
     "data": {
      "text/plain": [
       "48"
      ]
     },
     "execution_count": 39,
     "metadata": {},
     "output_type": "execute_result"
    }
   ],
   "source": [
    "L = [x for x in range(100000)]\n",
    "\n",
    "#for i in L:\n",
    "    #print(i**2)\n",
    "    \n",
    "import sys\n",
    "sys.getsizeof(L)\n",
    "\n",
    "x = range(10000000)\n",
    "\n",
    "#for i in x:\n",
    "    #print(i**2)\n",
    "sys.getsizeof(x)"
   ]
  },
  {
   "cell_type": "markdown",
   "id": "53a8ce28",
   "metadata": {},
   "source": [
    "#### Simple example"
   ]
  },
  {
   "cell_type": "code",
   "execution_count": 42,
   "id": "cd2a5c9e",
   "metadata": {},
   "outputs": [],
   "source": [
    "def gen_demo():\n",
    "    yield 'first statement'\n",
    "    yield 'Second statement'\n",
    "    yield 'Third statement'\n",
    "    "
   ]
  },
  {
   "cell_type": "code",
   "execution_count": 45,
   "id": "ac7b339b",
   "metadata": {},
   "outputs": [
    {
     "name": "stdout",
     "output_type": "stream",
     "text": [
      "first statement\n"
     ]
    }
   ],
   "source": [
    "gen = gen_demo()\n",
    "print(next(gen))"
   ]
  },
  {
   "cell_type": "markdown",
   "id": "dfd3b64d",
   "metadata": {},
   "source": [
    "### Practice Questions"
   ]
  },
  {
   "cell_type": "markdown",
   "id": "4e9e59fd",
   "metadata": {},
   "source": [
    "##### `Problem 1` - Print the following pattern. Write a program to use for loop to print the following reverse number pattern.\n",
    "\n",
    "```bash\n",
    "5 4 3 2 1\n",
    "4 3 2 1\n",
    "3 2 1\n",
    "2 1\n",
    "1\n",
    "```"
   ]
  },
  {
   "cell_type": "code",
   "execution_count": 62,
   "id": "6fabd3fa",
   "metadata": {},
   "outputs": [
    {
     "name": "stdout",
     "output_type": "stream",
     "text": [
      "5 4 3 2 1 \n",
      "4 3 2 1 \n",
      "3 2 1 \n",
      "2 1 \n",
      "1 \n"
     ]
    }
   ],
   "source": [
    "for i in range(1,6):\n",
    "    for j in range(6-i,0,-1):\n",
    "        \n",
    "        print(j, end=' ')\n",
    "    print()"
   ]
  },
  {
   "cell_type": "markdown",
   "id": "5e23d1bc",
   "metadata": {},
   "source": [
    "##### `Problem 2`: Print the following pattern.\n",
    "\n",
    "```bash\n",
    "*\n",
    "* *\n",
    "* * *\n",
    "* * * *\n",
    "* * * * *\n",
    "* * * *\n",
    "* * *\n",
    "* *\n",
    "*\n",
    "```"
   ]
  },
  {
   "cell_type": "code",
   "execution_count": 79,
   "id": "75b81658",
   "metadata": {},
   "outputs": [
    {
     "name": "stdout",
     "output_type": "stream",
     "text": [
      "* \n",
      "* * \n",
      "* * * \n",
      "* * * * \n",
      "* * * * * \n",
      "* * * * \n",
      "* * * \n",
      "* * \n",
      "* \n",
      "\n"
     ]
    }
   ],
   "source": [
    "rows = int(input(\"Enter no of rows: \"))\n",
    "for i in range(1,rows+1):\n",
    "    for j in range(0,i):\n",
    "        print('*', end=' ')\n",
    "    print()\n",
    "for i in range(1,rows+1):\n",
    "    for j in range(rows-i,0,-1):\n",
    "        print('*', end=' ')\n",
    "    print()"
   ]
  },
  {
   "cell_type": "markdown",
   "id": "ea089cce",
   "metadata": {},
   "source": [
    "##### `Problem 3`:Write a program to pring the following pattern\n",
    "\n",
    "        *\n",
    "      * * *\n",
    "    * * * * *\n",
    "   * * * * * * *\n",
    "* * * * * * * * *\n"
   ]
  },
  {
   "cell_type": "code",
   "execution_count": 88,
   "id": "cd4a7c2e",
   "metadata": {},
   "outputs": [
    {
     "name": "stdout",
     "output_type": "stream",
     "text": [
      "     * \n",
      "    * * \n",
      "   * * * \n",
      "  * * * * \n"
     ]
    }
   ],
   "source": [
    "rows = 4\n",
    "for i in range(1,rows+1):\n",
    "    print(\" \"*rows, end=' ')\n",
    "    print('* '*i)\n",
    "    rows = rows-1\n",
    "    "
   ]
  },
  {
   "cell_type": "markdown",
   "id": "a4afbfb6",
   "metadata": {},
   "source": [
    "### `Problem 4`:Write a program to print the following pattern\n",
    "\n",
    "1\n",
    "\n",
    "2 1\n",
    "\n",
    "3 2 1\n",
    "\n",
    "4 3 2 1\n",
    "\n",
    "5 4 3 2 1"
   ]
  },
  {
   "cell_type": "code",
   "execution_count": 95,
   "id": "a665be7d",
   "metadata": {},
   "outputs": [
    {
     "name": "stdout",
     "output_type": "stream",
     "text": [
      "1 \n",
      "2 1 \n",
      "3 2 1 \n",
      "4 3 2 1 \n",
      "5 4 3 2 1 \n"
     ]
    }
   ],
   "source": [
    "n = 6\n",
    "for i in range(1,6):\n",
    "    for j in range(i,0,-1):\n",
    "        print(j, end=' ')\n",
    "    print()"
   ]
  },
  {
   "cell_type": "markdown",
   "id": "2c1e8753",
   "metadata": {},
   "source": [
    "##### `Problem 5`: Write a Python Program to Find the Sum of the Series till the nth term:<br>\n",
    "1 + x^2/2 + x^3/3 + … x^n/n<br>\n",
    "n will be provided by the user"
   ]
  },
  {
   "cell_type": "code",
   "execution_count": null,
   "id": "0df3fc79",
   "metadata": {},
   "outputs": [
    {
     "name": "stdout",
     "output_type": "stream",
     "text": [
      "1 + x^2/2 +x^3/3 +x^4/4 +x^5/5 \n",
      "22884.333333333332\n"
     ]
    }
   ],
   "source": [
    "x = int(input(\"Enter the value of x: \"))\n",
    "n = int(input(\"Enter the no of  term: \"))\n",
    "sum = 1\n",
    "s = ''\n",
    "print('1 + ', end ='')\n",
    "for i in range(2,n+1):\n",
    "    sum = sum + x**i/i\n",
    "    s = s+ f\"x^{i}/{i} + \"\n",
    "print(s[:-1])\n",
    "print(sum)    "
   ]
  },
  {
   "cell_type": "markdown",
   "id": "0707eb57",
   "metadata": {},
   "source": [
    "##### `Problem 6`: The natural logarithm can be approximated by the following series.\n",
    "If x is input through the keyboard, write a program to calculate the sum of the first seven terms of this series.\n"
   ]
  },
  {
   "cell_type": "code",
   "execution_count": 107,
   "id": "9c5a0ab9",
   "metadata": {},
   "outputs": [
    {
     "name": "stdout",
     "output_type": "stream",
     "text": [
      "x^2/2 +x^3/3 +x^4/4 +x^5/5 +(1/1)*((x-i)/x)^1 + (1/2)*((x-i)/x)^2 + (1/3)*((x-i)/x)^3 + (1/4)*((x-i)/x)^4 + (1/5)*((x-i)/x)^5 + (1/6)*((x-i)/x)^6 + (1/7)*((x-i)/x)^7 +\n",
      "1.3736972428571432\n"
     ]
    }
   ],
   "source": [
    "x = int(input(\"Enter the value of x: \"))\n",
    "n = 7\n",
    "sum = 0\n",
    "if x ==0:\n",
    "    print('Output is infinite')\n",
    "else:\n",
    "    for i in range(1,8):\n",
    "        sum = sum+ (1/i)*((x-i)/x)**i\n",
    "print(s[:-1])\n",
    "print(sum) "
   ]
  },
  {
   "cell_type": "markdown",
   "id": "291beb73",
   "metadata": {},
   "source": [
    "##### `Problem 7` - Find the sum of the series upto n terms.\n",
    "Write a program to calculate the sum of series up to n term. For example, if n =5 the series will become 2 + 22 + 222 + 2222 + 22222 = 24690. Take the user input and then calculate. And the output style should match which is given in the example.\n",
    "\n",
    "**Example 1:**\n",
    "\n",
    "`Input:`\n",
    "```bash\n",
    "5\n",
    "```\n",
    "\n",
    "`Output:`\n",
    "\n",
    "```bash\n",
    "2+22+222+2222+22222\n",
    "Sum of above series is: 24690\n",
    "```"
   ]
  },
  {
   "cell_type": "code",
   "execution_count": null,
   "id": "6e6a3ebb",
   "metadata": {},
   "outputs": [
    {
     "name": "stdout",
     "output_type": "stream",
     "text": [
      "2+22+222+2222+22222\n",
      "24690\n"
     ]
    }
   ],
   "source": [
    "n = int(input(\"Enter the no of terms: \"))\n",
    "start = 2\n",
    "sum = 0 \n",
    "for i in range(0,n):\n",
    "    if i < n-1:\n",
    "        print(start, end='+')\n",
    "    else:\n",
    "         print(start)\n",
    "    sum = sum+start\n",
    "    start = start * 10 +2\n",
    "print(sum)"
   ]
  },
  {
   "cell_type": "markdown",
   "id": "6e9c6310",
   "metadata": {},
   "source": [
    "###### Problem 8: Write a program to print all the unique combinations of 1,2,3 and 4\n",
    "\n",
    "`Output`:\n",
    "```\n",
    "1 2 3 4\n",
    "1 2 4 3\n",
    "1 3 2 4\n",
    "1 3 4 2\n",
    "1 4 2 3\n",
    "1 4 3 2\n",
    "2 1 3 4\n",
    "2 1 4 3\n",
    "2 3 1 4\n",
    "2 3 4 1\n",
    "2 4 1 3\n",
    ".\n",
    ".\n",
    "and so on\n",
    "```"
   ]
  },
  {
   "cell_type": "code",
   "execution_count": 108,
   "id": "1ef82bb3",
   "metadata": {},
   "outputs": [
    {
     "name": "stdout",
     "output_type": "stream",
     "text": [
      "1 1 1 1\n",
      "1 1 1 2\n",
      "1 1 1 3\n",
      "1 1 1 4\n",
      "1 1 2 1\n",
      "1 1 2 2\n",
      "1 1 2 3\n",
      "1 1 2 4\n",
      "1 1 3 1\n",
      "1 1 3 2\n",
      "1 1 3 3\n",
      "1 1 3 4\n",
      "1 1 4 1\n",
      "1 1 4 2\n",
      "1 1 4 3\n",
      "1 1 4 4\n",
      "1 1 1 1\n",
      "1 1 1 2\n",
      "1 1 1 3\n",
      "1 1 1 4\n",
      "1 1 2 1\n",
      "1 1 2 2\n",
      "1 1 2 3\n",
      "1 1 2 4\n",
      "1 1 3 1\n",
      "1 1 3 2\n",
      "1 1 3 3\n",
      "1 1 3 4\n",
      "1 1 4 1\n",
      "1 1 4 2\n",
      "1 1 4 3\n",
      "1 1 4 4\n",
      "1 1 1 1\n",
      "1 1 1 2\n",
      "1 1 1 3\n",
      "1 1 1 4\n",
      "1 1 2 1\n",
      "1 1 2 2\n",
      "1 1 2 3\n",
      "1 1 2 4\n",
      "1 1 3 1\n",
      "1 1 3 2\n",
      "1 1 3 3\n",
      "1 1 3 4\n",
      "1 1 4 1\n",
      "1 1 4 2\n",
      "1 1 4 3\n",
      "1 1 4 4\n",
      "1 1 1 1\n",
      "1 1 1 2\n",
      "1 1 1 3\n",
      "1 1 1 4\n",
      "1 1 2 1\n",
      "1 1 2 2\n",
      "1 1 2 3\n",
      "1 1 2 4\n",
      "1 1 3 1\n",
      "1 1 3 2\n",
      "1 1 3 3\n",
      "1 1 3 4\n",
      "1 1 4 1\n",
      "1 1 4 2\n",
      "1 1 4 3\n",
      "1 1 4 4\n",
      "2 1 1 1\n",
      "2 1 1 2\n",
      "2 1 1 3\n",
      "2 1 1 4\n",
      "2 1 2 1\n",
      "2 1 2 2\n",
      "2 1 2 3\n",
      "2 1 2 4\n",
      "2 1 3 1\n",
      "2 1 3 2\n",
      "2 1 3 3\n",
      "2 1 3 4\n",
      "2 1 4 1\n",
      "2 1 4 2\n",
      "2 1 4 3\n",
      "2 1 4 4\n",
      "2 1 1 1\n",
      "2 1 1 2\n",
      "2 1 1 3\n",
      "2 1 1 4\n",
      "2 1 2 1\n",
      "2 1 2 2\n",
      "2 1 2 3\n",
      "2 1 2 4\n",
      "2 1 3 1\n",
      "2 1 3 2\n",
      "2 1 3 3\n",
      "2 1 3 4\n",
      "2 1 4 1\n",
      "2 1 4 2\n",
      "2 1 4 3\n",
      "2 1 4 4\n",
      "2 1 1 1\n",
      "2 1 1 2\n",
      "2 1 1 3\n",
      "2 1 1 4\n",
      "2 1 2 1\n",
      "2 1 2 2\n",
      "2 1 2 3\n",
      "2 1 2 4\n",
      "2 1 3 1\n",
      "2 1 3 2\n",
      "2 1 3 3\n",
      "2 1 3 4\n",
      "2 1 4 1\n",
      "2 1 4 2\n",
      "2 1 4 3\n",
      "2 1 4 4\n",
      "2 1 1 1\n",
      "2 1 1 2\n",
      "2 1 1 3\n",
      "2 1 1 4\n",
      "2 1 2 1\n",
      "2 1 2 2\n",
      "2 1 2 3\n",
      "2 1 2 4\n",
      "2 1 3 1\n",
      "2 1 3 2\n",
      "2 1 3 3\n",
      "2 1 3 4\n",
      "2 1 4 1\n",
      "2 1 4 2\n",
      "2 1 4 3\n",
      "2 1 4 4\n",
      "3 1 1 1\n",
      "3 1 1 2\n",
      "3 1 1 3\n",
      "3 1 1 4\n",
      "3 1 2 1\n",
      "3 1 2 2\n",
      "3 1 2 3\n",
      "3 1 2 4\n",
      "3 1 3 1\n",
      "3 1 3 2\n",
      "3 1 3 3\n",
      "3 1 3 4\n",
      "3 1 4 1\n",
      "3 1 4 2\n",
      "3 1 4 3\n",
      "3 1 4 4\n",
      "3 1 1 1\n",
      "3 1 1 2\n",
      "3 1 1 3\n",
      "3 1 1 4\n",
      "3 1 2 1\n",
      "3 1 2 2\n",
      "3 1 2 3\n",
      "3 1 2 4\n",
      "3 1 3 1\n",
      "3 1 3 2\n",
      "3 1 3 3\n",
      "3 1 3 4\n",
      "3 1 4 1\n",
      "3 1 4 2\n",
      "3 1 4 3\n",
      "3 1 4 4\n",
      "3 1 1 1\n",
      "3 1 1 2\n",
      "3 1 1 3\n",
      "3 1 1 4\n",
      "3 1 2 1\n",
      "3 1 2 2\n",
      "3 1 2 3\n",
      "3 1 2 4\n",
      "3 1 3 1\n",
      "3 1 3 2\n",
      "3 1 3 3\n",
      "3 1 3 4\n",
      "3 1 4 1\n",
      "3 1 4 2\n",
      "3 1 4 3\n",
      "3 1 4 4\n",
      "3 1 1 1\n",
      "3 1 1 2\n",
      "3 1 1 3\n",
      "3 1 1 4\n",
      "3 1 2 1\n",
      "3 1 2 2\n",
      "3 1 2 3\n",
      "3 1 2 4\n",
      "3 1 3 1\n",
      "3 1 3 2\n",
      "3 1 3 3\n",
      "3 1 3 4\n",
      "3 1 4 1\n",
      "3 1 4 2\n",
      "3 1 4 3\n",
      "3 1 4 4\n",
      "4 1 1 1\n",
      "4 1 1 2\n",
      "4 1 1 3\n",
      "4 1 1 4\n",
      "4 1 2 1\n",
      "4 1 2 2\n",
      "4 1 2 3\n",
      "4 1 2 4\n",
      "4 1 3 1\n",
      "4 1 3 2\n",
      "4 1 3 3\n",
      "4 1 3 4\n",
      "4 1 4 1\n",
      "4 1 4 2\n",
      "4 1 4 3\n",
      "4 1 4 4\n",
      "4 1 1 1\n",
      "4 1 1 2\n",
      "4 1 1 3\n",
      "4 1 1 4\n",
      "4 1 2 1\n",
      "4 1 2 2\n",
      "4 1 2 3\n",
      "4 1 2 4\n",
      "4 1 3 1\n",
      "4 1 3 2\n",
      "4 1 3 3\n",
      "4 1 3 4\n",
      "4 1 4 1\n",
      "4 1 4 2\n",
      "4 1 4 3\n",
      "4 1 4 4\n",
      "4 1 1 1\n",
      "4 1 1 2\n",
      "4 1 1 3\n",
      "4 1 1 4\n",
      "4 1 2 1\n",
      "4 1 2 2\n",
      "4 1 2 3\n",
      "4 1 2 4\n",
      "4 1 3 1\n",
      "4 1 3 2\n",
      "4 1 3 3\n",
      "4 1 3 4\n",
      "4 1 4 1\n",
      "4 1 4 2\n",
      "4 1 4 3\n",
      "4 1 4 4\n",
      "4 1 1 1\n",
      "4 1 1 2\n",
      "4 1 1 3\n",
      "4 1 1 4\n",
      "4 1 2 1\n",
      "4 1 2 2\n",
      "4 1 2 3\n",
      "4 1 2 4\n",
      "4 1 3 1\n",
      "4 1 3 2\n",
      "4 1 3 3\n",
      "4 1 3 4\n",
      "4 1 4 1\n",
      "4 1 4 2\n",
      "4 1 4 3\n",
      "4 1 4 4\n"
     ]
    }
   ],
   "source": [
    "for i in range(1,5):\n",
    "    for k in range(1,5):\n",
    "       for m in range(1,5):\n",
    "            for l in range(1,5):\n",
    "                print(i,j,m,l)\n",
    "        "
   ]
  },
  {
   "cell_type": "markdown",
   "id": "06c0d6b1",
   "metadata": {},
   "source": [
    "##### `Problem 9`: Write a program that will take a decimal number as input and prints out the binary equivalent of the number"
   ]
  },
  {
   "cell_type": "code",
   "execution_count": 109,
   "id": "e9467e72",
   "metadata": {},
   "outputs": [
    {
     "name": "stdout",
     "output_type": "stream",
     "text": [
      "8 [1]\n",
      "4 [1, 0]\n",
      "2 [1, 0, 0]\n",
      "1 [1, 0, 0, 0]\n",
      "0 [1, 0, 0, 0, 1]\n",
      "[1, 0, 0, 0, 1]\n"
     ]
    }
   ],
   "source": [
    "n = int(input(\"Enter the no\"))\n",
    "binary=[]\n",
    "while n>0:\n",
    "    binary.append(n%2)\n",
    "    n = n//2\n",
    "    print(n,binary)\n",
    "print(binary)"
   ]
  },
  {
   "cell_type": "code",
   "execution_count": 111,
   "id": "99b36c07",
   "metadata": {},
   "outputs": [
    {
     "name": "stdout",
     "output_type": "stream",
     "text": [
      "[1, 0, 0, 1, 0]\n"
     ]
    }
   ],
   "source": [
    "n = int(input())\n",
    "binary = []\n",
    "while n > 0:\n",
    "    binary.append(n % 2)\n",
    "    n = n // 2\n",
    "print(binary[::-1])   \n"
   ]
  },
  {
   "cell_type": "code",
   "execution_count": 113,
   "id": "f3b70388",
   "metadata": {},
   "outputs": [
    {
     "name": "stdout",
     "output_type": "stream",
     "text": [
      "48\n"
     ]
    }
   ],
   "source": [
    "# Write a program that will take 2 numbers as input and prints the LCM and HCF of those 2 numbers\n",
    "x = int(input(\"1st no\"))\n",
    "y = int(input('2nd no'))\n",
    "\n",
    "if x>y:\n",
    "    greater = x\n",
    "else: \n",
    "    greater = y\n",
    "\n",
    "while True:\n",
    "    if (greater%x==0) and (greater%y==0):\n",
    "        lcm = greater\n",
    "        break\n",
    "    greater = greater+1\n",
    "print(lcm)\n",
    "    "
   ]
  },
  {
   "cell_type": "code",
   "execution_count": 116,
   "id": "9a936092",
   "metadata": {},
   "outputs": [
    {
     "name": "stdout",
     "output_type": "stream",
     "text": [
      "12\n"
     ]
    }
   ],
   "source": [
    "x = int(input(\"1st no\"))\n",
    "y = int(input('2nd no'))\n",
    "\n",
    "if x<y:\n",
    "    smaller = x\n",
    "else:\n",
    "    smaller = y\n",
    "for i in range(1,smaller+1):\n",
    "    if (x%i==0) and (y%i==0):\n",
    "        hcf = i\n",
    "print(i)\n",
    "    "
   ]
  },
  {
   "cell_type": "markdown",
   "id": "ee9182c6",
   "metadata": {},
   "source": [
    "##### **Problem 11:** Create Short Form from initial character\n",
    "Given a string create short form ofthe string from Initial character. Short form should be capitalised.\n",
    "\n",
    "Example:\n",
    "\n",
    "`Input:`\n",
    "```\n",
    "Data science mentorship program\n",
    "```\n",
    "\n",
    "`Output:`\n",
    "```\n",
    "DSMP"
   ]
  },
  {
   "cell_type": "code",
   "execution_count": 122,
   "id": "19255828",
   "metadata": {},
   "outputs": [
    {
     "name": "stdout",
     "output_type": "stream",
     "text": [
      "DSMP\n"
     ]
    }
   ],
   "source": [
    "s = \"Data science mentorship program\".split()\n",
    "res = ''.join(word[0].upper() for word in s)\n",
    "print(res)\n",
    "\n"
   ]
  },
  {
   "cell_type": "code",
   "execution_count": 123,
   "id": "dfff75bc",
   "metadata": {},
   "outputs": [
    {
     "name": "stdout",
     "output_type": "stream",
     "text": [
      "DSMP\n"
     ]
    }
   ],
   "source": [
    "inp = \"Data science mentorship program\"\n",
    "res = ''\n",
    "for i in inp.split():\n",
    "    res = res + i[0].upper()\n",
    "print(res)"
   ]
  },
  {
   "cell_type": "markdown",
   "id": "8c6cd319",
   "metadata": {},
   "source": [
    "###`Problem 12`: Append second string in the middle of first string\n",
    "\n",
    "`Input:`\n",
    "```\n",
    "campusx\n",
    "data\n",
    "```\n",
    "`Output`:\n",
    "\n",
    "```\n",
    "camdatapusx\n",
    "```"
   ]
  },
  {
   "cell_type": "code",
   "execution_count": 124,
   "id": "36cf5600",
   "metadata": {},
   "outputs": [
    {
     "name": "stdout",
     "output_type": "stream",
     "text": [
      "camdatapusx\n"
     ]
    }
   ],
   "source": [
    "str1 = 'campusx'\n",
    "str2 = 'data'\n",
    "print(str1[0:int(len(str1)/2)] + str2 + str1[int(len(str1)/2):])"
   ]
  },
  {
   "cell_type": "markdown",
   "id": "8e278d3f",
   "metadata": {},
   "source": [
    "##### ``Problem 13``:Given string contains a combination of the lower and upper case letters. Write a program to arrange the characters of a string so that all lowercase letters should come first.\n",
    "\n",
    "Given:\n",
    "\n",
    "`str1 = PyNaTive`\n",
    "\n",
    "Expected Output:\n",
    "\n",
    "`yaivePNT`"
   ]
  },
  {
   "cell_type": "code",
   "execution_count": 126,
   "id": "3f92a9b1",
   "metadata": {},
   "outputs": [
    {
     "name": "stdout",
     "output_type": "stream",
     "text": [
      "yaivePNT\n"
     ]
    }
   ],
   "source": [
    "str1 = 'PyNaTive'\n",
    "new_str1 = ''   # lowercase letters\n",
    "new_str2 = ''   # uppercase letters\n",
    "\n",
    "for i in str1:\n",
    "    if i.islower():\n",
    "        new_str1 += i\n",
    "    else:\n",
    "        new_str2 += i\n",
    "\n",
    "print(new_str1 + new_str2)\n"
   ]
  },
  {
   "cell_type": "markdown",
   "id": "3db69182",
   "metadata": {},
   "source": [
    "#### Take a alphanumeric string input and print the sum and average of the digits that appear in the string, ignoring all other characters.\n",
    "\n",
    "Input:\n",
    "\n",
    "`hel123O4every093`\n",
    "\n",
    "Output:\n",
    "\n",
    "```\n",
    "Sum: 22\n",
    "Avg: 2.75\n",
    "```"
   ]
  },
  {
   "cell_type": "code",
   "execution_count": null,
   "id": "6afeb608",
   "metadata": {},
   "outputs": [
    {
     "name": "stdout",
     "output_type": "stream",
     "text": [
      "22\n",
      "3.142857142857143\n"
     ]
    }
   ],
   "source": [
    "alpnum = input(\"Enter the alphanumeric character\")\n",
    "sum = 0\n",
    "counter = 0\n",
    "for i in alpnum:\n",
    "    if i.isdigit():\n",
    "        sum = sum+ int(i)\n",
    "        counter = counter + 1\n",
    "print(sum)\n",
    "print(sum/counter)\n",
    "print(counter)\n"
   ]
  },
  {
   "cell_type": "markdown",
   "id": "8ad33b63",
   "metadata": {},
   "source": [
    "###### `Problem 15:` Removal of all characters from a string except integers\n",
    "`Given:`\n",
    "\n",
    "```\n",
    "str1 = 'I am 25 years and 10 months old'\n",
    "```\n",
    "`Expected Output:`\n",
    "```\n",
    "2510\n",
    "```"
   ]
  },
  {
   "cell_type": "code",
   "execution_count": 135,
   "id": "c1401b95",
   "metadata": {},
   "outputs": [
    {
     "name": "stdout",
     "output_type": "stream",
     "text": [
      "2510\n"
     ]
    }
   ],
   "source": [
    "str1 = 'I am 25 years and 10 months old'\n",
    "res = ''\n",
    "for i in str1:\n",
    "    if i.isdigit():\n",
    "        res = res+ i\n",
    "print(res)"
   ]
  },
  {
   "cell_type": "markdown",
   "id": "1a45895d",
   "metadata": {},
   "source": [
    "##### `Problem 16`: Check whether the string is Symmetrical.\n",
    "\n",
    "**Statement:** Given a string. the task is to check if the string is symmetrical or not. A string is said to be symmetrical if both the halves of the string are the same.\n",
    "\n",
    "**Example 1:**\n",
    "\n",
    "`Input`\n",
    "\n",
    "```bash\n",
    "khokho\n",
    "```\n",
    "\n",
    "`Output`\n",
    "\n",
    "```bash\n",
    "The entered string is symmetrical\n",
    "```"
   ]
  },
  {
   "cell_type": "code",
   "execution_count": 144,
   "id": "2e2bd7c2",
   "metadata": {},
   "outputs": [
    {
     "name": "stdout",
     "output_type": "stream",
     "text": [
      "Symmetric (equal halves)\n"
     ]
    }
   ],
   "source": [
    "s = input('Enter a string')\n",
    "n = len(s)\n",
    "if n % 2 == 0:\n",
    "    print(\"Symmetric (equal halves)\" if s[:n//2] == s[n//2:] else \"Not symmetric (equal halves)\")\n",
    "else:\n",
    "    # if you want to ignore the middle character for odd lengths:\n",
    "    print(\"Symmetric (ignoring middle)\"\n",
    "          if s[:n//2] == s[n//2+1:] else \"Not symmetric (equal halves)\")"
   ]
  },
  {
   "cell_type": "markdown",
   "id": "16880368",
   "metadata": {},
   "source": [
    "- `Problem 17`: Reverse words in a given String\n",
    "\n",
    "**Statement:** We are given a string and we need to reverse words of a given string.\n",
    "\n",
    "**Example 1:**\n",
    "\n",
    "`Input:`\n",
    "\n",
    "```bash\n",
    "geeks quiz practice code\n",
    "```\n",
    "\n",
    "`Output:`\n",
    "\n",
    "```bash\n",
    "code practice quiz geeks\n",
    "```\n",
    "\n",
    "**Example 2:**\n",
    "\n",
    "`Input:`\n",
    "\n",
    "```bash\n",
    "my name is laxmi\n",
    "```\n",
    "\n",
    "`Output:`\n",
    "\n",
    "```bash\n",
    "laxmi is name my\n",
    "```"
   ]
  },
  {
   "cell_type": "code",
   "execution_count": 145,
   "id": "424e3c04",
   "metadata": {},
   "outputs": [
    {
     "name": "stdout",
     "output_type": "stream",
     "text": [
      "geeks quiz practice code\n"
     ]
    }
   ],
   "source": [
    "s = 'code practice quiz geeks'\n",
    "l = []\n",
    "for i in s.split():\n",
    "    l.append(i)\n",
    "l =  l[::-1]\n",
    "print(\" \".join(l))"
   ]
  },
  {
   "cell_type": "code",
   "execution_count": 147,
   "id": "99a76814",
   "metadata": {},
   "outputs": [
    {
     "name": "stdout",
     "output_type": "stream",
     "text": [
      "alluhb iam maan arem\n"
     ]
    }
   ],
   "source": [
    "str = 'mera naam mai bhulla'\n",
    "str = str[::-1]\n",
    "print(str)"
   ]
  },
  {
   "cell_type": "markdown",
   "id": "e3e2653e",
   "metadata": {},
   "source": [
    "##### `Problem 18`: Find uncommon words from two Strings.\n",
    "\n",
    "**Statement:** Given two sentences as strings **A** and **B**. The task is to return a list of all uncommon words. A word is uncommon if it appears exactly once in any one of the sentences, and does not appear in the other sentence. Note: A sentence is a string of space-separated words. Each word consists only of lowercase letters.\n",
    "\n",
    "**Example 1:**\n",
    "\n",
    "`Input:`\n",
    "\n",
    "```bash\n",
    "A = \"apple banana mango\"\n",
    "B = \"banana fruits mango\"\n",
    "```\n",
    "\n",
    "`Output:`\n",
    "\n",
    "```bash\n",
    "['apple', 'fruits']\n",
    "```"
   ]
  },
  {
   "cell_type": "code",
   "execution_count": 149,
   "id": "c8be0600",
   "metadata": {},
   "outputs": [
    {
     "name": "stdout",
     "output_type": "stream",
     "text": [
      "['apple', 'fruits']\n"
     ]
    }
   ],
   "source": [
    "A = \"apple banana mango\"\n",
    "B = \"banana fruits mango\"\n",
    "l = []\n",
    "for i in A.split():\n",
    "    if i not in B and i not in l:\n",
    "        l.append(i)\n",
    "for j in B.split():\n",
    "    if j not in A and j not in l:\n",
    "        l.append(j)\n",
    "print(l)"
   ]
  },
  {
   "cell_type": "markdown",
   "id": "00e83589",
   "metadata": {},
   "source": [
    "##### `Problem 19`: Word location in String.\n",
    "\n",
    "**Statement:** Find a location of a word in a given sentence.\n",
    "\n",
    "**Example 1:**\n",
    "\n",
    "`Input:`\n",
    "\n",
    "```bash\n",
    "Sentence: We can learn data science through campusx mentorship program.\n",
    "\n",
    "word: campusx\n",
    "```\n",
    "\n",
    "`Output:`\n",
    "\n",
    "```bash\n",
    "Location of the word is 7.\n",
    "```\n",
    "\n",
    "Note- Don't use index/find functions"
   ]
  },
  {
   "cell_type": "code",
   "execution_count": 157,
   "id": "38a4e93e",
   "metadata": {},
   "outputs": [
    {
     "name": "stdout",
     "output_type": "stream",
     "text": [
      "7\n"
     ]
    }
   ],
   "source": [
    "s = 'We can learn data science through campusx mentorship program.'\n",
    "word = 'campusx'\n",
    "pos = 0\n",
    "for i in s.split():\n",
    "    pos+=1\n",
    "    if word in i:\n",
    "        break\n",
    "        \n",
    "print(pos)"
   ]
  },
  {
   "cell_type": "code",
   "execution_count": 158,
   "id": "8e328c07",
   "metadata": {},
   "outputs": [
    {
     "name": "stdout",
     "output_type": "stream",
     "text": [
      "abscdghf v\n"
     ]
    }
   ],
   "source": [
    "# Write a program that can remove all the duplicate characters from a string. User will provide the input.\n",
    "s = 'abscdghafafcfhaf bacf abvcgad'\n",
    "result = ''\n",
    "for i in s:\n",
    "    if i not in result:\n",
    "        result = result + i\n",
    "print(result)"
   ]
  },
  {
   "cell_type": "code",
   "execution_count": null,
   "id": "82218413",
   "metadata": {},
   "outputs": [],
   "source": []
  },
  {
   "cell_type": "code",
   "execution_count": null,
   "id": "0f59cdfc",
   "metadata": {},
   "outputs": [],
   "source": []
  },
  {
   "cell_type": "code",
   "execution_count": null,
   "id": "fa6b8070",
   "metadata": {},
   "outputs": [],
   "source": []
  },
  {
   "cell_type": "code",
   "execution_count": null,
   "id": "53184caa",
   "metadata": {},
   "outputs": [],
   "source": []
  },
  {
   "cell_type": "code",
   "execution_count": null,
   "id": "1c574aee",
   "metadata": {},
   "outputs": [],
   "source": []
  },
  {
   "cell_type": "code",
   "execution_count": null,
   "id": "abf31d73",
   "metadata": {},
   "outputs": [],
   "source": []
  },
  {
   "cell_type": "code",
   "execution_count": null,
   "id": "df76faf9",
   "metadata": {},
   "outputs": [],
   "source": []
  },
  {
   "cell_type": "code",
   "execution_count": null,
   "id": "9446d9e4",
   "metadata": {},
   "outputs": [],
   "source": []
  },
  {
   "cell_type": "code",
   "execution_count": null,
   "id": "18b9fcb8",
   "metadata": {},
   "outputs": [],
   "source": []
  },
  {
   "cell_type": "code",
   "execution_count": null,
   "id": "3826c70f",
   "metadata": {},
   "outputs": [],
   "source": []
  },
  {
   "cell_type": "code",
   "execution_count": null,
   "id": "a71f15d2",
   "metadata": {},
   "outputs": [],
   "source": []
  },
  {
   "cell_type": "code",
   "execution_count": null,
   "id": "cbe41c69",
   "metadata": {},
   "outputs": [],
   "source": []
  },
  {
   "cell_type": "code",
   "execution_count": null,
   "id": "0ed5cb08",
   "metadata": {},
   "outputs": [],
   "source": []
  },
  {
   "cell_type": "code",
   "execution_count": null,
   "id": "e7f994d3",
   "metadata": {},
   "outputs": [],
   "source": []
  },
  {
   "cell_type": "code",
   "execution_count": null,
   "id": "46ff40a5",
   "metadata": {},
   "outputs": [],
   "source": []
  },
  {
   "cell_type": "code",
   "execution_count": null,
   "id": "9379c322",
   "metadata": {},
   "outputs": [],
   "source": []
  },
  {
   "cell_type": "code",
   "execution_count": null,
   "id": "0544984b",
   "metadata": {},
   "outputs": [],
   "source": []
  },
  {
   "cell_type": "code",
   "execution_count": null,
   "id": "3c91b9d0",
   "metadata": {},
   "outputs": [],
   "source": []
  },
  {
   "cell_type": "code",
   "execution_count": null,
   "id": "5ff2e2b6",
   "metadata": {},
   "outputs": [],
   "source": []
  },
  {
   "cell_type": "code",
   "execution_count": null,
   "id": "90368e4e",
   "metadata": {},
   "outputs": [],
   "source": []
  },
  {
   "cell_type": "code",
   "execution_count": null,
   "id": "acbf132f",
   "metadata": {},
   "outputs": [],
   "source": []
  },
  {
   "cell_type": "code",
   "execution_count": null,
   "id": "b2061c1f",
   "metadata": {},
   "outputs": [],
   "source": []
  },
  {
   "cell_type": "code",
   "execution_count": null,
   "id": "3e7cf0d2",
   "metadata": {},
   "outputs": [],
   "source": []
  },
  {
   "cell_type": "code",
   "execution_count": null,
   "id": "05179970",
   "metadata": {},
   "outputs": [],
   "source": []
  },
  {
   "cell_type": "code",
   "execution_count": null,
   "id": "3a853e14",
   "metadata": {},
   "outputs": [],
   "source": []
  }
 ],
 "metadata": {
  "kernelspec": {
   "display_name": "Python 3",
   "language": "python",
   "name": "python3"
  },
  "language_info": {
   "codemirror_mode": {
    "name": "ipython",
    "version": 3
   },
   "file_extension": ".py",
   "mimetype": "text/x-python",
   "name": "python",
   "nbconvert_exporter": "python",
   "pygments_lexer": "ipython3",
   "version": "3.12.0"
  }
 },
 "nbformat": 4,
 "nbformat_minor": 5
}
