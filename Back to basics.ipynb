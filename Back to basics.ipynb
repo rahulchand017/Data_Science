{
 "cells": [
  {
   "cell_type": "markdown",
   "id": "6750a114",
   "metadata": {},
   "source": [
    "#### Logical Operator"
   ]
  },
  {
   "cell_type": "code",
   "execution_count": 1,
   "id": "372a51c8",
   "metadata": {},
   "outputs": [
    {
     "data": {
      "text/plain": [
       "0"
      ]
     },
     "execution_count": 1,
     "metadata": {},
     "output_type": "execute_result"
    }
   ],
   "source": [
    "1 and 0 "
   ]
  },
  {
   "cell_type": "code",
   "execution_count": 2,
   "id": "7e343ec5",
   "metadata": {},
   "outputs": [
    {
     "data": {
      "text/plain": [
       "1"
      ]
     },
     "execution_count": 2,
     "metadata": {},
     "output_type": "execute_result"
    }
   ],
   "source": [
    "1 or 0"
   ]
  },
  {
   "cell_type": "markdown",
   "id": "e03a99d8",
   "metadata": {},
   "source": [
    "#### bitwise"
   ]
  },
  {
   "cell_type": "code",
   "execution_count": null,
   "id": "9325403c",
   "metadata": {},
   "outputs": [
    {
     "name": "stdout",
     "output_type": "stream",
     "text": [
      "1\n",
      "2\n"
     ]
    }
   ],
   "source": [
    "print(2^3)  #XOR\n",
    "print(2&3)\n",
    "print(~3) #NOT operator change 0 to 1 and 1 to 0"
   ]
  },
  {
   "cell_type": "markdown",
   "id": "25ffde15",
   "metadata": {},
   "source": [
    "#### Assignment opeartor"
   ]
  },
  {
   "cell_type": "markdown",
   "id": "5d6bdff7",
   "metadata": {},
   "source": [
    "#### Membership Operator\n",
    "- in/ not in"
   ]
  },
  {
   "cell_type": "code",
   "execution_count": 5,
   "id": "90a4f14d",
   "metadata": {},
   "outputs": [
    {
     "name": "stdout",
     "output_type": "stream",
     "text": [
      "True\n"
     ]
    }
   ],
   "source": [
    "print('D' in 'Delhi')\n"
   ]
  },
  {
   "cell_type": "code",
   "execution_count": 8,
   "id": "0b45c4d9",
   "metadata": {},
   "outputs": [
    {
     "name": "stdout",
     "output_type": "stream",
     "text": [
      "15\n"
     ]
    }
   ],
   "source": [
    "# Find the sun of a 3 digit number entered by user\n",
    "value = int(input())\n",
    "a = value%10\n",
    "value = value//10\n",
    "b = value%10\n",
    "value = value//10\n",
    "c = value%10\n",
    "print(a+b+c)"
   ]
  },
  {
   "cell_type": "code",
   "execution_count": 10,
   "id": "f744479b",
   "metadata": {},
   "outputs": [
    {
     "name": "stdout",
     "output_type": "stream",
     "text": [
      "15\n"
     ]
    }
   ],
   "source": [
    "def sum_num(num):\n",
    "    total = 0\n",
    "    while num>0:\n",
    "        digit = num%10\n",
    "        total+= digit\n",
    "        num//=10\n",
    "    return total\n",
    "value = int(input())\n",
    "print(sum_num(value))"
   ]
  },
  {
   "cell_type": "code",
   "execution_count": 11,
   "id": "2bdf44c8",
   "metadata": {},
   "outputs": [
    {
     "name": "stdout",
     "output_type": "stream",
     "text": [
      "4\n"
     ]
    }
   ],
   "source": [
    "# find the min of 3 given number\n",
    "a = int(input(\"first num\"))\n",
    "b = int(input(\"Second num\"))\n",
    "c = int(input(\"Third num\"))\n",
    "print(min(a,b,c))"
   ]
  },
  {
   "cell_type": "markdown",
   "id": "4ca65ab7",
   "metadata": {},
   "source": [
    "### module in python\n",
    "- math\n",
    "- keyword\n",
    "- constant\n",
    "- random\n"
   ]
  },
  {
   "cell_type": "code",
   "execution_count": 13,
   "id": "1bb1da73",
   "metadata": {},
   "outputs": [
    {
     "name": "stdout",
     "output_type": "stream",
     "text": [
      "2025-08-18 19:41:22.420312\n"
     ]
    }
   ],
   "source": [
    "import datetime\n",
    "print(datetime.datetime.now())"
   ]
  },
  {
   "cell_type": "code",
   "execution_count": 20,
   "id": "195b4859",
   "metadata": {},
   "outputs": [
    {
     "name": "stdout",
     "output_type": "stream",
     "text": [
      "11\n",
      "22\n",
      "33\n",
      "44\n",
      "55\n",
      "66\n",
      "77\n",
      "88\n",
      "99\n",
      "110\n"
     ]
    }
   ],
   "source": [
    "# program to print the table\n",
    "num = int(input())\n",
    "i = 1\n",
    "while i<11:\n",
    "    print(num*i)\n",
    "    i +=1\n"
   ]
  },
  {
   "cell_type": "code",
   "execution_count": null,
   "id": "96afa760",
   "metadata": {},
   "outputs": [],
   "source": [
    "# sum of all digits to a given number \n",
    "# keep accepting the no from user till he enters a 0 and then find the average."
   ]
  },
  {
   "cell_type": "code",
   "execution_count": 22,
   "id": "979d0570",
   "metadata": {},
   "outputs": [
    {
     "name": "stdout",
     "output_type": "stream",
     "text": [
      "Average: 2.5\n"
     ]
    }
   ],
   "source": [
    "total = 0      # to keep sum of numbers\n",
    "count = 0      # to count how many numbers entered\n",
    "\n",
    "while True:\n",
    "    num = int(input(\"Enter number (0 to stop): \"))\n",
    "    if num == 0:\n",
    "        break              \n",
    "    total += num\n",
    "    count += 1\n",
    "\n",
    "# avoid division by zero\n",
    "if count > 0:\n",
    "    avg = total / count\n",
    "    print(\"Average:\", avg)\n",
    "else:\n",
    "    print(\"No numbers entered!\")\n"
   ]
  },
  {
   "cell_type": "code",
   "execution_count": 24,
   "id": "14862cdf",
   "metadata": {},
   "outputs": [
    {
     "name": "stdout",
     "output_type": "stream",
     "text": [
      "Lower no\n",
      "Predict the no higher\n",
      "Predict the no higher\n",
      "Lower no\n",
      "Correctly guessed\n",
      "5\n"
     ]
    }
   ],
   "source": [
    "# Guessing game\n",
    "import random\n",
    "\n",
    "\n",
    "jackpot = random.randint(1,100)\n",
    "guess = int(input())\n",
    "count = 1\n",
    "while guess!= jackpot:\n",
    "    if guess< jackpot:\n",
    "        print(\"Predict the no higher\")\n",
    "    else:\n",
    "        print(\"Lower no\")\n",
    "    \n",
    "    guess = int(input())\n",
    "    count +=1\n",
    "else:\n",
    "    print('Correctly guessed')\n",
    "    print(count)\n"
   ]
  },
  {
   "cell_type": "code",
   "execution_count": 23,
   "id": "1ce4bd14",
   "metadata": {},
   "outputs": [
    {
     "name": "stdout",
     "output_type": "stream",
     "text": [
      "1\n",
      "2\n",
      "3\n",
      "4\n",
      "5\n",
      "6\n",
      "7\n",
      "8\n",
      "9\n",
      "10\n"
     ]
    }
   ],
   "source": [
    "for i in range(1,11):\n",
    "    print(i)"
   ]
  },
  {
   "cell_type": "markdown",
   "id": "8e3a4b6f",
   "metadata": {},
   "source": [
    "#### The current population of a town is 10,000. The population of the town is increasing at a rate of 10% per year. How have you... You have to write a program to find out the population at the end of each of the last 10 years."
   ]
  },
  {
   "cell_type": "code",
   "execution_count": null,
   "id": "6c8855a8",
   "metadata": {},
   "outputs": [
    {
     "name": "stdout",
     "output_type": "stream",
     "text": [
      "10 10000\n",
      "9 11000.0\n",
      "8 12100.000000000002\n",
      "7 13310.000000000004\n",
      "6 14641.000000000005\n",
      "5 16105.100000000008\n",
      "4 17715.61000000001\n",
      "3 19487.171000000013\n",
      "2 21435.888100000015\n"
     ]
    }
   ],
   "source": [
    "population = 10000\n",
    "for i in range(10,1,-1):\n",
    "    print(i,population)\n",
    "    population = population *1.1\n",
    "# for last 10 years"
   ]
  },
  {
   "cell_type": "code",
   "execution_count": 31,
   "id": "7673c2e4",
   "metadata": {},
   "outputs": [
    {
     "name": "stdout",
     "output_type": "stream",
     "text": [
      "1 1\n",
      "2 2\n",
      "3 3\n",
      "4 4\n",
      "5 5\n",
      "6 6\n"
     ]
    }
   ],
   "source": [
    "for i in range(1,7):\n",
    "    for j in range(1,7):\n",
    "        if i ==j:\n",
    "            print(i,j)\n",
    "        "
   ]
  },
  {
   "cell_type": "markdown",
   "id": "d2ed4854",
   "metadata": {},
   "source": [
    "#### Pattern"
   ]
  },
  {
   "cell_type": "code",
   "execution_count": 38,
   "id": "b33382df",
   "metadata": {},
   "outputs": [
    {
     "name": "stdout",
     "output_type": "stream",
     "text": [
      "*\n",
      "**\n",
      "***\n",
      "****\n",
      "*****\n"
     ]
    }
   ],
   "source": [
    "rows = int(input('Enter no of rows: '))\n",
    "for i in range(1,rows+1):\n",
    "    for j in range(1,i+1):\n",
    "        print('*', end = '')\n",
    "    print()\n",
    "        "
   ]
  },
  {
   "cell_type": "code",
   "execution_count": 4,
   "id": "3ba2d04f",
   "metadata": {},
   "outputs": [
    {
     "name": "stdout",
     "output_type": "stream",
     "text": [
      "1\n",
      "121\n",
      "12321\n",
      "1234321\n",
      "123454321\n"
     ]
    }
   ],
   "source": [
    "rows = int(input('Enter no of rows: '))\n",
    "for i in range(1,rows+1):\n",
    "    for j in range(1,i+1):\n",
    "        print(j, end='')\n",
    "    for k in range(i-1,0,-1):\n",
    "        print(k,end='')\n",
    "    print()"
   ]
  },
  {
   "cell_type": "code",
   "execution_count": 8,
   "id": "812ad9b1",
   "metadata": {},
   "outputs": [
    {
     "name": "stdout",
     "output_type": "stream",
     "text": [
      "5 7 11 13 "
     ]
    }
   ],
   "source": [
    "# find prime no\n",
    "start = int(input(\"Enter start of range: \"))\n",
    "end = int(input(\"Enter end of range: \"))\n",
    "\n",
    "\n",
    "for num in range(start, end + 1):\n",
    "    if num > 1:   # primes are greater than 1\n",
    "        is_prime = True\n",
    "        for i in range(2, int(num**0.5) + 1):  # check divisibility till sqrt(num)\n",
    "            if num % i == 0:\n",
    "                is_prime = False\n",
    "                break\n",
    "        if is_prime:\n",
    "            print(num, end=\" \")\n"
   ]
  },
  {
   "cell_type": "code",
   "execution_count": 9,
   "id": "0f06706b",
   "metadata": {},
   "outputs": [
    {
     "name": "stdout",
     "output_type": "stream",
     "text": [
      "5\n",
      "7\n",
      "11\n",
      "13\n"
     ]
    }
   ],
   "source": [
    "start = int(input(\"Enter start of range: \"))\n",
    "end = int(input(\"Enter end of range: \"))\n",
    "for i in range(start,end):\n",
    "    for j in range(2,i):\n",
    "        if i%j==0:\n",
    "            break\n",
    "    else:\n",
    "        print(i)"
   ]
  },
  {
   "cell_type": "markdown",
   "id": "7d23a3e1",
   "metadata": {},
   "source": [
    "## String\n",
    "- In python string is a collection of Unicode character"
   ]
  },
  {
   "cell_type": "code",
   "execution_count": 11,
   "id": "0ceeb9f3",
   "metadata": {},
   "outputs": [
    {
     "data": {
      "text/plain": [
       "'rahul'"
      ]
     },
     "execution_count": 11,
     "metadata": {},
     "output_type": "execute_result"
    }
   ],
   "source": [
    "str = input(\"Enter a string\")\n",
    "str"
   ]
  },
  {
   "cell_type": "code",
   "execution_count": 14,
   "id": "2174d8c4",
   "metadata": {},
   "outputs": [
    {
     "name": "stdout",
     "output_type": "stream",
     "text": [
      "rahul\n",
      "rahul\n",
      "rahul\n",
      "rahul\n",
      "rahul\n"
     ]
    }
   ],
   "source": [
    "for i in str:\n",
    "    print(str)"
   ]
  },
  {
   "cell_type": "code",
   "execution_count": null,
   "id": "303ea005",
   "metadata": {},
   "outputs": [],
   "source": [
    " "
   ]
  },
  {
   "cell_type": "code",
   "execution_count": null,
   "id": "e0d227cb",
   "metadata": {},
   "outputs": [],
   "source": []
  },
  {
   "cell_type": "code",
   "execution_count": null,
   "id": "57b46cfe",
   "metadata": {},
   "outputs": [],
   "source": []
  },
  {
   "cell_type": "code",
   "execution_count": null,
   "id": "528fa711",
   "metadata": {},
   "outputs": [],
   "source": []
  },
  {
   "cell_type": "code",
   "execution_count": null,
   "id": "1922cf7c",
   "metadata": {},
   "outputs": [],
   "source": []
  },
  {
   "cell_type": "code",
   "execution_count": null,
   "id": "8e40c87f",
   "metadata": {},
   "outputs": [],
   "source": []
  },
  {
   "cell_type": "code",
   "execution_count": null,
   "id": "0786c3e9",
   "metadata": {},
   "outputs": [],
   "source": []
  },
  {
   "cell_type": "code",
   "execution_count": null,
   "id": "21b35bc6",
   "metadata": {},
   "outputs": [],
   "source": []
  },
  {
   "cell_type": "code",
   "execution_count": null,
   "id": "9343c705",
   "metadata": {},
   "outputs": [],
   "source": []
  },
  {
   "cell_type": "code",
   "execution_count": null,
   "id": "e6786675",
   "metadata": {},
   "outputs": [],
   "source": []
  },
  {
   "cell_type": "code",
   "execution_count": null,
   "id": "a5d1c84d",
   "metadata": {},
   "outputs": [],
   "source": []
  },
  {
   "cell_type": "code",
   "execution_count": null,
   "id": "7a78583c",
   "metadata": {},
   "outputs": [],
   "source": []
  },
  {
   "cell_type": "code",
   "execution_count": null,
   "id": "55757d30",
   "metadata": {},
   "outputs": [],
   "source": []
  },
  {
   "cell_type": "code",
   "execution_count": null,
   "id": "4a314bbd",
   "metadata": {},
   "outputs": [],
   "source": []
  },
  {
   "cell_type": "code",
   "execution_count": null,
   "id": "65c86e31",
   "metadata": {},
   "outputs": [],
   "source": []
  },
  {
   "cell_type": "code",
   "execution_count": null,
   "id": "c7a051a6",
   "metadata": {},
   "outputs": [],
   "source": []
  },
  {
   "cell_type": "code",
   "execution_count": null,
   "id": "fb501b39",
   "metadata": {},
   "outputs": [],
   "source": []
  },
  {
   "cell_type": "code",
   "execution_count": null,
   "id": "26e48456",
   "metadata": {},
   "outputs": [],
   "source": []
  },
  {
   "cell_type": "code",
   "execution_count": null,
   "id": "15c61ca9",
   "metadata": {},
   "outputs": [],
   "source": []
  },
  {
   "cell_type": "code",
   "execution_count": null,
   "id": "c8144768",
   "metadata": {},
   "outputs": [],
   "source": []
  },
  {
   "cell_type": "code",
   "execution_count": null,
   "id": "1c6c1c0b",
   "metadata": {},
   "outputs": [],
   "source": []
  },
  {
   "cell_type": "code",
   "execution_count": null,
   "id": "e7a8f853",
   "metadata": {},
   "outputs": [],
   "source": []
  },
  {
   "cell_type": "code",
   "execution_count": null,
   "id": "fedc988e",
   "metadata": {},
   "outputs": [],
   "source": []
  },
  {
   "cell_type": "code",
   "execution_count": null,
   "id": "7e46314b",
   "metadata": {},
   "outputs": [],
   "source": []
  },
  {
   "cell_type": "code",
   "execution_count": null,
   "id": "4ef100cc",
   "metadata": {},
   "outputs": [],
   "source": []
  },
  {
   "cell_type": "code",
   "execution_count": null,
   "id": "7c34679b",
   "metadata": {},
   "outputs": [],
   "source": []
  },
  {
   "cell_type": "code",
   "execution_count": null,
   "id": "70696236",
   "metadata": {},
   "outputs": [],
   "source": []
  },
  {
   "cell_type": "code",
   "execution_count": null,
   "id": "db21bd70",
   "metadata": {},
   "outputs": [],
   "source": []
  },
  {
   "cell_type": "code",
   "execution_count": null,
   "id": "9f2711b2",
   "metadata": {},
   "outputs": [],
   "source": []
  },
  {
   "cell_type": "code",
   "execution_count": null,
   "id": "d645311f",
   "metadata": {},
   "outputs": [],
   "source": []
  },
  {
   "cell_type": "code",
   "execution_count": null,
   "id": "024e6cde",
   "metadata": {},
   "outputs": [],
   "source": []
  }
 ],
 "metadata": {
  "kernelspec": {
   "display_name": "Python 3",
   "language": "python",
   "name": "python3"
  },
  "language_info": {
   "codemirror_mode": {
    "name": "ipython",
    "version": 3
   },
   "file_extension": ".py",
   "mimetype": "text/x-python",
   "name": "python",
   "nbconvert_exporter": "python",
   "pygments_lexer": "ipython3",
   "version": "3.12.0"
  }
 },
 "nbformat": 4,
 "nbformat_minor": 5
}
