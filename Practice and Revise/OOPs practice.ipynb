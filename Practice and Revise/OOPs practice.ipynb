{
 "cells": [
  {
   "cell_type": "markdown",
   "id": "87ae8fa3",
   "metadata": {},
   "source": [
    "####`Q-1:` Rectangle Class\n",
    "1. Write a Rectangle class in Python language, allowing you to build a rectangle with length and width attributes.\n",
    "\n",
    "2. Create a Perimeter() method to calculate the perimeter of the rectangle and a Area() method to calculate the area of ​​the rectangle.\n",
    "\n",
    "3. Create a method display() that display the length, width, perimeter and area of an object created using an instantiation on rectangle class."
   ]
  },
  {
   "cell_type": "code",
   "execution_count": 8,
   "id": "3d30f910",
   "metadata": {},
   "outputs": [
    {
     "name": "stdout",
     "output_type": "stream",
     "text": [
      "Length of Rectangle is: 3\n",
      "Width of Rectangle is: 4\n",
      "The Perimeter of Rectangle is:  14\n",
      "The Area of Rectangle is 12\n"
     ]
    }
   ],
   "source": [
    "class Rectangle:\n",
    "    def __init__(self, length, width):\n",
    "        self.length = length\n",
    "        self.width = width\n",
    "\n",
    "    def __Perimeter(self):\n",
    "        perimeter = 0\n",
    "        perimeter = 2*(self.length + self.width)\n",
    "        print(\"The Perimeter of Rectangle is: \", perimeter)\n",
    "        \n",
    "    \n",
    "    def __Area(self):\n",
    "    \n",
    "        area = self.length * self.width\n",
    "        print(\"The Area of Rectangle is\", area)\n",
    "        \n",
    "    def display(self):\n",
    "        print(\"Length of Rectangle is:\", self.length)\n",
    "        print(\"Width of Rectangle is:\", self.width)\n",
    "        self.__Perimeter()\n",
    "        self.__Area()\n",
    "        \n",
    "my_rectangle = Rectangle(3 , 4)\n",
    "my_rectangle.display()\n",
    "\n",
    "        "
   ]
  },
  {
   "cell_type": "markdown",
   "id": "58ad376d",
   "metadata": {},
   "source": [
    "#### `Q-2: Bank Class`\n",
    "\n",
    "1. Create a Python class called `BankAccount` which represents a bank account, having as attributes: `accountNumber` (numeric type), `name` (name of the account owner as string type), `balance`.\n",
    "2. Create a constructor with parameters: `accountNumber, name, balance`.\n",
    "3. Create a `Deposit()` method which manages the deposit actions.\n",
    "4. Create a `Withdrawal()` method  which manages withdrawals actions.\n",
    "5. Create an `bankFees()` method to apply the bank fees with a percentage of 5% of the balance account.\n",
    "6. Create a `display()` method to display account details.\n",
    "Give the complete code for the  BankAccount class."
   ]
  },
  {
   "cell_type": "code",
   "execution_count": 9,
   "id": "907272a4",
   "metadata": {},
   "outputs": [
    {
     "name": "stdout",
     "output_type": "stream",
     "text": [
      "Account Number: 12345\n",
      "Account Holder: Rahul Chand\n",
      "Account Balance: 1000\n",
      "Deposited: 500\n",
      "Withdrew: 200\n",
      "Bank fees of 65.0 applied.\n",
      "Account Number: 12345\n",
      "Account Holder: Rahul Chand\n",
      "Account Balance: 1235.0\n"
     ]
    }
   ],
   "source": [
    "class BankAccount:\n",
    "    def __init__(self, accountNumber, name, balance):\n",
    "        self.accountNumber = accountNumber\n",
    "        self.name = name\n",
    "        self.balance = balance\n",
    "\n",
    "    # Deposit method\n",
    "    def Deposit(self, amount):\n",
    "        if amount > 0:\n",
    "            self.balance += amount\n",
    "            print(f\"Deposited: {amount}\")\n",
    "        else:\n",
    "            print(\"Deposit amount must be positive.\")\n",
    "\n",
    "    def Withdrawal(self, amount):\n",
    "        if amount > 0:\n",
    "            if self.balance >= amount:\n",
    "                self.balance -= amount\n",
    "                print(f\"Withdrew: {amount}\")\n",
    "            else:\n",
    "                print(\"Insufficient balance.\")\n",
    "        else:\n",
    "            print(\"Withdrawal amount must be positive.\")\n",
    "\n",
    "    def bankFees(self):\n",
    "        fees = self.balance * 0.05\n",
    "        self.balance -= fees\n",
    "        print(f\"Bank fees of {fees} applied.\")\n",
    "\n",
    "    def display(self):\n",
    "        print(f\"Account Number: {self.accountNumber}\")\n",
    "        print(f\"Account Holder: {self.name}\")\n",
    "        print(f\"Account Balance: {self.balance}\")\n",
    "\n",
    "\n",
    "account = BankAccount(12345, \"Rahul Chand\", 1000)\n",
    "account.display()\n",
    "account.Deposit(500)\n",
    "account.Withdrawal(200)\n",
    "account.bankFees()\n",
    "account.display()\n"
   ]
  },
  {
   "cell_type": "code",
   "execution_count": 10,
   "id": "f9881b56",
   "metadata": {},
   "outputs": [
    {
     "name": "stdout",
     "output_type": "stream",
     "text": [
      "Withdrew: 700\n",
      "Deposited: 1000\n",
      "Account Number: 2178514584\n",
      "Account Holder: Mandy\n",
      "Account Balance: 3100\n"
     ]
    }
   ],
   "source": [
    "newAccount = BankAccount(2178514584, \"Mandy\" , 2800)\n",
    "\n",
    "newAccount.Withdrawal(700)\n",
    "\n",
    "newAccount.Deposit(1000)\n",
    "\n",
    "newAccount.display()"
   ]
  },
  {
   "cell_type": "markdown",
   "id": "c35c3ff0",
   "metadata": {},
   "source": [
    "##`Q-3:Computation class`\n",
    "\n",
    "1. Create a `Computation` class with a default constructor (without parameters) allowing to perform various calculations on integers numbers.\n",
    "2. Create a method called `Factorial()` which allows to calculate the factorial of an integer n. Integer n as parameter for this method\n",
    "\n",
    "3. Create a method called `naturalSum()` allowing to calculate the sum of the first n integers 1 + 2 + 3 + .. + n. Integer n as parameter for this method.\n",
    "\n",
    "4. Create a method called `testPrime()` in  the Calculation class to test the primality of a given integer n, n is Prime or Not? Integer n as parameter for this method.\n",
    "\n",
    "5. Create  a method called `testPrims()` allowing to test if two numbers are prime between them. Two integers are prime to one another if they have only `1` as their common divisor. Eg. 4 and 9 are prime to each other.\n",
    "\n",
    "5. Create a `tableMult()` method which creates and displays the multiplication table of a given integer. Then create an `allTablesMult()` method to display all the integer multiplication tables 1, 2, 3, ..., 9.\n",
    "\n",
    "6. Create a static `listDiv()` method that gets all the divisors of a given integer on new list called  Ldiv. Create another `listDivPrim()` method that gets all the prime divisors of a given integer."
   ]
  },
  {
   "cell_type": "code",
   "execution_count": null,
   "id": "2ec1a9f8",
   "metadata": {},
   "outputs": [],
   "source": [
    "class Computational:\n",
    "    def __int__(self):\n",
    "        pass\n",
    "\n",
    "    "
   ]
  },
  {
   "cell_type": "markdown",
   "id": "02ac589d",
   "metadata": {},
   "source": [
    "`Q-4`: Build flashcard using class in Python.\n",
    "\n",
    "Build a flashcard using class in python. A flashcard is a card having information on both sides, which can be used as an aid in memoization. Flashcards usually have a question on one side and an answer on the other.\n",
    "\n",
    "**Example 1:**\n",
    "\n",
    "Approach:\n",
    "\n",
    "- Create a class named FlashCard.\n",
    "- Initialize dictionary fruits using __init__() method. Here you have to define fruit name as key and it's color as value. E.g., {\"Banana\": \"yellow\", \"Strawberries\": \"pink\"}\n",
    "- Now randomly choose a pair from fruits by using _random_ module and store the key in variable _fruit_ and _value_ in variable color.\n",
    "- Now prompt the user to answer the color of the randomly chosen fruit.\n",
    "- If correct print correct else print wrong.\n",
    "\n",
    "Output:\n",
    "```bash\n",
    "welcome to fruit quiz\n",
    "What is the color of Strawberries\n",
    "pink\n",
    "Correct answer\n",
    "Enter 0, if you want to play again: 0\n",
    "What is the color of watermelon\n",
    "green\n",
    "Correct answer\n",
    "Enter 0, if you want to play again: 1\n",
    "```"
   ]
  },
  {
   "cell_type": "code",
   "execution_count": 15,
   "id": "65f9c480",
   "metadata": {},
   "outputs": [
    {
     "name": "stdout",
     "output_type": "stream",
     "text": [
      "Welcome to the fruit quiz \n",
      "What is the color of Grapes?\n",
      "Nikal lawde! The correct answer is Green or Purple.\n"
     ]
    }
   ],
   "source": [
    "import random\n",
    "\n",
    "class Flashcard:\n",
    "    def __init__(self):\n",
    "        self.__fruits = {\n",
    "            \"Apple\": \"Red\",\n",
    "            \"Banana\": \"Yellow\",\n",
    "            \"Orange\": \"Orange\",\n",
    "            \"Grapes\": \"Green or Purple\",\n",
    "            \"Mango\": \"Yellow\",\n",
    "            \"Blueberry\": \"Blue\"\n",
    "        }\n",
    "    \n",
    "    def quiz(self):\n",
    "        while True:\n",
    "            fruit, color = random.choice(list(self.__fruits.items())) \n",
    "            print(f\"What is the color of {fruit}?\")\n",
    "            user_answer = input(\"Your answer: \")\n",
    "            \n",
    "            if user_answer.lower() == color.lower():  \n",
    "                print(\"Sahi jawab!\")\n",
    "            else:\n",
    "                print(f\"Nikal lawde! The correct answer is {color}.\")\n",
    "                \n",
    "            option = int(input(\"Enter 0 to play again, 1 to exit: \"))\n",
    "            \n",
    "            if option == 1:   \n",
    "                break\n",
    "            \n",
    "print(\"Welcome to the fruit quiz \")\n",
    "fc = Flashcard()\n",
    "fc.quiz()\n"
   ]
  },
  {
   "cell_type": "markdown",
   "id": "76c516f2",
   "metadata": {},
   "source": [
    " `Q-5:` Problem 5 based on OOP Python.\n",
    "\n",
    "TechWorld, a technology training center, wants to allocate courses for instructors. An instructor is identified by name, technology skills, experience and average feedback. An instructor is allocated a course, if he/she satisfies the below two conditions:\n",
    "- eligibility criteria:\n",
    "    - if experience is more than 3 years, average feedback should be 4.5 or more\n",
    "    - if experience is 3 years or less, average feedback should be 4 or more\n",
    "- he/she should posses the technology skill for the course\n",
    "\n",
    "Identify the class name and attributes to represent instructors. Write a Python program to implement the class chosen with its attributes and methods.\n",
    "\n",
    "**Note:**\n",
    "- Consider all instance variables to be private and methods to be public.\n",
    "- An instructor may have multiple technology skills, so consider instance variable, technology_skill to be a list.\n",
    "- *check_eligibility()*: Return true if eligibility criteria is satisfied by the instructor. Else, return false\n",
    "- *allocate_course(technology)*: Return true if the course which requires the given technology can be allocated to the instructor. Else, return false.\n",
    "\n",
    "Represent a few objects of the class, initialize instance variables using setter methods, invoke\n",
    "appropriate methods and test your program."
   ]
  },
  {
   "cell_type": "code",
   "execution_count": null,
   "id": "6a088f99",
   "metadata": {},
   "outputs": [],
   "source": [
    "class Eligibility:\n",
    "    \n",
    "    "
   ]
  },
  {
   "cell_type": "code",
   "execution_count": null,
   "id": "c90ce858",
   "metadata": {},
   "outputs": [],
   "source": []
  },
  {
   "cell_type": "code",
   "execution_count": null,
   "id": "0c12d337",
   "metadata": {},
   "outputs": [],
   "source": []
  },
  {
   "cell_type": "code",
   "execution_count": null,
   "id": "e518e1d2",
   "metadata": {},
   "outputs": [],
   "source": []
  },
  {
   "cell_type": "code",
   "execution_count": null,
   "id": "f6a471cc",
   "metadata": {},
   "outputs": [],
   "source": []
  },
  {
   "cell_type": "code",
   "execution_count": null,
   "id": "1c4023b5",
   "metadata": {},
   "outputs": [],
   "source": []
  },
  {
   "cell_type": "code",
   "execution_count": null,
   "id": "37c791c4",
   "metadata": {},
   "outputs": [],
   "source": []
  },
  {
   "cell_type": "code",
   "execution_count": null,
   "id": "0ef17b6a",
   "metadata": {},
   "outputs": [],
   "source": []
  },
  {
   "cell_type": "code",
   "execution_count": null,
   "id": "183a3ea8",
   "metadata": {},
   "outputs": [],
   "source": []
  },
  {
   "cell_type": "code",
   "execution_count": null,
   "id": "4205ca76",
   "metadata": {},
   "outputs": [],
   "source": []
  },
  {
   "cell_type": "code",
   "execution_count": null,
   "id": "09aa8128",
   "metadata": {},
   "outputs": [],
   "source": []
  },
  {
   "cell_type": "code",
   "execution_count": null,
   "id": "24a64b05",
   "metadata": {},
   "outputs": [],
   "source": []
  },
  {
   "cell_type": "code",
   "execution_count": null,
   "id": "e3b6f8ac",
   "metadata": {},
   "outputs": [],
   "source": []
  },
  {
   "cell_type": "code",
   "execution_count": null,
   "id": "2e2e7273",
   "metadata": {},
   "outputs": [],
   "source": []
  },
  {
   "cell_type": "code",
   "execution_count": null,
   "id": "b981a226",
   "metadata": {},
   "outputs": [],
   "source": []
  },
  {
   "cell_type": "code",
   "execution_count": null,
   "id": "17f67b20",
   "metadata": {},
   "outputs": [],
   "source": []
  },
  {
   "cell_type": "code",
   "execution_count": null,
   "id": "d87be1b6",
   "metadata": {},
   "outputs": [],
   "source": []
  },
  {
   "cell_type": "code",
   "execution_count": null,
   "id": "c07cd32a",
   "metadata": {},
   "outputs": [],
   "source": []
  },
  {
   "cell_type": "code",
   "execution_count": null,
   "id": "18e2421b",
   "metadata": {},
   "outputs": [],
   "source": []
  },
  {
   "cell_type": "code",
   "execution_count": null,
   "id": "2fa87027",
   "metadata": {},
   "outputs": [],
   "source": []
  },
  {
   "cell_type": "code",
   "execution_count": null,
   "id": "551c3d61",
   "metadata": {},
   "outputs": [],
   "source": []
  },
  {
   "cell_type": "code",
   "execution_count": null,
   "id": "ea419390",
   "metadata": {},
   "outputs": [],
   "source": []
  },
  {
   "cell_type": "code",
   "execution_count": null,
   "id": "244d9fe3",
   "metadata": {},
   "outputs": [],
   "source": []
  },
  {
   "cell_type": "code",
   "execution_count": null,
   "id": "3762d0b9",
   "metadata": {},
   "outputs": [],
   "source": []
  },
  {
   "cell_type": "code",
   "execution_count": null,
   "id": "3b3d5d05",
   "metadata": {},
   "outputs": [],
   "source": []
  },
  {
   "cell_type": "code",
   "execution_count": null,
   "id": "89ea6f46",
   "metadata": {},
   "outputs": [],
   "source": []
  },
  {
   "cell_type": "code",
   "execution_count": null,
   "id": "fea40ac5",
   "metadata": {},
   "outputs": [],
   "source": []
  },
  {
   "cell_type": "code",
   "execution_count": null,
   "id": "04fbebfe",
   "metadata": {},
   "outputs": [],
   "source": []
  },
  {
   "cell_type": "code",
   "execution_count": null,
   "id": "085b6095",
   "metadata": {},
   "outputs": [],
   "source": []
  },
  {
   "cell_type": "code",
   "execution_count": null,
   "id": "b285256e",
   "metadata": {},
   "outputs": [],
   "source": []
  },
  {
   "cell_type": "code",
   "execution_count": null,
   "id": "5b4eb2c5",
   "metadata": {},
   "outputs": [],
   "source": []
  },
  {
   "cell_type": "code",
   "execution_count": null,
   "id": "f087b239",
   "metadata": {},
   "outputs": [],
   "source": []
  },
  {
   "cell_type": "code",
   "execution_count": null,
   "id": "83ad3d74",
   "metadata": {},
   "outputs": [],
   "source": []
  },
  {
   "cell_type": "code",
   "execution_count": null,
   "id": "23d5d1bc",
   "metadata": {},
   "outputs": [],
   "source": []
  },
  {
   "cell_type": "code",
   "execution_count": null,
   "id": "453fc39d",
   "metadata": {},
   "outputs": [],
   "source": []
  },
  {
   "cell_type": "code",
   "execution_count": null,
   "id": "694ffc07",
   "metadata": {},
   "outputs": [],
   "source": []
  },
  {
   "cell_type": "code",
   "execution_count": null,
   "id": "dcac6abd",
   "metadata": {},
   "outputs": [],
   "source": []
  },
  {
   "cell_type": "code",
   "execution_count": null,
   "id": "259b2295",
   "metadata": {},
   "outputs": [],
   "source": []
  },
  {
   "cell_type": "code",
   "execution_count": null,
   "id": "c024c8a1",
   "metadata": {},
   "outputs": [],
   "source": []
  }
 ],
 "metadata": {
  "kernelspec": {
   "display_name": "Python 3",
   "language": "python",
   "name": "python3"
  },
  "language_info": {
   "codemirror_mode": {
    "name": "ipython",
    "version": 3
   },
   "file_extension": ".py",
   "mimetype": "text/x-python",
   "name": "python",
   "nbconvert_exporter": "python",
   "pygments_lexer": "ipython3",
   "version": "3.12.0"
  }
 },
 "nbformat": 4,
 "nbformat_minor": 5
}
