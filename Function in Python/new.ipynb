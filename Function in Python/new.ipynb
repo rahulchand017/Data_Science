{
 "cells": [
  {
   "cell_type": "markdown",
   "id": "cfe9d5e6",
   "metadata": {},
   "source": [
    "## Functions\n",
    "- Non repetitive of the code"
   ]
  },
  {
   "cell_type": "code",
   "execution_count": 7,
   "id": "685876d4",
   "metadata": {},
   "outputs": [
    {
     "name": "stdout",
     "output_type": "stream",
     "text": [
      "Hello ji\n"
     ]
    }
   ],
   "source": [
    "def hello_func():\n",
    "    print('Hello ji')\n",
    "hello_func()"
   ]
  },
  {
   "cell_type": "code",
   "execution_count": 11,
   "id": "2cbfa0a3",
   "metadata": {},
   "outputs": [
    {
     "name": "stdout",
     "output_type": "stream",
     "text": [
      "Hello bol bsdk.\n"
     ]
    }
   ],
   "source": [
    "\n",
    "def hello_func(greeting):\n",
    "    return '{} bol bsdk.'.format(greeting)\n",
    "\n",
    "# Call the function with a greeting\n",
    "print(hello_func(\"Hello\"))\n"
   ]
  },
  {
   "cell_type": "code",
   "execution_count": 19,
   "id": "a04fa26e",
   "metadata": {},
   "outputs": [
    {
     "name": "stdout",
     "output_type": "stream",
     "text": [
      "14 is even\n"
     ]
    }
   ],
   "source": [
    "def is_even(num):\n",
    "    if num%2== 0:\n",
    "        print(f\"{num} is even\")\n",
    "    else:\n",
    "        print(f\"{num} not even\")\n",
    "number = int(input('Enter the number'))\n",
    "is_even(number)"
   ]
  },
  {
   "cell_type": "markdown",
   "id": "f6a4fdd8",
   "metadata": {},
   "source": [
    "*args"
   ]
  },
  {
   "cell_type": "code",
   "execution_count": 20,
   "id": "82c47b24",
   "metadata": {},
   "outputs": [
    {
     "name": "stdout",
     "output_type": "stream",
     "text": [
      "362880\n"
     ]
    }
   ],
   "source": [
    "def product(*args):\n",
    "    product = 1\n",
    "    for i in args:\n",
    "        product = product * i\n",
    "    return product\n",
    "value = product(1,2,3,4,5,6,7,8,9)\n",
    "print(value)"
   ]
  },
  {
   "cell_type": "markdown",
   "id": "dcb83df7",
   "metadata": {},
   "source": [
    "** kwargs"
   ]
  },
  {
   "cell_type": "code",
   "execution_count": 26,
   "id": "f01891d9",
   "metadata": {},
   "outputs": [
    {
     "name": "stdout",
     "output_type": "stream",
     "text": [
      "India -> delhi\n",
      "srilanka -> colombo\n"
     ]
    }
   ],
   "source": [
    "def country_capital(**kwargs):\n",
    "    for (key, value) in kwargs.items():\n",
    "        print(key, '->', value)\n",
    "country_capital(India='delhi', srilanka='colombo', )"
   ]
  },
  {
   "cell_type": "markdown",
   "id": "8ce5233a",
   "metadata": {},
   "source": [
    "#### points to remember while using args and kwargs\n",
    "- Order of the arguments matter( normal -> *args-> **kwargs)\n",
    "- The words \"args\" and \"kwargs\" are only a conventional, you can use any name of your choice"
   ]
  },
  {
   "cell_type": "code",
   "execution_count": 27,
   "id": "b4b3c7f3",
   "metadata": {},
   "outputs": [
    {
     "name": "stdout",
     "output_type": "stream",
     "text": [
      "Inside function g\n",
      "inside function f\n"
     ]
    }
   ],
   "source": [
    "def f():\n",
    "    def g():\n",
    "        print(\"Inside function g\")\n",
    "    g()\n",
    "    print('inside function f')\n",
    "f()"
   ]
  },
  {
   "cell_type": "code",
   "execution_count": 28,
   "id": "a63c418f",
   "metadata": {},
   "outputs": [
    {
     "name": "stdout",
     "output_type": "stream",
     "text": [
      "in g(x): x 3\n",
      "in h(x): x 4\n",
      "in main program scope: x, 3\n",
      "in main program scope: z, 4\n"
     ]
    }
   ],
   "source": [
    "def g(x):\n",
    "    def h(x):\n",
    "        print(\"in h(x): x\", x + 1)  \n",
    "\n",
    "    print(\"in g(x): x\", x) \n",
    "    h(x)\n",
    "    return x + 1 \n",
    "\n",
    "x = 3  \n",
    "z = g(x)  \n",
    "\n",
    "print(\"in main program scope: x,\", x)  \n",
    "print(\"in main program scope: z,\", z)  "
   ]
  },
  {
   "cell_type": "code",
   "execution_count": 29,
   "id": "05aa5501",
   "metadata": {},
   "outputs": [
    {
     "data": {
      "text/plain": [
       "2115888591104"
      ]
     },
     "execution_count": 29,
     "metadata": {},
     "output_type": "execute_result"
    }
   ],
   "source": [
    "def square(num):\n",
    "    return num**2\n",
    "id(square)"
   ]
  },
  {
   "cell_type": "code",
   "execution_count": 30,
   "id": "9a29e85e",
   "metadata": {},
   "outputs": [
    {
     "name": "stdout",
     "output_type": "stream",
     "text": [
      "7\n"
     ]
    }
   ],
   "source": [
    "# Returning a function\n",
    "def f():\n",
    "    def x(a,b):\n",
    "        return a +b\n",
    "    return x\n",
    "val = f()(3,4)\n",
    "print(val)"
   ]
  },
  {
   "cell_type": "code",
   "execution_count": 32,
   "id": "1261487e",
   "metadata": {},
   "outputs": [
    {
     "name": "stdout",
     "output_type": "stream",
     "text": [
      "True\n",
      "False\n"
     ]
    }
   ],
   "source": [
    "check = lambda x: 'a' in x\n",
    "print(check('rahul'))\n",
    "print(check('Viru'))"
   ]
  },
  {
   "cell_type": "markdown",
   "id": "7c64633e",
   "metadata": {},
   "source": [
    "### HOF is a function which returns another function"
   ]
  },
  {
   "cell_type": "code",
   "execution_count": null,
   "id": "eb0ce0f2",
   "metadata": {},
   "outputs": [
    {
     "name": "stdout",
     "output_type": "stream",
     "text": [
      "[1, 4, 9, 16, 25]\n"
     ]
    }
   ],
   "source": [
    "def square(x):\n",
    "    return x * x\n",
    "\n",
    "def transform(f,L):\n",
    "    output = []\n",
    "    for i in L:\n",
    "        output.append(f(i))\n",
    "        \n",
    "    print(output)\n",
    "L = [1,2,3,4,5]\n",
    "\n",
    "transform(square,L)"
   ]
  },
  {
   "cell_type": "code",
   "execution_count": null,
   "id": "f93fb3cc",
   "metadata": {},
   "outputs": [],
   "source": []
  }
 ],
 "metadata": {
  "kernelspec": {
   "display_name": "Python 3",
   "language": "python",
   "name": "python3"
  },
  "language_info": {
   "codemirror_mode": {
    "name": "ipython",
    "version": 3
   },
   "file_extension": ".py",
   "mimetype": "text/x-python",
   "name": "python",
   "nbconvert_exporter": "python",
   "pygments_lexer": "ipython3",
   "version": "3.12.0"
  }
 },
 "nbformat": 4,
 "nbformat_minor": 5
}
